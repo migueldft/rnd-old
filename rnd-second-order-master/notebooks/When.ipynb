{
 "cells": [
  {
   "cell_type": "code",
   "execution_count": 1,
   "metadata": {},
   "outputs": [
    {
     "name": "stderr",
     "output_type": "stream",
     "text": [
      "/home/calsaverini/.local/share/virtualenvs/survival-Ls_z5C1J/lib/python3.6/site-packages/tqdm/autonotebook/__init__.py:14: TqdmExperimentalWarning: Using `tqdm.autonotebook.tqdm` in notebook mode. Use `tqdm.tqdm` instead to force console mode (e.g. in jupyter console)\n",
      "  \" (e.g. in jupyter console)\", TqdmExperimentalWarning)\n"
     ]
    }
   ],
   "source": [
    "import random\n",
    "from tqdm.autonotebook import tqdm"
   ]
  },
  {
   "cell_type": "code",
   "execution_count": 2,
   "metadata": {},
   "outputs": [],
   "source": [
    "import pandas as pd\n",
    "import numpy as np\n",
    "import pycm\n",
    "\n",
    "from xgboost import XGBClassifier\n",
    "from sklearn import metrics as skmetrics\n",
    "from sklearn.model_selection import train_test_split\n",
    "from sklearn.feature_selection import mutual_info_classif, mutual_info_regression\n",
    "from sklearn.preprocessing import label_binarize, QuantileTransformer\n",
    "from sklearn.calibration import CalibratedClassifierCV\n",
    "from sklearn.linear_model import LogisticRegressionCV\n",
    "from sklearn.ensemble import RandomForestClassifier\n",
    "\n",
    "from skopt import gp_minimize\n",
    "from skopt.space import Real, Integer, Categorical\n",
    "from skopt.utils import use_named_args\n",
    "import logging"
   ]
  },
  {
   "cell_type": "code",
   "execution_count": 3,
   "metadata": {},
   "outputs": [],
   "source": [
    "from matplotlib import pyplot as plt\n",
    "import matplotlib.gridspec as gridspec\n",
    "import seaborn as sns\n",
    "%matplotlib inline"
   ]
  },
  {
   "cell_type": "code",
   "execution_count": 4,
   "metadata": {},
   "outputs": [],
   "source": [
    "df = pd.read_parquet(\"./dataset.parquet\")\\\n",
    "    .dropna(subset=['month_purchase'])\n",
    "\n",
    "df.loc[:, 'not_same_day'] = (\n",
    "    (df.loc[:, 'has_second_sale_within_year'] == 1) & \n",
    "    (df.loc[:, 'waiting_time'] > 0)\n",
    ")\n",
    "\n",
    "df = df.loc[df.not_same_day == 1]\n",
    "\n",
    "categorical_columns = ['partner', 'device', 'gender', 'state', 'channel']\n",
    "feature_columns = [\n",
    "    'channel', 'partner', 'device', 'age', 'gender', 'state', 'has_marketplace', \n",
    "    'has_crossdocking', 'has_private_label', 'has_brands', 'gmv', 'fst_sale_in_black_friday_days', \n",
    "    'snd_sale_in_black_friday_days'\n",
    "]"
   ]
  },
  {
   "cell_type": "code",
   "execution_count": 5,
   "metadata": {},
   "outputs": [],
   "source": [
    "periods = [0, 30, 90, 180, 365]\n",
    "labels = [\"first_month\", \"first_quarter\", \"first_semester\", \"this_year\"]\n",
    "\n",
    "# periods = [0, 30, 365]\n",
    "# labels = [\"first_month\", \"this_year\"]"
   ]
  },
  {
   "cell_type": "code",
   "execution_count": 6,
   "metadata": {},
   "outputs": [
    {
     "data": {
      "text/plain": [
       "first_month       131848\n",
       "first_quarter      88642\n",
       "first_semester     60053\n",
       "this_year          30847\n",
       "Name: period, dtype: int64"
      ]
     },
     "execution_count": 6,
     "metadata": {},
     "output_type": "execute_result"
    }
   ],
   "source": [
    "df.loc[:, 'period'] = pd.cut(df.waiting_time, periods, include_lowest=True, labels=labels)\n",
    "code2period = df.period.groupby(df.period.cat.codes).aggregate(\"first\")\n",
    "df.period.value_counts(dropna=False)"
   ]
  },
  {
   "cell_type": "code",
   "execution_count": 7,
   "metadata": {
    "scrolled": false
   },
   "outputs": [
    {
     "data": {
      "text/plain": [
       "<matplotlib.axes._subplots.AxesSubplot at 0x7f7549903208>"
      ]
     },
     "execution_count": 7,
     "metadata": {},
     "output_type": "execute_result"
    },
    {
     "data": {
      "image/png": "[encoded data removed]",
      "text/plain": [
       "<Figure size 432x288 with 1 Axes>"
      ]
     },
     "metadata": {
      "needs_background": "light"
     },
     "output_type": "display_data"
    }
   ],
   "source": [
    "target_distribution = df.period.groupby(df.period.cat.codes).aggregate([\"first\", \"count\"])\n",
    "\n",
    "target_distribution.plot\\\n",
    "    .bar(x=\"first\", y=\"count\", color='SteelBlue', width=1, edgecolor='black')"
   ]
  },
  {
   "cell_type": "code",
   "execution_count": 8,
   "metadata": {},
   "outputs": [],
   "source": [
    "df = pd.get_dummies(df, columns=categorical_columns, drop_first=True)"
   ]
  },
  {
   "cell_type": "code",
   "execution_count": null,
   "metadata": {},
   "outputs": [],
   "source": [
    "features = [c for c in df.columns if any([c.startswith(x) for x in feature_columns])]\n",
    "X = df.loc[:, features]\n",
    "y = df.loc[:, 'period'].cat.codes"
   ]
  },
  {
   "cell_type": "code",
   "execution_count": null,
   "metadata": {},
   "outputs": [
    {
     "name": "stderr",
     "output_type": "stream",
     "text": [
      "/home/calsaverini/.local/share/virtualenvs/survival-Ls_z5C1J/lib/python3.6/site-packages/pandas/core/indexing.py:543: SettingWithCopyWarning: \n",
      "A value is trying to be set on a copy of a slice from a DataFrame.\n",
      "Try using .loc[row_indexer,col_indexer] = value instead\n",
      "\n",
      "See the caveats in the documentation: http://pandas.pydata.org/pandas-docs/stable/indexing.html#indexing-view-versus-copy\n",
      "  self.obj[item] = s\n",
      "/home/calsaverini/.local/share/virtualenvs/survival-Ls_z5C1J/lib/python3.6/site-packages/pandas/core/indexing.py:543: SettingWithCopyWarning: \n",
      "A value is trying to be set on a copy of a slice from a DataFrame.\n",
      "Try using .loc[row_indexer,col_indexer] = value instead\n",
      "\n",
      "See the caveats in the documentation: http://pandas.pydata.org/pandas-docs/stable/indexing.html#indexing-view-versus-copy\n",
      "  self.obj[item] = s\n"
     ]
    }
   ],
   "source": [
    "X_train, X_test, y_train, y_test = train_test_split(X, y, test_size=0.3)\n",
    "\n",
    "qt = QuantileTransformer()\n",
    "qt.fit(X_train.loc[:, [\"age\", \"gmv\"]])\n",
    "\n",
    "X_train.loc[:, [\"age\", \"gmv\"]] = qt.transform(X_train.loc[:, [\"age\", \"gmv\"]])\n",
    "X_test.loc[:, [\"age\", \"gmv\"]] = qt.transform(X_test.loc[:, [\"age\", \"gmv\"]])"
   ]
  },
  {
   "cell_type": "code",
   "execution_count": null,
   "metadata": {},
   "outputs": [
    {
     "data": {
      "text/plain": [
       "{0: 1.0, 1: 1.4954541042482286, 2: 2.1917158640965457, 3: 4.2911521678581375}"
      ]
     },
     "execution_count": 11,
     "metadata": {},
     "output_type": "execute_result"
    }
   ],
   "source": [
    "target_distribution = y_train.value_counts(normalize=True)\n",
    "inverse_target_distribution = target_distribution.max() / target_distribution\n",
    "inverse_target_distribution.to_dict()"
   ]
  },
  {
   "cell_type": "code",
   "execution_count": null,
   "metadata": {},
   "outputs": [],
   "source": [
    "HYPERPARAMETER_SPACE = [\n",
    "    Integer(1, 10, name='min_child_weight'),\n",
    "    Real(1e-5, 1.0, \"uniform\", name='learning_rate'),\n",
    "    Real(0.1, 10, \"log-uniform\", name='gamma'),    \n",
    "    Real(0.05, 1, name='subsample'),\n",
    "    Real(0.05, 1, name='colsample_bytree'),\n",
    "#     Integer(2, 6, name='max_depth'),\n",
    "#     Integer(100, 200, name=\"n_estimators\"),\n",
    "    Real(0.01, 0.99, name=\"base_score\"),\n",
    "    Real(0.25, 3.0, name=\"scale_pos_weight\"),\n",
    "    Real(0, 5, name=\"reg_alpha\"),\n",
    "    Real(0, 5, name=\"reg_lambda\"),\n",
    "]\n",
    "\n",
    "HYPERPARAMETER_NAMES = [dim.name for dim in HYPERPARAMETER_SPACE]"
   ]
  },
  {
   "cell_type": "code",
   "execution_count": null,
   "metadata": {},
   "outputs": [],
   "source": [
    "RANDOM_STATE = 939568576\n",
    "TREE_METHOD = 'hist'#'exact'\n",
    "NUM_PROCESSORS = 8\n",
    "NUM_CROSS_VALIDATION_STEPS = 5\n",
    "NUM_GP_OPTIMIZATION_STEPS = 100"
   ]
  },
  {
   "cell_type": "code",
   "execution_count": null,
   "metadata": {},
   "outputs": [],
   "source": [
    "def get_logger(name):\n",
    "    logger = logging.getLogger(name)\n",
    "    formatter = logging.Formatter('[%(asctime)s] %(message)s')\n",
    "    stream_handler = logging.StreamHandler()\n",
    "    stream_handler.setFormatter(formatter)\n",
    "    logger.addHandler(stream_handler)\n",
    "    logger.setLevel(logging.INFO)\n",
    "    return logger\n",
    "\n",
    "logger = get_logger(__name__)"
   ]
  },
  {
   "cell_type": "code",
   "execution_count": null,
   "metadata": {},
   "outputs": [],
   "source": [
    "def train_model(X, y, **kwargs):\n",
    "    model = CalibratedClassifierCV(\n",
    "        XGBClassifier(\n",
    "            max_depth=2,\n",
    "            n_estimators=100,\n",
    "            random_state=RANDOM_STATE,\n",
    "            tree_method=TREE_METHOD,\n",
    "            n_jobs=NUM_PROCESSORS,\n",
    "            **kwargs,\n",
    "        ),\n",
    "        cv=5\n",
    "    )\n",
    "    model.fit(X, y)\n",
    "    return model\n",
    "\n",
    "def evaluate_model(X, y, **kwargs):\n",
    "    X_train, X_test, y_train, y_test = train_test_split(X, y, test_size=0.1, train_size=0.2)\n",
    "    model = train_model(X_train, y_train, **kwargs)\n",
    "    score = model.predict_proba(X_test)\n",
    "    log_like = np.log(score[range(y_test.size), y_test]).mean()\n",
    "    logger.info(f\"Values: {log_like}\")\n",
    "    return log_like\n",
    "\n",
    "\n",
    "def train_optimized_model(X, y):\n",
    "        \n",
    "    @use_named_args(HYPERPARAMETER_SPACE)\n",
    "    def loss(**kwargs):\n",
    "        return -evaluate_model(X, y, **kwargs)\n",
    "\n",
    "    def get_optimization_callback():\n",
    "        message = \"Hyperparameter optimization iteration {:d}/{:d}. Current: {:5.3f}. Best: {:5.3f}.\"\n",
    "            #\" Parameters:\\n{}\"\n",
    "        def callback(res):          \n",
    "            current_value = -res.func_vals[-1]\n",
    "            best_value = -res.func_vals.min()            \n",
    "            current_params = pd.Series(dict(zip(\n",
    "                HYPERPARAMETER_NAMES, \n",
    "                map(fix_type, res.x)\n",
    "            )))\n",
    "            logger.info(message.format(\n",
    "                len(res.func_vals),\n",
    "                NUM_GP_OPTIMIZATION_STEPS,\n",
    "                current_value,\n",
    "                best_value,\n",
    "                #current_params\n",
    "            ))\n",
    "\n",
    "        return callback\n",
    "\n",
    "    def fix_type(x):\n",
    "        if isinstance(x, bool):\n",
    "            return x\n",
    "        elif np.issubdtype(np.dtype(x), np.int_):\n",
    "            return int(x)\n",
    "        elif np.issubdtype(np.dtype(x), np.float_):\n",
    "            return float(x)\n",
    "\n",
    "    logger.info(\"Will start hyperparameter optimization.\")\n",
    "    optimization_results = gp_minimize(\n",
    "        loss,\n",
    "        HYPERPARAMETER_SPACE,\n",
    "        n_random_starts=max(1, min(10, int(NUM_GP_OPTIMIZATION_STEPS / 2))),\n",
    "        n_calls=NUM_GP_OPTIMIZATION_STEPS,\n",
    "        random_state=RANDOM_STATE,\n",
    "        callback=get_optimization_callback(),\n",
    "    )\n",
    "    logger.info(\"Finished hyperparameter optimization.\")\n",
    "    best_parameters = dict(\n",
    "        zip(HYPERPARAMETER_NAMES, map(fix_type, optimization_results.x))\n",
    "    )\n",
    "    logger.info(\"Starting training of final model.\")\n",
    "    return train_model(X, y, verbosity=1, calibrated=True, **best_parameters)\n"
   ]
  },
  {
   "cell_type": "code",
   "execution_count": null,
   "metadata": {
    "scrolled": false
   },
   "outputs": [
    {
     "name": "stderr",
     "output_type": "stream",
     "text": [
      "[2019-04-26 17:20:33,627] Will start hyperparameter optimization.\n",
      "[2019-04-26 17:20:54,876] Values: -1.2305001872643566\n",
      "[2019-04-26 17:20:54,879] Hyperparameter optimization iteration 1/100. Current: -1.231. Best: -1.231.\n",
      "[2019-04-26 17:21:14,211] Values: -1.2307155061477326\n",
      "[2019-04-26 17:21:14,226] Hyperparameter optimization iteration 2/100. Current: -1.231. Best: -1.231.\n",
      "[2019-04-26 17:21:38,723] Values: -1.2275143047561987\n",
      "[2019-04-26 17:21:38,726] Hyperparameter optimization iteration 3/100. Current: -1.228. Best: -1.228.\n",
      "[2019-04-26 17:21:56,745] Values: -1.229115179686999\n",
      "[2019-04-26 17:21:56,748] Hyperparameter optimization iteration 4/100. Current: -1.229. Best: -1.228.\n",
      "[2019-04-26 17:22:18,026] Values: -1.2287471511415051\n",
      "[2019-04-26 17:22:18,029] Hyperparameter optimization iteration 5/100. Current: -1.229. Best: -1.228.\n",
      "[2019-04-26 17:22:34,657] Values: -1.2294935160487905\n",
      "[2019-04-26 17:22:34,660] Hyperparameter optimization iteration 6/100. Current: -1.229. Best: -1.228.\n",
      "[2019-04-26 17:22:59,963] Values: -1.2304386256172297\n",
      "[2019-04-26 17:22:59,966] Hyperparameter optimization iteration 7/100. Current: -1.230. Best: -1.228.\n",
      "[2019-04-26 17:23:16,849] Values: -1.2319136347984359\n",
      "[2019-04-26 17:23:16,852] Hyperparameter optimization iteration 8/100. Current: -1.232. Best: -1.228.\n",
      "[2019-04-26 17:23:33,468] Values: -1.2341529639497713\n",
      "[2019-04-26 17:23:33,475] Hyperparameter optimization iteration 9/100. Current: -1.234. Best: -1.228.\n",
      "[2019-04-26 17:23:50,455] Values: -1.224637054919707\n",
      "[2019-04-26 17:23:50,871] Hyperparameter optimization iteration 10/100. Current: -1.225. Best: -1.225.\n",
      "[2019-04-26 17:24:03,012] Values: -1.2709960106907239\n",
      "[2019-04-26 17:24:03,915] Hyperparameter optimization iteration 11/100. Current: -1.271. Best: -1.225.\n",
      "[2019-04-26 17:24:18,863] Values: -1.2465952374239828\n",
      "[2019-04-26 17:24:19,539] Hyperparameter optimization iteration 12/100. Current: -1.247. Best: -1.225.\n",
      "[2019-04-26 17:24:42,828] Values: -1.2299046984733961\n",
      "[2019-04-26 17:24:43,444] Hyperparameter optimization iteration 13/100. Current: -1.230. Best: -1.225.\n",
      "[2019-04-26 17:24:55,828] Values: -1.265638158333967\n",
      "[2019-04-26 17:24:56,716] Hyperparameter optimization iteration 14/100. Current: -1.266. Best: -1.225.\n",
      "[2019-04-26 17:25:10,161] Values: -1.255323866715532\n",
      "[2019-04-26 17:25:11,111] Hyperparameter optimization iteration 15/100. Current: -1.255. Best: -1.225.\n",
      "[2019-04-26 17:25:26,111] Values: -1.2272388949208195\n",
      "[2019-04-26 17:25:27,070] Hyperparameter optimization iteration 16/100. Current: -1.227. Best: -1.225.\n",
      "[2019-04-26 17:25:41,599] Values: -1.2494125681180512\n",
      "[2019-04-26 17:25:42,453] Hyperparameter optimization iteration 17/100. Current: -1.249. Best: -1.225.\n",
      "[2019-04-26 17:25:55,710] Values: -1.2329074833995437\n",
      "[2019-04-26 17:25:56,620] Hyperparameter optimization iteration 18/100. Current: -1.233. Best: -1.225.\n",
      "[2019-04-26 17:26:12,782] Values: -1.2378026317281163\n",
      "[2019-04-26 17:26:13,838] Hyperparameter optimization iteration 19/100. Current: -1.238. Best: -1.225.\n",
      "[2019-04-26 17:26:25,688] Values: -1.2299672904392576\n",
      "[2019-04-26 17:26:26,686] Hyperparameter optimization iteration 20/100. Current: -1.230. Best: -1.225.\n",
      "[2019-04-26 17:26:39,511] Values: -1.2305999205720883\n",
      "[2019-04-26 17:26:40,598] Hyperparameter optimization iteration 21/100. Current: -1.231. Best: -1.225.\n",
      "[2019-04-26 17:26:55,663] Values: -1.2357294825192051\n",
      "[2019-04-26 17:26:56,730] Hyperparameter optimization iteration 22/100. Current: -1.236. Best: -1.225.\n",
      "[2019-04-26 17:27:19,938] Values: -1.2480839245719157\n",
      "[2019-04-26 17:27:21,091] Hyperparameter optimization iteration 23/100. Current: -1.248. Best: -1.225.\n",
      "[2019-04-26 17:27:39,785] Values: -1.2271033983271076\n",
      "[2019-04-26 17:27:41,126] Hyperparameter optimization iteration 24/100. Current: -1.227. Best: -1.225.\n",
      "[2019-04-26 17:27:57,272] Values: -1.2257060593501226\n",
      "[2019-04-26 17:27:58,459] Hyperparameter optimization iteration 25/100. Current: -1.226. Best: -1.225.\n",
      "[2019-04-26 17:28:13,911] Values: -1.2251670372747345\n",
      "[2019-04-26 17:28:15,104] Hyperparameter optimization iteration 26/100. Current: -1.225. Best: -1.225.\n",
      "[2019-04-26 17:28:33,717] Values: -1.2410963854427177\n",
      "[2019-04-26 17:28:35,010] Hyperparameter optimization iteration 27/100. Current: -1.241. Best: -1.225.\n",
      "[2019-04-26 17:28:51,208] Values: -1.2369908331807442\n",
      "[2019-04-26 17:28:52,453] Hyperparameter optimization iteration 28/100. Current: -1.237. Best: -1.225.\n",
      "[2019-04-26 17:29:10,406] Values: -1.2325087674315494\n",
      "[2019-04-26 17:29:11,547] Hyperparameter optimization iteration 29/100. Current: -1.233. Best: -1.225.\n",
      "[2019-04-26 17:29:27,532] Values: -1.237113552603303\n",
      "[2019-04-26 17:29:28,648] Hyperparameter optimization iteration 30/100. Current: -1.237. Best: -1.225.\n",
      "[2019-04-26 17:29:52,936] Values: -1.2664967825496414\n",
      "[2019-04-26 17:29:53,989] Hyperparameter optimization iteration 31/100. Current: -1.266. Best: -1.225.\n",
      "[2019-04-26 17:30:13,161] Values: -1.2480539139473026\n",
      "[2019-04-26 17:30:14,101] Hyperparameter optimization iteration 32/100. Current: -1.248. Best: -1.225.\n",
      "[2019-04-26 17:30:28,318] Values: -1.2338523032931739\n",
      "[2019-04-26 17:30:29,342] Hyperparameter optimization iteration 33/100. Current: -1.234. Best: -1.225.\n",
      "[2019-04-26 17:30:46,204] Values: -1.2327653458263346\n",
      "[2019-04-26 17:30:47,619] Hyperparameter optimization iteration 34/100. Current: -1.233. Best: -1.225.\n",
      "[2019-04-26 17:31:03,696] Values: -1.2342250334533038\n",
      "[2019-04-26 17:31:04,658] Hyperparameter optimization iteration 35/100. Current: -1.234. Best: -1.225.\n",
      "[2019-04-26 17:31:19,274] Values: -1.2307715908692598\n",
      "[2019-04-26 17:31:20,237] Hyperparameter optimization iteration 36/100. Current: -1.231. Best: -1.225.\n",
      "[2019-04-26 17:31:38,268] Values: -1.2316180208077756\n",
      "[2019-04-26 17:31:39,264] Hyperparameter optimization iteration 37/100. Current: -1.232. Best: -1.225.\n",
      "[2019-04-26 17:31:55,258] Values: -1.2338644761547122\n",
      "[2019-04-26 17:31:56,112] Hyperparameter optimization iteration 38/100. Current: -1.234. Best: -1.225.\n",
      "[2019-04-26 17:32:12,390] Values: -1.2295465175239646\n",
      "[2019-04-26 17:32:13,391] Hyperparameter optimization iteration 39/100. Current: -1.230. Best: -1.225.\n",
      "[2019-04-26 17:32:27,761] Values: -1.2309913922085776\n",
      "[2019-04-26 17:32:28,619] Hyperparameter optimization iteration 40/100. Current: -1.231. Best: -1.225.\n",
      "[2019-04-26 17:32:43,285] Values: -1.2306007959933938\n",
      "[2019-04-26 17:32:44,197] Hyperparameter optimization iteration 41/100. Current: -1.231. Best: -1.225.\n",
      "[2019-04-26 17:33:01,618] Values: -1.239902129010163\n",
      "[2019-04-26 17:33:02,503] Hyperparameter optimization iteration 42/100. Current: -1.240. Best: -1.225.\n",
      "[2019-04-26 17:33:17,158] Values: -1.2282470016927172\n",
      "[2019-04-26 17:33:18,066] Hyperparameter optimization iteration 43/100. Current: -1.228. Best: -1.225.\n",
      "[2019-04-26 17:33:33,803] Values: -1.2325709615951534\n",
      "[2019-04-26 17:33:34,777] Hyperparameter optimization iteration 44/100. Current: -1.233. Best: -1.225.\n",
      "[2019-04-26 17:33:48,541] Values: -1.2274804013174685\n",
      "[2019-04-26 17:33:49,447] Hyperparameter optimization iteration 45/100. Current: -1.227. Best: -1.225.\n",
      "[2019-04-26 17:34:06,681] Values: -1.2277895968735064\n",
      "[2019-04-26 17:34:07,621] Hyperparameter optimization iteration 46/100. Current: -1.228. Best: -1.225.\n",
      "[2019-04-26 17:34:23,817] Values: -1.229952037117279\n",
      "[2019-04-26 17:34:24,772] Hyperparameter optimization iteration 47/100. Current: -1.230. Best: -1.225.\n",
      "[2019-04-26 17:34:43,222] Values: -1.2268264821369166\n",
      "[2019-04-26 17:34:44,195] Hyperparameter optimization iteration 48/100. Current: -1.227. Best: -1.225.\n",
      "[2019-04-26 17:34:56,424] Values: -1.226057389407733\n",
      "[2019-04-26 17:34:57,388] Hyperparameter optimization iteration 49/100. Current: -1.226. Best: -1.225.\n",
      "[2019-04-26 17:35:14,303] Values: -1.2302500537733982\n",
      "[2019-04-26 17:35:15,460] Hyperparameter optimization iteration 50/100. Current: -1.230. Best: -1.225.\n"
     ]
    }
   ],
   "source": [
    "%time best_model = train_optimized_model(X_train, y_train)"
   ]
  },
  {
   "cell_type": "code",
   "execution_count": null,
   "metadata": {},
   "outputs": [],
   "source": [
    "y_pred = best_model.predict(X_test)\n",
    "s_pred = best_model.predict_proba(X_test)\n",
    "\n",
    "print(skmetrics.classification_report(\n",
    "    y_test,\n",
    "    y_pred,\n",
    "    labels=code2period.apply(str).index,\n",
    "    target_names=code2period.apply(str).values\n",
    "))"
   ]
  },
  {
   "cell_type": "code",
   "execution_count": null,
   "metadata": {
    "scrolled": false
   },
   "outputs": [],
   "source": []
  },
  {
   "cell_type": "code",
   "execution_count": null,
   "metadata": {},
   "outputs": [],
   "source": [
    "cm = pycm.ConfusionMatrix(actual_vector=y_test.values, predict_vector=y_pred)"
   ]
  },
  {
   "cell_type": "code",
   "execution_count": null,
   "metadata": {
    "scrolled": false
   },
   "outputs": [],
   "source": [
    "cm.print_normalized_matrix()"
   ]
  },
  {
   "cell_type": "code",
   "execution_count": null,
   "metadata": {},
   "outputs": [],
   "source": [
    "total_correlation = np.sqrt(1 - np.exp(-2 * mutual_info_classif(s_pred, y_test))).min()\n",
    "print(total_correlation)"
   ]
  },
  {
   "cell_type": "code",
   "execution_count": null,
   "metadata": {},
   "outputs": [],
   "source": [
    "skmetrics.roc_auc_score(label_binarize(y_test, range(len(code2period))), s_pred, average='micro')"
   ]
  },
  {
   "cell_type": "code",
   "execution_count": null,
   "metadata": {},
   "outputs": [],
   "source": [
    "skmetrics.roc_auc_score(label_binarize(y_test, range(len(code2period))), s_pred, average='macro')"
   ]
  },
  {
   "cell_type": "code",
   "execution_count": null,
   "metadata": {},
   "outputs": [],
   "source": [
    "roc_curves = {\n",
    "    code: {\n",
    "        'auc': skmetrics.roc_auc_score(y_test == code, s_pred[:, code]),\n",
    "        'curve': dict(zip(\n",
    "            ['fpr', 'tpr', 'thres'],\n",
    "            skmetrics.roc_curve(y_test == code, s_pred[:, code])\n",
    "        ))\n",
    "    }\n",
    "    for code, _ in code2period.iteritems()\n",
    "}"
   ]
  },
  {
   "cell_type": "code",
   "execution_count": null,
   "metadata": {
    "scrolled": false
   },
   "outputs": [],
   "source": [
    "n_rows = len(code2period)\n",
    "fig = plt.figure(figsize=(12, 3 * n_rows))\n",
    "main_gs = fig.add_gridspec(n_rows, 1)\n",
    "\n",
    "for code, period in code2period.iteritems():\n",
    "    row_gs = gridspec.GridSpecFromSubplotSpec(2, 2, subplot_spec=main_gs[code], height_ratios=(1, 400))\n",
    "    \n",
    "    ax_title = fig.add_subplot(row_gs[0, 0:2], frameon=False)\n",
    "    ax_title.set_title(f\"Label {period}\", fontdict={'size': 13})\n",
    "    ax_title.xaxis.set_visible(False)\n",
    "    ax_title.yaxis.set_visible(False)\n",
    "    \n",
    "    axl = fig.add_subplot(row_gs[1, 0])\n",
    "    axl.set_title(\"ROC Curve\", fontdict={'size': 12})\n",
    "    axl.plot(\n",
    "        roc_curves[code]['curve']['fpr'],\n",
    "        roc_curves[code]['curve']['tpr'], \n",
    "        label=f\"AUC = {roc_curves[code]['auc']:5.2f}\"\n",
    "    )\n",
    "    axl.legend()\n",
    "    \n",
    "    axr = fig.add_subplot(row_gs[1, 1])\n",
    "    axr.set_title(f\"Rates\", fontdict={'size': 12})\n",
    "    axr.plot(\n",
    "        roc_curves[code]['curve']['thres'],\n",
    "        roc_curves[code]['curve']['tpr'],\n",
    "        label=\"True Positive Rate\"\n",
    "    )\n",
    "    axr.plot(\n",
    "        roc_curves[code]['curve']['thres'],\n",
    "        roc_curves[code]['curve']['fpr'],\n",
    "        label=\"False Positive Rate\"\n",
    "    )\n",
    "    axr.legend()\n",
    "    axr.set_xlim(0, 1)\n",
    "    \n",
    "    \n",
    "fig.tight_layout()"
   ]
  },
  {
   "cell_type": "code",
   "execution_count": null,
   "metadata": {},
   "outputs": [],
   "source": [
    "thresholds = np.linspace(0, 1, 101)\n",
    "metric_names = [\"precision\", \"recall\", \"f1\", \"ratio\", \"prec_full\", \"recall_full\", \"f1_full\"]\n",
    "columns = pd.MultiIndex.from_product(([code2period.index, metric_names]), names=[\"period\", \"metric\"])\n",
    "metrics = pd.DataFrame(index=thresholds, columns=columns, dtype=np.float)"
   ]
  },
  {
   "cell_type": "code",
   "execution_count": null,
   "metadata": {},
   "outputs": [],
   "source": [
    "print(\n",
    "    f\"{'PERIOD':5s}\\t\\t\"\n",
    "    f\"{'AUC S':5s}\\t\"\n",
    "    f\"{'AUC F':5s}\\t\"\n",
    "    f\"{'PRC S':5s}\\t\"\n",
    "    f\"{'REC S':5s}\\t\"\n",
    "    f\"{'F1 S':5s}\\t\"\n",
    "    f\"{'PRC F':5s}\\t\"\n",
    "    f\"{'REC F':5s}\\t\"\n",
    "    f\"{'F1 F':5s}\\t\"\n",
    ")\n",
    "\n",
    "for code, period in code2period.iteritems():    \n",
    "    try:\n",
    "        curr_y = y_test[y_test >= code]\n",
    "        curr_s = s_pred[y_test >= code, code:]\n",
    "        curr_p = curr_s[:, 0] / curr_s.sum(axis=1)\n",
    "        \n",
    "        for threshold in thresholds:\n",
    "            prec, recall, f1, _ = skmetrics.precision_recall_fscore_support(\n",
    "                curr_y == code, \n",
    "                (curr_p >= threshold),\n",
    "                average='binary',\n",
    "                warn_for=()\n",
    "            )\n",
    "            prec_full, recall_full, f1_full, _ = skmetrics.precision_recall_fscore_support(\n",
    "                y_test == code, \n",
    "                (s_pred[:, code] >= threshold),\n",
    "                average='binary',\n",
    "                warn_for=()\n",
    "            )            \n",
    "            ratio = (curr_y == code)[curr_p > threshold].mean()\n",
    "            metrics.loc[threshold, (code, metric_names)] = np.array([\n",
    "                prec, recall, f1, ratio, prec_full, recall_full, f1_full\n",
    "            ], dtype=np.float)\n",
    "        best_threshold = metrics.loc[:, (code, 'f1')].idxmax()\n",
    "        best_threshold_full = metrics.loc[:, (code, 'f1_full')].idxmax()\n",
    "        y_pred = curr_p > best_threshold\n",
    "        y_pred_full = s_pred[:, code] > best_threshold_full\n",
    "        prec, recall, f1, _ = skmetrics.precision_recall_fscore_support(curr_y == code, y_pred, average='binary')\n",
    "        prec_full, recall_full, f1_full, _ = skmetrics.precision_recall_fscore_support(\n",
    "            y_test == code, y_pred_full, average='binary')\n",
    "        print(\n",
    "            f\"{period:5s}\\t\"\n",
    "            f\"{skmetrics.roc_auc_score(curr_y == code, curr_p):5.3f}\\t\"\n",
    "            f\"{skmetrics.roc_auc_score(y_test == code, s_pred[:, code]):5.3f}\\t\"\n",
    "            f\"{prec:5.3}\\t\"\n",
    "            f\"{recall:5.3}\\t\"\n",
    "            f\"{f1:5.3}\\t\"\n",
    "            f\"{prec_full:5.3}\\t\"\n",
    "            f\"{recall_full:5.3}\\t\"\n",
    "            f\"{f1_full:5.3}\\t\"\n",
    "        )\n",
    "    except ValueError:\n",
    "        print(\n",
    "            f\"{period:5s}\\t\"\n",
    "            f\"{'  -  ':5s}\\t\"\n",
    "            f\"{skmetrics.roc_auc_score(y_test == code, s_pred[:, code]):5.3f}\\t\"\n",
    "            f\"{1.0:5.3F}\\t\"\n",
    "            f\"{1.0:5.3F}\\t\"\n",
    "            f\"{1.0:5.3F}\\t\"\n",
    "            f\"{prec_full:5.3}\\t\"\n",
    "            f\"{recall_full:5.3}\\t\"\n",
    "            f\"{f1_full:5.3}\\t\"            \n",
    "        )"
   ]
  },
  {
   "cell_type": "code",
   "execution_count": null,
   "metadata": {},
   "outputs": [],
   "source": [
    "pd.value_counts(s_pred[:, 0], bins=np.linspace(0, 1, 21)).plot()"
   ]
  },
  {
   "cell_type": "code",
   "execution_count": null,
   "metadata": {
    "scrolled": false
   },
   "outputs": [],
   "source": [
    "n_rows = len(code2period)\n",
    "fig = plt.figure(figsize=(12, 3 * n_rows))\n",
    "\n",
    "for code, period in code2period.iteritems():\n",
    "    best_threshold = metrics.loc[:, (code, 'f1')].idxmax()\n",
    "    \n",
    "    ax = fig.add_subplot(n_rows, 1, code + 1)\n",
    "    ax.set_title(f\"Precision, Recall and F_1 - {period}\", fontdict={'size': 12})\n",
    "    ax.plot(\n",
    "        metrics.index,\n",
    "        metrics.loc[:, (code, 'precision')],\n",
    "        label=\"Precision\"\n",
    "    )\n",
    "    ax.plot(\n",
    "        metrics.index,\n",
    "        metrics.loc[:, (code, 'recall')],\n",
    "        label=\"Recall\"\n",
    "    )\n",
    "    ax.plot(\n",
    "        metrics.index,\n",
    "        metrics.loc[:, (code, 'f1')],\n",
    "        label=\"F_1 Score\"\n",
    "    )\n",
    "    prec, recall, f1, *_ = metrics.loc[best_threshold, (code, metric_names)].values\n",
    "    label = (\n",
    "        f\"Threshold:{best_threshold:5.2f}\\n\"\n",
    "        f\"Precision:{prec:5.2f}\\n\"\n",
    "        f\"Recall:   {recall:5.2f}\\n\"\n",
    "        f\"F1:       {f1:5.2f}\"\n",
    "    )\n",
    "    ax.axvline(best_threshold, label=label, color='k', ls='--')\n",
    "    ax.legend(loc=\"upper right\")\n",
    "fig.tight_layout()\n"
   ]
  },
  {
   "cell_type": "code",
   "execution_count": null,
   "metadata": {},
   "outputs": [],
   "source": [
    "# best_model.save_artifact(\"./models/when_time_quantile_classifier_7_30_90.sav\")"
   ]
  },
  {
   "cell_type": "code",
   "execution_count": null,
   "metadata": {},
   "outputs": [],
   "source": [
    "thresholds = np.linspace(0, 1, 11)\n",
    "midpoints = 0.5 * (thresholds[1:] + thresholds[:-1])"
   ]
  },
  {
   "cell_type": "code",
   "execution_count": null,
   "metadata": {
    "scrolled": false
   },
   "outputs": [],
   "source": [
    "fig = plt.figure(figsize=(6 * 2, 6 * 2), constrained_layout=False)\n",
    "for k, label in code2period.items():\n",
    "    ax = fig.add_subplot(2, 2, k + 1)\n",
    "    fraction = (y_test == k).groupby(pd.cut(s_pred[:, k], thresholds)).mean().fillna(0)\n",
    "    fraction.plot.bar(ax=ax, color='Silver', width=1, edgecolor=\"DarkGrey\", alpha=.9)\n",
    "    ax.set_xlim(-0.5, fraction.size - 0.5)\n",
    "    ax.set_ylim(0, 1)\n",
    "    ax.plot(ax.get_xlim(), ax.get_ylim(), ls=\"--\", c=\"black\")\n",
    "    ax.set_xticklabels(ax.get_xticklabels(), rotation=45, fontdict={\"size\": 14})\n",
    "    ax.set_xlabel(\"Score Bin\", fontdict={'size': 16})\n",
    "    ax.set_ylabel(\"Fraction of Positives\", fontdict={'size': 16})\n",
    "    ax.set_title(f\"Calibration curve - Target: {label}\", fontdict={'size': 18})    \n",
    "    \n",
    "fig.tight_layout()"
   ]
  },
  {
   "cell_type": "code",
   "execution_count": null,
   "metadata": {},
   "outputs": [],
   "source": []
  }
 ],
 "metadata": {
  "kernelspec": {
   "display_name": "Python 3",
   "language": "python",
   "name": "python3"
  },
  "language_info": {
   "codemirror_mode": {
    "name": "ipython",
    "version": 3
   },
   "file_extension": ".py",
   "mimetype": "text/x-python",
   "name": "python",
   "nbconvert_exporter": "python",
   "pygments_lexer": "ipython3",
   "version": "3.6.8"
  }
 },
 "nbformat": 4,
 "nbformat_minor": 2
}
