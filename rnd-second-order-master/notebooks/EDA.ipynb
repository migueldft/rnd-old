{
 "cells": [
  {
   "cell_type": "code",
   "execution_count": null,
   "metadata": {},
   "outputs": [],
   "source": [
    "import dask.dataframe as dd\n",
    "import matplotlib.pyplot as plt\n",
    "import seaborn as sns\n"
   ]
  },
  {
   "cell_type": "code",
   "execution_count": null,
   "metadata": {},
   "outputs": [],
   "source": [
    "raw_dtypes = {\n",
    "    'fk_customer': 'object',\n",
    "    'channel': 'object',\n",
    "    'partner': 'object',\n",
    "    'device': 'object',\n",
    "    'first_sale_number': 'object',\n",
    "    'age': 'int',\n",
    "    'gender': 'object',\n",
    "    'state': 'object',\n",
    "    'expected_delivery_date': 'object',\n",
    "    'delivered_date': 'object',\n",
    "    'first_sale_date': 'object',\n",
    "    'second_sale_date': 'object',\n",
    "    'has_marketplace': 'object',\n",
    "    'has_crossdocking': 'object',\n",
    "    'has_private_label': 'object',\n",
    "    'has_brands': 'object',\n",
    "    'gmv': 'float',\n",
    "}\n",
    "\n",
    "__dates_columns = [\n",
    "    'first_sale_date',\n",
    "    'second_sale_date',\n",
    "    'delivered_date',\n",
    "    'expected_delivery_date',\n",
    "]\n",
    "\n",
    "__training_dtypes = {\n",
    "    'fk_customer': 'int',\n",
    "    'channel': 'object',\n",
    "    'partner': 'object',\n",
    "    'device': 'object',\n",
    "    'age': 'int',\n",
    "    'gender': 'object',\n",
    "    'state': 'object',\n",
    "    'has_marketplace': 'bool',\n",
    "    'has_crossdocking': 'bool',\n",
    "    'has_private_label': 'bool',\n",
    "    'has_brands': 'bool',\n",
    "    'gmv': 'float',\n",
    "    'days_since_last_bf': 'int',\n",
    "    'waiting_time': 'int',\n",
    "    'has_second_purchase': 'bool',\n",
    "}\n",
    "\n",
    "feature_columns = list(__training_dtypes.keys())[1:-2]\n",
    "\n",
    "df = dd.read_parquet('../ml/input/data/raw/data.parquet', engine='pyarrow').compute()\n",
    "df.columns = list(raw_dtypes.keys())\n",
    "df = df.astype(raw_dtypes)"
   ]
  },
  {
   "cell_type": "code",
   "execution_count": null,
   "metadata": {},
   "outputs": [],
   "source": [
    "df.head()"
   ]
  },
  {
   "cell_type": "code",
   "execution_count": null,
   "metadata": {},
   "outputs": [],
   "source": [
    "df.describe()"
   ]
  },
  {
   "cell_type": "code",
   "execution_count": null,
   "metadata": {},
   "outputs": [],
   "source": [
    "from datetime import datetime, timedelta\n",
    "\n",
    "n_rows_original = df.shape[0]\n",
    "print(\"Number of rows\" , n_rows_original)\n",
    "\n",
    "print(\"Nan in each columns\" , df.isnull().sum(), sep='\\n')"
   ]
  },
  {
   "cell_type": "code",
   "execution_count": null,
   "metadata": {},
   "outputs": [],
   "source": [
    "from pandas import to_datetime\n",
    "\n",
    "n_rows_original = df.shape[0]\n",
    "df.second_sale_date = df.second_sale_date.fillna((datetime.today() + timedelta(days=365)).strftime(\"%Y%m%d\"))\n",
    "df = df.dropna()\n",
    "\n",
    "print(\"Number of rows removed\" , n_rows_original-df.shape[0])\n",
    "\n",
    "for col in __dates_columns:\n",
    "    if col in df.columns:\n",
    "        df[col] = to_datetime(\n",
    "            df[col],\n",
    "            format='%Y%m%d',\n",
    "            errors='coerce'\n",
    "        )"
   ]
  },
  {
   "cell_type": "code",
   "execution_count": null,
   "metadata": {},
   "outputs": [],
   "source": [
    "from unidecode import unidecode\n",
    "import pandas as pd\n",
    "from pandas import to_datetime\n",
    "\n",
    "\n",
    "training = True\n",
    "seconds_per_year = 86400.0\n",
    "\n",
    "def fix_state_information(state_series):\n",
    "    return (\n",
    "        state_series.apply(unidecode)\n",
    "        .str.replace(\"b'\", \"\")\n",
    "        .str.replace(\"'\", \"\")\n",
    "        .str.replace(\" \", \"_\")\n",
    "    )\n",
    "\n",
    "def get_last_black_friday_date(date):\n",
    "    black_friday = {\n",
    "        2014: to_datetime(\"2014-11-28\"),\n",
    "        2015: to_datetime(\"2015-11-27\"),\n",
    "        2016: to_datetime(\"2016-11-25\"),\n",
    "        2017: to_datetime(\"2017-11-24\"),\n",
    "        2018: to_datetime(\"2018-11-23\"),\n",
    "        2019: to_datetime(\"2019-11-29\"),\n",
    "    }\n",
    "    current_year_bf = black_friday[date.year]\n",
    "    last_year_bf = black_friday[date.year - 1]\n",
    "    return last_year_bf if date <= current_year_bf else current_year_bf\n",
    "\n",
    "def get_days_since_black_friday(date_series):\n",
    "    last_bf_date = date_series.apply(get_last_black_friday_date)\n",
    "    return (date_series - last_bf_date).dt.total_seconds().div(seconds_per_year)\n",
    "\n",
    "X = (\n",
    "    df.assign(state=lambda df: fix_state_information(df.state))\n",
    "    .assign(days_since_last_bf=lambda df: get_days_since_black_friday(df.first_sale_date))\n",
    "    .loc[:, feature_columns]\n",
    ")\n",
    "\n",
    "if training:\n",
    "    waiting_time = (\n",
    "        (df.second_sale_date - df.first_sale_date)\n",
    "        .dt.total_seconds()\n",
    "        .div(seconds_per_year)\n",
    "    )\n",
    "    has_second_purchase = ~waiting_time.isnull()\n",
    "    y = pd.DataFrame({\"waiting_time\": waiting_time, \"has_second_purchase\": has_second_purchase})\n",
    "else:\n",
    "    y = None\n",
    "    "
   ]
  },
  {
   "cell_type": "code",
   "execution_count": null,
   "metadata": {},
   "outputs": [],
   "source": [
    "X"
   ]
  },
  {
   "cell_type": "code",
   "execution_count": null,
   "metadata": {},
   "outputs": [],
   "source": [
    "df.head()"
   ]
  },
  {
   "cell_type": "code",
   "execution_count": null,
   "metadata": {},
   "outputs": [],
   "source": [
    "df.describe()"
   ]
  },
  {
   "cell_type": "code",
   "execution_count": null,
   "metadata": {},
   "outputs": [],
   "source": [
    "sns.distplot(df.age);"
   ]
  },
  {
   "cell_type": "code",
   "execution_count": null,
   "metadata": {},
   "outputs": [],
   "source": [
    "sns.distplot(df.gmv);"
   ]
  },
  {
   "cell_type": "code",
   "execution_count": null,
   "metadata": {},
   "outputs": [],
   "source": [
    "df.groupby('class').hist()"
   ]
  },
  {
   "cell_type": "code",
   "execution_count": null,
   "metadata": {},
   "outputs": [],
   "source": [
    "data.groupby('class').plas.hist(alpha=0.4)"
   ]
  },
  {
   "cell_type": "code",
   "execution_count": null,
   "metadata": {},
   "outputs": [],
   "source": [
    "from pandas.plotting import scatter_matrix\n",
    "scatter_matrix(data, alpha=0.2, figsize=(6, 6), diagonal='kde')"
   ]
  }
 ],
 "metadata": {
  "kernelspec": {
   "display_name": "Python 3",
   "language": "python",
   "name": "python3"
  },
  "language_info": {
   "codemirror_mode": {
    "name": "ipython",
    "version": 3
   },
   "file_extension": ".py",
   "mimetype": "text/x-python",
   "name": "python",
   "nbconvert_exporter": "python",
   "pygments_lexer": "ipython3",
   "version": "3.6.9"
  }
 },
 "nbformat": 4,
 "nbformat_minor": 2
}
