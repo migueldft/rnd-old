{
 "cells": [
  {
   "cell_type": "code",
   "execution_count": 1,
   "metadata": {},
   "outputs": [],
   "source": [
    "import pandas as pd\n",
    "import numpy as np\n",
    "from xgboost import XGBClassifier\n",
    "from sklearn import metrics as skmetrics\n",
    "from sklearn.model_selection import train_test_split\n",
    "from sklearn.preprocessing import label_binarize\n",
    "from skopt import gp_minimize\n",
    "from skopt.space import Real, Integer, Categorical\n",
    "\n",
    "from skopt.utils import use_named_args\n",
    "import logging"
   ]
  },
  {
   "cell_type": "code",
   "execution_count": 2,
   "metadata": {},
   "outputs": [],
   "source": [
    "from matplotlib import pyplot as plt\n",
    "import seaborn as sns\n",
    "%matplotlib inline"
   ]
  },
  {
   "cell_type": "code",
   "execution_count": 3,
   "metadata": {},
   "outputs": [],
   "source": [
    "df = pd.read_parquet(\"./dataset.parquet\")\\\n",
    "    .dropna(subset=['month_purchase'])\n",
    "\n",
    "df.loc[:, 'has_second_sale_within_month'] = (\n",
    "    (df.loc[:, 'has_second_sale_within_year'] == 1) & \n",
    "    (df.loc[:, 'waiting_time'] <= 30)\n",
    ")\n",
    "\n",
    "categorical_columns = ['partner', 'device', 'gender', 'state', 'channel']\n",
    "feature_columns = [\n",
    "    'channel', 'partner', 'device', 'age', 'gender', 'state', 'has_marketplace', \n",
    "    'has_crossdocking', 'has_private_label', 'has_brands', 'gmv', 'fst_sale_in_black_friday_days', \n",
    "    'snd_sale_in_black_friday_days'\n",
    "]"
   ]
  },
  {
   "cell_type": "code",
   "execution_count": 4,
   "metadata": {},
   "outputs": [
    {
     "data": {
      "text/plain": [
       "True     256913\n",
       "False    179542\n",
       "Name: has_second_sale_within_month, dtype: int64"
      ]
     },
     "execution_count": 4,
     "metadata": {},
     "output_type": "execute_result"
    }
   ],
   "source": [
    "df.has_second_sale_within_month.value_counts()"
   ]
  },
  {
   "cell_type": "code",
   "execution_count": 5,
   "metadata": {},
   "outputs": [],
   "source": [
    "df = pd.get_dummies(df, columns=categorical_columns, drop_first=True)"
   ]
  },
  {
   "cell_type": "code",
   "execution_count": 6,
   "metadata": {},
   "outputs": [],
   "source": [
    "features = [c for c in df.columns if any([c.startswith(x) for x in feature_columns])]\n",
    "X = df.loc[:, features].values\n",
    "y = df.loc[:, 'has_second_sale_within_month'].astype(int).values"
   ]
  },
  {
   "cell_type": "code",
   "execution_count": 7,
   "metadata": {},
   "outputs": [],
   "source": [
    "X_train, X_test, y_train, y_test = train_test_split(X, y, test_size=0.3)"
   ]
  },
  {
   "cell_type": "code",
   "execution_count": 8,
   "metadata": {},
   "outputs": [],
   "source": [
    "HYPERPARAMETER_SPACE = [\n",
    "    Integer(1, 10, name='min_child_weight'),\n",
    "    Real(1e-5, 1.0, \"uniform\", name='learning_rate'),\n",
    "    Real(0.1, 10, \"log-uniform\", name='gamma'),    \n",
    "    Real(0.05, 1, name='subsample'),\n",
    "    Real(0.05, 1, name='colsample_bytree'),\n",
    "    Integer(2, 10, name='max_depth'),\n",
    "    Integer(2, 200, name=\"n_estimators\"),\n",
    "    Real(0.01, 0.99, name=\"base_score\"),\n",
    "    Real(0, 500, name=\"scale_pos_weight\"),\n",
    "    Real(0, 5, name=\"reg_alpha\"),\n",
    "    Real(0, 5, name=\"reg_lambda\"),\n",
    "]\n",
    "\n",
    "HYPERPARAMETER_NAMES = [dim.name for dim in HYPERPARAMETER_SPACE]"
   ]
  },
  {
   "cell_type": "code",
   "execution_count": 9,
   "metadata": {},
   "outputs": [],
   "source": [
    "RANDOM_STATE = 939568576\n",
    "TREE_METHOD = 'exact'\n",
    "NUM_PROCESSORS = 4\n",
    "NUM_CROSS_VALIDATION_STEPS = 1\n",
    "NUM_GP_OPTIMIZATION_STEPS = 1"
   ]
  },
  {
   "cell_type": "code",
   "execution_count": 10,
   "metadata": {},
   "outputs": [],
   "source": [
    "def get_logger(name):\n",
    "    logger = logging.getLogger(name)\n",
    "    formatter = logging.Formatter('[%(levelname)s] %(asctime)s: %(name)s - %(message)s')\n",
    "    stream_handler = logging.StreamHandler()\n",
    "    stream_handler.setFormatter(formatter)\n",
    "    logger.addHandler(stream_handler)\n",
    "    logger.setLevel(logging.INFO)\n",
    "    return logger"
   ]
  },
  {
   "cell_type": "code",
   "execution_count": 11,
   "metadata": {},
   "outputs": [],
   "source": [
    "def train_model(X, y, **kwargs):\n",
    "    model = XGBClassifier(\n",
    "        random_state=RANDOM_STATE,\n",
    "        tree_method=TREE_METHOD,\n",
    "        n_jobs=NUM_PROCESSORS,\n",
    "        **kwargs,\n",
    "    )\n",
    "    model.fit(X, y)\n",
    "    return model\n",
    "\n",
    "def evaluate_model(X, y, **kwargs):\n",
    "    roc_auc = []\n",
    "    for _ in range(NUM_CROSS_VALIDATION_STEPS):\n",
    "        X_train, X_test, y_train, y_test = train_test_split(X, y, test_size=0.1)\n",
    "        model = train_model(X_train, y_train, **kwargs)\n",
    "        score = model.predict_proba(X_test)[:, 1]\n",
    "        roc_auc.append(skmetrics.roc_auc_score(y_test, score))\n",
    "    return np.mean(roc_auc)\n",
    "\n",
    "\n",
    "def train_optimized_model(X, y):\n",
    "    \n",
    "    logger = get_logger(__name__)\n",
    "    \n",
    "    @use_named_args(HYPERPARAMETER_SPACE)\n",
    "    def loss(**kwargs):\n",
    "        return -evaluate_model(X, y, **kwargs)\n",
    "\n",
    "    def get_optimization_callback():\n",
    "        message = \"Hyperparameter optimization iteration {:d}/{:d}. Current: {:5.3f}. Best: {:5.3f}. Parameters:\\n{}\"\n",
    "        def callback(res):          \n",
    "            current_value = -res.func_vals[-1]\n",
    "            best_value = -res.func_vals.min()            \n",
    "            current_params = pd.Series(dict(zip(\n",
    "                HYPERPARAMETER_NAMES, \n",
    "                map(fix_type, res.x)\n",
    "            )))\n",
    "            logger.info(message.format(\n",
    "                len(res.func_vals),\n",
    "                NUM_GP_OPTIMIZATION_STEPS,\n",
    "                current_value,\n",
    "                best_value,\n",
    "                current_params\n",
    "            ))\n",
    "\n",
    "        return callback\n",
    "\n",
    "    def fix_type(x):\n",
    "        if isinstance(x, bool):\n",
    "            return x\n",
    "        elif np.issubdtype(np.dtype(x), np.int_):\n",
    "            return int(x)\n",
    "        elif np.issubdtype(np.dtype(x), np.float_):\n",
    "            return float(x)\n",
    "\n",
    "    logger.info(\"Will start hyperparameter optimization.\")\n",
    "    optimization_results = gp_minimize(\n",
    "        loss,\n",
    "        HYPERPARAMETER_SPACE,\n",
    "        n_random_starts=max(1, min(10, int(NUM_GP_OPTIMIZATION_STEPS / 2))),\n",
    "        n_calls=NUM_GP_OPTIMIZATION_STEPS,\n",
    "        random_state=RANDOM_STATE,\n",
    "        callback=get_optimization_callback(),\n",
    "    )\n",
    "    logger.info(\"Finished hyperparameter optimization.\")\n",
    "    best_parameters = dict(\n",
    "        zip(HYPERPARAMETER_NAMES, map(fix_type, optimization_results.x))\n",
    "    )\n",
    "    logger.info(\"Starting training of final model.\")\n",
    "    return train_model(X, y, verbosity=1, **best_parameters)\n"
   ]
  },
  {
   "cell_type": "code",
   "execution_count": 12,
   "metadata": {
    "scrolled": false
   },
   "outputs": [
    {
     "name": "stderr",
     "output_type": "stream",
     "text": [
      "[INFO] 2019-04-17 16:46:51,010: __main__ - Will start hyperparameter optimization.\n",
      "[INFO] 2019-04-17 16:47:00,435: __main__ - Hyperparameter optimization iteration 1/1. Current: 0.735. Best: 0.735. Parameters:\n",
      "min_child_weight     3.000000\n",
      "learning_rate        0.316840\n",
      "gamma                1.260333\n",
      "subsample            0.784180\n",
      "colsample_bytree     0.268833\n",
      "max_depth            6.000000\n",
      "n_estimators        84.000000\n",
      "base_score           0.613412\n",
      "scale_pos_weight     5.992884\n",
      "reg_alpha            4.715997\n",
      "reg_lambda           1.309442\n",
      "dtype: float64\n",
      "[INFO] 2019-04-17 16:47:00,436: __main__ - Finished hyperparameter optimization.\n",
      "[INFO] 2019-04-17 16:47:00,436: __main__ - Starting training of final model.\n"
     ]
    },
    {
     "name": "stdout",
     "output_type": "stream",
     "text": [
      "CPU times: user 1min 18s, sys: 316 ms, total: 1min 18s\n",
      "Wall time: 20.2 s\n"
     ]
    }
   ],
   "source": [
    "%time best_model = train_optimized_model(X_train, y_train)"
   ]
  },
  {
   "cell_type": "code",
   "execution_count": 13,
   "metadata": {},
   "outputs": [
    {
     "name": "stdout",
     "output_type": "stream",
     "text": [
      "              precision    recall  f1-score   support\n",
      "\n",
      "           0       0.88      0.01      0.02     53847\n",
      "           1       0.59      1.00      0.74     77090\n",
      "\n",
      "   micro avg       0.59      0.59      0.59    130937\n",
      "   macro avg       0.73      0.51      0.38    130937\n",
      "weighted avg       0.71      0.59      0.45    130937\n",
      "\n"
     ]
    }
   ],
   "source": [
    "y_pred = best_model.predict(X_test)\n",
    "print(skmetrics.classification_report(y_test, y_pred))"
   ]
  },
  {
   "cell_type": "code",
   "execution_count": 14,
   "metadata": {},
   "outputs": [],
   "source": [
    "s_pred = best_model.predict_proba(X_test)[:, 1]"
   ]
  },
  {
   "cell_type": "code",
   "execution_count": 15,
   "metadata": {},
   "outputs": [
    {
     "data": {
      "text/plain": [
       "0.7417211329873513"
      ]
     },
     "execution_count": 15,
     "metadata": {},
     "output_type": "execute_result"
    }
   ],
   "source": [
    "skmetrics.roc_auc_score(y_test, s_pred)"
   ]
  },
  {
   "cell_type": "code",
   "execution_count": 17,
   "metadata": {
    "scrolled": false
   },
   "outputs": [
    {
     "data": {
      "image/png": "[encoded data removed]",
      "text/plain": [
       "<Figure size 864x864 with 2 Axes>"
      ]
     },
     "metadata": {
      "needs_background": "light"
     },
     "output_type": "display_data"
    }
   ],
   "source": [
    "fig = plt.figure(figsize=(12, 12))\n",
    "\n",
    "roc_auc = skmetrics.roc_auc_score(y_test, s_pred)\n",
    "fpr, tpr, roc_thres = skmetrics.roc_curve(y_test, s_pred)\n",
    "\n",
    "ax = fig.add_subplot(1, 2, 1)\n",
    "ax.set_title(f\"ROC Curve - Label (AUC = {roc_auc})\")\n",
    "ax.plot(fpr, tpr)\n",
    "\n",
    "ax = fig.add_subplot(1, 2, 2)\n",
    "ax.set_title(f\"Positive Rates\")\n",
    "ax.plot(roc_thres, tpr, label=\"TPR\")\n",
    "ax.plot(roc_thres, fpr, label=\"FPR\")\n",
    "ax.legend()\n",
    "\n",
    "fig.tight_layout()"
   ]
  },
  {
   "cell_type": "code",
   "execution_count": 18,
   "metadata": {
    "scrolled": false
   },
   "outputs": [
    {
     "name": "stderr",
     "output_type": "stream",
     "text": [
      "/home/calsaverini/.local/share/virtualenvs/survival-Ls_z5C1J/lib/python3.6/site-packages/sklearn/metrics/classification.py:1143: UndefinedMetricWarning: Precision and F-score are ill-defined and being set to 0.0 in labels with no predicted samples.\n",
      "  'precision', 'predicted', average, warn_for)\n"
     ]
    },
    {
     "data": {
      "text/html": [
       "<div>\n",
       "<style scoped>\n",
       "    .dataframe tbody tr th:only-of-type {\n",
       "        vertical-align: middle;\n",
       "    }\n",
       "\n",
       "    .dataframe tbody tr th {\n",
       "        vertical-align: top;\n",
       "    }\n",
       "\n",
       "    .dataframe thead th {\n",
       "        text-align: right;\n",
       "    }\n",
       "</style>\n",
       "<table border=\"1\" class=\"dataframe\">\n",
       "  <thead>\n",
       "    <tr style=\"text-align: right;\">\n",
       "      <th></th>\n",
       "      <th>precision</th>\n",
       "      <th>recall</th>\n",
       "      <th>f1</th>\n",
       "      <th>support</th>\n",
       "    </tr>\n",
       "  </thead>\n",
       "  <tbody>\n",
       "    <tr>\n",
       "      <th>0.139934</th>\n",
       "      <td>0.0</td>\n",
       "      <td>0.000000</td>\n",
       "      <td>0.000000</td>\n",
       "      <td>53847.0</td>\n",
       "    </tr>\n",
       "    <tr>\n",
       "      <th>0.148611</th>\n",
       "      <td>1.0</td>\n",
       "      <td>0.000056</td>\n",
       "      <td>0.000111</td>\n",
       "      <td>53847.0</td>\n",
       "    </tr>\n",
       "    <tr>\n",
       "      <th>0.157288</th>\n",
       "      <td>1.0</td>\n",
       "      <td>0.000074</td>\n",
       "      <td>0.000149</td>\n",
       "      <td>53847.0</td>\n",
       "    </tr>\n",
       "    <tr>\n",
       "      <th>0.165965</th>\n",
       "      <td>1.0</td>\n",
       "      <td>0.000074</td>\n",
       "      <td>0.000149</td>\n",
       "      <td>53847.0</td>\n",
       "    </tr>\n",
       "    <tr>\n",
       "      <th>0.174642</th>\n",
       "      <td>1.0</td>\n",
       "      <td>0.000093</td>\n",
       "      <td>0.000186</td>\n",
       "      <td>53847.0</td>\n",
       "    </tr>\n",
       "  </tbody>\n",
       "</table>\n",
       "</div>"
      ],
      "text/plain": [
       "          precision    recall        f1  support\n",
       "0.139934        0.0  0.000000  0.000000  53847.0\n",
       "0.148611        1.0  0.000056  0.000111  53847.0\n",
       "0.157288        1.0  0.000074  0.000149  53847.0\n",
       "0.165965        1.0  0.000074  0.000149  53847.0\n",
       "0.174642        1.0  0.000093  0.000186  53847.0"
      ]
     },
     "execution_count": 18,
     "metadata": {},
     "output_type": "execute_result"
    }
   ],
   "source": [
    "n_points = 100\n",
    "\n",
    "thresholds = np.linspace(s_pred.min(), s_pred.max()*0.999, n_points)\n",
    "\n",
    "metrics = pd.DataFrame([\n",
    "    np.array(skmetrics.precision_recall_fscore_support(y_test, (s_pred >= threshold), average=None))[:, 0]\n",
    "    for threshold in thresholds\n",
    "], columns=[\"precision\", \"recall\", \"f1\", \"support\"], index=thresholds)\n",
    "\n",
    "metrics.head()"
   ]
  },
  {
   "cell_type": "code",
   "execution_count": 19,
   "metadata": {},
   "outputs": [
    {
     "data": {
      "image/png": "[encoded data removed]",
      "text/plain": [
       "<Figure size 864x288 with 2 Axes>"
      ]
     },
     "metadata": {
      "needs_background": "light"
     },
     "output_type": "display_data"
    }
   ],
   "source": [
    "fig = plt.figure(figsize=(12, 4))\n",
    "\n",
    "ax = fig.add_subplot(121)\n",
    "ax.set_title(\"Precision x Recall Curve\")\n",
    "ax.plot(metrics.precision, metrics.recall)\n",
    "\n",
    "ax = fig.add_subplot(122)\n",
    "ax.set_title(\"Positive Rates\")\n",
    "ax.plot(metrics.index, metrics.precision, label=\"Precision\")\n",
    "ax.plot(metrics.index, metrics.recall, label=\"Recall\")\n",
    "ax.plot(metrics.index, metrics.f1, label=\"F_1 Score\")\n",
    "ax.legend()\n",
    "\n",
    "fig.tight_layout()"
   ]
  },
  {
   "cell_type": "code",
   "execution_count": 20,
   "metadata": {},
   "outputs": [
    {
     "name": "stdout",
     "output_type": "stream",
     "text": [
      "precision        0.523214\n",
      "recall           0.959162\n",
      "f1               0.677084\n",
      "support      53847.000000\n",
      "Name: 0.9295413232210911, dtype: float64\n"
     ]
    },
    {
     "name": "stderr",
     "output_type": "stream",
     "text": [
      "/home/calsaverini/.local/share/virtualenvs/survival-Ls_z5C1J/lib/python3.6/site-packages/ipykernel_launcher.py:1: FutureWarning: 'argmax' is deprecated, use 'idxmax' instead. The behavior of 'argmax'\n",
      "will be corrected to return the positional maximum in the future.\n",
      "Use 'series.values.argmax' to get the position of the maximum now.\n",
      "  \"\"\"Entry point for launching an IPython kernel.\n"
     ]
    }
   ],
   "source": [
    "optimal_threshold = metrics.f1.argmax()\n",
    "print(metrics.loc[optimal_threshold])\n",
    "y_pred = (s_pred > optimal_threshold).astype(int)"
   ]
  },
  {
   "cell_type": "code",
   "execution_count": 21,
   "metadata": {},
   "outputs": [
    {
     "name": "stdout",
     "output_type": "stream",
     "text": [
      "              precision    recall  f1-score   support\n",
      "\n",
      "           0       0.52      0.96      0.68     53847\n",
      "           1       0.93      0.39      0.55     77090\n",
      "\n",
      "   micro avg       0.62      0.62      0.62    130937\n",
      "   macro avg       0.73      0.67      0.61    130937\n",
      "weighted avg       0.76      0.62      0.60    130937\n",
      "\n"
     ]
    }
   ],
   "source": [
    "print(skmetrics.classification_report(y_test, y_pred))"
   ]
  },
  {
   "cell_type": "code",
   "execution_count": 44,
   "metadata": {},
   "outputs": [
    {
     "data": {
      "text/plain": [
       "<matplotlib.legend.Legend at 0x7f2fcf9339e8>"
      ]
     },
     "execution_count": 44,
     "metadata": {},
     "output_type": "execute_result"
    },
    {
     "data": {
      "image/png": "[encoded data removed]",
      "text/plain": [
       "<Figure size 432x288 with 1 Axes>"
      ]
     },
     "metadata": {
      "needs_background": "light"
     },
     "output_type": "display_data"
    }
   ],
   "source": [
    "fig, ax = plt.subplots(figsize=(6, 4))\n",
    "bins = np.linspace(0.7, 1, 51)\n",
    "sns.distplot(s_pred[y_test == 0], bins=bins, label=\"Negative\", ax=ax, color=\"DarkRed\", kde=False)\n",
    "sns.distplot(s_pred[y_test == 1], bins=bins, label=\"Positive\", ax=ax, color=\"DarkGreen\", kde=False)\n",
    "ax.axvline(optimal_threshold, color='k', ls='--', label=\"Optimal F1 Score Threshold\")\n",
    "ax.set_title(\"Score Histogram per Class\")\n",
    "ax.set_xlim(0.7, 1.0)\n",
    "ax.legend()"
   ]
  },
  {
   "cell_type": "code",
   "execution_count": null,
   "metadata": {},
   "outputs": [],
   "source": []
  }
 ],
 "metadata": {
  "kernelspec": {
   "display_name": "Python 3",
   "language": "python",
   "name": "python3"
  },
  "language_info": {
   "codemirror_mode": {
    "name": "ipython",
    "version": 3
   },
   "file_extension": ".py",
   "mimetype": "text/x-python",
   "name": "python",
   "nbconvert_exporter": "python",
   "pygments_lexer": "ipython3",
   "version": "3.6.8"
  }
 },
 "nbformat": 4,
 "nbformat_minor": 2
}
