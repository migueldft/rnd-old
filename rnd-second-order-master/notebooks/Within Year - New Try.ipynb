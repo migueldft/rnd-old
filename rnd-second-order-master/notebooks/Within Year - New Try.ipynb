{
 "cells": [
  {
   "cell_type": "code",
   "execution_count": 1,
   "metadata": {},
   "outputs": [
    {
     "name": "stderr",
     "output_type": "stream",
     "text": [
      "/home/calsaverini/.venvs/survival/lib/python3.6/site-packages/tqdm/autonotebook/__init__.py:14: TqdmExperimentalWarning: Using `tqdm.autonotebook.tqdm` in notebook mode. Use `tqdm.tqdm` instead to force console mode (e.g. in jupyter console)\n",
      "  \" (e.g. in jupyter console)\", TqdmExperimentalWarning)\n"
     ]
    }
   ],
   "source": [
    "from tqdm.autonotebook import tqdm"
   ]
  },
  {
   "cell_type": "code",
   "execution_count": 2,
   "metadata": {},
   "outputs": [
    {
     "name": "stderr",
     "output_type": "stream",
     "text": [
      "/home/calsaverini/.venvs/survival/lib/python3.6/site-packages/sklearn/externals/joblib/__init__.py:15: DeprecationWarning: sklearn.externals.joblib is deprecated in 0.21 and will be removed in 0.23. Please import this functionality directly from joblib, which can be installed with: pip install joblib. If this warning is raised when loading pickled models, you may need to re-serialize those models with scikit-learn 0.21+.\n",
      "  warnings.warn(msg, category=DeprecationWarning)\n"
     ]
    }
   ],
   "source": [
    "import pandas as pd\n",
    "import numpy as np\n",
    "import pycm\n",
    "\n",
    "from xgboost import XGBClassifier\n",
    "from sklearn import metrics as skmetrics\n",
    "from sklearn.model_selection import train_test_split\n",
    "from sklearn.feature_selection import mutual_info_classif, mutual_info_regression\n",
    "from sklearn.preprocessing import label_binarize, QuantileTransformer\n",
    "from skopt import gp_minimize\n",
    "from skopt.space import Real, Integer, Categorical\n",
    "from skopt.utils import use_named_args\n",
    "import logging"
   ]
  },
  {
   "cell_type": "code",
   "execution_count": 3,
   "metadata": {},
   "outputs": [],
   "source": [
    "from matplotlib import pyplot as plt\n",
    "import matplotlib.gridspec as gridspec\n",
    "import seaborn as sns\n",
    "%matplotlib inline"
   ]
  },
  {
   "cell_type": "code",
   "execution_count": 4,
   "metadata": {},
   "outputs": [],
   "source": [
    "raw_features = pd.read_parquet(\"../data/preprocessed/features.parquet\").head(10000)\n",
    "targets = pd.read_parquet('../data/preprocessed/targets.parquet').head(10000)\n",
    "\n",
    "raw_features = raw_features.loc[targets.waiting_time.fillna(10) > 0]\n",
    "targets = targets.loc[targets.waiting_time.fillna(10) > 0]"
   ]
  },
  {
   "cell_type": "code",
   "execution_count": 5,
   "metadata": {},
   "outputs": [],
   "source": [
    "categorical_columns = ['partner', 'device', 'gender', 'state', 'channel']\n",
    "feature_columns = [\n",
    "    'channel', 'partner', 'device', 'age', 'gender', 'state', 'has_marketplace', \n",
    "    'has_crossdocking', 'has_private_label', 'has_brands', 'gmv', 'fst_sale_in_black_friday_days'\n",
    "]"
   ]
  },
  {
   "cell_type": "code",
   "execution_count": 6,
   "metadata": {},
   "outputs": [],
   "source": [
    "def train_target_encoding(raw_feature, target, pseudocount):\n",
    "    global_mean = target.mean()\n",
    "    \n",
    "    # Compute the number of values and the mean of each group\n",
    "    total_counts = target.groupby(raw_feature).agg('count')\n",
    "    positive_counts = target.groupby(raw_feature).agg('sum')\n",
    "    \n",
    "    # pseudo-posterior parameters    \n",
    "    avg_rate = (positive_counts + pseudocount * global_mean) / (total_counts + pseudocount)\n",
    "    \n",
    "    return pd.DataFrame({\n",
    "        'avg_rate': avg_rate, \n",
    "        'confidence': np.log((1 + total_counts) / pseudocount)\n",
    "    })\n",
    "\n",
    "def calculate_target_encoding(feature_name, train_raw_features, test_raw_features, train_target, pseudocount):\n",
    "    encoding = train_target_encoding(train_raw_features.loc[:, feature_name], train_target, pseudocount)\n",
    "    col_names = [f'avg_rate_{feature_name}', f'confidence_{feature_name}']\n",
    "    train_encoding = encoding.reindex(train_raw_features.loc[:, feature_name]).rename(columns=lambda c: f'{c}_{feature_name}')\n",
    "    test_encoding = encoding.reindex(test_raw_features.loc[:, feature_name]).rename(columns=lambda c: f'{c}_{feature_name}')    \n",
    "    train_encoding.index = train_raw_features.index\n",
    "    test_encoding.index = test_raw_features.index\n",
    "    return train_encoding, test_encoding\n",
    "\n",
    "def apply_target_encoding(feature_names, train_raw_features, test_raw_features, train_target, pseudocount):\n",
    "    for feature_name in feature_names:\n",
    "        train_encoding, test_encoding = calculate_target_encoding(feature_name, train_raw_features, test_raw_features, train_target, pseudocount)\n",
    "        train_raw_features = train_raw_features.join(train_encoding).drop(columns=[feature_name])\n",
    "        test_raw_features = test_raw_features.join(test_encoding).drop(columns=[feature_name])\n",
    "    return train_raw_features, test_raw_features"
   ]
  },
  {
   "cell_type": "code",
   "execution_count": 7,
   "metadata": {},
   "outputs": [
    {
     "data": {
      "text/plain": [
       "partner    51\n",
       "device      4\n",
       "gender      2\n",
       "state      27\n",
       "channel    24\n",
       "dtype: int64"
      ]
     },
     "execution_count": 7,
     "metadata": {},
     "output_type": "execute_result"
    }
   ],
   "source": [
    "raw_features.loc[:, categorical_columns].nunique()"
   ]
  },
  {
   "cell_type": "code",
   "execution_count": 8,
   "metadata": {},
   "outputs": [
    {
     "data": {
      "text/html": [
       "<div>\n",
       "<style scoped>\n",
       "    .dataframe tbody tr th:only-of-type {\n",
       "        vertical-align: middle;\n",
       "    }\n",
       "\n",
       "    .dataframe tbody tr th {\n",
       "        vertical-align: top;\n",
       "    }\n",
       "\n",
       "    .dataframe thead th {\n",
       "        text-align: right;\n",
       "    }\n",
       "</style>\n",
       "<table border=\"1\" class=\"dataframe\">\n",
       "  <thead>\n",
       "    <tr style=\"text-align: right;\">\n",
       "      <th></th>\n",
       "      <th>channel</th>\n",
       "      <th>partner</th>\n",
       "      <th>age</th>\n",
       "      <th>state</th>\n",
       "      <th>has_marketplace</th>\n",
       "      <th>has_crossdocking</th>\n",
       "      <th>has_private_label</th>\n",
       "      <th>has_brands</th>\n",
       "      <th>gmv</th>\n",
       "      <th>days_since_last_bf</th>\n",
       "      <th>device_APP IOS</th>\n",
       "      <th>device_DESKTOP</th>\n",
       "      <th>device_M+T SITE</th>\n",
       "      <th>gender_male</th>\n",
       "    </tr>\n",
       "  </thead>\n",
       "  <tbody>\n",
       "    <tr>\n",
       "      <th>0</th>\n",
       "      <td>EXCHANGED</td>\n",
       "      <td>EXCHANGED</td>\n",
       "      <td>30</td>\n",
       "      <td>sao_paulo</td>\n",
       "      <td>1</td>\n",
       "      <td>0</td>\n",
       "      <td>0</td>\n",
       "      <td>0</td>\n",
       "      <td>79.90</td>\n",
       "      <td>209.0</td>\n",
       "      <td>0</td>\n",
       "      <td>0</td>\n",
       "      <td>0</td>\n",
       "      <td>0</td>\n",
       "    </tr>\n",
       "    <tr>\n",
       "      <th>1</th>\n",
       "      <td>DIRECT</td>\n",
       "      <td>UNKNOWN</td>\n",
       "      <td>61</td>\n",
       "      <td>parana</td>\n",
       "      <td>0</td>\n",
       "      <td>0</td>\n",
       "      <td>0</td>\n",
       "      <td>1</td>\n",
       "      <td>160.00</td>\n",
       "      <td>160.0</td>\n",
       "      <td>0</td>\n",
       "      <td>1</td>\n",
       "      <td>0</td>\n",
       "      <td>0</td>\n",
       "    </tr>\n",
       "    <tr>\n",
       "      <th>3</th>\n",
       "      <td>CRM - EMAIL</td>\n",
       "      <td>EMAIL_TRANSACIONAL</td>\n",
       "      <td>25</td>\n",
       "      <td>minas_gerais</td>\n",
       "      <td>0</td>\n",
       "      <td>0</td>\n",
       "      <td>0</td>\n",
       "      <td>1</td>\n",
       "      <td>302.95</td>\n",
       "      <td>364.0</td>\n",
       "      <td>0</td>\n",
       "      <td>0</td>\n",
       "      <td>1</td>\n",
       "      <td>0</td>\n",
       "    </tr>\n",
       "    <tr>\n",
       "      <th>4</th>\n",
       "      <td>CRM - EMAIL</td>\n",
       "      <td>EMAIL_TRANSACIONAL</td>\n",
       "      <td>29</td>\n",
       "      <td>sao_paulo</td>\n",
       "      <td>0</td>\n",
       "      <td>0</td>\n",
       "      <td>0</td>\n",
       "      <td>1</td>\n",
       "      <td>99.00</td>\n",
       "      <td>155.0</td>\n",
       "      <td>0</td>\n",
       "      <td>1</td>\n",
       "      <td>0</td>\n",
       "      <td>1</td>\n",
       "    </tr>\n",
       "    <tr>\n",
       "      <th>5</th>\n",
       "      <td>CRM - EMAIL</td>\n",
       "      <td>EMAIL_TRANSACIONAL</td>\n",
       "      <td>33</td>\n",
       "      <td>rio_de_janeiro</td>\n",
       "      <td>0</td>\n",
       "      <td>0</td>\n",
       "      <td>1</td>\n",
       "      <td>1</td>\n",
       "      <td>119.89</td>\n",
       "      <td>230.0</td>\n",
       "      <td>0</td>\n",
       "      <td>1</td>\n",
       "      <td>0</td>\n",
       "      <td>0</td>\n",
       "    </tr>\n",
       "  </tbody>\n",
       "</table>\n",
       "</div>"
      ],
      "text/plain": [
       "       channel             partner  age           state  has_marketplace  \\\n",
       "0    EXCHANGED           EXCHANGED   30       sao_paulo                1   \n",
       "1       DIRECT             UNKNOWN   61          parana                0   \n",
       "3  CRM - EMAIL  EMAIL_TRANSACIONAL   25    minas_gerais                0   \n",
       "4  CRM - EMAIL  EMAIL_TRANSACIONAL   29       sao_paulo                0   \n",
       "5  CRM - EMAIL  EMAIL_TRANSACIONAL   33  rio_de_janeiro                0   \n",
       "\n",
       "   has_crossdocking  has_private_label  has_brands     gmv  \\\n",
       "0                 0                  0           0   79.90   \n",
       "1                 0                  0           1  160.00   \n",
       "3                 0                  0           1  302.95   \n",
       "4                 0                  0           1   99.00   \n",
       "5                 0                  1           1  119.89   \n",
       "\n",
       "   days_since_last_bf  device_APP IOS  device_DESKTOP  device_M+T SITE  \\\n",
       "0               209.0               0               0                0   \n",
       "1               160.0               0               1                0   \n",
       "3               364.0               0               0                1   \n",
       "4               155.0               0               1                0   \n",
       "5               230.0               0               1                0   \n",
       "\n",
       "   gender_male  \n",
       "0            0  \n",
       "1            0  \n",
       "3            0  \n",
       "4            1  \n",
       "5            0  "
      ]
     },
     "execution_count": 8,
     "metadata": {},
     "output_type": "execute_result"
    }
   ],
   "source": [
    "raw_features = pd.get_dummies(raw_features, columns=[\"device\", \"gender\"], drop_first=True)\n",
    "raw_features.head()"
   ]
  },
  {
   "cell_type": "code",
   "execution_count": 9,
   "metadata": {},
   "outputs": [],
   "source": [
    "y = (targets.waiting_time < 30).astype(int)"
   ]
  },
  {
   "cell_type": "code",
   "execution_count": 10,
   "metadata": {},
   "outputs": [],
   "source": [
    "raw_train, raw_test, y_train, y_test = train_test_split(raw_features, y)"
   ]
  },
  {
   "cell_type": "code",
   "execution_count": 11,
   "metadata": {},
   "outputs": [],
   "source": [
    "X_train, X_test = apply_target_encoding(['partner', 'state', 'channel'], raw_train, raw_test, y, 1000)"
   ]
  },
  {
   "cell_type": "code",
   "execution_count": 12,
   "metadata": {},
   "outputs": [
    {
     "data": {
      "text/html": [
       "<div>\n",
       "<style scoped>\n",
       "    .dataframe tbody tr th:only-of-type {\n",
       "        vertical-align: middle;\n",
       "    }\n",
       "\n",
       "    .dataframe tbody tr th {\n",
       "        vertical-align: top;\n",
       "    }\n",
       "\n",
       "    .dataframe thead th {\n",
       "        text-align: right;\n",
       "    }\n",
       "</style>\n",
       "<table border=\"1\" class=\"dataframe\">\n",
       "  <thead>\n",
       "    <tr style=\"text-align: right;\">\n",
       "      <th></th>\n",
       "      <th>4692</th>\n",
       "      <th>7886</th>\n",
       "      <th>7446</th>\n",
       "      <th>8739</th>\n",
       "      <th>315</th>\n",
       "    </tr>\n",
       "  </thead>\n",
       "  <tbody>\n",
       "    <tr>\n",
       "      <th>age</th>\n",
       "      <td>29.000000</td>\n",
       "      <td>23.000000</td>\n",
       "      <td>42.000000</td>\n",
       "      <td>50.000000</td>\n",
       "      <td>52.000000</td>\n",
       "    </tr>\n",
       "    <tr>\n",
       "      <th>has_marketplace</th>\n",
       "      <td>0.000000</td>\n",
       "      <td>0.000000</td>\n",
       "      <td>0.000000</td>\n",
       "      <td>0.000000</td>\n",
       "      <td>0.000000</td>\n",
       "    </tr>\n",
       "    <tr>\n",
       "      <th>has_crossdocking</th>\n",
       "      <td>0.000000</td>\n",
       "      <td>0.000000</td>\n",
       "      <td>0.000000</td>\n",
       "      <td>0.000000</td>\n",
       "      <td>0.000000</td>\n",
       "    </tr>\n",
       "    <tr>\n",
       "      <th>has_private_label</th>\n",
       "      <td>0.000000</td>\n",
       "      <td>0.000000</td>\n",
       "      <td>0.000000</td>\n",
       "      <td>1.000000</td>\n",
       "      <td>0.000000</td>\n",
       "    </tr>\n",
       "    <tr>\n",
       "      <th>has_brands</th>\n",
       "      <td>1.000000</td>\n",
       "      <td>1.000000</td>\n",
       "      <td>1.000000</td>\n",
       "      <td>1.000000</td>\n",
       "      <td>1.000000</td>\n",
       "    </tr>\n",
       "    <tr>\n",
       "      <th>gmv</th>\n",
       "      <td>49.990000</td>\n",
       "      <td>313.900000</td>\n",
       "      <td>89.990000</td>\n",
       "      <td>189.000000</td>\n",
       "      <td>149.900000</td>\n",
       "    </tr>\n",
       "    <tr>\n",
       "      <th>days_since_last_bf</th>\n",
       "      <td>297.000000</td>\n",
       "      <td>249.000000</td>\n",
       "      <td>339.000000</td>\n",
       "      <td>139.000000</td>\n",
       "      <td>285.000000</td>\n",
       "    </tr>\n",
       "    <tr>\n",
       "      <th>device_APP IOS</th>\n",
       "      <td>0.000000</td>\n",
       "      <td>0.000000</td>\n",
       "      <td>0.000000</td>\n",
       "      <td>0.000000</td>\n",
       "      <td>0.000000</td>\n",
       "    </tr>\n",
       "    <tr>\n",
       "      <th>device_DESKTOP</th>\n",
       "      <td>1.000000</td>\n",
       "      <td>0.000000</td>\n",
       "      <td>1.000000</td>\n",
       "      <td>1.000000</td>\n",
       "      <td>0.000000</td>\n",
       "    </tr>\n",
       "    <tr>\n",
       "      <th>device_M+T SITE</th>\n",
       "      <td>0.000000</td>\n",
       "      <td>1.000000</td>\n",
       "      <td>0.000000</td>\n",
       "      <td>0.000000</td>\n",
       "      <td>0.000000</td>\n",
       "    </tr>\n",
       "    <tr>\n",
       "      <th>gender_male</th>\n",
       "      <td>1.000000</td>\n",
       "      <td>1.000000</td>\n",
       "      <td>0.000000</td>\n",
       "      <td>0.000000</td>\n",
       "      <td>0.000000</td>\n",
       "    </tr>\n",
       "    <tr>\n",
       "      <th>avg_rate_partner</th>\n",
       "      <td>0.108618</td>\n",
       "      <td>0.087822</td>\n",
       "      <td>0.087822</td>\n",
       "      <td>0.133245</td>\n",
       "      <td>0.143964</td>\n",
       "    </tr>\n",
       "    <tr>\n",
       "      <th>confidence_partner</th>\n",
       "      <td>0.224742</td>\n",
       "      <td>0.688135</td>\n",
       "      <td>0.688135</td>\n",
       "      <td>-1.980502</td>\n",
       "      <td>-1.482805</td>\n",
       "    </tr>\n",
       "    <tr>\n",
       "      <th>avg_rate_state</th>\n",
       "      <td>0.125443</td>\n",
       "      <td>0.119253</td>\n",
       "      <td>0.130599</td>\n",
       "      <td>0.130599</td>\n",
       "      <td>0.130599</td>\n",
       "    </tr>\n",
       "    <tr>\n",
       "      <th>confidence_state</th>\n",
       "      <td>-0.363843</td>\n",
       "      <td>-3.101093</td>\n",
       "      <td>0.945073</td>\n",
       "      <td>0.945073</td>\n",
       "      <td>0.945073</td>\n",
       "    </tr>\n",
       "    <tr>\n",
       "      <th>avg_rate_channel</th>\n",
       "      <td>0.141123</td>\n",
       "      <td>0.100368</td>\n",
       "      <td>0.100368</td>\n",
       "      <td>0.141123</td>\n",
       "      <td>0.141123</td>\n",
       "    </tr>\n",
       "    <tr>\n",
       "      <th>confidence_channel</th>\n",
       "      <td>0.565882</td>\n",
       "      <td>-0.462035</td>\n",
       "      <td>-0.462035</td>\n",
       "      <td>0.565882</td>\n",
       "      <td>0.565882</td>\n",
       "    </tr>\n",
       "  </tbody>\n",
       "</table>\n",
       "</div>"
      ],
      "text/plain": [
       "                          4692        7886        7446        8739        315 \n",
       "age                  29.000000   23.000000   42.000000   50.000000   52.000000\n",
       "has_marketplace       0.000000    0.000000    0.000000    0.000000    0.000000\n",
       "has_crossdocking      0.000000    0.000000    0.000000    0.000000    0.000000\n",
       "has_private_label     0.000000    0.000000    0.000000    1.000000    0.000000\n",
       "has_brands            1.000000    1.000000    1.000000    1.000000    1.000000\n",
       "gmv                  49.990000  313.900000   89.990000  189.000000  149.900000\n",
       "days_since_last_bf  297.000000  249.000000  339.000000  139.000000  285.000000\n",
       "device_APP IOS        0.000000    0.000000    0.000000    0.000000    0.000000\n",
       "device_DESKTOP        1.000000    0.000000    1.000000    1.000000    0.000000\n",
       "device_M+T SITE       0.000000    1.000000    0.000000    0.000000    0.000000\n",
       "gender_male           1.000000    1.000000    0.000000    0.000000    0.000000\n",
       "avg_rate_partner      0.108618    0.087822    0.087822    0.133245    0.143964\n",
       "confidence_partner    0.224742    0.688135    0.688135   -1.980502   -1.482805\n",
       "avg_rate_state        0.125443    0.119253    0.130599    0.130599    0.130599\n",
       "confidence_state     -0.363843   -3.101093    0.945073    0.945073    0.945073\n",
       "avg_rate_channel      0.141123    0.100368    0.100368    0.141123    0.141123\n",
       "confidence_channel    0.565882   -0.462035   -0.462035    0.565882    0.565882"
      ]
     },
     "execution_count": 12,
     "metadata": {},
     "output_type": "execute_result"
    }
   ],
   "source": [
    "X_train.head().T"
   ]
  },
  {
   "cell_type": "code",
   "execution_count": 13,
   "metadata": {},
   "outputs": [],
   "source": [
    "continuous_cols = [\n",
    "    \"age\", \"gmv\", \"days_since_last_bf\", \"avg_rate_partner\", \"confidence_partner\",\n",
    "    \"avg_rate_state\", \"confidence_state\", \"avg_rate_channel\", \"confidence_channel\"\n",
    "]"
   ]
  },
  {
   "cell_type": "code",
   "execution_count": 14,
   "metadata": {},
   "outputs": [],
   "source": [
    "qt = QuantileTransformer()\n",
    "qt.fit(X_train.loc[:, continuous_cols])\n",
    "\n",
    "X_train.loc[:, continuous_cols] = qt.transform(X_train.loc[:, continuous_cols])\n",
    "X_test.loc[:, continuous_cols] = qt.transform(X_test.loc[:, continuous_cols])"
   ]
  },
  {
   "cell_type": "code",
   "execution_count": 15,
   "metadata": {},
   "outputs": [],
   "source": [
    "HYPERPARAMETER_SPACE = [\n",
    "    Integer(1, 10, name='min_child_weight'),\n",
    "    Real(1e-5, 1.0, \"uniform\", name='learning_rate'),\n",
    "    Real(0.1, 10, \"log-uniform\", name='gamma'),    \n",
    "    Real(0.05, 1, name='subsample'),\n",
    "    Real(0.05, 1, name='colsample_bytree'),\n",
    "#     Integer(2, 6, name='max_depth'),\n",
    "#     Integer(100, 200, name=\"n_estimators\"),\n",
    "    Real(0.01, 0.99, name=\"base_score\"),\n",
    "#     Real(0.9, 1,0, name=\"scale_pos_weight\"),\n",
    "    Real(0, 5, name=\"reg_alpha\"),\n",
    "    Real(0, 5, name=\"reg_lambda\"),\n",
    "]\n",
    "\n",
    "HYPERPARAMETER_NAMES = [dim.name for dim in HYPERPARAMETER_SPACE]"
   ]
  },
  {
   "cell_type": "code",
   "execution_count": 16,
   "metadata": {},
   "outputs": [],
   "source": [
    "RANDOM_STATE = 939568576\n",
    "TREE_METHOD = 'hist'#'exact'\n",
    "NUM_PROCESSORS = 8\n",
    "NUM_CROSS_VALIDATION_STEPS = 1\n",
    "NUM_GP_OPTIMIZATION_STEPS = 1"
   ]
  },
  {
   "cell_type": "code",
   "execution_count": 17,
   "metadata": {},
   "outputs": [],
   "source": [
    "def get_logger(name):\n",
    "    logger = logging.getLogger(name)\n",
    "    formatter = logging.Formatter('[%(asctime)s] %(message)s')\n",
    "    stream_handler = logging.StreamHandler()\n",
    "    stream_handler.setFormatter(formatter)\n",
    "    logger.addHandler(stream_handler)\n",
    "    logger.setLevel(logging.INFO)\n",
    "    return logger\n",
    "\n",
    "logger = get_logger(__name__)"
   ]
  },
  {
   "cell_type": "code",
   "execution_count": 18,
   "metadata": {},
   "outputs": [],
   "source": [
    "def train_model(X, y, **kwargs):\n",
    "    model = XGBClassifier(\n",
    "        max_depth=5,\n",
    "        n_estimators=1000,\n",
    "        scale_pos_weight=1,\n",
    "        random_state=RANDOM_STATE,\n",
    "        tree_method=TREE_METHOD,\n",
    "        n_jobs=NUM_PROCESSORS,\n",
    "        **kwargs,\n",
    "    )\n",
    "    model.fit(X, y)\n",
    "    return model\n",
    "\n",
    "def evaluate_model(X, y, **kwargs):\n",
    "    roc_auc = []\n",
    "    for _ in range(NUM_CROSS_VALIDATION_STEPS):\n",
    "        X_train, X_test, y_train, y_test = train_test_split(X, y, test_size=0.1)\n",
    "        model = train_model(X_train, y_train, **kwargs)\n",
    "        score = model.predict_proba(X_test)\n",
    "        #total_correlation = np.sqrt(1 - np.exp(-2 * mutual_info_classif(score, y_test)))\n",
    "        log_like = np.log(score[range(y_test.size), y_test]).mean()\n",
    "        roc_auc.append(log_like)\n",
    "    logger.info(f\"Values: {roc_auc}\")\n",
    "    return np.mean(roc_auc)\n",
    "\n",
    "\n",
    "def train_optimized_model(X, y):\n",
    "        \n",
    "    @use_named_args(HYPERPARAMETER_SPACE)\n",
    "    def loss(**kwargs):\n",
    "        return -evaluate_model(X, y, **kwargs)\n",
    "\n",
    "    def get_optimization_callback():\n",
    "        message = \"Hyperparameter optimization iteration {:d}/{:d}. Current: {:5.3f}. Best: {:5.3f}.\"\n",
    "            #\" Parameters:\\n{}\"\n",
    "        def callback(res):          \n",
    "            current_value = -res.func_vals[-1]\n",
    "            best_value = -res.func_vals.min()            \n",
    "            current_params = pd.Series(dict(zip(\n",
    "                HYPERPARAMETER_NAMES, \n",
    "                map(fix_type, res.x)\n",
    "            )))\n",
    "            logger.info(message.format(\n",
    "                len(res.func_vals),\n",
    "                NUM_GP_OPTIMIZATION_STEPS,\n",
    "                current_value,\n",
    "                best_value,\n",
    "                #current_params\n",
    "            ))\n",
    "\n",
    "        return callback\n",
    "\n",
    "    def fix_type(x):\n",
    "        if isinstance(x, bool):\n",
    "            return x\n",
    "        elif np.issubdtype(np.dtype(x), np.int_):\n",
    "            return int(x)\n",
    "        elif np.issubdtype(np.dtype(x), np.float_):\n",
    "            return float(x)\n",
    "\n",
    "    logger.info(\"Will start hyperparameter optimization.\")\n",
    "    optimization_results = gp_minimize(\n",
    "        loss,\n",
    "        HYPERPARAMETER_SPACE,\n",
    "        n_random_starts=max(1, min(10, int(NUM_GP_OPTIMIZATION_STEPS / 2))),\n",
    "        n_calls=NUM_GP_OPTIMIZATION_STEPS,\n",
    "        random_state=RANDOM_STATE,\n",
    "        callback=get_optimization_callback(),\n",
    "    )\n",
    "    logger.info(\"Finished hyperparameter optimization.\")\n",
    "    best_parameters = dict(\n",
    "        zip(HYPERPARAMETER_NAMES, map(fix_type, optimization_results.x))\n",
    "    )\n",
    "    logger.info(\"Starting training of final model.\")\n",
    "    return train_model(X, y, verbosity=1, **best_parameters)\n"
   ]
  },
  {
   "cell_type": "code",
   "execution_count": 19,
   "metadata": {
    "scrolled": false
   },
   "outputs": [
    {
     "name": "stderr",
     "output_type": "stream",
     "text": [
      "[2019-06-14 16:31:54,384] Will start hyperparameter optimization.\n",
      "[2019-06-14 16:32:09,452] Values: [-0.42563972]\n",
      "[2019-06-14 16:32:09,594] Hyperparameter optimization iteration 1/1. Current: -0.426. Best: -0.426.\n",
      "[2019-06-14 16:32:09,595] Finished hyperparameter optimization.\n",
      "[2019-06-14 16:32:09,595] Starting training of final model.\n"
     ]
    },
    {
     "name": "stdout",
     "output_type": "stream",
     "text": [
      "CPU times: user 3min 25s, sys: 1.42 s, total: 3min 26s\n",
      "Wall time: 31 s\n"
     ]
    }
   ],
   "source": [
    "%time best_model = train_optimized_model(X_train, y_train)"
   ]
  },
  {
   "cell_type": "code",
   "execution_count": 20,
   "metadata": {},
   "outputs": [
    {
     "name": "stdout",
     "output_type": "stream",
     "text": [
      "              precision    recall  f1-score   support\n",
      "\n",
      "           0       0.90      0.97      0.94      2213\n",
      "           1       0.48      0.18      0.26       287\n",
      "\n",
      "    accuracy                           0.88      2500\n",
      "   macro avg       0.69      0.58      0.60      2500\n",
      "weighted avg       0.85      0.88      0.86      2500\n",
      "\n"
     ]
    }
   ],
   "source": [
    "y_pred = best_model.predict(X_test)\n",
    "s_pred = best_model.predict_proba(X_test)\n",
    "\n",
    "print(skmetrics.classification_report(y_test, y_pred))"
   ]
  },
  {
   "cell_type": "code",
   "execution_count": 21,
   "metadata": {},
   "outputs": [
    {
     "name": "stdout",
     "output_type": "stream",
     "text": [
      "Predict       0             1             \n",
      "Actual\n",
      "0             0.97469       0.02531       \n",
      "\n",
      "1             0.8223        0.1777        \n",
      "\n",
      "\n"
     ]
    }
   ],
   "source": [
    "cm = pycm.ConfusionMatrix(actual_vector=y_test.values, predict_vector=y_pred)\n",
    "cm.print_normalized_matrix()"
   ]
  },
  {
   "cell_type": "code",
   "execution_count": 22,
   "metadata": {},
   "outputs": [],
   "source": [
    "fpr, tpr, roc_thres = skmetrics.roc_curve(y_test, s_pred[:, 1])"
   ]
  },
  {
   "cell_type": "code",
   "execution_count": null,
   "metadata": {},
   "outputs": [],
   "source": []
  },
  {
   "cell_type": "code",
   "execution_count": 23,
   "metadata": {},
   "outputs": [
    {
     "data": {
      "image/png": "[encoded data removed]",
      "text/plain": [
       "<Figure size 864x288 with 2 Axes>"
      ]
     },
     "metadata": {
      "needs_background": "light"
     },
     "output_type": "display_data"
    }
   ],
   "source": [
    "fig = plt.figure(figsize=(12, 4))\n",
    "\n",
    "ax = fig.add_subplot(121)\n",
    "ax.set_title(f\"ROC Curve - AUC\")\n",
    "ax.plot(fpr, tpr)\n",
    "\n",
    "ax = fig.add_subplot(122)\n",
    "ax.set_title(\"Positive Rates\")\n",
    "ax.plot(roc_thres, tpr, label=\"TPR\")\n",
    "ax.plot(roc_thres, fpr, label=\"FPR\")\n",
    "ax.set_xlim(0, 1)\n",
    "ax.legend()\n",
    "\n",
    "fig.tight_layout()"
   ]
  },
  {
   "cell_type": "code",
   "execution_count": 24,
   "metadata": {},
   "outputs": [
    {
     "name": "stdout",
     "output_type": "stream",
     "text": [
      "0.27078666627745057\n"
     ]
    }
   ],
   "source": [
    "total_correlation = np.sqrt(1 - np.exp(-2 * mutual_info_classif(s_pred, y_test))).min()\n",
    "print(total_correlation)"
   ]
  },
  {
   "cell_type": "code",
   "execution_count": 25,
   "metadata": {},
   "outputs": [],
   "source": [
    "# skmetrics.roc_auc_score(label_binarize(y_test, range(len(code2period))), s_pred, average='micro')"
   ]
  },
  {
   "cell_type": "code",
   "execution_count": 26,
   "metadata": {},
   "outputs": [],
   "source": [
    "# skmetrics.roc_auc_score(label_binarize(y_test, range(len(code2period))), s_pred, average='macro')"
   ]
  },
  {
   "cell_type": "code",
   "execution_count": 27,
   "metadata": {},
   "outputs": [],
   "source": [
    "n_points = min(100, np.unique(s_pred[:, 1]).shape[0])"
   ]
  },
  {
   "cell_type": "code",
   "execution_count": 28,
   "metadata": {
    "scrolled": false
   },
   "outputs": [],
   "source": [
    "thresholds = np.linspace(s_pred.min(), s_pred[:, 1].max()*0.999, n_points)\n",
    "\n",
    "metrics = pd.DataFrame([\n",
    "    skmetrics.precision_recall_fscore_support(y_test, (s_pred[:, 1] >= threshold), average='binary')\n",
    "    for threshold in thresholds\n",
    "], columns=[\"precision\", \"recall\", \"f1\", \"support\"], index=thresholds)\n",
    "\n",
    "optimal_threshold = metrics.f1.idxmax()\n"
   ]
  },
  {
   "cell_type": "code",
   "execution_count": 29,
   "metadata": {},
   "outputs": [
    {
     "data": {
      "image/png": "[encoded data removed]",
      "text/plain": [
       "<Figure size 864x288 with 2 Axes>"
      ]
     },
     "metadata": {
      "needs_background": "light"
     },
     "output_type": "display_data"
    }
   ],
   "source": [
    "fig = plt.figure(figsize=(12, 4))\n",
    "\n",
    "ax = fig.add_subplot(121)\n",
    "ax.set_title(\"Precision x Recall Curve\")\n",
    "ax.plot(metrics.precision, metrics.recall)\n",
    "\n",
    "ax = fig.add_subplot(122)\n",
    "ax.set_title(\"Positive Rates\")\n",
    "ax.plot(metrics.index, metrics.precision, label=\"Precision\")\n",
    "ax.plot(metrics.index, metrics.recall, label=\"Recall\")\n",
    "ax.plot(metrics.index, metrics.f1, label=\"F_1 Score\")\n",
    "# ax.axvline(optimal_threshold)\n",
    "ax.legend()\n",
    "\n",
    "fig.tight_layout()"
   ]
  },
  {
   "cell_type": "code",
   "execution_count": 37,
   "metadata": {},
   "outputs": [
    {
     "data": {
      "text/plain": [
       "{'precision': 0.31971153846153844,\n",
       " 'recall': 0.4634146341463415,\n",
       " 'f1': 0.3783783783783784,\n",
       " 'support': None}"
      ]
     },
     "execution_count": 37,
     "metadata": {},
     "output_type": "execute_result"
    }
   ],
   "source": [
    "metrics.loc[optimal_threshold].to_dict()"
   ]
  },
  {
   "cell_type": "code",
   "execution_count": 30,
   "metadata": {},
   "outputs": [
    {
     "name": "stdout",
     "output_type": "stream",
     "text": [
      "precision    0.319712\n",
      "recall       0.463415\n",
      "f1           0.378378\n",
      "support          None\n",
      "Name: 0.20534177158188752, dtype: object\n"
     ]
    },
    {
     "name": "stderr",
     "output_type": "stream",
     "text": [
      "/home/calsaverini/.venvs/survival/lib/python3.6/site-packages/ipykernel_launcher.py:1: FutureWarning: \n",
      "The current behaviour of 'Series.argmax' is deprecated, use 'idxmax'\n",
      "instead.\n",
      "The behavior of 'argmax' will be corrected to return the positional\n",
      "maximum in the future. For now, use 'series.values.argmax' or\n",
      "'np.argmax(np.array(values))' to get the position of the maximum\n",
      "row.\n",
      "  \"\"\"Entry point for launching an IPython kernel.\n"
     ]
    }
   ],
   "source": [
    "optimal_threshold = metrics.f1.argmax()\n",
    "print(metrics.loc[optimal_threshold])\n",
    "y_pred = (s_pred[:, 1] > optimal_threshold).astype(int)"
   ]
  },
  {
   "cell_type": "code",
   "execution_count": 31,
   "metadata": {},
   "outputs": [
    {
     "name": "stdout",
     "output_type": "stream",
     "text": [
      "              precision    recall  f1-score   support\n",
      "\n",
      "           0       0.93      0.87      0.90      2213\n",
      "           1       0.32      0.46      0.38       287\n",
      "\n",
      "    accuracy                           0.83      2500\n",
      "   macro avg       0.62      0.67      0.64      2500\n",
      "weighted avg       0.86      0.83      0.84      2500\n",
      "\n"
     ]
    }
   ],
   "source": [
    "print(skmetrics.classification_report(y_test, y_pred))"
   ]
  },
  {
   "cell_type": "code",
   "execution_count": 32,
   "metadata": {},
   "outputs": [],
   "source": [
    "#best_model.save_artifact(\"./within_year_model.pred\")"
   ]
  },
  {
   "cell_type": "code",
   "execution_count": 33,
   "metadata": {},
   "outputs": [
    {
     "data": {
      "text/plain": [
       "avg_rate_channel      0.085517\n",
       "confidence_channel    0.084978\n",
       "confidence_partner    0.084014\n",
       "device_M+T SITE       0.072013\n",
       "device_APP IOS        0.067572\n",
       "avg_rate_partner      0.066390\n",
       "days_since_last_bf    0.057399\n",
       "confidence_state      0.056891\n",
       "gender_male           0.055036\n",
       "age                   0.054701\n",
       "gmv                   0.054255\n",
       "avg_rate_state        0.054036\n",
       "has_brands            0.052054\n",
       "has_private_label     0.052003\n",
       "device_DESKTOP        0.044058\n",
       "has_marketplace       0.035823\n",
       "has_crossdocking      0.023260\n",
       "dtype: float64"
      ]
     },
     "execution_count": 33,
     "metadata": {},
     "output_type": "execute_result"
    }
   ],
   "source": [
    "pd.Series(dict(zip(X_train.columns, best_model.feature_importances_))).sort_values(ascending=False).head(20)"
   ]
  },
  {
   "cell_type": "code",
   "execution_count": 34,
   "metadata": {},
   "outputs": [
    {
     "data": {
      "image/png": "[encoded data removed]",
      "text/plain": [
       "<Figure size 1008x720 with 4 Axes>"
      ]
     },
     "metadata": {
      "needs_background": "light"
     },
     "output_type": "display_data"
    }
   ],
   "source": [
    "fig = plt.figure(figsize=(14, 10))\n",
    "ax = fig.add_subplot(221)\n",
    "ax.set_title(f\"ROC Curve - AUC\", fontdict={'size': 18, 'fontweight': 'bold'})\n",
    "ax.plot(fpr, tpr)\n",
    "ax.set_xlabel(\"False Positive Rate\", fontdict={'size': 16})\n",
    "ax.set_ylabel(\"True Positive Rate\", fontdict={'size': 16})\n",
    "ax.set_xlim(0, 1)\n",
    "ax.set_ylim(0, 1)\n",
    "\n",
    "ax = fig.add_subplot(222)\n",
    "ax.set_title(\"False and True Positive Rates @ Score Threshold\", fontdict={'size': 14, 'fontweight': 'bold'})\n",
    "ax.plot(roc_thres, tpr, label=\"True Positive Rate\")\n",
    "ax.plot(roc_thres, fpr, label=\"False Positive Rate\")\n",
    "ax.set_xlim(0, 1)\n",
    "ax.set_ylim(0, 1)\n",
    "ax.set_xlabel(\"Score threshold\", fontdict={'size': 16})\n",
    "ax.set_ylabel(\"Rate\", fontdict={'size': 16})\n",
    "ax.legend()\n",
    "\n",
    "ax = fig.add_subplot(223)\n",
    "ax.set_title(\"Precision x Recall Curve\", fontdict={'size': 18, 'fontweight': 'bold'})\n",
    "ax.plot(metrics.recall, metrics.precision)\n",
    "ax.set_xlabel(\"Recall\", fontdict={'size': 16})\n",
    "ax.set_ylabel(\"Precision\", fontdict={'size': 16})\n",
    "ax.set_xlim(0.2, 1)\n",
    "ax.set_ylim(0, 1.01)\n",
    "\n",
    "\n",
    "ax = fig.add_subplot(224)\n",
    "ax.set_title(\"Precision, Recall and F_1 Score @ Score Threshold\", fontdict={'size': 14, 'fontweight': 'bold'})\n",
    "ax.plot(metrics.index, metrics.precision, label=\"Precision\")\n",
    "ax.plot(metrics.index, metrics.recall, label=\"Recall\")\n",
    "ax.plot(metrics.index, metrics.f1, label=\"F_1 Score\")\n",
    "ax.set_xlabel(\"Score threshold\", fontdict={'size': 16})\n",
    "ax.set_ylabel(\"Metric\", fontdict={'size': 16})\n",
    "ax.set_xlim(0, 1)\n",
    "ax.set_ylim(0, 1)\n",
    "ax.legend()\n",
    "\n",
    "fig.tight_layout()"
   ]
  },
  {
   "cell_type": "code",
   "execution_count": 38,
   "metadata": {},
   "outputs": [],
   "source": []
  },
  {
   "cell_type": "code",
   "execution_count": null,
   "metadata": {},
   "outputs": [],
   "source": []
  }
 ],
 "metadata": {
  "kernelspec": {
   "display_name": "Python 3",
   "language": "python",
   "name": "python3"
  },
  "language_info": {
   "codemirror_mode": {
    "name": "ipython",
    "version": 3
   },
   "file_extension": ".py",
   "mimetype": "text/x-python",
   "name": "python",
   "nbconvert_exporter": "python",
   "pygments_lexer": "ipython3",
   "version": "3.6.8"
  },
  "latex_envs": {
   "LaTeX_envs_menu_present": true,
   "autoclose": false,
   "autocomplete": true,
   "bibliofile": "biblio.bib",
   "cite_by": "apalike",
   "current_citInitial": 1,
   "eqLabelWithNumbers": true,
   "eqNumInitial": 1,
   "hotkeys": {
    "equation": "Ctrl-E",
    "itemize": "Ctrl-I"
   },
   "labels_anchors": false,
   "latex_user_defs": false,
   "report_style_numbering": false,
   "user_envs_cfg": false
  }
 },
 "nbformat": 4,
 "nbformat_minor": 2
}
