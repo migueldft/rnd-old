{
 "cells": [
  {
   "cell_type": "code",
   "execution_count": 1,
   "metadata": {},
   "outputs": [],
   "source": [
    "import pandas as pd\n",
    "from sklearn.model_selection import train_test_split\n",
    "from sklearn.preprocessing import label_binarize, QuantileTransformer"
   ]
  },
  {
   "cell_type": "code",
   "execution_count": 2,
   "metadata": {},
   "outputs": [],
   "source": [
    "from matplotlib import pyplot as plt\n",
    "import matplotlib.gridspec as gridspec\n",
    "import seaborn as sns\n",
    "%matplotlib inline"
   ]
  },
  {
   "cell_type": "code",
   "execution_count": 3,
   "metadata": {},
   "outputs": [],
   "source": [
    "import warnings"
   ]
  },
  {
   "cell_type": "code",
   "execution_count": 4,
   "metadata": {},
   "outputs": [],
   "source": [
    "import tensorflow as tf\n",
    "import tensorflow.keras as k"
   ]
  },
  {
   "cell_type": "code",
   "execution_count": 5,
   "metadata": {},
   "outputs": [],
   "source": [
    "def read_data():\n",
    "    df = pd.read_parquet(\"../dataset.parquet\")\n",
    "    categorical_columns = ['partner', 'device', 'gender', 'state', 'channel']\n",
    "    feature_columns = [\n",
    "        'channel', 'partner', 'device', 'age', 'gender', 'state', 'has_marketplace', \n",
    "        'has_crossdocking', 'has_private_label', 'has_brands', 'gmv', \n",
    "        'fst_sale_in_black_friday_days', 'snd_sale_in_black_friday_days'\n",
    "    ]\n",
    "\n",
    "    df = pd.get_dummies(df, columns=categorical_columns, drop_first=True)\n",
    "    df = df.loc[df.waiting_time > 0]\n",
    "\n",
    "    features = [c for c in df.columns if any([c.startswith(x) for x in feature_columns])]\n",
    "    X = df.loc[:, features].copy()\n",
    "    y = df.loc[:, 'has_second_sale_within_year'].copy()\n",
    "\n",
    "\n",
    "    X_train, X_test, y_train, y_test = train_test_split(X, y, test_size=0.3)\n",
    "\n",
    "    qt = QuantileTransformer()\n",
    "    qt.fit(X_train.loc[:, [\"age\", \"gmv\"]])\n",
    "    \n",
    "    with warnings.catch_warnings():\n",
    "        warnings.simplefilter(\"ignore\")\n",
    "        X_train.loc[:, [\"age\", \"gmv\"]] = qt.transform(X_train.loc[:, [\"age\", \"gmv\"]])\n",
    "        X_test.loc[:, [\"age\", \"gmv\"]] = qt.transform(X_test.loc[:, [\"age\", \"gmv\"]])\n",
    "    \n",
    "    return X_train, X_test, y_train, y_test"
   ]
  },
  {
   "cell_type": "code",
   "execution_count": 6,
   "metadata": {},
   "outputs": [],
   "source": [
    "X_train, X_test, y_train, y_test = read_data()"
   ]
  },
  {
   "cell_type": "code",
   "execution_count": 7,
   "metadata": {},
   "outputs": [],
   "source": [
    "n_examples, shape_dim = X_train.shape"
   ]
  },
  {
   "cell_type": "code",
   "execution_count": 9,
   "metadata": {},
   "outputs": [
    {
     "name": "stdout",
     "output_type": "stream",
     "text": [
      "Train on 577499 samples, validate on 64167 samples\n",
      "Epoch 1/10\n",
      "577499/577499 [==============================] - 11s 20us/sample - loss: 0.0707 - mae: 0.0465 - val_loss: 0.0138 - val_mae: 0.0022\n",
      "Epoch 2/10\n",
      "577499/577499 [==============================] - 11s 19us/sample - loss: 0.0131 - mae: 0.0015 - val_loss: 0.0127 - val_mae: 0.0010\n",
      "Epoch 3/10\n",
      "577499/577499 [==============================] - 11s 19us/sample - loss: 0.0126 - mae: 9.6733e-04 - val_loss: 0.0125 - val_mae: 8.3383e-04\n",
      "Epoch 4/10\n",
      "577499/577499 [==============================] - 11s 19us/sample - loss: 0.0125 - mae: 8.1975e-04 - val_loss: 0.0124 - val_mae: 7.4667e-04\n",
      "Epoch 5/10\n",
      "577499/577499 [==============================] - 11s 18us/sample - loss: 0.0125 - mae: 7.2649e-04 - val_loss: 0.0124 - val_mae: 6.2411e-04\n",
      "Epoch 6/10\n",
      "577499/577499 [==============================] - 11s 18us/sample - loss: 0.0124 - mae: 6.2685e-04 - val_loss: 0.0124 - val_mae: 5.3258e-04\n",
      "Epoch 7/10\n",
      "577499/577499 [==============================] - 11s 18us/sample - loss: 0.0124 - mae: 5.4283e-04 - val_loss: 0.0124 - val_mae: 8.4892e-04\n",
      "Epoch 8/10\n",
      "577499/577499 [==============================] - 11s 19us/sample - loss: 0.0124 - mae: 4.7813e-04 - val_loss: 0.0123 - val_mae: 3.7680e-04\n",
      "Epoch 9/10\n",
      "577499/577499 [==============================] - 11s 18us/sample - loss: 0.0123 - mae: 4.2985e-04 - val_loss: 0.0123 - val_mae: 5.0357e-04\n",
      "Epoch 10/10\n",
      "577499/577499 [==============================] - 11s 18us/sample - loss: 0.0123 - mae: 4.0122e-04 - val_loss: 0.0123 - val_mae: 4.9936e-04\n"
     ]
    },
    {
     "data": {
      "text/plain": [
       "<tensorflow.python.keras.callbacks.History at 0x7fb29f29c320>"
      ]
     },
     "execution_count": 9,
     "metadata": {},
     "output_type": "execute_result"
    }
   ],
   "source": [
    "inputs = k.Input(shape=(shape_dim,))\n",
    "\n",
    "pos_encoder = k.models.Sequential([\n",
    "    k.layers.Dense(128, activation='selu'),\n",
    "    k.layers.BatchNormalization(),\n",
    "    k.layers.Dense(32, activation='selu'),\n",
    "    k.layers.BatchNormalization()\n",
    "])\n",
    "\n",
    "pos_decoder = k.models.Sequential([\n",
    "    k.layers.Dense(128, activation='selu'),\n",
    "    k.layers.BatchNormalization(),\n",
    "    k.layers.Dense(shape_dim, activation='sigmoid')\n",
    "])\n",
    "\n",
    "pos_ae = k.models.Model(inputs=inputs, outputs=pos_decoder(pos_encoder(inputs)))\n",
    "pos_ae.compile(\n",
    "    optimizer=k.optimizers.Nadam(), \n",
    "    loss='binary_crossentropy', \n",
    "    metrics=[\"mae\"]\n",
    ")\n",
    "\n",
    "pos_ae.fit(\n",
    "    X_train.loc[y_train == 0], \n",
    "    X_train.loc[y_train == 0], \n",
    "    validation_split=0.1,\n",
    "    batch_size=512,\n",
    "    epochs=10\n",
    ")"
   ]
  },
  {
   "cell_type": "code",
   "execution_count": 10,
   "metadata": {},
   "outputs": [
    {
     "name": "stdout",
     "output_type": "stream",
     "text": [
      "Train on 195819 samples, validate on 21758 samples\n",
      "Epoch 1/10\n",
      "195819/195819 [==============================] - 4s 21us/sample - loss: 0.1776 - mae: 0.1286 - val_loss: 0.0306 - val_mae: 0.0178\n",
      "Epoch 2/10\n",
      "195819/195819 [==============================] - 4s 19us/sample - loss: 0.0191 - mae: 0.0069 - val_loss: 0.0168 - val_mae: 0.0050\n",
      "Epoch 3/10\n",
      "195819/195819 [==============================] - 3s 16us/sample - loss: 0.0150 - mae: 0.0031 - val_loss: 0.0144 - val_mae: 0.0026\n",
      "Epoch 4/10\n",
      "195819/195819 [==============================] - 4s 18us/sample - loss: 0.0139 - mae: 0.0020 - val_loss: 0.0136 - val_mae: 0.0017\n",
      "Epoch 5/10\n",
      "195819/195819 [==============================] - 4s 19us/sample - loss: 0.0134 - mae: 0.0015 - val_loss: 0.0132 - val_mae: 0.0013\n",
      "Epoch 6/10\n",
      "195819/195819 [==============================] - 4s 20us/sample - loss: 0.0131 - mae: 0.0012 - val_loss: 0.0130 - val_mae: 0.0011\n",
      "Epoch 7/10\n",
      "195819/195819 [==============================] - 4s 20us/sample - loss: 0.0129 - mae: 0.0011 - val_loss: 0.0129 - val_mae: 9.8490e-04\n",
      "Epoch 8/10\n",
      "195819/195819 [==============================] - 4s 22us/sample - loss: 0.0129 - mae: 9.7892e-04 - val_loss: 0.0128 - val_mae: 8.9165e-04\n",
      "Epoch 9/10\n",
      "195819/195819 [==============================] - 4s 20us/sample - loss: 0.0128 - mae: 9.0589e-04 - val_loss: 0.0127 - val_mae: 8.2614e-04\n",
      "Epoch 10/10\n",
      "195819/195819 [==============================] - 4s 20us/sample - loss: 0.0127 - mae: 8.5871e-04 - val_loss: 0.0127 - val_mae: 8.6721e-04\n"
     ]
    },
    {
     "data": {
      "text/plain": [
       "<tensorflow.python.keras.callbacks.History at 0x7fb22037fba8>"
      ]
     },
     "execution_count": 10,
     "metadata": {},
     "output_type": "execute_result"
    }
   ],
   "source": [
    "inputs = k.Input(shape=(shape_dim,))\n",
    "\n",
    "neg_encoder = k.models.Sequential([\n",
    "    k.layers.Dense(128, activation='selu'),\n",
    "    k.layers.BatchNormalization(),\n",
    "    k.layers.Dense(32, activation='selu'),\n",
    "    k.layers.BatchNormalization()\n",
    "])\n",
    "\n",
    "neg_decoder = k.models.Sequential([\n",
    "    k.layers.Dense(128, activation='selu'),\n",
    "    k.layers.BatchNormalization(),\n",
    "    k.layers.Dense(shape_dim, activation='sigmoid')\n",
    "])\n",
    "\n",
    "neg_ae = k.models.Model(inputs=inputs, outputs=neg_decoder(neg_encoder(inputs)))\n",
    "neg_ae.compile(\n",
    "    optimizer=k.optimizers.Nadam(), \n",
    "    loss='binary_crossentropy', \n",
    "    metrics=[\"mae\"]\n",
    ")\n",
    "\n",
    "neg_ae.fit(\n",
    "    X_train.loc[y_train == 1], \n",
    "    X_train.loc[y_train == 1], \n",
    "    validation_split=0.1,\n",
    "    batch_size=512,\n",
    "    epochs=10\n",
    ")"
   ]
  },
  {
   "cell_type": "code",
   "execution_count": 11,
   "metadata": {},
   "outputs": [],
   "source": [
    "X_train_pos = pos_encoder.predict(X_train)\n",
    "X_train_neg = neg_encoder.predict(X_train)\n",
    "X_train_rec = pd.np.c_[X_train_pos, X_train_neg]"
   ]
  },
  {
   "cell_type": "code",
   "execution_count": 12,
   "metadata": {},
   "outputs": [],
   "source": [
    "X_test_pos = pos_encoder.predict(X_test)\n",
    "X_test_neg = neg_encoder.predict(X_test)\n",
    "X_test_rec = pd.np.c_[X_test_pos, X_test_neg]"
   ]
  },
  {
   "cell_type": "code",
   "execution_count": 51,
   "metadata": {},
   "outputs": [],
   "source": [
    "delta_train = pd.np.abs(X_train_pos - X_train_neg).mean(axis=1)"
   ]
  },
  {
   "cell_type": "code",
   "execution_count": 52,
   "metadata": {},
   "outputs": [
    {
     "data": {
      "text/plain": [
       "count    859243.000000\n",
       "mean          1.128097\n",
       "std           0.169506\n",
       "min           0.578930\n",
       "25%           1.004107\n",
       "50%           1.113032\n",
       "75%           1.233748\n",
       "max           2.194006\n",
       "dtype: float64"
      ]
     },
     "execution_count": 52,
     "metadata": {},
     "output_type": "execute_result"
    }
   ],
   "source": [
    "pd.Series(delta_train).describe()"
   ]
  },
  {
   "cell_type": "code",
   "execution_count": 53,
   "metadata": {},
   "outputs": [
    {
     "data": {
      "image/png": "[encoded data removed]",
      "text/plain": [
       "<Figure size 432x288 with 1 Axes>"
      ]
     },
     "metadata": {
      "needs_background": "light"
     },
     "output_type": "display_data"
    }
   ],
   "source": [
    "bins = pd.np.linspace(0.57, 2.2, 101)\n",
    "fig, ax = plt.subplots()\n",
    "ax.set_xscale('log')\n",
    "ax.hist(delta_train[y_train == 0], bins=bins, alpha=0.5, density=True)\n",
    "ax.hist(delta_train[y_train == 1], bins=bins, alpha=0.5, density=True)\n",
    "pass"
   ]
  },
  {
   "cell_type": "code",
   "execution_count": 54,
   "metadata": {},
   "outputs": [],
   "source": [
    "inputs = k.Input(shape=(shape_dim,))\n",
    "x = k.layers.Dense(64, activation='selu')(inputs)\n",
    "x = k.layers.BatchNormalization()(x)\n",
    "x = k.layers.Dense(64, activation='selu')(x)\n",
    "x = k.layers.BatchNormalization()(x)\n",
    "x = k.layers.Dense(64, activation='selu')(x)\n",
    "x = k.layers.BatchNormalization()(x)\n",
    "x = k.layers.Dense(1, activation='sigmoid')(x)\n",
    "\n",
    "clf_simple = k.models.Model(inputs=inputs, outputs=x)\n",
    "clf_simple.compile(optimizer=k.optimizers.Nadam(), loss='binary_crossentropy', metrics=['accuracy'])"
   ]
  },
  {
   "cell_type": "code",
   "execution_count": 55,
   "metadata": {},
   "outputs": [
    {
     "name": "stdout",
     "output_type": "stream",
     "text": [
      "Train on 773318 samples, validate on 85925 samples\n",
      "Epoch 1/5\n",
      "773318/773318 [==============================] - 10s 13us/sample - loss: 0.3755 - accuracy: 0.8405 - val_loss: 0.3589 - val_accuracy: 0.8495\n",
      "Epoch 2/5\n",
      "773318/773318 [==============================] - 9s 12us/sample - loss: 0.3544 - accuracy: 0.8516 - val_loss: 0.3568 - val_accuracy: 0.8509\n",
      "Epoch 3/5\n",
      "773318/773318 [==============================] - 10s 12us/sample - loss: 0.3523 - accuracy: 0.8524 - val_loss: 0.3568 - val_accuracy: 0.8501\n",
      "Epoch 4/5\n",
      "773318/773318 [==============================] - 10s 13us/sample - loss: 0.3513 - accuracy: 0.8527 - val_loss: 0.3560 - val_accuracy: 0.8508\n",
      "Epoch 5/5\n",
      "773318/773318 [==============================] - 10s 13us/sample - loss: 0.3508 - accuracy: 0.8528 - val_loss: 0.3542 - val_accuracy: 0.8522\n"
     ]
    },
    {
     "data": {
      "text/plain": [
       "<tensorflow.python.keras.callbacks.History at 0x7fb13f16b390>"
      ]
     },
     "execution_count": 55,
     "metadata": {},
     "output_type": "execute_result"
    }
   ],
   "source": [
    "clf_simple.fit(\n",
    "    X_train,\n",
    "    y_train,\n",
    "    validation_split=0.1,\n",
    "    batch_size=512,\n",
    "    epochs=5\n",
    ")"
   ]
  },
  {
   "cell_type": "code",
   "execution_count": 58,
   "metadata": {},
   "outputs": [],
   "source": [
    "inputs = k.Input(shape=(2 * 32,))\n",
    "x = k.layers.Dense(64, activation='selu')(inputs)\n",
    "x = k.layers.BatchNormalization()(x)\n",
    "x = k.layers.Dense(64, activation='selu')(x)\n",
    "x = k.layers.BatchNormalization()(x)\n",
    "x = k.layers.Dense(64, activation='selu')(x)\n",
    "x = k.layers.BatchNormalization()(x)\n",
    "x = k.layers.Dense(1, activation='sigmoid')(x)\n",
    "\n",
    "clf = k.models.Model(inputs=inputs, outputs=x)\n",
    "clf.compile(optimizer=k.optimizers.Nadam(), loss='binary_crossentropy', metrics=['accuracy'])"
   ]
  },
  {
   "cell_type": "code",
   "execution_count": 59,
   "metadata": {},
   "outputs": [
    {
     "name": "stdout",
     "output_type": "stream",
     "text": [
      "Train on 773318 samples, validate on 85925 samples\n",
      "Epoch 1/5\n",
      "773318/773318 [==============================] - 7s 9us/sample - loss: 0.3834 - accuracy: 0.8373 - val_loss: 0.3667 - val_accuracy: 0.8469\n",
      "Epoch 2/5\n",
      "773318/773318 [==============================] - 6s 8us/sample - loss: 0.3585 - accuracy: 0.8500 - val_loss: 0.3638 - val_accuracy: 0.8485\n",
      "Epoch 3/5\n",
      "773318/773318 [==============================] - 6s 8us/sample - loss: 0.3553 - accuracy: 0.8512 - val_loss: 0.3588 - val_accuracy: 0.8508\n",
      "Epoch 4/5\n",
      "773318/773318 [==============================] - 6s 8us/sample - loss: 0.3537 - accuracy: 0.8520 - val_loss: 0.3551 - val_accuracy: 0.8509\n",
      "Epoch 5/5\n",
      "773318/773318 [==============================] - 7s 9us/sample - loss: 0.3524 - accuracy: 0.8524 - val_loss: 0.3566 - val_accuracy: 0.8501\n"
     ]
    },
    {
     "data": {
      "text/plain": [
       "<tensorflow.python.keras.callbacks.History at 0x7fb0c2195160>"
      ]
     },
     "execution_count": 59,
     "metadata": {},
     "output_type": "execute_result"
    }
   ],
   "source": [
    "clf.fit(\n",
    "    X_train_rec,\n",
    "    y_train,\n",
    "    validation_split=0.1,\n",
    "    batch_size=512,\n",
    "    epochs=5\n",
    ")"
   ]
  },
  {
   "cell_type": "code",
   "execution_count": 60,
   "metadata": {},
   "outputs": [
    {
     "name": "stdout",
     "output_type": "stream",
     "text": [
      "368248/368248 [==============================] - 7s 20us/sample - loss: 0.3531 - accuracy: 0.8514\n"
     ]
    },
    {
     "data": {
      "text/plain": [
       "[0.3530589864562749, 0.8513719]"
      ]
     },
     "execution_count": 60,
     "metadata": {},
     "output_type": "execute_result"
    }
   ],
   "source": [
    "clf_simple.evaluate(X_test, y_test)"
   ]
  },
  {
   "cell_type": "code",
   "execution_count": 61,
   "metadata": {},
   "outputs": [
    {
     "name": "stdout",
     "output_type": "stream",
     "text": [
      "368248/368248 [==============================] - 8s 20us/sample - loss: 0.3561 - accuracy: 0.8501\n"
     ]
    },
    {
     "data": {
      "text/plain": [
       "[0.3561269393872294, 0.8500603]"
      ]
     },
     "execution_count": 61,
     "metadata": {},
     "output_type": "execute_result"
    }
   ],
   "source": [
    "clf.evaluate(X_test_rec, y_test)"
   ]
  },
  {
   "cell_type": "code",
   "execution_count": null,
   "metadata": {},
   "outputs": [],
   "source": []
  }
 ],
 "metadata": {
  "kernelspec": {
   "display_name": "Python 3",
   "language": "python",
   "name": "python3"
  },
  "language_info": {
   "codemirror_mode": {
    "name": "ipython",
    "version": 3
   },
   "file_extension": ".py",
   "mimetype": "text/x-python",
   "name": "python",
   "nbconvert_exporter": "python",
   "pygments_lexer": "ipython3",
   "version": "3.6.8"
  }
 },
 "nbformat": 4,
 "nbformat_minor": 2
}
