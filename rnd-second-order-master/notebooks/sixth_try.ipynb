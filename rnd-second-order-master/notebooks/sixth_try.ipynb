{
 "cells": [
  {
   "cell_type": "code",
   "execution_count": 1,
   "metadata": {},
   "outputs": [],
   "source": [
    "## Referencias\n",
    "### https://github.com/sebp/scikit-survival\n",
    "### https://nbviewer.jupyter.org/github/sebp/scikit-survival/blob/master/examples/00-introduction.ipynb\n",
    "### https://medium.com/@sundarstyles89/weight-of-evidence-and-information-value-using-python-6f05072e83eb"
   ]
  },
  {
   "cell_type": "code",
   "execution_count": 2,
   "metadata": {},
   "outputs": [
    {
     "name": "stdout",
     "output_type": "stream",
     "text": [
      "3.6.8\n"
     ]
    }
   ],
   "source": [
    "import platform\n",
    "print(platform.python_version())"
   ]
  },
  {
   "cell_type": "code",
   "execution_count": 3,
   "metadata": {
    "scrolled": true
   },
   "outputs": [],
   "source": [
    "import pandas as pd\n",
    "import datetime as dt\n",
    "import unicodedata\n",
    "import numpy as np\n",
    "# import sksurv as ss\n",
    "# from sksurv.preprocessing import OneHotEncoder\n",
    "from sklearn.model_selection import train_test_split\n",
    "# from sksurv.linear_model import CoxPHSurvivalAnalysis\n",
    "# from sksurv.metrics import concordance_index_censored\n",
    "%matplotlib inline\n",
    "import matplotlib.pyplot as plt\n",
    "import seaborn as sns\n",
    "import math"
   ]
  },
  {
   "cell_type": "markdown",
   "metadata": {},
   "source": [
    "#### Getting and preparing dataframe"
   ]
  },
  {
   "cell_type": "code",
   "execution_count": 4,
   "metadata": {
    "scrolled": true
   },
   "outputs": [],
   "source": [
    "# df = pd.read_csv('first_sale_times_20171201_customer_data.csv')"
   ]
  },
  {
   "cell_type": "code",
   "execution_count": 5,
   "metadata": {
    "scrolled": true
   },
   "outputs": [],
   "source": [
    "df_first_order = pd.read_csv('customer_and_first_order_data_v3.csv', encoding='utf-8', sep=';')"
   ]
  },
  {
   "cell_type": "code",
   "execution_count": 9,
   "metadata": {
    "scrolled": true
   },
   "outputs": [
    {
     "data": {
      "text/html": [
       "<div>\n",
       "<style scoped>\n",
       "    .dataframe tbody tr th:only-of-type {\n",
       "        vertical-align: middle;\n",
       "    }\n",
       "\n",
       "    .dataframe tbody tr th {\n",
       "        vertical-align: top;\n",
       "    }\n",
       "\n",
       "    .dataframe thead th {\n",
       "        text-align: right;\n",
       "    }\n",
       "</style>\n",
       "<table border=\"1\" class=\"dataframe\">\n",
       "  <thead>\n",
       "    <tr style=\"text-align: right;\">\n",
       "      <th></th>\n",
       "      <th>fk_customer</th>\n",
       "      <th>channel</th>\n",
       "      <th>partner</th>\n",
       "      <th>device</th>\n",
       "      <th>first_sale_number</th>\n",
       "      <th>age</th>\n",
       "      <th>gender</th>\n",
       "      <th>state</th>\n",
       "      <th>expected_delivery_date</th>\n",
       "      <th>delivered_date</th>\n",
       "      <th>first_sale_date</th>\n",
       "      <th>second_sale_date</th>\n",
       "    </tr>\n",
       "  </thead>\n",
       "  <tbody>\n",
       "    <tr>\n",
       "      <th>0</th>\n",
       "      <td>1672</td>\n",
       "      <td>EXCHANGED</td>\n",
       "      <td>EXCHANGED</td>\n",
       "      <td>APP ANDROID</td>\n",
       "      <td>590541</td>\n",
       "      <td>30</td>\n",
       "      <td>female</td>\n",
       "      <td>são paulo</td>\n",
       "      <td>NaN</td>\n",
       "      <td>20180811.0</td>\n",
       "      <td>20180621</td>\n",
       "      <td>20180708.0</td>\n",
       "    </tr>\n",
       "    <tr>\n",
       "      <th>1</th>\n",
       "      <td>20205</td>\n",
       "      <td>DIRECT</td>\n",
       "      <td>UNKNOWN</td>\n",
       "      <td>DESKTOP</td>\n",
       "      <td>37325554</td>\n",
       "      <td>61</td>\n",
       "      <td>female</td>\n",
       "      <td>paraná</td>\n",
       "      <td>20180516.0</td>\n",
       "      <td>20180509.0</td>\n",
       "      <td>20180503</td>\n",
       "      <td>NaN</td>\n",
       "    </tr>\n",
       "    <tr>\n",
       "      <th>2</th>\n",
       "      <td>32783</td>\n",
       "      <td>CRM - EMAIL</td>\n",
       "      <td>EMAIL_TRANSACIONAL</td>\n",
       "      <td>DESKTOP</td>\n",
       "      <td>75358614</td>\n",
       "      <td>26</td>\n",
       "      <td>female</td>\n",
       "      <td>rio grande do sul</td>\n",
       "      <td>20180705.0</td>\n",
       "      <td>20180618.0</td>\n",
       "      <td>20180511</td>\n",
       "      <td>20180511.0</td>\n",
       "    </tr>\n",
       "    <tr>\n",
       "      <th>1352643</th>\n",
       "      <td>31039668</td>\n",
       "      <td>UNKNOWN</td>\n",
       "      <td>UNKNOWN</td>\n",
       "      <td>APP ANDROID</td>\n",
       "      <td>4465666624</td>\n",
       "      <td>33</td>\n",
       "      <td>female</td>\n",
       "      <td>são paulo</td>\n",
       "      <td>NaN</td>\n",
       "      <td>NaN</td>\n",
       "      <td>20190116</td>\n",
       "      <td>NaN</td>\n",
       "    </tr>\n",
       "    <tr>\n",
       "      <th>1352644</th>\n",
       "      <td>31040197</td>\n",
       "      <td>UNKNOWN</td>\n",
       "      <td>UNKNOWN</td>\n",
       "      <td>DESKTOP</td>\n",
       "      <td>4465660190</td>\n",
       "      <td>36</td>\n",
       "      <td>male</td>\n",
       "      <td>são paulo</td>\n",
       "      <td>20190129.0</td>\n",
       "      <td>NaN</td>\n",
       "      <td>20190116</td>\n",
       "      <td>NaN</td>\n",
       "    </tr>\n",
       "    <tr>\n",
       "      <th>1352645</th>\n",
       "      <td>31042838</td>\n",
       "      <td>UNKNOWN</td>\n",
       "      <td>UNKNOWN</td>\n",
       "      <td>DESKTOP</td>\n",
       "      <td>4465667630</td>\n",
       "      <td>26</td>\n",
       "      <td>male</td>\n",
       "      <td>rio grande do norte</td>\n",
       "      <td>NaN</td>\n",
       "      <td>NaN</td>\n",
       "      <td>20190116</td>\n",
       "      <td>NaN</td>\n",
       "    </tr>\n",
       "  </tbody>\n",
       "</table>\n",
       "</div>"
      ],
      "text/plain": [
       "         fk_customer      channel             partner       device  \\\n",
       "0               1672    EXCHANGED           EXCHANGED  APP ANDROID   \n",
       "1              20205       DIRECT             UNKNOWN      DESKTOP   \n",
       "2              32783  CRM - EMAIL  EMAIL_TRANSACIONAL      DESKTOP   \n",
       "1352643     31039668      UNKNOWN             UNKNOWN  APP ANDROID   \n",
       "1352644     31040197      UNKNOWN             UNKNOWN      DESKTOP   \n",
       "1352645     31042838      UNKNOWN             UNKNOWN      DESKTOP   \n",
       "\n",
       "         first_sale_number  age  gender                state  \\\n",
       "0                   590541   30  female            são paulo   \n",
       "1                 37325554   61  female               paraná   \n",
       "2                 75358614   26  female    rio grande do sul   \n",
       "1352643         4465666624   33  female            são paulo   \n",
       "1352644         4465660190   36    male            são paulo   \n",
       "1352645         4465667630   26    male  rio grande do norte   \n",
       "\n",
       "         expected_delivery_date  delivered_date  first_sale_date  \\\n",
       "0                           NaN      20180811.0         20180621   \n",
       "1                    20180516.0      20180509.0         20180503   \n",
       "2                    20180705.0      20180618.0         20180511   \n",
       "1352643                     NaN             NaN         20190116   \n",
       "1352644              20190129.0             NaN         20190116   \n",
       "1352645                     NaN             NaN         20190116   \n",
       "\n",
       "         second_sale_date  \n",
       "0              20180708.0  \n",
       "1                     NaN  \n",
       "2              20180511.0  \n",
       "1352643               NaN  \n",
       "1352644               NaN  \n",
       "1352645               NaN  "
      ]
     },
     "execution_count": 9,
     "metadata": {},
     "output_type": "execute_result"
    }
   ],
   "source": [
    "pd.concat([df_first_order.head(3), df_first_order.tail(3)])"
   ]
  },
  {
   "cell_type": "code",
   "execution_count": 10,
   "metadata": {},
   "outputs": [],
   "source": [
    "df_categories = pd.read_csv('first_orders_categories_v3.csv', encoding='utf-8', sep=';')"
   ]
  },
  {
   "cell_type": "code",
   "execution_count": 11,
   "metadata": {},
   "outputs": [
    {
     "data": {
      "text/html": [
       "<div>\n",
       "<style scoped>\n",
       "    .dataframe tbody tr th:only-of-type {\n",
       "        vertical-align: middle;\n",
       "    }\n",
       "\n",
       "    .dataframe tbody tr th {\n",
       "        vertical-align: top;\n",
       "    }\n",
       "\n",
       "    .dataframe thead th {\n",
       "        text-align: right;\n",
       "    }\n",
       "</style>\n",
       "<table border=\"1\" class=\"dataframe\">\n",
       "  <thead>\n",
       "    <tr style=\"text-align: right;\">\n",
       "      <th></th>\n",
       "      <th>first_sale_date</th>\n",
       "      <th>first_sale_number</th>\n",
       "      <th>fk_customer</th>\n",
       "      <th>has_marketplace</th>\n",
       "      <th>has_crossdocking</th>\n",
       "      <th>has_private_label</th>\n",
       "      <th>has_brands</th>\n",
       "      <th>gmv</th>\n",
       "    </tr>\n",
       "  </thead>\n",
       "  <tbody>\n",
       "    <tr>\n",
       "      <th>0</th>\n",
       "      <td>2018-01-08 15:47:40</td>\n",
       "      <td>14622844</td>\n",
       "      <td>25850737</td>\n",
       "      <td>0</td>\n",
       "      <td>0</td>\n",
       "      <td>0</td>\n",
       "      <td>1</td>\n",
       "      <td>149.99</td>\n",
       "    </tr>\n",
       "    <tr>\n",
       "      <th>1</th>\n",
       "      <td>2018-03-12 11:34:39</td>\n",
       "      <td>26228194</td>\n",
       "      <td>26506040</td>\n",
       "      <td>0</td>\n",
       "      <td>0</td>\n",
       "      <td>0</td>\n",
       "      <td>1</td>\n",
       "      <td>258.89</td>\n",
       "    </tr>\n",
       "    <tr>\n",
       "      <th>2</th>\n",
       "      <td>2018-05-03 12:16:38</td>\n",
       "      <td>33337554</td>\n",
       "      <td>27170929</td>\n",
       "      <td>0</td>\n",
       "      <td>0</td>\n",
       "      <td>0</td>\n",
       "      <td>1</td>\n",
       "      <td>297.60</td>\n",
       "    </tr>\n",
       "    <tr>\n",
       "      <th>3</th>\n",
       "      <td>2018-02-19 08:14:16</td>\n",
       "      <td>25334564</td>\n",
       "      <td>26328512</td>\n",
       "      <td>0</td>\n",
       "      <td>0</td>\n",
       "      <td>0</td>\n",
       "      <td>1</td>\n",
       "      <td>144.95</td>\n",
       "    </tr>\n",
       "    <tr>\n",
       "      <th>4</th>\n",
       "      <td>2018-06-08 08:48:14</td>\n",
       "      <td>31751334</td>\n",
       "      <td>27698529</td>\n",
       "      <td>0</td>\n",
       "      <td>0</td>\n",
       "      <td>0</td>\n",
       "      <td>1</td>\n",
       "      <td>69.99</td>\n",
       "    </tr>\n",
       "    <tr>\n",
       "      <th>1395689</th>\n",
       "      <td>2018-09-17 18:47:16</td>\n",
       "      <td>4461295430</td>\n",
       "      <td>29049769</td>\n",
       "      <td>0</td>\n",
       "      <td>0</td>\n",
       "      <td>0</td>\n",
       "      <td>1</td>\n",
       "      <td>79.99</td>\n",
       "    </tr>\n",
       "    <tr>\n",
       "      <th>1395690</th>\n",
       "      <td>2019-01-10 10:45:28</td>\n",
       "      <td>4465462728</td>\n",
       "      <td>21263350</td>\n",
       "      <td>0</td>\n",
       "      <td>0</td>\n",
       "      <td>0</td>\n",
       "      <td>1</td>\n",
       "      <td>84.99</td>\n",
       "    </tr>\n",
       "    <tr>\n",
       "      <th>1395691</th>\n",
       "      <td>2018-09-27 00:31:32</td>\n",
       "      <td>4461592256</td>\n",
       "      <td>24224728</td>\n",
       "      <td>0</td>\n",
       "      <td>0</td>\n",
       "      <td>0</td>\n",
       "      <td>1</td>\n",
       "      <td>114.89</td>\n",
       "    </tr>\n",
       "    <tr>\n",
       "      <th>1395692</th>\n",
       "      <td>2018-11-22 20:02:06</td>\n",
       "      <td>4463630569</td>\n",
       "      <td>30068824</td>\n",
       "      <td>0</td>\n",
       "      <td>0</td>\n",
       "      <td>0</td>\n",
       "      <td>1</td>\n",
       "      <td>84.99</td>\n",
       "    </tr>\n",
       "    <tr>\n",
       "      <th>1395693</th>\n",
       "      <td>2018-10-09 20:33:31</td>\n",
       "      <td>4462017531</td>\n",
       "      <td>29286340</td>\n",
       "      <td>0</td>\n",
       "      <td>0</td>\n",
       "      <td>0</td>\n",
       "      <td>1</td>\n",
       "      <td>94.99</td>\n",
       "    </tr>\n",
       "  </tbody>\n",
       "</table>\n",
       "</div>"
      ],
      "text/plain": [
       "             first_sale_date  first_sale_number  fk_customer  has_marketplace  \\\n",
       "0        2018-01-08 15:47:40           14622844     25850737                0   \n",
       "1        2018-03-12 11:34:39           26228194     26506040                0   \n",
       "2        2018-05-03 12:16:38           33337554     27170929                0   \n",
       "3        2018-02-19 08:14:16           25334564     26328512                0   \n",
       "4        2018-06-08 08:48:14           31751334     27698529                0   \n",
       "1395689  2018-09-17 18:47:16         4461295430     29049769                0   \n",
       "1395690  2019-01-10 10:45:28         4465462728     21263350                0   \n",
       "1395691  2018-09-27 00:31:32         4461592256     24224728                0   \n",
       "1395692  2018-11-22 20:02:06         4463630569     30068824                0   \n",
       "1395693  2018-10-09 20:33:31         4462017531     29286340                0   \n",
       "\n",
       "         has_crossdocking  has_private_label  has_brands     gmv  \n",
       "0                       0                  0           1  149.99  \n",
       "1                       0                  0           1  258.89  \n",
       "2                       0                  0           1  297.60  \n",
       "3                       0                  0           1  144.95  \n",
       "4                       0                  0           1   69.99  \n",
       "1395689                 0                  0           1   79.99  \n",
       "1395690                 0                  0           1   84.99  \n",
       "1395691                 0                  0           1  114.89  \n",
       "1395692                 0                  0           1   84.99  \n",
       "1395693                 0                  0           1   94.99  "
      ]
     },
     "execution_count": 11,
     "metadata": {},
     "output_type": "execute_result"
    }
   ],
   "source": [
    "pd.concat([df_categories.head(), df_categories.tail()])"
   ]
  },
  {
   "cell_type": "code",
   "execution_count": 12,
   "metadata": {},
   "outputs": [
    {
     "name": "stdout",
     "output_type": "stream",
     "text": [
      "1352646\n",
      "1395694\n"
     ]
    }
   ],
   "source": [
    "print(len(df_first_order))\n",
    "print(df_categories.first_sale_number.nunique())"
   ]
  },
  {
   "cell_type": "code",
   "execution_count": 13,
   "metadata": {
    "scrolled": true
   },
   "outputs": [],
   "source": [
    "df_grouped = df_categories.copy()\n",
    "df_grouped.drop(columns=['first_sale_date'], inplace=True)"
   ]
  },
  {
   "cell_type": "code",
   "execution_count": 14,
   "metadata": {},
   "outputs": [
    {
     "data": {
      "text/plain": [
       "1352646"
      ]
     },
     "execution_count": 14,
     "metadata": {},
     "output_type": "execute_result"
    }
   ],
   "source": [
    "len(df_first_order)"
   ]
  },
  {
   "cell_type": "code",
   "execution_count": 15,
   "metadata": {},
   "outputs": [
    {
     "data": {
      "text/plain": [
       "1395694"
      ]
     },
     "execution_count": 15,
     "metadata": {},
     "output_type": "execute_result"
    }
   ],
   "source": [
    "len(df_grouped)"
   ]
  },
  {
   "cell_type": "code",
   "execution_count": 16,
   "metadata": {},
   "outputs": [],
   "source": [
    "df = pd.merge(df_first_order, df_grouped, on=['first_sale_number','fk_customer'], how='outer', indicator=True)"
   ]
  },
  {
   "cell_type": "code",
   "execution_count": 17,
   "metadata": {},
   "outputs": [
    {
     "data": {
      "text/html": [
       "<div>\n",
       "<style scoped>\n",
       "    .dataframe tbody tr th:only-of-type {\n",
       "        vertical-align: middle;\n",
       "    }\n",
       "\n",
       "    .dataframe tbody tr th {\n",
       "        vertical-align: top;\n",
       "    }\n",
       "\n",
       "    .dataframe thead th {\n",
       "        text-align: right;\n",
       "    }\n",
       "</style>\n",
       "<table border=\"1\" class=\"dataframe\">\n",
       "  <thead>\n",
       "    <tr style=\"text-align: right;\">\n",
       "      <th></th>\n",
       "      <th>fk_customer</th>\n",
       "      <th>channel</th>\n",
       "      <th>partner</th>\n",
       "      <th>device</th>\n",
       "      <th>first_sale_number</th>\n",
       "      <th>age</th>\n",
       "      <th>gender</th>\n",
       "      <th>state</th>\n",
       "      <th>expected_delivery_date</th>\n",
       "      <th>delivered_date</th>\n",
       "      <th>first_sale_date</th>\n",
       "      <th>second_sale_date</th>\n",
       "      <th>has_marketplace</th>\n",
       "      <th>has_crossdocking</th>\n",
       "      <th>has_private_label</th>\n",
       "      <th>has_brands</th>\n",
       "      <th>gmv</th>\n",
       "      <th>_merge</th>\n",
       "    </tr>\n",
       "  </thead>\n",
       "  <tbody>\n",
       "    <tr>\n",
       "      <th>0</th>\n",
       "      <td>1672</td>\n",
       "      <td>EXCHANGED</td>\n",
       "      <td>EXCHANGED</td>\n",
       "      <td>APP ANDROID</td>\n",
       "      <td>590541</td>\n",
       "      <td>30.0</td>\n",
       "      <td>female</td>\n",
       "      <td>são paulo</td>\n",
       "      <td>NaN</td>\n",
       "      <td>20180811.0</td>\n",
       "      <td>20180621.0</td>\n",
       "      <td>20180708.0</td>\n",
       "      <td>1.0</td>\n",
       "      <td>0.0</td>\n",
       "      <td>0.0</td>\n",
       "      <td>0.0</td>\n",
       "      <td>79.90</td>\n",
       "      <td>both</td>\n",
       "    </tr>\n",
       "    <tr>\n",
       "      <th>1</th>\n",
       "      <td>20205</td>\n",
       "      <td>DIRECT</td>\n",
       "      <td>UNKNOWN</td>\n",
       "      <td>DESKTOP</td>\n",
       "      <td>37325554</td>\n",
       "      <td>61.0</td>\n",
       "      <td>female</td>\n",
       "      <td>paraná</td>\n",
       "      <td>20180516.0</td>\n",
       "      <td>20180509.0</td>\n",
       "      <td>20180503.0</td>\n",
       "      <td>NaN</td>\n",
       "      <td>0.0</td>\n",
       "      <td>0.0</td>\n",
       "      <td>0.0</td>\n",
       "      <td>1.0</td>\n",
       "      <td>160.00</td>\n",
       "      <td>both</td>\n",
       "    </tr>\n",
       "    <tr>\n",
       "      <th>2</th>\n",
       "      <td>32783</td>\n",
       "      <td>CRM - EMAIL</td>\n",
       "      <td>EMAIL_TRANSACIONAL</td>\n",
       "      <td>DESKTOP</td>\n",
       "      <td>75358614</td>\n",
       "      <td>26.0</td>\n",
       "      <td>female</td>\n",
       "      <td>rio grande do sul</td>\n",
       "      <td>20180705.0</td>\n",
       "      <td>20180618.0</td>\n",
       "      <td>20180511.0</td>\n",
       "      <td>20180511.0</td>\n",
       "      <td>0.0</td>\n",
       "      <td>1.0</td>\n",
       "      <td>0.0</td>\n",
       "      <td>0.0</td>\n",
       "      <td>119.90</td>\n",
       "      <td>both</td>\n",
       "    </tr>\n",
       "    <tr>\n",
       "      <th>3</th>\n",
       "      <td>32843</td>\n",
       "      <td>CRM - EMAIL</td>\n",
       "      <td>EMAIL_TRANSACIONAL</td>\n",
       "      <td>M+T SITE</td>\n",
       "      <td>4463800326</td>\n",
       "      <td>25.0</td>\n",
       "      <td>female</td>\n",
       "      <td>minas gerais</td>\n",
       "      <td>20181214.0</td>\n",
       "      <td>20181205.0</td>\n",
       "      <td>20181123.0</td>\n",
       "      <td>NaN</td>\n",
       "      <td>0.0</td>\n",
       "      <td>0.0</td>\n",
       "      <td>0.0</td>\n",
       "      <td>1.0</td>\n",
       "      <td>302.95</td>\n",
       "      <td>both</td>\n",
       "    </tr>\n",
       "    <tr>\n",
       "      <th>4</th>\n",
       "      <td>40115</td>\n",
       "      <td>CRM - EMAIL</td>\n",
       "      <td>EMAIL_TRANSACIONAL</td>\n",
       "      <td>DESKTOP</td>\n",
       "      <td>55346854</td>\n",
       "      <td>29.0</td>\n",
       "      <td>male</td>\n",
       "      <td>são paulo</td>\n",
       "      <td>20180509.0</td>\n",
       "      <td>20180502.0</td>\n",
       "      <td>20180428.0</td>\n",
       "      <td>NaN</td>\n",
       "      <td>0.0</td>\n",
       "      <td>0.0</td>\n",
       "      <td>0.0</td>\n",
       "      <td>1.0</td>\n",
       "      <td>99.00</td>\n",
       "      <td>both</td>\n",
       "    </tr>\n",
       "  </tbody>\n",
       "</table>\n",
       "</div>"
      ],
      "text/plain": [
       "   fk_customer      channel             partner       device  \\\n",
       "0         1672    EXCHANGED           EXCHANGED  APP ANDROID   \n",
       "1        20205       DIRECT             UNKNOWN      DESKTOP   \n",
       "2        32783  CRM - EMAIL  EMAIL_TRANSACIONAL      DESKTOP   \n",
       "3        32843  CRM - EMAIL  EMAIL_TRANSACIONAL     M+T SITE   \n",
       "4        40115  CRM - EMAIL  EMAIL_TRANSACIONAL      DESKTOP   \n",
       "\n",
       "   first_sale_number   age  gender              state  expected_delivery_date  \\\n",
       "0             590541  30.0  female          são paulo                     NaN   \n",
       "1           37325554  61.0  female             paraná              20180516.0   \n",
       "2           75358614  26.0  female  rio grande do sul              20180705.0   \n",
       "3         4463800326  25.0  female       minas gerais              20181214.0   \n",
       "4           55346854  29.0    male          são paulo              20180509.0   \n",
       "\n",
       "   delivered_date  first_sale_date  second_sale_date  has_marketplace  \\\n",
       "0      20180811.0       20180621.0        20180708.0              1.0   \n",
       "1      20180509.0       20180503.0               NaN              0.0   \n",
       "2      20180618.0       20180511.0        20180511.0              0.0   \n",
       "3      20181205.0       20181123.0               NaN              0.0   \n",
       "4      20180502.0       20180428.0               NaN              0.0   \n",
       "\n",
       "   has_crossdocking  has_private_label  has_brands     gmv _merge  \n",
       "0               0.0                0.0         0.0   79.90   both  \n",
       "1               0.0                0.0         1.0  160.00   both  \n",
       "2               1.0                0.0         0.0  119.90   both  \n",
       "3               0.0                0.0         1.0  302.95   both  \n",
       "4               0.0                0.0         1.0   99.00   both  "
      ]
     },
     "execution_count": 17,
     "metadata": {},
     "output_type": "execute_result"
    }
   ],
   "source": [
    "df.head()"
   ]
  },
  {
   "cell_type": "code",
   "execution_count": null,
   "metadata": {},
   "outputs": [],
   "source": [
    "df.groupby('_merge').size()"
   ]
  },
  {
   "cell_type": "code",
   "execution_count": null,
   "metadata": {},
   "outputs": [],
   "source": [
    "pd.concat([df.head(), df.tail()])"
   ]
  },
  {
   "cell_type": "code",
   "execution_count": null,
   "metadata": {},
   "outputs": [],
   "source": [
    "df = df[df['_merge'] == 'both'].copy()\n",
    "df.drop(['_merge'], axis='columns', inplace=True)"
   ]
  },
  {
   "cell_type": "code",
   "execution_count": null,
   "metadata": {
    "scrolled": true
   },
   "outputs": [],
   "source": [
    "df.info(memory_usage='deep')"
   ]
  },
  {
   "cell_type": "code",
   "execution_count": null,
   "metadata": {
    "scrolled": true
   },
   "outputs": [],
   "source": [
    "pd.concat([df.head(), df.tail()])"
   ]
  },
  {
   "cell_type": "markdown",
   "metadata": {},
   "source": [
    "#### Estudo da distribuição da segunda compra por Partner"
   ]
  },
  {
   "cell_type": "code",
   "execution_count": null,
   "metadata": {},
   "outputs": [],
   "source": [
    "df_second_sale = df[df['second_sale_date'].notnull()]"
   ]
  },
  {
   "cell_type": "code",
   "execution_count": null,
   "metadata": {
    "scrolled": true
   },
   "outputs": [],
   "source": [
    "df_partners = df_second_sale.groupby('partner').size().reset_index(name='counts').sort_values(by=['counts'],ascending=False)"
   ]
  },
  {
   "cell_type": "code",
   "execution_count": null,
   "metadata": {},
   "outputs": [],
   "source": [
    "df_partners['sum'] = df_partners['counts'].cumsum()"
   ]
  },
  {
   "cell_type": "code",
   "execution_count": null,
   "metadata": {},
   "outputs": [],
   "source": [
    "df_partners['perc'] = 100*df_partners['sum']/df_partners['counts'].sum()"
   ]
  },
  {
   "cell_type": "code",
   "execution_count": null,
   "metadata": {},
   "outputs": [],
   "source": [
    "df_partners['partners_new'] = np.where(df_partners['perc']<90, df_partners['partner'], 'OTHER')"
   ]
  },
  {
   "cell_type": "code",
   "execution_count": null,
   "metadata": {},
   "outputs": [],
   "source": [
    "df_partners_map = df_partners[['partner','partners_new']].copy()"
   ]
  },
  {
   "cell_type": "code",
   "execution_count": null,
   "metadata": {},
   "outputs": [],
   "source": [
    "df_test = pd.merge(df, df_partners_map, on='partner', how='outer', indicator=True)"
   ]
  },
  {
   "cell_type": "code",
   "execution_count": null,
   "metadata": {
    "scrolled": true
   },
   "outputs": [],
   "source": [
    "df_test.head()"
   ]
  },
  {
   "cell_type": "code",
   "execution_count": null,
   "metadata": {},
   "outputs": [],
   "source": [
    "df_test = df_test[df_test['_merge'] == 'both'].copy()\n",
    "df_test.drop(['_merge'], axis='columns', inplace=True)\n",
    "df_test.drop(['partner'], axis='columns', inplace=True)"
   ]
  },
  {
   "cell_type": "code",
   "execution_count": null,
   "metadata": {},
   "outputs": [],
   "source": [
    "df_test.head()"
   ]
  },
  {
   "cell_type": "code",
   "execution_count": null,
   "metadata": {},
   "outputs": [],
   "source": [
    "del(df_first_order)\n",
    "#del(df_categories_share)\n",
    "del(df_categories)"
   ]
  },
  {
   "cell_type": "code",
   "execution_count": null,
   "metadata": {},
   "outputs": [],
   "source": [
    "def date_str_to_date(date_str):\n",
    "    try:\n",
    "        date_str = dt.datetime.strptime(date_str,'%Y%m%d')\n",
    "    except:\n",
    "        return None\n",
    "    return date_str\n",
    "\n",
    "def date_to_char(date_float):\n",
    "    return str(date_float).replace('.0','')\n",
    "\n",
    "def remove_accents(string_text):\n",
    "    normal = str(unicodedata.normalize('NFKD', string_text).encode('ASCII', 'ignore'))\n",
    "    normal = normal.replace(\"b'\",\"\")\n",
    "    normal = normal.replace(\"'\",\"\")\n",
    "    return normal\n",
    "\n",
    "def age_grouping(integer_age):\n",
    "    if integer_age <= 18:\n",
    "        age_group = \"<18\"\n",
    "    elif integer_age <= 35:\n",
    "        age_group = \"18-35\"\n",
    "    elif integer_age <= 55:\n",
    "        age_group = \"35-55\"\n",
    "    else:\n",
    "        age_group = \"55+\"\n",
    "    return age_group\n",
    "\n",
    "def timedelta_to_int(timedelta):\n",
    "    return timedelta.days\n",
    "\n",
    "def gmv_group_woe(gmv_float):\n",
    "    if gmv_float <= 75:\n",
    "        gmv_group = '0-75'\n",
    "    elif gmv_float <= 100:\n",
    "        gmv_group = '75-100'\n",
    "    elif gmv_float <= 135:\n",
    "        gmv_group = '100-135'\n",
    "    elif gmv_float <= 155:\n",
    "        gmv_group = '135-155'\n",
    "    elif gmv_float <= 185:\n",
    "        gmv_group = '155-185'\n",
    "    elif gmv_float <= 200:\n",
    "        gmv_group = '185-200'\n",
    "    elif gmv_float <= 245:\n",
    "        gmv_group = '200-245'\n",
    "    elif gmv_float <= 335:\n",
    "        gmv_group = '245-335'\n",
    "    else:\n",
    "        gmv_group = '335+'\n",
    "    return gmv_group\n",
    "\n",
    "def age_group_woe(age_float):\n",
    "    if age_float <= 22.0:\n",
    "        age_group = '0-22'\n",
    "    elif age_float <= 24.0:\n",
    "        age_group = '22-24'\n",
    "    elif age_float <= 27.0:\n",
    "        age_group = '24-27'\n",
    "    elif age_float <= 32.0:\n",
    "        age_group = '27-32'\n",
    "    elif age_float <= 43.0:\n",
    "        age_group = '32-43'\n",
    "    elif age_float <= 51.0:\n",
    "        age_group = '43-51'\n",
    "    else:\n",
    "        age_group = '51+'\n",
    "    return age_group\n",
    "\n",
    "def state_group_woe(state):\n",
    "    if (state == 'roraima' or state == 'rio de janeiro' or state == 'rondonia'):\n",
    "        state_grouped = 'Group 1'\n",
    "    elif (state == 'ceara' or state == 'santa catarina' or state == 'minas gerais' or state == 'mato grosso do sul' or state == 'tocantins'):\n",
    "        state_grouped = 'Group 2'\n",
    "    elif (state == 'paraiba' or state == 'rio grande do norte' or state == 'rio grande do sul'):\n",
    "        state_grouped = 'Group 3'\n",
    "    elif (state == 'espirito santo' or state == 'amapa'):\n",
    "        state_grouped = 'Group 4'\n",
    "    elif (state == 'sao paulo' or state == 'piaui' or state == 'acre' or state == 'sergipe'):\n",
    "        state_grouped = 'Group 5'\n",
    "    elif (state == 'parana' or state == 'pernambuco' or state == 'goias'):\n",
    "        state_grouped = 'Group 6'\n",
    "    elif (state == 'bahia' or state == 'distrito federal' or state == 'alagoas' or state == 'amazonas' or state == 'para'):\n",
    "        state_grouped = 'Group 7'\n",
    "    else:\n",
    "        state_grouped = 'Group 8'\n",
    "    return state_grouped\n",
    "\n",
    "def chance_when_bought(row):\n",
    "    return row[2].y[row[1]]\n"
   ]
  },
  {
   "cell_type": "code",
   "execution_count": null,
   "metadata": {},
   "outputs": [],
   "source": [
    "df_backup = df.copy()"
   ]
  },
  {
   "cell_type": "code",
   "execution_count": null,
   "metadata": {},
   "outputs": [],
   "source": [
    "df = df_test.copy()"
   ]
  },
  {
   "cell_type": "code",
   "execution_count": null,
   "metadata": {},
   "outputs": [],
   "source": [
    "df = df[df['gender'].notnull()]"
   ]
  },
  {
   "cell_type": "code",
   "execution_count": null,
   "metadata": {},
   "outputs": [],
   "source": [
    "len(df)"
   ]
  },
  {
   "cell_type": "code",
   "execution_count": null,
   "metadata": {},
   "outputs": [],
   "source": [
    "df.loc[:, 'first_sale_date'] = df['first_sale_date'].apply(date_to_char)\n",
    "df['second_sale_date'] = df['second_sale_date'].apply(date_to_char)"
   ]
  },
  {
   "cell_type": "code",
   "execution_count": null,
   "metadata": {},
   "outputs": [],
   "source": [
    "df['first_sale_date'] = df['first_sale_date'].apply(date_str_to_date)\n",
    "df['second_sale_date'] = df['second_sale_date'].apply(date_str_to_date)"
   ]
  },
  {
   "cell_type": "code",
   "execution_count": null,
   "metadata": {},
   "outputs": [],
   "source": [
    "df['delta'] = (df['second_sale_date'] - df['first_sale_date'])\n",
    "df['age_grouped'] = df['age'].apply(age_group_woe)\n",
    "df['state'] = df['state'].apply(remove_accents)"
   ]
  },
  {
   "cell_type": "code",
   "execution_count": null,
   "metadata": {
    "scrolled": true
   },
   "outputs": [],
   "source": [
    "df['status'] = df['delta'].notnull()\n",
    "df['second_sale_date']= df['second_sale_date'].fillna(dt.date.today())\n",
    "df['delta'] = (df['second_sale_date'] - df['first_sale_date'])"
   ]
  },
  {
   "cell_type": "code",
   "execution_count": null,
   "metadata": {},
   "outputs": [],
   "source": [
    "df['state_grouped'] = df['state'].apply(state_group_woe)"
   ]
  },
  {
   "cell_type": "code",
   "execution_count": null,
   "metadata": {
    "scrolled": false
   },
   "outputs": [],
   "source": [
    "pd.concat([df.head(), df.tail()])"
   ]
  },
  {
   "cell_type": "markdown",
   "metadata": {},
   "source": [
    "#### Agrupamento de GMV usando WOE"
   ]
  },
  {
   "cell_type": "code",
   "execution_count": null,
   "metadata": {
    "scrolled": true
   },
   "outputs": [],
   "source": [
    "df['gmv'].describe(percentiles=[.1,.2,.3,.4,.5,.6,.7,.8,.9])"
   ]
  },
  {
   "cell_type": "code",
   "execution_count": null,
   "metadata": {},
   "outputs": [],
   "source": [
    "df['gmv_grouped'] = df['gmv'].apply(gmv_group_woe)"
   ]
  },
  {
   "cell_type": "code",
   "execution_count": null,
   "metadata": {},
   "outputs": [],
   "source": [
    "df_gmv_grouped = df.groupby(['gmv_grouped','status'])"
   ]
  },
  {
   "cell_type": "code",
   "execution_count": null,
   "metadata": {},
   "outputs": [],
   "source": [
    "df_aux = pd.DataFrame(df_gmv_grouped.size()).reset_index()"
   ]
  },
  {
   "cell_type": "code",
   "execution_count": null,
   "metadata": {},
   "outputs": [],
   "source": [
    "df_success = pd.DataFrame(df_aux[df_aux['status']==True].copy())\n",
    "df_success.rename(columns={0:'success'}, inplace=True)\n",
    "df_success.drop(['status'], axis='columns', inplace=True)\n",
    "df_success.reset_index()\n",
    "\n",
    "df_nonsuccess = pd.DataFrame(df_aux[df_aux['status']==False].copy())\n",
    "df_nonsuccess.rename(columns={0:'nonsuccess'}, inplace=True)\n",
    "df_nonsuccess.drop(['status'], axis='columns', inplace=True)\n",
    "df_nonsuccess.reset_index()\n"
   ]
  },
  {
   "cell_type": "code",
   "execution_count": null,
   "metadata": {},
   "outputs": [],
   "source": [
    "df_test = pd.merge(df_success, df_nonsuccess, on='gmv_grouped', how='outer')"
   ]
  },
  {
   "cell_type": "code",
   "execution_count": null,
   "metadata": {},
   "outputs": [],
   "source": [
    "df_test['success'] = df_test['success'].astype(float)\n",
    "df_test['nonsuccess'] = df_test['nonsuccess'].astype(float)"
   ]
  },
  {
   "cell_type": "code",
   "execution_count": null,
   "metadata": {},
   "outputs": [],
   "source": [
    "df_test['succ/nonsucc'] = df_test['success']/df_test['nonsuccess']\n",
    "df_test['woe'] = df_test['succ/nonsucc'].apply(math.log)\n",
    "df_test['iv'] = ((df_test['success']/(df_test['success']+df_test['nonsuccess']))-(df_test['nonsuccess']/(df_test['success']+df_test['nonsuccess'])))*df_test['woe']"
   ]
  },
  {
   "cell_type": "code",
   "execution_count": null,
   "metadata": {},
   "outputs": [],
   "source": [
    "df_test"
   ]
  },
  {
   "cell_type": "markdown",
   "metadata": {
    "scrolled": true
   },
   "source": [
    "#### Agrupamento de idade usando WOE"
   ]
  },
  {
   "cell_type": "code",
   "execution_count": null,
   "metadata": {},
   "outputs": [],
   "source": [
    "df['age'].describe(percentiles=[.1,.2,.3,.4,.5,.6,.7,.8,.9])"
   ]
  },
  {
   "cell_type": "code",
   "execution_count": null,
   "metadata": {
    "scrolled": true
   },
   "outputs": [],
   "source": [
    "df['age_grouped'] = df['age'].apply(age_group_woe)"
   ]
  },
  {
   "cell_type": "code",
   "execution_count": null,
   "metadata": {},
   "outputs": [],
   "source": [
    "df_age_grouped = df.groupby(['age_grouped','status'])"
   ]
  },
  {
   "cell_type": "code",
   "execution_count": null,
   "metadata": {},
   "outputs": [],
   "source": [
    "df_aux = pd.DataFrame(df_age_grouped.size()).reset_index()"
   ]
  },
  {
   "cell_type": "code",
   "execution_count": null,
   "metadata": {},
   "outputs": [],
   "source": [
    "df_success = pd.DataFrame(df_aux[df_aux['status']==True].copy())\n",
    "df_success.rename(columns={0:'success'}, inplace=True)\n",
    "df_success.drop(['status'], axis='columns', inplace=True)\n",
    "df_success.reset_index()\n",
    "\n",
    "df_nonsuccess = pd.DataFrame(df_aux[df_aux['status']==False].copy())\n",
    "df_nonsuccess.rename(columns={0:'nonsuccess'}, inplace=True)\n",
    "df_nonsuccess.drop(['status'], axis='columns', inplace=True)\n",
    "df_nonsuccess.reset_index()\n"
   ]
  },
  {
   "cell_type": "code",
   "execution_count": null,
   "metadata": {},
   "outputs": [],
   "source": [
    "df_test = pd.merge(df_success, df_nonsuccess, on='age_grouped', how='outer')"
   ]
  },
  {
   "cell_type": "code",
   "execution_count": null,
   "metadata": {},
   "outputs": [],
   "source": [
    "df_test['success'] = df_test['success'].astype(float)\n",
    "df_test['nonsuccess'] = df_test['nonsuccess'].astype(float)"
   ]
  },
  {
   "cell_type": "code",
   "execution_count": null,
   "metadata": {},
   "outputs": [],
   "source": [
    "df_test['succ/nonsucc'] = df_test['success']/df_test['nonsuccess']\n",
    "df_test['woe'] = df_test['succ/nonsucc'].apply(math.log)\n",
    "df_test['iv'] = ((df_test['success']/(df_test['success']+df_test['nonsuccess']))-(df_test['nonsuccess']/(df_test['success']+df_test['nonsuccess'])))*df_test['woe']"
   ]
  },
  {
   "cell_type": "code",
   "execution_count": null,
   "metadata": {},
   "outputs": [],
   "source": [
    "df_test"
   ]
  },
  {
   "cell_type": "markdown",
   "metadata": {},
   "source": [
    "#### Agrupamento de estados usando WOE"
   ]
  },
  {
   "cell_type": "code",
   "execution_count": null,
   "metadata": {},
   "outputs": [],
   "source": [
    "df_state_grouped = df.groupby(['state','status'])"
   ]
  },
  {
   "cell_type": "code",
   "execution_count": null,
   "metadata": {},
   "outputs": [],
   "source": [
    "df_aux = pd.DataFrame(df_state_grouped.size()).reset_index()"
   ]
  },
  {
   "cell_type": "code",
   "execution_count": null,
   "metadata": {
    "scrolled": true
   },
   "outputs": [],
   "source": [
    "df_success = pd.DataFrame(df_aux[df_aux['status']==True].copy())\n",
    "df_success.rename(columns={0:'success'}, inplace=True)\n",
    "df_success.drop(['status'], axis='columns', inplace=True)\n",
    "df_success.reset_index()\n",
    "\n",
    "df_nonsuccess = pd.DataFrame(df_aux[df_aux['status']==False].copy())\n",
    "df_nonsuccess.rename(columns={0:'nonsuccess'}, inplace=True)\n",
    "df_nonsuccess.drop(['status'], axis='columns', inplace=True)\n",
    "df_nonsuccess.reset_index()\n"
   ]
  },
  {
   "cell_type": "code",
   "execution_count": null,
   "metadata": {},
   "outputs": [],
   "source": [
    "df_test = pd.merge(df_success, df_nonsuccess, on='state', how='outer')"
   ]
  },
  {
   "cell_type": "code",
   "execution_count": null,
   "metadata": {},
   "outputs": [],
   "source": [
    "df_test['success'] = df_test['success'].astype(float)\n",
    "df_test['nonsuccess'] = df_test['nonsuccess'].astype(float)"
   ]
  },
  {
   "cell_type": "code",
   "execution_count": null,
   "metadata": {},
   "outputs": [],
   "source": [
    "df_test['succ/nonsucc'] = df_test['success']/df_test['nonsuccess']\n",
    "df_test['woe'] = df_test['succ/nonsucc'].apply(math.log)\n",
    "df_test['iv'] = ((df_test['success']/(df_test['success']+df_test['nonsuccess']))-(df_test['nonsuccess']/(df_test['success']+df_test['nonsuccess'])))*df_test['woe']"
   ]
  },
  {
   "cell_type": "code",
   "execution_count": null,
   "metadata": {
    "scrolled": true
   },
   "outputs": [],
   "source": [
    "df_test.sort_values(by=['iv'], ascending=False)"
   ]
  },
  {
   "cell_type": "markdown",
   "metadata": {},
   "source": [
    "#### Aplicação do algoritmo"
   ]
  },
  {
   "cell_type": "code",
   "execution_count": null,
   "metadata": {},
   "outputs": [],
   "source": [
    "df.columns"
   ]
  },
  {
   "cell_type": "code",
   "execution_count": null,
   "metadata": {},
   "outputs": [],
   "source": [
    "desired_columns = ['fk_customer', 'channel', 'partners_new', 'device',\n",
    "                   'age_grouped', 'gender', 'has_marketplace',\n",
    "       'has_crossdocking', 'has_private_label', 'has_brands', 'state_grouped', 'gmv_grouped']"
   ]
  },
  {
   "cell_type": "code",
   "execution_count": null,
   "metadata": {},
   "outputs": [],
   "source": [
    "categorical_columns = ['channel', 'partners_new', 'device', 'age_grouped', 'gender', 'state_grouped', 'gmv_grouped']"
   ]
  },
  {
   "cell_type": "code",
   "execution_count": null,
   "metadata": {},
   "outputs": [],
   "source": [
    "y_columns = ['status', 'delta']"
   ]
  },
  {
   "cell_type": "code",
   "execution_count": null,
   "metadata": {},
   "outputs": [],
   "source": [
    "used_columns = desired_columns + y_columns"
   ]
  },
  {
   "cell_type": "code",
   "execution_count": null,
   "metadata": {
    "scrolled": true
   },
   "outputs": [],
   "source": [
    "data_x = df[desired_columns].copy()\n",
    "data_x = data_x.set_index('fk_customer')\n",
    "for i in categorical_columns:\n",
    "    data_x[i] = data_x[i].astype('category')\n",
    "data_x_numeric = OneHotEncoder().fit_transform(data_x)"
   ]
  },
  {
   "cell_type": "code",
   "execution_count": null,
   "metadata": {},
   "outputs": [],
   "source": [
    "data_y_df = df[y_columns].copy()\n",
    "data_y_df['delta'] = data_y_df['delta'].apply(timedelta_to_int)\n",
    "data_y_df['delta'] = data_y_df['delta']/7\n",
    "data_y_df['delta'] = data_y_df['delta'].apply(math.ceil)"
   ]
  },
  {
   "cell_type": "code",
   "execution_count": null,
   "metadata": {},
   "outputs": [],
   "source": [
    "data_y = data_y_df.to_records(index=False)"
   ]
  },
  {
   "cell_type": "code",
   "execution_count": null,
   "metadata": {
    "scrolled": false
   },
   "outputs": [],
   "source": [
    "data_x_numeric.isnull().values.any()"
   ]
  },
  {
   "cell_type": "code",
   "execution_count": null,
   "metadata": {},
   "outputs": [],
   "source": [
    "data_x_numeric = data_x_numeric.reset_index()\n",
    "data_x_numeric.set_index('fk_customer', inplace=True)"
   ]
  },
  {
   "cell_type": "code",
   "execution_count": null,
   "metadata": {},
   "outputs": [],
   "source": [
    "data_x_numeric.head()"
   ]
  },
  {
   "cell_type": "code",
   "execution_count": null,
   "metadata": {},
   "outputs": [],
   "source": [
    "pd.concat([data_y_df.head(), data_y_df.tail()])"
   ]
  },
  {
   "cell_type": "code",
   "execution_count": null,
   "metadata": {},
   "outputs": [],
   "source": [
    "x_train, x_test, y_train, y_test = train_test_split(data_x_numeric, data_y, test_size=0.33, random_state=42)"
   ]
  },
  {
   "cell_type": "code",
   "execution_count": null,
   "metadata": {},
   "outputs": [],
   "source": [
    "x_train, x_train_small, y_train, y_train_small = train_test_split(x_train, y_train, test_size=0.09, random_state=105)"
   ]
  },
  {
   "cell_type": "code",
   "execution_count": null,
   "metadata": {},
   "outputs": [],
   "source": [
    "estimator = CoxPHSurvivalAnalysis()\n",
    "estimator.fit(x_train, y_train)"
   ]
  },
  {
   "cell_type": "code",
   "execution_count": null,
   "metadata": {},
   "outputs": [],
   "source": [
    "pd.Series(estimator.coef_, index=x_train.columns).sort_values(ascending=True)"
   ]
  },
  {
   "cell_type": "code",
   "execution_count": null,
   "metadata": {},
   "outputs": [],
   "source": [
    "#prediction = estimator.predict(x_test)\n",
    "#result = concordance_index_censored(y_test['status'], y_test['delta'], prediction)\n",
    "#result[0]\n",
    "estimator.score(x_train_small, y_train_small)"
   ]
  },
  {
   "cell_type": "code",
   "execution_count": null,
   "metadata": {
    "scrolled": true
   },
   "outputs": [],
   "source": [
    "x_sample = x_test.sample(n=5)\n",
    "pred_surv = estimator.predict_survival_function(x_sample)\n",
    "for i, c in enumerate(pred_surv):\n",
    "    plt.step(c.x, c.y, where=\"post\", label=\"Sample %d\" % (i + 1))\n",
    "plt.ylabel(\"est. probability of survival $\\hat{S}(t)$\")\n",
    "plt.xlabel(\"time $t$\")\n",
    "plt.legend(loc=\"best\")"
   ]
  },
  {
   "cell_type": "code",
   "execution_count": null,
   "metadata": {},
   "outputs": [],
   "source": [
    "pred_surv_full = estimator.predict_survival_function(x_test)"
   ]
  },
  {
   "cell_type": "code",
   "execution_count": null,
   "metadata": {},
   "outputs": [],
   "source": [
    "y_test = pd.DataFrame(y_test)"
   ]
  },
  {
   "cell_type": "code",
   "execution_count": null,
   "metadata": {},
   "outputs": [],
   "source": [
    "y_test['function'] = pred_surv_full"
   ]
  },
  {
   "cell_type": "code",
   "execution_count": null,
   "metadata": {},
   "outputs": [],
   "source": [
    "y_validation = y_test[y_test['status'] == True]"
   ]
  },
  {
   "cell_type": "code",
   "execution_count": null,
   "metadata": {
    "scrolled": true
   },
   "outputs": [],
   "source": [
    "#y_validation['function'][3].y[y_validation['delta'][3]]\n",
    "#y_validation['function'][3].y[y_validation['delta'][3]]\n",
    "#y_validation['%_sale'] = y_validation['function'].y[y_validation['delta']]\n",
    "\n",
    "y_validation['%_survive'] = y_validation.apply(chance_when_bought,axis=1)"
   ]
  },
  {
   "cell_type": "code",
   "execution_count": null,
   "metadata": {},
   "outputs": [],
   "source": [
    "y_validation['%_survive'].describe(percentiles=[.1,.2,.3,.4,.5,.6,.7,.8,.9])"
   ]
  },
  {
   "cell_type": "code",
   "execution_count": null,
   "metadata": {},
   "outputs": [],
   "source": [
    "dict_aux = {'W1':[],'W4':[],'W9':[],'W13':[],'W26':[],'W52':[]}\n",
    "for i in pred_surv_full:\n",
    "    dict_aux['W1'].append(i.y[0])\n",
    "    dict_aux['W4'].append(i.y[3])\n",
    "    dict_aux['W9'].append(i.y[8])\n",
    "    dict_aux['W13'].append(i.y[12])\n",
    "    dict_aux['W26'].append(i.y[25])\n",
    "    dict_aux['W52'].append(i.y[51])\n",
    "df_results = pd.DataFrame(dict_aux)\n"
   ]
  },
  {
   "cell_type": "code",
   "execution_count": null,
   "metadata": {},
   "outputs": [],
   "source": [
    "for i in df_results.columns:\n",
    "    print(i)\n",
    "    print(df_results[i].describe(percentiles=[.1,.2,.3,.4,.5,.6,.7,.8,.9]))\n",
    "    print()"
   ]
  },
  {
   "cell_type": "code",
   "execution_count": null,
   "metadata": {},
   "outputs": [],
   "source": [
    "df_result_w9 = pd.DataFrame(df_results['W9'].copy())\n",
    "df_result_w9.head()"
   ]
  },
  {
   "cell_type": "code",
   "execution_count": null,
   "metadata": {},
   "outputs": [],
   "source": [
    "y_validation_w9 = y_validation[y_validation['delta'] >= 9]"
   ]
  },
  {
   "cell_type": "code",
   "execution_count": null,
   "metadata": {
    "scrolled": true
   },
   "outputs": [],
   "source": [
    "y_validation_w9['decile'] = pd.qcut(y_validation_w9['%_survive'], 10, labels=False)"
   ]
  },
  {
   "cell_type": "code",
   "execution_count": null,
   "metadata": {},
   "outputs": [],
   "source": [
    "y_validation_w9.head()"
   ]
  },
  {
   "cell_type": "code",
   "execution_count": null,
   "metadata": {},
   "outputs": [],
   "source": [
    "y_validation_w9['convert_w9'] = np.where(y_validation_w9['delta']<=9, 1, 0)"
   ]
  },
  {
   "cell_type": "code",
   "execution_count": null,
   "metadata": {},
   "outputs": [],
   "source": [
    "y_validation_w9_grouped = y_validation_w9.groupby(['decile'])['convert_w9'].sum()"
   ]
  },
  {
   "cell_type": "code",
   "execution_count": null,
   "metadata": {},
   "outputs": [],
   "source": [
    "y_validation_w9_grouped"
   ]
  },
  {
   "cell_type": "code",
   "execution_count": null,
   "metadata": {},
   "outputs": [],
   "source": [
    "y_validation_w9_prob = y_validation_w9.groupby(['decile'])['%_survive'].mean()"
   ]
  },
  {
   "cell_type": "code",
   "execution_count": null,
   "metadata": {},
   "outputs": [],
   "source": [
    "y_validation_w9_prob"
   ]
  },
  {
   "attachments": {
    "image.png": {
     "image/png": "[encoded data removed]"
    }
   },
   "cell_type": "markdown",
   "metadata": {},
   "source": [
    "![image.png](attachment:image.png)"
   ]
  },
  {
   "cell_type": "markdown",
   "metadata": {},
   "source": [
    "##### Testando relevância de features isoladas"
   ]
  },
  {
   "cell_type": "code",
   "execution_count": null,
   "metadata": {
    "scrolled": true
   },
   "outputs": [],
   "source": [
    "isinstance(x_train_small, pd.DataFrame)"
   ]
  },
  {
   "cell_type": "code",
   "execution_count": null,
   "metadata": {},
   "outputs": [],
   "source": [
    "def fit_and_score_features(x, y):\n",
    "    X = x.values\n",
    "    n_features = X.shape[1]\n",
    "    scores = np.zeros(n_features)\n",
    "    m = CoxPHSurvivalAnalysis()\n",
    "    \n",
    "    ## Algumas features geram um erro de Singular Matrix (matrizes quadradas sem inversa)\n",
    "    for j in range(n_features):\n",
    "        Xj = X[:, j:j+1]\n",
    "        try:\n",
    "            m.fit(Xj, y)\n",
    "            scores[j] = m.score(Xj, y)\n",
    "        except:\n",
    "            pass\n",
    "        print(j, x.columns.tolist()[j], scores[j])\n",
    "    return scores"
   ]
  },
  {
   "cell_type": "code",
   "execution_count": null,
   "metadata": {
    "scrolled": true
   },
   "outputs": [],
   "source": [
    "scores = fit_and_score_features(x_train_small, y_train_small)"
   ]
  },
  {
   "cell_type": "code",
   "execution_count": null,
   "metadata": {
    "scrolled": true
   },
   "outputs": [],
   "source": [
    "pd.Series(scores, index=x_train.columns).sort_values(ascending=False)"
   ]
  },
  {
   "cell_type": "markdown",
   "metadata": {},
   "source": [
    "##### Testando combinações de features"
   ]
  },
  {
   "cell_type": "code",
   "execution_count": null,
   "metadata": {},
   "outputs": [],
   "source": [
    "def fit_and_score_features(X, y):\n",
    "    n_features = X.shape[1]\n",
    "    scores = np.zeros(n_features)\n",
    "    m = CoxPHSurvivalAnalysis()\n",
    "    for j in range(n_features):\n",
    "        #print(j)\n",
    "        Xj = X[:, j:j+1]\n",
    "        try:\n",
    "            m.fit(Xj, y)\n",
    "            scores[j] = m.score(Xj, y)\n",
    "        except:\n",
    "            pass\n",
    "    print(scores)\n",
    "    return scores"
   ]
  },
  {
   "cell_type": "code",
   "execution_count": null,
   "metadata": {},
   "outputs": [],
   "source": [
    "data_x_modified = data_x.copy()\n",
    "data_x_modified['status'] = data_y['status']\n",
    "data_x_modified['delta'] = data_y['delta']"
   ]
  },
  {
   "cell_type": "code",
   "execution_count": null,
   "metadata": {},
   "outputs": [],
   "source": [
    "data_x_sample = data_x_modified.sample(10000)"
   ]
  },
  {
   "cell_type": "code",
   "execution_count": null,
   "metadata": {
    "scrolled": true
   },
   "outputs": [],
   "source": [
    "data_x_sample"
   ]
  },
  {
   "cell_type": "code",
   "execution_count": null,
   "metadata": {},
   "outputs": [],
   "source": [
    "data_y_sample = data_x_sample[y_columns].to_records(index=False)"
   ]
  },
  {
   "cell_type": "code",
   "execution_count": null,
   "metadata": {},
   "outputs": [],
   "source": [
    "data_x_sample.drop(y_columns,axis='columns',inplace=True)"
   ]
  },
  {
   "cell_type": "code",
   "execution_count": null,
   "metadata": {},
   "outputs": [],
   "source": [
    "from sklearn.feature_selection import SelectKBest\n",
    "from sklearn.pipeline import Pipeline\n",
    "\n",
    "pipe = Pipeline([('encode', OneHotEncoder()),\n",
    "                 ('select', SelectKBest(fit_and_score_features, k=3)),\n",
    "                 ('model', CoxPHSurvivalAnalysis())])"
   ]
  },
  {
   "cell_type": "code",
   "execution_count": null,
   "metadata": {},
   "outputs": [],
   "source": [
    "from sklearn.model_selection import GridSearchCV\n",
    "\n",
    "param_grid = {'select__k': np.arange(1, data_x_numeric.shape[1] + 1)}\n",
    "gcv = GridSearchCV(pipe, param_grid, return_train_score=True)"
   ]
  },
  {
   "cell_type": "code",
   "execution_count": null,
   "metadata": {
    "scrolled": true
   },
   "outputs": [],
   "source": [
    "gcv.fit(data_x_sample, data_y_sample)"
   ]
  },
  {
   "cell_type": "code",
   "execution_count": null,
   "metadata": {},
   "outputs": [],
   "source": [
    "pd.DataFrame(gcv.cv_results_).sort_values(by='mean_test_score', ascending=False)"
   ]
  },
  {
   "cell_type": "code",
   "execution_count": null,
   "metadata": {},
   "outputs": [],
   "source": [
    "df_results = pd.DataFrame(gcv.cv_results_).sort_values(by='mean_test_score', ascending=False)\n",
    "df_results.to_pickle('df_results.pkl')"
   ]
  },
  {
   "cell_type": "code",
   "execution_count": null,
   "metadata": {},
   "outputs": [],
   "source": [
    "import pickle\n",
    "pickle.dump(gcv,open('grid_search_result.pkl','wb'))"
   ]
  },
  {
   "cell_type": "code",
   "execution_count": null,
   "metadata": {},
   "outputs": [],
   "source": [
    "gcv.best_params_"
   ]
  },
  {
   "cell_type": "code",
   "execution_count": null,
   "metadata": {
    "scrolled": true
   },
   "outputs": [],
   "source": [
    "pipe.set_params(**gcv.best_params_)\n",
    "pipe.fit(data_x_sample, data_y_sample)\n",
    "\n",
    "encoder, transformer, final_estimator = [s[1] for s in pipe.steps]\n",
    "pd.Series(final_estimator.coef_, index=encoder.encoded_columns_[transformer.get_support()])"
   ]
  },
  {
   "cell_type": "code",
   "execution_count": null,
   "metadata": {},
   "outputs": [],
   "source": []
  }
 ],
 "metadata": {
  "kernelspec": {
   "display_name": "Python 3",
   "language": "python",
   "name": "python3"
  },
  "language_info": {
   "codemirror_mode": {
    "name": "ipython",
    "version": 3
   },
   "file_extension": ".py",
   "mimetype": "text/x-python",
   "name": "python",
   "nbconvert_exporter": "python",
   "pygments_lexer": "ipython3",
   "version": "3.6.8"
  }
 },
 "nbformat": 4,
 "nbformat_minor": 2
}
