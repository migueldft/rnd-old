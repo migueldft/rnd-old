{
 "cells": [
  {
   "cell_type": "code",
   "execution_count": 1,
   "metadata": {},
   "outputs": [],
   "source": [
    "import os\n",
    "from PIL import Image\n",
    "from time import time, sleep\n",
    "from concurrent.futures import ProcessPoolExecutor\n",
    "from tqdm.notebook import tqdm"
   ]
  },
  {
   "cell_type": "code",
   "execution_count": 2,
   "metadata": {},
   "outputs": [],
   "source": [
    "input_size = (75, 75)\n",
    "output_size = (20, 20)\n",
    "\n",
    "INPUT_PATH = './images_75x75/'\n",
    "OUTPUT_PATH = f'./images_{output_size[0]}x{output_size[1]}/'\n",
    "\n",
    "max_workers = 8\n",
    "chunksize = 100"
   ]
  },
  {
   "cell_type": "code",
   "execution_count": 3,
   "metadata": {},
   "outputs": [
    {
     "name": "stdout",
     "output_type": "stream",
     "text": [
      "Found 119272 files in input path\n",
      "Found 0 files in output path\n",
      "\n",
      "119272 files in input path are not in output path.\n",
      "119272 files will be resized.\n"
     ]
    }
   ],
   "source": [
    "files_names = os.listdir(INPUT_PATH)\n",
    "input_files = [os.path.join(INPUT_PATH,file) for file in files_names]\n",
    "output_files = [os.path.join(OUTPUT_PATH,file) for file in files_names]\n",
    "\n",
    "try:\n",
    "    os.mkdir(OUTPUT_PATH)\n",
    "except FileExistsError:\n",
    "    print('Directory already exists')\n",
    "output_already_exists = os.listdir(OUTPUT_PATH)\n",
    "\n",
    "filtered_input_files = []\n",
    "for file in files_names:\n",
    "    if file not in output_already_exists:\n",
    "        filtered_input_files.append(file)\n",
    "    \n",
    "print(f'Found {len(input_files)} files in input path')\n",
    "print(f'Found {len(output_already_exists)} files in output path')\n",
    "print(f'\\n{len(filtered_input_files)} files in input path are not in output path.\\n{len(filtered_input_files)} files will be resized.')"
   ]
  },
  {
   "cell_type": "code",
   "execution_count": 4,
   "metadata": {},
   "outputs": [],
   "source": [
    "def resize_image(input_file, output_file):\n",
    "    \n",
    "    try:\n",
    "        im = Image.open(input_file)\n",
    "    except:\n",
    "        print(f'Error opening {input_file}')\n",
    "        return -1\n",
    "    \n",
    "    if im.size != input_size:\n",
    "        print(f'Warning! File {input_file} is sized {im.size}')\n",
    "    try:\n",
    "        imr = im.resize(output_size, resample=Image.BILINEAR)\n",
    "    except:\n",
    "        print(f'Error resizing {input_file}')\n",
    "        return -2\n",
    "    \n",
    "    try:\n",
    "        imr.save(output_file)\n",
    "    except:\n",
    "        print(f'Error saving {output_file}')\n",
    "        return -3\n",
    "    else:    \n",
    "        return 1\n",
    "\n",
    "\n",
    "def split_in_chunks(input_files, output_files, chunksize):\n",
    "    assert len(input_files)==len(output_files)\n",
    "    ntotal = len(input_files)\n",
    "    ind = list(range(0,ntotal,chunksize)) + [ntotal]\n",
    "    input_files_chunks = [input_files[ind[i]:ind[i+1]] for i in range(len(ind)-1)]\n",
    "    output_files_chunks = [output_files[ind[i]:ind[i+1]] for i in range(len(ind)-1)]\n",
    "    return (input_files_chunks, output_files_chunks)"
   ]
  },
  {
   "cell_type": "code",
   "execution_count": 5,
   "metadata": {},
   "outputs": [
    {
     "data": {
      "application/vnd.jupyter.widget-view+json": {
       "model_id": "943cdb9b17f5490e8115760d97c8e21e",
       "version_major": 2,
       "version_minor": 0
      },
      "text/plain": [
       "HBox(children=(IntProgress(value=0, max=1193), HTML(value='')))"
      ]
     },
     "metadata": {},
     "output_type": "display_data"
    },
    {
     "name": "stdout",
     "output_type": "stream",
     "text": [
      "\n"
     ]
    }
   ],
   "source": [
    "input_files_chunks, output_files_chunks = split_in_chunks(input_files, output_files, chunksize)\n",
    "\n",
    "results = []\n",
    "for inp_f, out_f in tqdm(zip(input_files_chunks, output_files_chunks), total=len(input_files_chunks)):\n",
    "    with ProcessPoolExecutor(max_workers = max_workers) as pool:\n",
    "        res = pool.map(resize_image, inp_f, out_f)\n",
    "    results.append(list(res))    "
   ]
  },
  {
   "cell_type": "code",
   "execution_count": null,
   "metadata": {},
   "outputs": [],
   "source": []
  }
 ],
 "metadata": {
  "kernelspec": {
   "display_name": "Python 3",
   "language": "python",
   "name": "python3"
  },
  "language_info": {
   "codemirror_mode": {
    "name": "ipython",
    "version": 3
   },
   "file_extension": ".py",
   "mimetype": "text/x-python",
   "name": "python",
   "nbconvert_exporter": "python",
   "pygments_lexer": "ipython3",
   "version": "3.7.4"
  }
 },
 "nbformat": 4,
 "nbformat_minor": 2
}
