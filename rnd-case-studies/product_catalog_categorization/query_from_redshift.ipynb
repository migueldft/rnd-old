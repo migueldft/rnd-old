{
 "cells": [
  {
   "cell_type": "code",
   "execution_count": 1,
   "metadata": {},
   "outputs": [],
   "source": [
    "import redshift as rs"
   ]
  },
  {
   "cell_type": "code",
   "execution_count": 3,
   "metadata": {},
   "outputs": [],
   "source": [
    "query = \"\"\"\n",
    "    SELECT\n",
    "        id_product_config,\n",
    "        product_name,\n",
    "        product_description,\n",
    "        gender,\n",
    "        color,\n",
    "        brand,\n",
    "        original_price,\n",
    "        product_small_image,\n",
    "        product_large_image,\n",
    "        cmc_division,\n",
    "        box_weight,\n",
    "        box_length,\n",
    "        box_height,\n",
    "        box_width,\n",
    "        category_bob\n",
    "    FROM business_layer.dim_product_config\n",
    "    WHERE TRUE\n",
    "        AND (fk_company = 6 OR fk_company = 1)\n",
    "        AND is_market_place_in=0\n",
    "        AND category_bob IN (\n",
    "                'Camiseta',\n",
    "                'Tênis',\n",
    "                'Bermuda',\n",
    "                'Boné',\n",
    "                'Moletom',\n",
    "                'Blusa',\n",
    "                'Calça',\n",
    "                'Polo',\n",
    "                'Mochila',\n",
    "                'Óculos',\n",
    "                'Acessório de Vestuário',\n",
    "                'Camisa',\n",
    "                'Shorts',\n",
    "                'Casacos e Jaquetas',\n",
    "                'Meia',\n",
    "                'Roupa de Banho',\n",
    "                'Bota',\n",
    "                'Bagagem Pequena',\n",
    "                'Vestido',\n",
    "                'Chinelo'\n",
    "        )\n",
    "\"\"\""
   ]
  },
  {
   "cell_type": "code",
   "execution_count": 4,
   "metadata": {
    "scrolled": true
   },
   "outputs": [
    {
     "name": "stdout",
     "output_type": "stream",
     "text": [
      "Fetching credentials...  Done!\n",
      "Generating query... Done!\n",
      "Starting connection... Done!\n",
      "Executing query... Done!\n",
      "Downloading files from s3...\n",
      "download: s3://gfg-rnd-dev-us-east-1-dump/dafit-br-dump/rnd_redshift_getcsv/catalog_categorization_new_dataset_unload__1579625798/0000_part_00.gz to TEMP__catalog_categorization_new_dataset_unload__1579625798/0000_part_00.gz\n",
      "download: s3://gfg-rnd-dev-us-east-1-dump/dafit-br-dump/rnd_redshift_getcsv/catalog_categorization_new_dataset_unload__1579625798/0003_part_00.gz to TEMP__catalog_categorization_new_dataset_unload__1579625798/0003_part_00.gz\n",
      "download: s3://gfg-rnd-dev-us-east-1-dump/dafit-br-dump/rnd_redshift_getcsv/catalog_categorization_new_dataset_unload__1579625798/0002_part_00.gz to TEMP__catalog_categorization_new_dataset_unload__1579625798/0002_part_00.gz\n",
      "download: s3://gfg-rnd-dev-us-east-1-dump/dafit-br-dump/rnd_redshift_getcsv/catalog_categorization_new_dataset_unload__1579625798/0001_part_00.gz to TEMP__catalog_categorization_new_dataset_unload__1579625798/0001_part_00.gz\n",
      "download: s3://gfg-rnd-dev-us-east-1-dump/dafit-br-dump/rnd_redshift_getcsv/catalog_categorization_new_dataset_unload__1579625798/0005_part_00.gz to TEMP__catalog_categorization_new_dataset_unload__1579625798/0005_part_00.gz\n",
      "download: s3://gfg-rnd-dev-us-east-1-dump/dafit-br-dump/rnd_redshift_getcsv/catalog_categorization_new_dataset_unload__1579625798/0009_part_00.gz to TEMP__catalog_categorization_new_dataset_unload__1579625798/0009_part_00.gz\n",
      "download: s3://gfg-rnd-dev-us-east-1-dump/dafit-br-dump/rnd_redshift_getcsv/catalog_categorization_new_dataset_unload__1579625798/0008_part_00.gz to TEMP__catalog_categorization_new_dataset_unload__1579625798/0008_part_00.gz\n",
      "download: s3://gfg-rnd-dev-us-east-1-dump/dafit-br-dump/rnd_redshift_getcsv/catalog_categorization_new_dataset_unload__1579625798/0007_part_00.gz to TEMP__catalog_categorization_new_dataset_unload__1579625798/0007_part_00.gz\n",
      "download: s3://gfg-rnd-dev-us-east-1-dump/dafit-br-dump/rnd_redshift_getcsv/catalog_categorization_new_dataset_unload__1579625798/0010_part_00.gz to TEMP__catalog_categorization_new_dataset_unload__1579625798/0010_part_00.gz\n",
      "download: s3://gfg-rnd-dev-us-east-1-dump/dafit-br-dump/rnd_redshift_getcsv/catalog_categorization_new_dataset_unload__1579625798/0006_part_00.gz to TEMP__catalog_categorization_new_dataset_unload__1579625798/0006_part_00.gz\n",
      "download: s3://gfg-rnd-dev-us-east-1-dump/dafit-br-dump/rnd_redshift_getcsv/catalog_categorization_new_dataset_unload__1579625798/0011_part_00.gz to TEMP__catalog_categorization_new_dataset_unload__1579625798/0011_part_00.gz\n",
      "download: s3://gfg-rnd-dev-us-east-1-dump/dafit-br-dump/rnd_redshift_getcsv/catalog_categorization_new_dataset_unload__1579625798/0004_part_00.gz to TEMP__catalog_categorization_new_dataset_unload__1579625798/0004_part_00.gz\n",
      "download: s3://gfg-rnd-dev-us-east-1-dump/dafit-br-dump/rnd_redshift_getcsv/catalog_categorization_new_dataset_unload__1579625798/0013_part_00.gz to TEMP__catalog_categorization_new_dataset_unload__1579625798/0013_part_00.gz\n",
      "download: s3://gfg-rnd-dev-us-east-1-dump/dafit-br-dump/rnd_redshift_getcsv/catalog_categorization_new_dataset_unload__1579625798/0012_part_00.gz to TEMP__catalog_categorization_new_dataset_unload__1579625798/0012_part_00.gz\n",
      "download: s3://gfg-rnd-dev-us-east-1-dump/dafit-br-dump/rnd_redshift_getcsv/catalog_categorization_new_dataset_unload__1579625798/0014_part_00.gz to TEMP__catalog_categorization_new_dataset_unload__1579625798/0014_part_00.gz\n",
      "download: s3://gfg-rnd-dev-us-east-1-dump/dafit-br-dump/rnd_redshift_getcsv/catalog_categorization_new_dataset_unload__1579625798/0020_part_00.gz to TEMP__catalog_categorization_new_dataset_unload__1579625798/0020_part_00.gz\n",
      "download: s3://gfg-rnd-dev-us-east-1-dump/dafit-br-dump/rnd_redshift_getcsv/catalog_categorization_new_dataset_unload__1579625798/0016_part_00.gz to TEMP__catalog_categorization_new_dataset_unload__1579625798/0016_part_00.gz\n",
      "download: s3://gfg-rnd-dev-us-east-1-dump/dafit-br-dump/rnd_redshift_getcsv/catalog_categorization_new_dataset_unload__1579625798/0017_part_00.gz to TEMP__catalog_categorization_new_dataset_unload__1579625798/0017_part_00.gz\n",
      "download: s3://gfg-rnd-dev-us-east-1-dump/dafit-br-dump/rnd_redshift_getcsv/catalog_categorization_new_dataset_unload__1579625798/0015_part_00.gz to TEMP__catalog_categorization_new_dataset_unload__1579625798/0015_part_00.gz\n",
      "download: s3://gfg-rnd-dev-us-east-1-dump/dafit-br-dump/rnd_redshift_getcsv/catalog_categorization_new_dataset_unload__1579625798/0019_part_00.gz to TEMP__catalog_categorization_new_dataset_unload__1579625798/0019_part_00.gz\n",
      "download: s3://gfg-rnd-dev-us-east-1-dump/dafit-br-dump/rnd_redshift_getcsv/catalog_categorization_new_dataset_unload__1579625798/0018_part_00.gz to TEMP__catalog_categorization_new_dataset_unload__1579625798/0018_part_00.gz\n",
      "download: s3://gfg-rnd-dev-us-east-1-dump/dafit-br-dump/rnd_redshift_getcsv/catalog_categorization_new_dataset_unload__1579625798/0021_part_00.gz to TEMP__catalog_categorization_new_dataset_unload__1579625798/0021_part_00.gz\n",
      "download: s3://gfg-rnd-dev-us-east-1-dump/dafit-br-dump/rnd_redshift_getcsv/catalog_categorization_new_dataset_unload__1579625798/0023_part_00.gz to TEMP__catalog_categorization_new_dataset_unload__1579625798/0023_part_00.gz\n",
      "download: s3://gfg-rnd-dev-us-east-1-dump/dafit-br-dump/rnd_redshift_getcsv/catalog_categorization_new_dataset_unload__1579625798/0027_part_00.gz to TEMP__catalog_categorization_new_dataset_unload__1579625798/0027_part_00.gz\n",
      "download: s3://gfg-rnd-dev-us-east-1-dump/dafit-br-dump/rnd_redshift_getcsv/catalog_categorization_new_dataset_unload__1579625798/0028_part_00.gz to TEMP__catalog_categorization_new_dataset_unload__1579625798/0028_part_00.gz\n",
      "download: s3://gfg-rnd-dev-us-east-1-dump/dafit-br-dump/rnd_redshift_getcsv/catalog_categorization_new_dataset_unload__1579625798/0030_part_00.gz to TEMP__catalog_categorization_new_dataset_unload__1579625798/0030_part_00.gz\n",
      "download: s3://gfg-rnd-dev-us-east-1-dump/dafit-br-dump/rnd_redshift_getcsv/catalog_categorization_new_dataset_unload__1579625798/0022_part_00.gz to TEMP__catalog_categorization_new_dataset_unload__1579625798/0022_part_00.gz\n",
      "download: s3://gfg-rnd-dev-us-east-1-dump/dafit-br-dump/rnd_redshift_getcsv/catalog_categorization_new_dataset_unload__1579625798/0024_part_00.gz to TEMP__catalog_categorization_new_dataset_unload__1579625798/0024_part_00.gz\n",
      "download: s3://gfg-rnd-dev-us-east-1-dump/dafit-br-dump/rnd_redshift_getcsv/catalog_categorization_new_dataset_unload__1579625798/0029_part_00.gz to TEMP__catalog_categorization_new_dataset_unload__1579625798/0029_part_00.gz\n",
      "download: s3://gfg-rnd-dev-us-east-1-dump/dafit-br-dump/rnd_redshift_getcsv/catalog_categorization_new_dataset_unload__1579625798/0025_part_00.gz to TEMP__catalog_categorization_new_dataset_unload__1579625798/0025_part_00.gz\n",
      "download: s3://gfg-rnd-dev-us-east-1-dump/dafit-br-dump/rnd_redshift_getcsv/catalog_categorization_new_dataset_unload__1579625798/0032_part_00.gz to TEMP__catalog_categorization_new_dataset_unload__1579625798/0032_part_00.gz\n",
      "download: s3://gfg-rnd-dev-us-east-1-dump/dafit-br-dump/rnd_redshift_getcsv/catalog_categorization_new_dataset_unload__1579625798/0026_part_00.gz to TEMP__catalog_categorization_new_dataset_unload__1579625798/0026_part_00.gz\n",
      "download: s3://gfg-rnd-dev-us-east-1-dump/dafit-br-dump/rnd_redshift_getcsv/catalog_categorization_new_dataset_unload__1579625798/0033_part_00.gz to TEMP__catalog_categorization_new_dataset_unload__1579625798/0033_part_00.gz\n",
      "download: s3://gfg-rnd-dev-us-east-1-dump/dafit-br-dump/rnd_redshift_getcsv/catalog_categorization_new_dataset_unload__1579625798/0034_part_00.gz to TEMP__catalog_categorization_new_dataset_unload__1579625798/0034_part_00.gz\n",
      "download: s3://gfg-rnd-dev-us-east-1-dump/dafit-br-dump/rnd_redshift_getcsv/catalog_categorization_new_dataset_unload__1579625798/0035_part_00.gz to TEMP__catalog_categorization_new_dataset_unload__1579625798/0035_part_00.gz\n",
      "download: s3://gfg-rnd-dev-us-east-1-dump/dafit-br-dump/rnd_redshift_getcsv/catalog_categorization_new_dataset_unload__1579625798/0036_part_00.gz to TEMP__catalog_categorization_new_dataset_unload__1579625798/0036_part_00.gz\n",
      "download: s3://gfg-rnd-dev-us-east-1-dump/dafit-br-dump/rnd_redshift_getcsv/catalog_categorization_new_dataset_unload__1579625798/0038_part_00.gz to TEMP__catalog_categorization_new_dataset_unload__1579625798/0038_part_00.gz\n",
      "download: s3://gfg-rnd-dev-us-east-1-dump/dafit-br-dump/rnd_redshift_getcsv/catalog_categorization_new_dataset_unload__1579625798/0031_part_00.gz to TEMP__catalog_categorization_new_dataset_unload__1579625798/0031_part_00.gz\n",
      "download: s3://gfg-rnd-dev-us-east-1-dump/dafit-br-dump/rnd_redshift_getcsv/catalog_categorization_new_dataset_unload__1579625798/0040_part_00.gz to TEMP__catalog_categorization_new_dataset_unload__1579625798/0040_part_00.gz\n",
      "download: s3://gfg-rnd-dev-us-east-1-dump/dafit-br-dump/rnd_redshift_getcsv/catalog_categorization_new_dataset_unload__1579625798/0039_part_00.gz to TEMP__catalog_categorization_new_dataset_unload__1579625798/0039_part_00.gz\n",
      "download: s3://gfg-rnd-dev-us-east-1-dump/dafit-br-dump/rnd_redshift_getcsv/catalog_categorization_new_dataset_unload__1579625798/0037_part_00.gz to TEMP__catalog_categorization_new_dataset_unload__1579625798/0037_part_00.gz\n",
      "download: s3://gfg-rnd-dev-us-east-1-dump/dafit-br-dump/rnd_redshift_getcsv/catalog_categorization_new_dataset_unload__1579625798/0043_part_00.gz to TEMP__catalog_categorization_new_dataset_unload__1579625798/0043_part_00.gz\n",
      "download: s3://gfg-rnd-dev-us-east-1-dump/dafit-br-dump/rnd_redshift_getcsv/catalog_categorization_new_dataset_unload__1579625798/0044_part_00.gz to TEMP__catalog_categorization_new_dataset_unload__1579625798/0044_part_00.gz\n",
      "download: s3://gfg-rnd-dev-us-east-1-dump/dafit-br-dump/rnd_redshift_getcsv/catalog_categorization_new_dataset_unload__1579625798/0045_part_00.gz to TEMP__catalog_categorization_new_dataset_unload__1579625798/0045_part_00.gz\n",
      "download: s3://gfg-rnd-dev-us-east-1-dump/dafit-br-dump/rnd_redshift_getcsv/catalog_categorization_new_dataset_unload__1579625798/0041_part_00.gz to TEMP__catalog_categorization_new_dataset_unload__1579625798/0041_part_00.gz\n",
      "download: s3://gfg-rnd-dev-us-east-1-dump/dafit-br-dump/rnd_redshift_getcsv/catalog_categorization_new_dataset_unload__1579625798/0050_part_00.gz to TEMP__catalog_categorization_new_dataset_unload__1579625798/0050_part_00.gz\n",
      "download: s3://gfg-rnd-dev-us-east-1-dump/dafit-br-dump/rnd_redshift_getcsv/catalog_categorization_new_dataset_unload__1579625798/0046_part_00.gz to TEMP__catalog_categorization_new_dataset_unload__1579625798/0046_part_00.gz\n",
      "download: s3://gfg-rnd-dev-us-east-1-dump/dafit-br-dump/rnd_redshift_getcsv/catalog_categorization_new_dataset_unload__1579625798/0042_part_00.gz to TEMP__catalog_categorization_new_dataset_unload__1579625798/0042_part_00.gz\n",
      "download: s3://gfg-rnd-dev-us-east-1-dump/dafit-br-dump/rnd_redshift_getcsv/catalog_categorization_new_dataset_unload__1579625798/0052_part_00.gz to TEMP__catalog_categorization_new_dataset_unload__1579625798/0052_part_00.gz\n",
      "download: s3://gfg-rnd-dev-us-east-1-dump/dafit-br-dump/rnd_redshift_getcsv/catalog_categorization_new_dataset_unload__1579625798/0047_part_00.gz to TEMP__catalog_categorization_new_dataset_unload__1579625798/0047_part_00.gz\n",
      "download: s3://gfg-rnd-dev-us-east-1-dump/dafit-br-dump/rnd_redshift_getcsv/catalog_categorization_new_dataset_unload__1579625798/0054_part_00.gz to TEMP__catalog_categorization_new_dataset_unload__1579625798/0054_part_00.gz\n",
      "download: s3://gfg-rnd-dev-us-east-1-dump/dafit-br-dump/rnd_redshift_getcsv/catalog_categorization_new_dataset_unload__1579625798/0051_part_00.gz to TEMP__catalog_categorization_new_dataset_unload__1579625798/0051_part_00.gz\n",
      "download: s3://gfg-rnd-dev-us-east-1-dump/dafit-br-dump/rnd_redshift_getcsv/catalog_categorization_new_dataset_unload__1579625798/0048_part_00.gz to TEMP__catalog_categorization_new_dataset_unload__1579625798/0048_part_00.gz\n",
      "download: s3://gfg-rnd-dev-us-east-1-dump/dafit-br-dump/rnd_redshift_getcsv/catalog_categorization_new_dataset_unload__1579625798/0053_part_00.gz to TEMP__catalog_categorization_new_dataset_unload__1579625798/0053_part_00.gz\n",
      "download: s3://gfg-rnd-dev-us-east-1-dump/dafit-br-dump/rnd_redshift_getcsv/catalog_categorization_new_dataset_unload__1579625798/0055_part_00.gz to TEMP__catalog_categorization_new_dataset_unload__1579625798/0055_part_00.gz\n",
      "download: s3://gfg-rnd-dev-us-east-1-dump/dafit-br-dump/rnd_redshift_getcsv/catalog_categorization_new_dataset_unload__1579625798/0049_part_00.gz to TEMP__catalog_categorization_new_dataset_unload__1579625798/0049_part_00.gz\n",
      "download: s3://gfg-rnd-dev-us-east-1-dump/dafit-br-dump/rnd_redshift_getcsv/catalog_categorization_new_dataset_unload__1579625798/0060_part_00.gz to TEMP__catalog_categorization_new_dataset_unload__1579625798/0060_part_00.gz\n",
      "download: s3://gfg-rnd-dev-us-east-1-dump/dafit-br-dump/rnd_redshift_getcsv/catalog_categorization_new_dataset_unload__1579625798/0059_part_00.gz to TEMP__catalog_categorization_new_dataset_unload__1579625798/0059_part_00.gz\n",
      "download: s3://gfg-rnd-dev-us-east-1-dump/dafit-br-dump/rnd_redshift_getcsv/catalog_categorization_new_dataset_unload__1579625798/0056_part_00.gz to TEMP__catalog_categorization_new_dataset_unload__1579625798/0056_part_00.gz\n",
      "download: s3://gfg-rnd-dev-us-east-1-dump/dafit-br-dump/rnd_redshift_getcsv/catalog_categorization_new_dataset_unload__1579625798/0061_part_00.gz to TEMP__catalog_categorization_new_dataset_unload__1579625798/0061_part_00.gz\n",
      "download: s3://gfg-rnd-dev-us-east-1-dump/dafit-br-dump/rnd_redshift_getcsv/catalog_categorization_new_dataset_unload__1579625798/0057_part_00.gz to TEMP__catalog_categorization_new_dataset_unload__1579625798/0057_part_00.gz\n",
      "download: s3://gfg-rnd-dev-us-east-1-dump/dafit-br-dump/rnd_redshift_getcsv/catalog_categorization_new_dataset_unload__1579625798/0063_part_00.gz to TEMP__catalog_categorization_new_dataset_unload__1579625798/0063_part_00.gz\n",
      "download: s3://gfg-rnd-dev-us-east-1-dump/dafit-br-dump/rnd_redshift_getcsv/catalog_categorization_new_dataset_unload__1579625798/0062_part_00.gz to TEMP__catalog_categorization_new_dataset_unload__1579625798/0062_part_00.gz\n",
      "download: s3://gfg-rnd-dev-us-east-1-dump/dafit-br-dump/rnd_redshift_getcsv/catalog_categorization_new_dataset_unload__1579625798/0058_part_00.gz to TEMP__catalog_categorization_new_dataset_unload__1579625798/0058_part_00.gz\n",
      "\n"
     ]
    },
    {
     "name": "stdout",
     "output_type": "stream",
     "text": [
      "Fetching columns names and creating output file... Done!\n",
      "Converting files... Done! Created file: /home/willian.dihanster/Documentos/Repositorios/rnd-case-studies/product_catalog_categorization/catalog_categorization_new_dataset_unload.csv\n",
      "Deleting folder /home/willian.dihanster/Documentos/Repositorios/rnd-case-studies/product_catalog_categorization/TEMP__catalog_categorization_new_dataset_unload__1579625798/... Done!\n"
     ]
    },
    {
     "data": {
      "text/plain": [
       "'/home/willian.dihanster/Documentos/Repositorios/rnd-case-studies/product_catalog_categorization/catalog_categorization_new_dataset_unload.csv'"
      ]
     },
     "execution_count": 4,
     "metadata": {},
     "output_type": "execute_result"
    }
   ],
   "source": [
    "rs.get_csv(\n",
    "    query=query,\n",
    "    name='catalog_categorization_new_dataset_unload'\n",
    ")"
   ]
  }
 ],
 "metadata": {
  "kernelspec": {
   "display_name": "Python 3",
   "language": "python",
   "name": "python3"
  },
  "language_info": {
   "codemirror_mode": {
    "name": "ipython",
    "version": 3
   },
   "file_extension": ".py",
   "mimetype": "text/x-python",
   "name": "python",
   "nbconvert_exporter": "python",
   "pygments_lexer": "ipython3",
   "version": "3.7.4"
  }
 },
 "nbformat": 4,
 "nbformat_minor": 2
}
