{
 "cells": [
  {
   "cell_type": "code",
   "execution_count": 1,
   "metadata": {},
   "outputs": [],
   "source": [
    "import numpy as np\n",
    "import pandas as pd\n",
    "from scipy import stats\n",
    "import pymc3 as pm\n",
    "import matplotlib.pyplot as plt\n",
    "import pystan"
   ]
  },
  {
   "cell_type": "code",
   "execution_count": 2,
   "metadata": {},
   "outputs": [],
   "source": [
    "plt.style.use('seaborn-dark')"
   ]
  },
  {
   "cell_type": "markdown",
   "metadata": {},
   "source": [
    "Dimensions: (region, medium) $\\equiv (i,j)$\n",
    "\n",
    "$Y_{i,j} = A_i + B_j + \\varepsilon$\n",
    "\n",
    "$\\varepsilon \\sim {\\cal N}(0,\\sigma_{i,j})$"
   ]
  },
  {
   "cell_type": "code",
   "execution_count": 3,
   "metadata": {},
   "outputs": [],
   "source": [
    "class experiment():\n",
    "\n",
    "    def __init__(self, num_regions, num_media):\n",
    "        \n",
    "        self.num_regions = num_regions\n",
    "        self.num_media = num_media\n",
    "        self.parameters = {\n",
    "            'A': stats.uniform(loc=2, scale=3).rvs(size=num_regions),\n",
    "            'B': stats.norm(loc=1, scale=5).rvs(size=num_media),\n",
    "            'sigma': stats.pareto(b=1).rvs(size=(num_regions, num_media)),\n",
    "        }\n",
    "        \n",
    "    def get_samples(self, num_samples):\n",
    "        i = np.random.choice(self.num_regions, size=num_samples)\n",
    "        j = np.random.choice(self.num_media, size=num_samples)\n",
    "        A_s = self.parameters['A'][i]\n",
    "        B_s = self.parameters['B'][j]\n",
    "        sigma_s = self.parameters['sigma'][i,j]\n",
    "        Y_s = A_s + B_s + sigma_s*np.random.normal(size=num_samples)\n",
    "        return pd.DataFrame({\n",
    "            'i':i,\n",
    "            'j':j,\n",
    "            'Y':Y_s\n",
    "        })"
   ]
  },
  {
   "cell_type": "code",
   "execution_count": 4,
   "metadata": {},
   "outputs": [
    {
     "data": {
      "text/html": [
       "<div>\n",
       "<style scoped>\n",
       "    .dataframe tbody tr th:only-of-type {\n",
       "        vertical-align: middle;\n",
       "    }\n",
       "\n",
       "    .dataframe tbody tr th {\n",
       "        vertical-align: top;\n",
       "    }\n",
       "\n",
       "    .dataframe thead th {\n",
       "        text-align: right;\n",
       "    }\n",
       "</style>\n",
       "<table border=\"1\" class=\"dataframe\">\n",
       "  <thead>\n",
       "    <tr style=\"text-align: right;\">\n",
       "      <th></th>\n",
       "      <th>i</th>\n",
       "      <th>j</th>\n",
       "      <th>Y</th>\n",
       "    </tr>\n",
       "  </thead>\n",
       "  <tbody>\n",
       "    <tr>\n",
       "      <th>0</th>\n",
       "      <td>1</td>\n",
       "      <td>2</td>\n",
       "      <td>8.974070</td>\n",
       "    </tr>\n",
       "    <tr>\n",
       "      <th>1</th>\n",
       "      <td>1</td>\n",
       "      <td>1</td>\n",
       "      <td>-0.767923</td>\n",
       "    </tr>\n",
       "    <tr>\n",
       "      <th>2</th>\n",
       "      <td>3</td>\n",
       "      <td>0</td>\n",
       "      <td>2.122252</td>\n",
       "    </tr>\n",
       "    <tr>\n",
       "      <th>3</th>\n",
       "      <td>2</td>\n",
       "      <td>2</td>\n",
       "      <td>0.363723</td>\n",
       "    </tr>\n",
       "    <tr>\n",
       "      <th>4</th>\n",
       "      <td>2</td>\n",
       "      <td>2</td>\n",
       "      <td>58.843530</td>\n",
       "    </tr>\n",
       "  </tbody>\n",
       "</table>\n",
       "</div>"
      ],
      "text/plain": [
       "   i  j          Y\n",
       "0  1  2   8.974070\n",
       "1  1  1  -0.767923\n",
       "2  3  0   2.122252\n",
       "3  2  2   0.363723\n",
       "4  2  2  58.843530"
      ]
     },
     "execution_count": 4,
     "metadata": {},
     "output_type": "execute_result"
    }
   ],
   "source": [
    "num_regions = 4\n",
    "num_media = 3\n",
    "num_samples = 10000\n",
    "\n",
    "exp = experiment(num_regions=num_regions, num_media=num_media)\n",
    "df = exp.get_samples(num_samples=num_samples)\n",
    "df.head()"
   ]
  },
  {
   "cell_type": "code",
   "execution_count": 5,
   "metadata": {},
   "outputs": [
    {
     "name": "stderr",
     "output_type": "stream",
     "text": [
      "INFO:pystan:COMPILING THE C++ CODE FOR MODEL anon_model_1b08000e74b1e399bff5e749dbeb8105 NOW.\n"
     ]
    }
   ],
   "source": [
    "stan_model = \"\"\"\n",
    "    data {\n",
    "        int<lower=0> num_samples;\n",
    "        int<lower=0> num_i;\n",
    "        int<lower=0> num_j;\n",
    "        int<lower=1> i[num_samples];\n",
    "        int<lower=1> j[num_samples];\n",
    "        int<lower=1> ij[num_samples];\n",
    "        vector[num_samples] Y;\n",
    "    }\n",
    "    parameters {\n",
    "        vector<lower=0>[num_i] A;\n",
    "        vector[num_j] B;\n",
    "        vector<lower=0>[num_i*num_j] sigma;\n",
    "    }\n",
    "    model {\n",
    "        A ~ normal(0.0, 10.0);\n",
    "        B ~ normal(0.0, 10.0);\n",
    "        sigma ~ normal(0.0, 100.0);\n",
    "        Y ~ normal(A[i] + B[j], sigma[ij]);\n",
    "    }\n",
    "\"\"\"\n",
    "sm = pystan.StanModel(model_code=stan_model)"
   ]
  },
  {
   "cell_type": "code",
   "execution_count": null,
   "metadata": {},
   "outputs": [],
   "source": [
    "data = {\n",
    "    'num_i': num_regions,\n",
    "    'num_j': num_media,\n",
    "    'num_samples': num_samples,\n",
    "    'i': df['i'].values + 1,\n",
    "    'j': df['j'].values + 1,\n",
    "    'ij': (df['i']*num_media + df['j']) + 1,\n",
    "    'Y': df['Y'].values\n",
    "}\n",
    "fit = sm.sampling(\n",
    "    data=data,\n",
    "    iter=1000,\n",
    "    warmup=500,\n",
    "    n_jobs=-1,\n",
    "    chains=2\n",
    ")"
   ]
  },
  {
   "cell_type": "code",
   "execution_count": null,
   "metadata": {},
   "outputs": [],
   "source": [
    "fit.plot()"
   ]
  },
  {
   "cell_type": "code",
   "execution_count": null,
   "metadata": {},
   "outputs": [],
   "source": [
    "plt.hist(fit.extract()['B'][:,0], bins=50)"
   ]
  }
 ],
 "metadata": {
  "kernelspec": {
   "display_name": "Python 3",
   "language": "python",
   "name": "python3"
  },
  "language_info": {
   "codemirror_mode": {
    "name": "ipython",
    "version": 3
   },
   "file_extension": ".py",
   "mimetype": "text/x-python",
   "name": "python",
   "nbconvert_exporter": "python",
   "pygments_lexer": "ipython3",
   "version": "3.7.4"
  }
 },
 "nbformat": 4,
 "nbformat_minor": 4
}
