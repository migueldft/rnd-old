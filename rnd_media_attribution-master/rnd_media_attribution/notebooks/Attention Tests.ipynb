{
 "cells": [
  {
   "cell_type": "code",
   "execution_count": 2,
   "metadata": {
    "ExecuteTime": {
     "end_time": "2021-01-07T14:27:04.122960Z",
     "start_time": "2021-01-07T14:27:00.595061Z"
    }
   },
   "outputs": [],
   "source": [
    "from loguru import logger\n",
    "import numpy as np\n",
    "import pandas as pd\n",
    "import matplotlib.pyplot as plt\n",
    "import seaborn as sns\n",
    "plt.style.use('seaborn-dark')\n",
    "from time import time\n",
    "from datetime import datetime\n",
    "from tqdm import tqdm\n",
    "import sparse\n",
    "import psutil\n",
    "import os\n",
    "import pickle\n",
    "from sklearn.model_selection import train_test_split\n",
    "from sklearn.metrics import confusion_matrix\n",
    "import tensorflow as tf\n",
    "from tensorflow.keras import Model\n",
    "from tensorflow.keras import metrics\n",
    "from tensorflow.keras.preprocessing.text import Tokenizer\n",
    "from tensorflow.keras.preprocessing.sequence import pad_sequences\n",
    "from tensorflow.keras.preprocessing.text import text_to_word_sequence\n",
    "from tensorflow.keras import layers\n",
    "# %load_ext tensorboard"
   ]
  },
  {
   "cell_type": "markdown",
   "metadata": {},
   "source": [
    "# CONFIG"
   ]
  },
  {
   "cell_type": "code",
   "execution_count": 4,
   "metadata": {
    "ExecuteTime": {
     "end_time": "2021-01-07T14:27:04.186907Z",
     "start_time": "2021-01-07T14:27:04.179684Z"
    }
   },
   "outputs": [],
   "source": [
    "config={\n",
    "    'data': {\n",
    "        'dataset_filename':'../../ml/input/data/raw/M_A_dataset_twoweek_crm.csv',\n",
    "        'csv_parsing_chunksize': 100000,\n",
    "        'test_one_chunk':False,\n",
    "        'only_from_order':False,\n",
    "        'drop_aggsessions_from_dataframe': True,\n",
    "        'drop_unique_paths_from_dataframe': False,\n",
    "        'min_path_len':2, #only path lengths greater than 'min_path_len'\n",
    "        'maximum_memory_usage':3000 #  in Mb 1000 = 1Gb\n",
    "    },\n",
    "    'preprocessing':{\n",
    "        'maxlen_threshold':0.98,\n",
    "        'downsampling' :False,\n",
    "    },\n",
    "    'attention':{\n",
    "        'test_size':0.2,\n",
    "        'max_features':5000,\n",
    "        'embed_dim':64,\n",
    "        'num_heads':2,\n",
    "        'BATCH_SIZE':2048,\n",
    "        'EPOCHS':20,\n",
    "        'prob_threshold':0.5,\n",
    "    }\n",
    "}"
   ]
  },
  {
   "cell_type": "markdown",
   "metadata": {},
   "source": [
    "# Util functions"
   ]
  },
  {
   "cell_type": "code",
   "execution_count": 6,
   "metadata": {
    "ExecuteTime": {
     "end_time": "2021-01-07T14:27:05.884513Z",
     "start_time": "2021-01-07T14:27:05.876754Z"
    }
   },
   "outputs": [],
   "source": [
    "def memory_footprint():\n",
    "    mem = psutil.Process(os.getpid()).memory_info().rss\n",
    "    return (mem / 1024 ** 2)\n",
    "def pad_str_corpus(lst,maxlen):\n",
    "    return (lst+ (maxlen-len(lst)) * [''])\n",
    "def duplicates(lst, item):\n",
    "    return [i for i, x in enumerate(lst) if x == item]\n",
    "def time_decay(arr):\n",
    "    return (np.nan_to_num(np.array([(max(arr) - elt)/60/60/24 for elt in arr])))  #  in days\n",
    "flatten = lambda l: [item for sublist in l for item in sublist]"
   ]
  },
  {
   "cell_type": "code",
   "execution_count": 4,
   "metadata": {
    "ExecuteTime": {
     "end_time": "2021-01-07T12:58:15.886533Z",
     "start_time": "2021-01-07T12:58:15.883815Z"
    },
    "tags": []
   },
   "outputs": [],
   "source": [
    "# filename='../../ml/input/data/raw/M_A_dataset_oneweek.csv'\n",
    "# with open(filename, 'r') as f:\n",
    "#     total_lines = sum(1 for line in f) - 1\n",
    "# print('oneweek_df: ', total_lines)\n",
    "# filename='../../ml/input/data/raw/M_A_dataset_oneday.csv'\n",
    "# with open(filename, 'r') as f:\n",
    "#     total_lines = sum(1 for line in f) - 1\n",
    "# print('oneday_df: ', total_lines)"
   ]
  },
  {
   "cell_type": "markdown",
   "metadata": {},
   "source": [
    "# Preprocessing in chunks"
   ]
  },
  {
   "cell_type": "code",
   "execution_count": 5,
   "metadata": {
    "ExecuteTime": {
     "end_time": "2021-01-07T12:58:16.636225Z",
     "start_time": "2021-01-07T12:58:16.615236Z"
    }
   },
   "outputs": [],
   "source": [
    "# Defining util functions\n",
    "def crop_df_maxlen_threshold(df_s):\n",
    "    cum_path=(df_s['utm_hash'].apply(len).value_counts().cumsum()/\n",
    "                    df_s['utm_hash'].apply(len).value_counts().sum())\n",
    "    (cum_path\n",
    "    .plot(kind='bar',figsize=(8,6))\n",
    "    )\n",
    "    plt.title('path length', fontsize=40)\n",
    "    plt.ylabel('cumulative percentage', size=20)\n",
    "    plt.xlabel('path length',size=20)\n",
    "    plt.xticks(fontsize=18)\n",
    "    plt.yticks(fontsize=18)\n",
    "    plt.hlines(0.99, 0, cum_path.shape, colors='k', linestyles='dashed',lw=2)\n",
    "    plt.show()\n",
    "    maxlen=cum_path[cum_path<=config['preprocessing']['maxlen_threshold']].tail(1)\n",
    "    print('MAXLEN :', maxlen)\n",
    "    maxlen=maxlen.index[0]\n",
    "    serie_to_use=df_s['utm_hash'].apply(len)<=cum_path[cum_path<=config['preprocessing']['maxlen_threshold']].index[-1]\n",
    "#replotting\n",
    "    df_s=df_s[serie_to_use]\n",
    "    cum_path=(df_s['utm_hash'].apply(len).value_counts().cumsum()/\n",
    "                    df_s['utm_hash'].apply(len).value_counts().sum())\n",
    "    (cum_path\n",
    "    .plot(kind='bar',figsize=(8,6))\n",
    "    )\n",
    "    plt.title('Dropped path length', fontsize=40)\n",
    "    plt.ylabel('cumulative percentage', size=20)\n",
    "    plt.xlabel('path length',size=20)\n",
    "    plt.xticks(fontsize=18)\n",
    "    plt.yticks(fontsize=18)\n",
    "    plt.hlines(0.99, 0, cum_path.shape, colors='k', linestyles='dashed',lw=2)\n",
    "    plt.show()\n",
    "    return serie_to_use,maxlen,cum_path\n",
    "def time_decay(arr):\n",
    "#     return np.nan_to_num(np.array([(max(arr) - elt)/(max(arr)-min(arr)) for elt in arr]))\n",
    "    return (np.nan_to_num(np.array([(max(arr) - elt)/60/60/24 for elt in arr])))  #  in days\n",
    "def memory_footprint():\n",
    "    mem = psutil.Process(os.getpid()).memory_info().rss\n",
    "    return (mem / 1024 ** 2)"
   ]
  },
  {
   "cell_type": "code",
   "execution_count": 6,
   "metadata": {
    "ExecuteTime": {
     "end_time": "2021-01-07T12:58:17.343722Z",
     "start_time": "2021-01-07T12:58:17.338539Z"
    }
   },
   "outputs": [],
   "source": [
    "# import pandas as pd\n",
    "# filename='../../ml/input/data/raw/M_A_dataset_twoweek_fb.csv'\n",
    "# def teste():\n",
    "#     df_iterator=pd.read_csv(filename, chunksize=100000)\n",
    "#     for chunk in df_iterator:\n",
    "#         return chunk\n",
    "# df_c=teste()\n",
    "# df_c['agg_sessions']=df_c['agg_sessions'].str.split(';')\n",
    "# df_c=df_c.explode('agg_sessions')\n",
    "# df_c['agg_sessions']=df_c['agg_sessions'].str.split(':')\n",
    "\n",
    "# df_c"
   ]
  },
  {
   "cell_type": "code",
   "execution_count": 7,
   "metadata": {
    "ExecuteTime": {
     "end_time": "2021-01-07T12:58:17.672404Z",
     "start_time": "2021-01-07T12:58:17.652060Z"
    }
   },
   "outputs": [],
   "source": [
    "def load_and_preprocess_dataframe(config=config):\n",
    "    t0=time()\n",
    "    filename = config['data']['dataset_filename']\n",
    "    chunksize = config['data']['csv_parsing_chunksize']\n",
    "    drop_aggsessions = config['data']['drop_aggsessions_from_dataframe']\n",
    "    test_one_chunk=config['data']['test_one_chunk']\n",
    "    only_from_order=config['data']['only_from_order']\n",
    "    maximum_memory_usage=config['data']['maximum_memory_usage']\n",
    "    drop_unique_paths_from_dataframe=config['data']['drop_unique_paths_from_dataframe']\n",
    "    min_path_len=config['data']['min_path_len']  \n",
    "    print('Calculating chunks...')\n",
    "# '''Returns memory (in MB) being used by Python process'''\n",
    "    with open(filename, 'r') as f:\n",
    "        total_lines = sum(1 for line in f) - 1\n",
    "    num_chunks = int(np.ceil(total_lines/chunksize))\n",
    "    print(f'Dataset name: {filename}')\n",
    "    print(f'Chunck size: {chunksize}.\\nTotal number of chunks: {num_chunks}')\n",
    "    print('\\nImporting dataset...')\n",
    "    df_iterator = pd.read_csv(filename, chunksize=chunksize)\n",
    "    corpus = []\n",
    "    df_s = pd.DataFrame()\n",
    "    df_con= pd.DataFrame()\n",
    "    original_shape=0\n",
    "    dropped_shape=0\n",
    "    for df_c in tqdm(df_iterator, total=num_chunks):\n",
    "#CUSTOMER PATH\n",
    "# Exploding sessions\n",
    "        df_c['agg_sessions']=df_c['agg_sessions'].str.split(';')\n",
    "        df_c=df_c.explode('agg_sessions')\n",
    "        df_c['agg_sessions']=df_c['agg_sessions'].str.split(':')\n",
    "        # get parameters from agg_sessions\n",
    "# creating columns spliting session informations\n",
    "        df_c['utm_hash']=df_c['agg_sessions'].apply(lambda x: x[0]).str.split(',')\n",
    "        df_c['sess']=df_c['agg_sessions'].apply(lambda x: np.fromstring(x[1],dtype=int,sep=(','))).apply(lambda x: time_decay(x))\n",
    "        df_c['trinomials']=df_c['agg_sessions'].apply(lambda x: x[2]).str.replace(' ','').str.replace('1','kwDft').str.replace('0','nokwDft').str.split(',')\n",
    "        df_c['value']=df_c['agg_sessions'].apply(lambda x: np.fromstring(x[3],dtype=float,sep=(',')))\n",
    "        df_c=df_c.drop(['agg_cvg','agg_sessions'],axis=1)\n",
    "        df_s=df_s.append(df_c)     \n",
    "        del df_c\n",
    "        if test_one_chunk:\n",
    "            print(f'Just one chunk to analyse')\n",
    "            break\n",
    "        if memory_footprint()>maximum_memory_usage:\n",
    "            print('Broken by memmory footprint')\n",
    "            print(memory_footprint())\n",
    "            break\n",
    "    serie_to_use,maxlen,_=crop_df_maxlen_threshold(df_s)\n",
    "    df_s=df_s[serie_to_use]\n",
    "    df_con=(df_s[['gid','country_region','gender','birthday','cust_created_year']])\n",
    "    df_s=df_s.drop(['gid','country_region','gender','birthday','cust_created_year'],axis=1)\n",
    "    corpus=df_s['utm_hash'].to_list()\n",
    "    y=(df_s['value']>0).values.astype(int)\n",
    "    print(f'Final Dataframe shape {df_s.shape}')\n",
    "    print(f'Done! {np.round((time()-t0)/60,2)} min spent')\n",
    "    return df_s,df_con,corpus,y,maxlen"
   ]
  },
  {
   "cell_type": "code",
   "execution_count": 8,
   "metadata": {
    "ExecuteTime": {
     "end_time": "2021-01-07T13:00:38.962394Z",
     "start_time": "2021-01-07T12:58:18.334238Z"
    },
    "scrolled": true,
    "tags": []
   },
   "outputs": [
    {
     "name": "stdout",
     "output_type": "stream",
     "text": [
      "Calculating chunks...\n"
     ]
    },
    {
     "name": "stderr",
     "output_type": "stream",
     "text": [
      "\r",
      "  0%|          | 0/114 [00:00<?, ?it/s]"
     ]
    },
    {
     "name": "stdout",
     "output_type": "stream",
     "text": [
      "Dataset name: ../../ml/input/data/raw/M_A_dataset_twoweek_crm.csv\n",
      "Chunck size: 100000.\n",
      "Total number of chunks: 114\n",
      "\n",
      "Importing dataset...\n"
     ]
    },
    {
     "name": "stderr",
     "output_type": "stream",
     "text": [
      " 18%|█▊        | 20/114 [02:10<10:11,  6.50s/it]"
     ]
    },
    {
     "name": "stdout",
     "output_type": "stream",
     "text": [
      "Broken by memmory footprint\n",
      "3097.1640625\n"
     ]
    },
    {
     "name": "stderr",
     "output_type": "stream",
     "text": [
      "\n"
     ]
    },
    {
     "data": {
      "image/png": "[encoded data removed]",
      "text/plain": [
       "<Figure size 576x432 with 1 Axes>"
      ]
     },
     "metadata": {},
     "output_type": "display_data"
    },
    {
     "name": "stdout",
     "output_type": "stream",
     "text": [
      "MAXLEN : 8    0.976481\n",
      "Name: utm_hash, dtype: float64\n"
     ]
    },
    {
     "data": {
      "image/png": "[encoded data removed]",
      "text/plain": [
       "<Figure size 576x432 with 1 Axes>"
      ]
     },
     "metadata": {},
     "output_type": "display_data"
    },
    {
     "name": "stdout",
     "output_type": "stream",
     "text": [
      "Final Dataframe shape (2114379, 4)\n",
      "Done! 2.34 min spent\n"
     ]
    }
   ],
   "source": [
    "df_s,df_con,corpus,y,maxlen=load_and_preprocess_dataframe(config)\n",
    "# _,df_con,_,_,_=load_and_preprocess_dataframe(config)"
   ]
  },
  {
   "cell_type": "code",
   "execution_count": 9,
   "metadata": {
    "ExecuteTime": {
     "end_time": "2021-01-07T13:00:38.974809Z",
     "start_time": "2021-01-07T13:00:38.971387Z"
    },
    "tags": []
   },
   "outputs": [
    {
     "name": "stdout",
     "output_type": "stream",
     "text": [
      "(2114379, 4) (2114379, 5)\n"
     ]
    }
   ],
   "source": [
    "print(df_s.shape,df_con.shape)"
   ]
  },
  {
   "cell_type": "code",
   "execution_count": 10,
   "metadata": {
    "ExecuteTime": {
     "end_time": "2021-01-07T13:00:39.073232Z",
     "start_time": "2021-01-07T13:00:38.977520Z"
    },
    "scrolled": false,
    "tags": []
   },
   "outputs": [
    {
     "data": {
      "text/html": [
       "<div>\n",
       "<style scoped>\n",
       "    .dataframe tbody tr th:only-of-type {\n",
       "        vertical-align: middle;\n",
       "    }\n",
       "\n",
       "    .dataframe tbody tr th {\n",
       "        vertical-align: top;\n",
       "    }\n",
       "\n",
       "    .dataframe thead th {\n",
       "        text-align: right;\n",
       "    }\n",
       "</style>\n",
       "<table border=\"1\" class=\"dataframe\">\n",
       "  <thead>\n",
       "    <tr style=\"text-align: right;\">\n",
       "      <th></th>\n",
       "      <th>utm_hash</th>\n",
       "      <th>sess</th>\n",
       "      <th>trinomials</th>\n",
       "      <th>value</th>\n",
       "    </tr>\n",
       "  </thead>\n",
       "  <tbody>\n",
       "  </tbody>\n",
       "</table>\n",
       "</div>"
      ],
      "text/plain": [
       "Empty DataFrame\n",
       "Columns: [utm_hash, sess, trinomials, value]\n",
       "Index: []"
      ]
     },
     "execution_count": 10,
     "metadata": {},
     "output_type": "execute_result"
    }
   ],
   "source": [
    "df_s.head()\n",
    "df_s[df_s['utm_hash'].isna()]"
   ]
  },
  {
   "cell_type": "code",
   "execution_count": 11,
   "metadata": {
    "ExecuteTime": {
     "end_time": "2021-01-07T13:00:41.550870Z",
     "start_time": "2021-01-07T13:00:39.074897Z"
    }
   },
   "outputs": [
    {
     "data": {
      "text/plain": [
       "not_set    1715073\n",
       "female      251403\n",
       "male         69069\n",
       "Name: gender, dtype: int64"
      ]
     },
     "execution_count": 11,
     "metadata": {},
     "output_type": "execute_result"
    }
   ],
   "source": [
    "# df_s[(df_con['gid'].str.contains(':')) &( df_s['value']>0)].shape[0]\n",
    "df_con[df_s['value']==0]['gender'].value_counts()"
   ]
  },
  {
   "cell_type": "code",
   "execution_count": 12,
   "metadata": {
    "ExecuteTime": {
     "end_time": "2021-01-07T13:00:41.569742Z",
     "start_time": "2021-01-07T13:00:41.553024Z"
    }
   },
   "outputs": [
    {
     "data": {
      "text/html": [
       "<div>\n",
       "<style scoped>\n",
       "    .dataframe tbody tr th:only-of-type {\n",
       "        vertical-align: middle;\n",
       "    }\n",
       "\n",
       "    .dataframe tbody tr th {\n",
       "        vertical-align: top;\n",
       "    }\n",
       "\n",
       "    .dataframe thead th {\n",
       "        text-align: right;\n",
       "    }\n",
       "</style>\n",
       "<table border=\"1\" class=\"dataframe\">\n",
       "  <thead>\n",
       "    <tr style=\"text-align: right;\">\n",
       "      <th></th>\n",
       "      <th>utm_hash</th>\n",
       "      <th>sess</th>\n",
       "      <th>trinomials</th>\n",
       "      <th>value</th>\n",
       "    </tr>\n",
       "  </thead>\n",
       "  <tbody>\n",
       "    <tr>\n",
       "      <th>0</th>\n",
       "      <td>[469d22463e819fe96ec507547f7c1c55]</td>\n",
       "      <td>[0.0]</td>\n",
       "      <td>[google_cpc_nokwDft]</td>\n",
       "      <td>[0.0]</td>\n",
       "    </tr>\n",
       "    <tr>\n",
       "      <th>1</th>\n",
       "      <td>[ac5bcd5526b865dda8399ee9ea0805c7]</td>\n",
       "      <td>[0.0]</td>\n",
       "      <td>[kwDft29424kwDft759_af_nokwDft]</td>\n",
       "      <td>[0.0]</td>\n",
       "    </tr>\n",
       "    <tr>\n",
       "      <th>2</th>\n",
       "      <td>[46aedd9f727b7f29bcb2308f3276436b]</td>\n",
       "      <td>[0.0]</td>\n",
       "      <td>[prospecting_dp_nokwDft]</td>\n",
       "      <td>[0.0]</td>\n",
       "    </tr>\n",
       "    <tr>\n",
       "      <th>3</th>\n",
       "      <td>[9f3d23b2254910561e1778450e4b3d13, 9f3d23b2254...</td>\n",
       "      <td>[3.7871064814814814, 0.0]</td>\n",
       "      <td>[google_organic_nokwDft, google_organic_nokwDft]</td>\n",
       "      <td>[0.0]</td>\n",
       "    </tr>\n",
       "    <tr>\n",
       "      <th>4</th>\n",
       "      <td>[68284d2fe147e66017e61b51063c9b7f]</td>\n",
       "      <td>[0.0]</td>\n",
       "      <td>[google_cpc_kwDft]</td>\n",
       "      <td>[1.0]</td>\n",
       "    </tr>\n",
       "  </tbody>\n",
       "</table>\n",
       "</div>"
      ],
      "text/plain": [
       "                                            utm_hash  \\\n",
       "0                 [469d22463e819fe96ec507547f7c1c55]   \n",
       "1                 [ac5bcd5526b865dda8399ee9ea0805c7]   \n",
       "2                 [46aedd9f727b7f29bcb2308f3276436b]   \n",
       "3  [9f3d23b2254910561e1778450e4b3d13, 9f3d23b2254...   \n",
       "4                 [68284d2fe147e66017e61b51063c9b7f]   \n",
       "\n",
       "                        sess  \\\n",
       "0                      [0.0]   \n",
       "1                      [0.0]   \n",
       "2                      [0.0]   \n",
       "3  [3.7871064814814814, 0.0]   \n",
       "4                      [0.0]   \n",
       "\n",
       "                                         trinomials  value  \n",
       "0                              [google_cpc_nokwDft]  [0.0]  \n",
       "1                   [kwDft29424kwDft759_af_nokwDft]  [0.0]  \n",
       "2                          [prospecting_dp_nokwDft]  [0.0]  \n",
       "3  [google_organic_nokwDft, google_organic_nokwDft]  [0.0]  \n",
       "4                                [google_cpc_kwDft]  [1.0]  "
      ]
     },
     "execution_count": 12,
     "metadata": {},
     "output_type": "execute_result"
    }
   ],
   "source": [
    "df_s.head()"
   ]
  },
  {
   "cell_type": "markdown",
   "metadata": {},
   "source": [
    "# Preparing as NLP\n",
    "Tokenization, and Padding sequences"
   ]
  },
  {
   "cell_type": "code",
   "execution_count": 13,
   "metadata": {
    "ExecuteTime": {
     "end_time": "2021-01-07T13:02:19.474711Z",
     "start_time": "2021-01-07T13:02:19.468690Z"
    }
   },
   "outputs": [
    {
     "data": {
      "text/plain": [
       "5000"
      ]
     },
     "execution_count": 13,
     "metadata": {},
     "output_type": "execute_result"
    }
   ],
   "source": [
    "config['attention']['max_features']"
   ]
  },
  {
   "cell_type": "code",
   "execution_count": 14,
   "metadata": {
    "ExecuteTime": {
     "end_time": "2021-01-07T13:02:45.790172Z",
     "start_time": "2021-01-07T13:02:20.045531Z"
    },
    "scrolled": true,
    "tags": []
   },
   "outputs": [
    {
     "name": "stderr",
     "output_type": "stream",
     "text": [
      "2021-01-07 10:02:31.824 | INFO     | __main__:<module>:8 - lost sequences: 0.07961155497666218\n"
     ]
    },
    {
     "name": "stdout",
     "output_type": "stream",
     "text": [
      "\n",
      " Total vocabulary size:  147123\n",
      "\n",
      " Embeding dim 64 - sqrt vocab_size 384.0\n",
      "\n",
      "Five most important medium \n",
      ":                              medium     cnt     ratio   cum_sum  rank\n",
      "0  42b4c899c39ac03cc595b36e8a618951  563740  0.162617  0.162617     0\n",
      "1  4f5445efbd48f8c8405addb9e3e6818e  351475  0.101387  0.264004     1\n",
      "2  9f3d23b2254910561e1778450e4b3d13  214779  0.061955  0.325959     2\n",
      "3  b88429773d4a0d05c8454d25386b404d   64445  0.018590  0.344549     3\n",
      "4  dd3df59d484165047fee545be6c90851   59560  0.017181  0.361730     4\n",
      "\n",
      " Total vocabulary size:  147123\n",
      "\n",
      " Embeding dim 64 - sqrt vocab_size 384.0\n"
     ]
    }
   ],
   "source": [
    "# maxlen=19\n",
    "# config['attention']['max_features']=2000\n",
    "tk = Tokenizer(num_words=config['attention']['max_features'], split=',')\n",
    "tk.fit_on_texts(corpus)\n",
    "X = tk.texts_to_sequences(corpus)\n",
    "seqleng=np.array([len(l) for l in X])\n",
    "zeroseq=(seqleng[seqleng==0]).shape[0]\n",
    "logger.info(f'lost sequences: {(zeroseq)/len(X)}')\n",
    "X = pad_sequences(X, maxlen=maxlen,padding='post') # customer path\n",
    "TD=pad_sequences(df_s['sess'].values,maxlen=maxlen,dtype='float32',padding='post') # time decay from sessions\n",
    "# C=pd.get_dummies(df_con.drop('client_id',axis=1), columns=['country_region', 'cg', 'gender', 'age_gp', 'cust_created_years_gp']).values# customer dependet variables\n",
    "C=pd.get_dummies(df_con.drop('gid',axis=1), columns=['country_region', 'gender']).values# customer dependet \n",
    "vocab_size = len(tk.word_counts)+1\n",
    "print('\\n Total vocabulary size: ',vocab_size)\n",
    "embed_dim=config['attention']['embed_dim']\n",
    "print(f'\\n Embeding dim {embed_dim} - sqrt vocab_size {np.ceil(np.sqrt(vocab_size))}')\n",
    "# saving\n",
    "with open('../../ml/model/attention_model/tokenizer.pickle', 'wb') as handle:\n",
    "    pickle.dump(tk, handle)\n",
    "Ccols=pd.get_dummies(df_con.drop('gid',axis=1), columns=['country_region', 'gender']).columns\n",
    "# pd.get_dummies(df_con.drop('client_id',axis=1), columns=['country_region', 'cg', 'gender', 'age_gp', 'cust_created_years_gp']).columns\n",
    "Ccols=list(Ccols.values)\n",
    "# # TEST SET PREPROCESSING\n",
    "# X_test=tk.texts_to_sequences(corpus_test)\n",
    "# X_test = pad_sequences(X_test, maxlen=maxlen,padding='post') # customer path\n",
    "# TD_test=pad_sequences(df_s_test['sess'].values,maxlen=maxlen,dtype='float32',padding='post') # time decay from sessions\n",
    "# cols=pd.get_dummies(df_con.drop('client_id',axis=1), columns=['country_region', 'cg', 'gender', 'age_gp', 'cust_created_years_gp']).columns\n",
    "# C_test=pd.DataFrame(columns=cols) #to C_test to have same dimensions of C_train\n",
    "# C_test=C_test.append(pd.get_dummies(df_con_test.drop('client_id',axis=1), columns=['country_region', 'cg', 'gender', 'age_gp', 'cust_created_years_gp']))\n",
    "# C_test=C_test.fillna(0)\n",
    "# Generate cumulative tokenization dataframe\n",
    "cum_tk_df=pd.DataFrame.from_dict(dict(tk.word_counts),orient='index',columns=['cnt'])\n",
    "cum_tk_df=cum_tk_df.sort_values(by='cnt',ascending=False)\n",
    "cum_tk_df['ratio']=cum_tk_df/cum_tk_df.sum()\n",
    "cum_tk_df['cum_sum']=cum_tk_df['ratio'].cumsum()\n",
    "cum_tk_df.reset_index(inplace=True)\n",
    "cum_tk_df=cum_tk_df.rename(columns={\"index\": \"medium\"})\n",
    "cum_tk_df['rank']=cum_tk_df.index\n",
    "vocab_size = len(tk.word_counts)+1\n",
    "print('\\nFive most important medium \\n:',cum_tk_df.head())\n",
    "print('\\n Total vocabulary size: ',vocab_size)\n",
    "embed_dim=config['attention']['embed_dim']\n",
    "print(f'\\n Embeding dim {embed_dim} - sqrt vocab_size {np.ceil(np.sqrt(vocab_size))}')\n",
    "# word_index = tk.word_index"
   ]
  },
  {
   "cell_type": "code",
   "execution_count": 15,
   "metadata": {
    "ExecuteTime": {
     "end_time": "2021-01-07T13:02:45.798091Z",
     "start_time": "2021-01-07T13:02:45.792796Z"
    },
    "tags": []
   },
   "outputs": [
    {
     "name": "stdout",
     "output_type": "stream",
     "text": [
      "\n",
      " Fraction of vocabulary represented: 0.03398516887230413\n",
      "\n",
      " Embeding dim 64 - sqrt vocab_size 71.0\n"
     ]
    }
   ],
   "source": [
    "num_words=config['attention']['max_features']\n",
    "print(f'\\n Fraction of vocabulary represented: {num_words/vocab_size}')\n",
    "print(f'\\n Embeding dim {embed_dim} - sqrt vocab_size {np.ceil(np.sqrt(num_words))}')"
   ]
  },
  {
   "cell_type": "code",
   "execution_count": 16,
   "metadata": {
    "ExecuteTime": {
     "end_time": "2021-01-07T13:02:45.813939Z",
     "start_time": "2021-01-07T13:02:45.800978Z"
    }
   },
   "outputs": [
    {
     "data": {
      "text/plain": [
       "array([0.89996143])"
      ]
     },
     "execution_count": 16,
     "metadata": {},
     "output_type": "execute_result"
    }
   ],
   "source": [
    "# config['attention']['embed_dim']=64\n",
    "# print(cum_tk_df.loc[])\n",
    "cum_tk_df[cum_tk_df['rank']<num_words]['cum_sum'].tail(1).values"
   ]
  },
  {
   "cell_type": "code",
   "execution_count": 17,
   "metadata": {
    "ExecuteTime": {
     "end_time": "2021-01-07T13:02:45.838566Z",
     "start_time": "2021-01-07T13:02:45.817145Z"
    }
   },
   "outputs": [
    {
     "data": {
      "text/html": [
       "<div>\n",
       "<style scoped>\n",
       "    .dataframe tbody tr th:only-of-type {\n",
       "        vertical-align: middle;\n",
       "    }\n",
       "\n",
       "    .dataframe tbody tr th {\n",
       "        vertical-align: top;\n",
       "    }\n",
       "\n",
       "    .dataframe thead th {\n",
       "        text-align: right;\n",
       "    }\n",
       "</style>\n",
       "<table border=\"1\" class=\"dataframe\">\n",
       "  <thead>\n",
       "    <tr style=\"text-align: right;\">\n",
       "      <th></th>\n",
       "      <th>medium</th>\n",
       "      <th>cnt</th>\n",
       "      <th>ratio</th>\n",
       "      <th>cum_sum</th>\n",
       "      <th>rank</th>\n",
       "    </tr>\n",
       "  </thead>\n",
       "  <tbody>\n",
       "    <tr>\n",
       "      <th>0</th>\n",
       "      <td>42b4c899c39ac03cc595b36e8a618951</td>\n",
       "      <td>563740</td>\n",
       "      <td>0.162617</td>\n",
       "      <td>0.162617</td>\n",
       "      <td>0</td>\n",
       "    </tr>\n",
       "    <tr>\n",
       "      <th>1</th>\n",
       "      <td>4f5445efbd48f8c8405addb9e3e6818e</td>\n",
       "      <td>351475</td>\n",
       "      <td>0.101387</td>\n",
       "      <td>0.264004</td>\n",
       "      <td>1</td>\n",
       "    </tr>\n",
       "    <tr>\n",
       "      <th>2</th>\n",
       "      <td>9f3d23b2254910561e1778450e4b3d13</td>\n",
       "      <td>214779</td>\n",
       "      <td>0.061955</td>\n",
       "      <td>0.325959</td>\n",
       "      <td>2</td>\n",
       "    </tr>\n",
       "    <tr>\n",
       "      <th>3</th>\n",
       "      <td>b88429773d4a0d05c8454d25386b404d</td>\n",
       "      <td>64445</td>\n",
       "      <td>0.018590</td>\n",
       "      <td>0.344549</td>\n",
       "      <td>3</td>\n",
       "    </tr>\n",
       "    <tr>\n",
       "      <th>4</th>\n",
       "      <td>dd3df59d484165047fee545be6c90851</td>\n",
       "      <td>59560</td>\n",
       "      <td>0.017181</td>\n",
       "      <td>0.361730</td>\n",
       "      <td>4</td>\n",
       "    </tr>\n",
       "    <tr>\n",
       "      <th>...</th>\n",
       "      <td>...</td>\n",
       "      <td>...</td>\n",
       "      <td>...</td>\n",
       "      <td>...</td>\n",
       "      <td>...</td>\n",
       "    </tr>\n",
       "    <tr>\n",
       "      <th>2995</th>\n",
       "      <td>b1a9e4dbe79fe079e064bd11a34d6abc</td>\n",
       "      <td>42</td>\n",
       "      <td>0.000012</td>\n",
       "      <td>0.882007</td>\n",
       "      <td>2995</td>\n",
       "    </tr>\n",
       "    <tr>\n",
       "      <th>2996</th>\n",
       "      <td>38835f1c19037f88e5bba248e0a05bb1</td>\n",
       "      <td>42</td>\n",
       "      <td>0.000012</td>\n",
       "      <td>0.882019</td>\n",
       "      <td>2996</td>\n",
       "    </tr>\n",
       "    <tr>\n",
       "      <th>2997</th>\n",
       "      <td>ff91a3e705f0831a18c8ddb82661f3e7</td>\n",
       "      <td>42</td>\n",
       "      <td>0.000012</td>\n",
       "      <td>0.882031</td>\n",
       "      <td>2997</td>\n",
       "    </tr>\n",
       "    <tr>\n",
       "      <th>2998</th>\n",
       "      <td>83c14a43a513d2dcb1f533f87cf99b3b</td>\n",
       "      <td>42</td>\n",
       "      <td>0.000012</td>\n",
       "      <td>0.882043</td>\n",
       "      <td>2998</td>\n",
       "    </tr>\n",
       "    <tr>\n",
       "      <th>2999</th>\n",
       "      <td>d922bdcade9198d970ba62362e6292e5</td>\n",
       "      <td>42</td>\n",
       "      <td>0.000012</td>\n",
       "      <td>0.882056</td>\n",
       "      <td>2999</td>\n",
       "    </tr>\n",
       "  </tbody>\n",
       "</table>\n",
       "<p>3000 rows × 5 columns</p>\n",
       "</div>"
      ],
      "text/plain": [
       "                                medium     cnt     ratio   cum_sum  rank\n",
       "0     42b4c899c39ac03cc595b36e8a618951  563740  0.162617  0.162617     0\n",
       "1     4f5445efbd48f8c8405addb9e3e6818e  351475  0.101387  0.264004     1\n",
       "2     9f3d23b2254910561e1778450e4b3d13  214779  0.061955  0.325959     2\n",
       "3     b88429773d4a0d05c8454d25386b404d   64445  0.018590  0.344549     3\n",
       "4     dd3df59d484165047fee545be6c90851   59560  0.017181  0.361730     4\n",
       "...                                ...     ...       ...       ...   ...\n",
       "2995  b1a9e4dbe79fe079e064bd11a34d6abc      42  0.000012  0.882007  2995\n",
       "2996  38835f1c19037f88e5bba248e0a05bb1      42  0.000012  0.882019  2996\n",
       "2997  ff91a3e705f0831a18c8ddb82661f3e7      42  0.000012  0.882031  2997\n",
       "2998  83c14a43a513d2dcb1f533f87cf99b3b      42  0.000012  0.882043  2998\n",
       "2999  d922bdcade9198d970ba62362e6292e5      42  0.000012  0.882056  2999\n",
       "\n",
       "[3000 rows x 5 columns]"
      ]
     },
     "execution_count": 17,
     "metadata": {},
     "output_type": "execute_result"
    }
   ],
   "source": [
    "# config['attention']['max_features']\n",
    "cum_tk_df[cum_tk_df['rank']<num_words].head(3000)"
   ]
  },
  {
   "cell_type": "markdown",
   "metadata": {},
   "source": [
    "### Ttrain_test_split"
   ]
  },
  {
   "cell_type": "code",
   "execution_count": 18,
   "metadata": {
    "ExecuteTime": {
     "end_time": "2021-01-07T13:02:48.636493Z",
     "start_time": "2021-01-07T13:02:45.840914Z"
    }
   },
   "outputs": [],
   "source": [
    "# tr_idx,te_idx,y_train,y_test=train_test_split(np.arange(X.shape[0]), y, test_size=config['attention']['test_size'],stratify=y)\n",
    "# X_train,X_test=X[tr_idx],X[te_idx]\n",
    "# TD_train,TD_test=TD[tr_idx],TD[te_idx]\n",
    "# C_train,C_test=C[tr_idx],C[te_idx]\n",
    "# tr_idx,val_idx,y_train,y_val=train_test_split(np.arange(X_train.shape[0]), y_train, test_size=config['attention']['test_size'],stratify=y_train)\n",
    "# X_train,X_val=X_train[tr_idx],X_train[val_idx]\n",
    "# TD_train,TD_val=TD_train[tr_idx],TD_train[val_idx]\n",
    "# C_train,C_val=C_train[tr_idx],C_train[val_idx]\n",
    "tr_idx,val_idx,y_train,y_val=train_test_split(np.arange(X.shape[0]), y, test_size=config['attention']['test_size'],stratify=y)\n",
    "X_train,X_val=X[tr_idx],X[val_idx]\n",
    "TD_train,TD_val=TD[tr_idx],TD[val_idx]\n",
    "C_train,C_val=C[tr_idx],C[val_idx]"
   ]
  },
  {
   "cell_type": "code",
   "execution_count": 19,
   "metadata": {
    "ExecuteTime": {
     "end_time": "2021-01-07T13:02:48.654666Z",
     "start_time": "2021-01-07T13:02:48.639426Z"
    }
   },
   "outputs": [],
   "source": [
    "if config['preprocessing']['downsampling']:\n",
    "# Downsampling function\n",
    "    def downsampler(X,TD,C,y):\n",
    "        cvsize=(np.where(y==1)[0]).shape[0]\n",
    "        X0=(X[y==0][:cvsize])\n",
    "        X1=(X[y==1])\n",
    "        TD0=(TD[y==0][:cvsize])\n",
    "        TD1=(TD[y==1])\n",
    "        C0=(C[y==0][:cvsize])\n",
    "        C1=(C[y==1])\n",
    "        y0=np.zeros(X0.shape[0])\n",
    "        y1=np.ones(X1.shape[0])\n",
    "        X=np.vstack((X0,X1))\n",
    "        TD=np.vstack((TD0,TD1))\n",
    "        C=np.vstack((C0,C1))\n",
    "        y=np.hstack((y0,y1))\n",
    "        return X,TD,C,y\n",
    "#Training set\n",
    "    X_train,TD_train,C_train,y_train=downsampler(X_train,TD_train,C_train,y_train)\n",
    "# Validation set\n",
    "    X_val,TD_val,C_val,y_val=downsampler(X_val,TD_val,C_val,y_val)"
   ]
  },
  {
   "cell_type": "code",
   "execution_count": 20,
   "metadata": {
    "ExecuteTime": {
     "end_time": "2021-01-07T13:02:49.268253Z",
     "start_time": "2021-01-07T13:02:48.658105Z"
    },
    "tags": []
   },
   "outputs": [
    {
     "name": "stdout",
     "output_type": "stream",
     "text": [
      "Training classes ratio 0.03708713493266048\n",
      "Validation classes ratio 0.03708652181727031\n"
     ]
    },
    {
     "data": {
      "image/png": "[encoded data removed]",
      "text/plain": [
       "<Figure size 720x360 with 3 Axes>"
      ]
     },
     "metadata": {},
     "output_type": "display_data"
    }
   ],
   "source": [
    "print('Training classes ratio',y_train.sum()/y_train.shape[0])\n",
    "print('Validation classes ratio',y_val.sum()/y_val.shape[0])\n",
    "# print('Test classes ratio',y_test.sum()/y_test.shape[0])\n",
    "# del df_s\n",
    "fig,(ax0,ax1,ax2)= plt.subplots(1,3,figsize=(10,5))\n",
    "ax0.hist(y_train)\n",
    "ax0.set_title('Training samples - Ratio: ' + str(np.round(y_train.sum()/y_train.shape[0],3)))\n",
    "ax1.hist(y_val)\n",
    "ax1.set_title('Validation samples - Ratio: ' + str(np.round(y_val.sum()/y_val.shape[0],3)))\n",
    "# ax2.hist(y_test)\n",
    "# ax2.set_title('Test samples - Ratio: ' + str(np.round(y_test.sum()/y_test.shape[0],3)))\n",
    "plt.show()"
   ]
  },
  {
   "cell_type": "code",
   "execution_count": 21,
   "metadata": {
    "ExecuteTime": {
     "end_time": "2021-01-07T13:02:49.286601Z",
     "start_time": "2021-01-07T13:02:49.272351Z"
    },
    "tags": []
   },
   "outputs": [
    {
     "name": "stdout",
     "output_type": "stream",
     "text": [
      "Weight for class 0 - Non_conversion path: 0.52\n",
      "Weight for class 1 - Conversion path: 13.48\n"
     ]
    }
   ],
   "source": [
    "# Scaling by total/2 helps keep the loss to a similar magnitude.\n",
    "# The sum of the weights of all examples stays the same.\n",
    "neg=y_train.shape[0]-y_train.sum()\n",
    "pos=y_train.sum()\n",
    "total=y_train.shape[0]\n",
    "weight_for_0 = (1 / neg)*(total)/2.0 \n",
    "weight_for_1 = (1 / pos)*(total)/2.0\n",
    "\n",
    "class_weight = {0: weight_for_0, 1: weight_for_1}\n",
    "\n",
    "print('Weight for class 0 - Non_conversion path: {:.2f}'.format(weight_for_0))\n",
    "print('Weight for class 1 - Conversion path: {:.2f}'.format(weight_for_1))"
   ]
  },
  {
   "cell_type": "code",
   "execution_count": 22,
   "metadata": {
    "ExecuteTime": {
     "end_time": "2021-01-07T13:02:49.296636Z",
     "start_time": "2021-01-07T13:02:49.289411Z"
    },
    "tags": []
   },
   "outputs": [
    {
     "name": "stdout",
     "output_type": "stream",
     "text": [
      "Training features shape: (1691503, 8)\n",
      "Validation features shape: (422876, 8)\n",
      "\n",
      "Training labels shape: (1691503,)\n",
      "Validation labels shape: (422876,)\n"
     ]
    }
   ],
   "source": [
    "print('Training features shape:', X_train.shape)\n",
    "print('Validation features shape:', X_val.shape)\n",
    "# print('Test features shape:', X_test.shape)\n",
    "\n",
    "print('\\nTraining labels shape:', y_train.shape)\n",
    "print('Validation labels shape:', y_val.shape)\n",
    "# print('Test labels shape:', y_test.shape)"
   ]
  },
  {
   "cell_type": "markdown",
   "metadata": {},
   "source": [
    "# DNN-Atention"
   ]
  },
  {
   "cell_type": "markdown",
   "metadata": {},
   "source": [
    "##  DNN layers"
   ]
  },
  {
   "cell_type": "code",
   "execution_count": 9,
   "metadata": {
    "ExecuteTime": {
     "end_time": "2021-01-07T14:27:09.333539Z",
     "start_time": "2021-01-07T14:27:09.321060Z"
    }
   },
   "outputs": [],
   "source": [
    "class TokenAndPositionEmbedding(layers.Layer):\n",
    "    def __init__(self, maxlen, vocab_size, embed_dim, **kwargs):\n",
    "        super(TokenAndPositionEmbedding, self).__init__()\n",
    "        self.maxlen = maxlen\n",
    "        self.vocab_size = vocab_size\n",
    "        self.embed_dim = embed_dim\n",
    "        self.token_emb = layers.Embedding(input_dim=vocab_size, output_dim=embed_dim)\n",
    "        self.pos_emb = layers.Embedding(input_dim=maxlen, output_dim=embed_dim)\n",
    "#         super(TokenAndPositionEmbedding, self).__init__(**kwargs)\n",
    "        \n",
    "    def get_config(self):\n",
    "        config = super(TokenAndPositionEmbedding, self).get_config()\n",
    "        config.update({\n",
    "            'maxlen': self.maxlen,\n",
    "            'vocab_size': self.vocab_size,\n",
    "            'embed_dim': self.embed_dim,\n",
    "            'token_emb': layers.Embedding(\n",
    "                input_dim=self.vocab_size,\n",
    "                output_dim=self.embed_dim\n",
    "            ),\n",
    "            'pos_emb': layers.Embedding(\n",
    "                input_dim=self.maxlen,\n",
    "                output_dim=self.embed_dim\n",
    "            )\n",
    "        })\n",
    "        return config\n",
    "    \n",
    "    def call(self, x):\n",
    "        maxlen = tf.shape(x)[-1]\n",
    "        positions = tf.range(start=0, limit=maxlen, delta=1)\n",
    "        positions = self.pos_emb(positions)\n",
    "        x = self.token_emb(x)\n",
    "        return x + positions"
   ]
  },
  {
   "cell_type": "code",
   "execution_count": 11,
   "metadata": {
    "ExecuteTime": {
     "end_time": "2021-01-07T14:27:10.973878Z",
     "start_time": "2021-01-07T14:27:10.955464Z"
    }
   },
   "outputs": [],
   "source": [
    "class MultiHeadSelfAttention(layers.Layer):\n",
    "    def __init__(self, embed_dim, num_heads=4,**kwargs):\n",
    "        super(MultiHeadSelfAttention, self).__init__()\n",
    "        self.embed_dim = embed_dim\n",
    "        self.num_heads = num_heads\n",
    "        if embed_dim % num_heads != 0:\n",
    "            raise ValueError(f\"embedding dimension = {embed_dim} should be divisible by number of heads = {num_heads}\")\n",
    "        self.projection_dim = embed_dim // num_heads\n",
    "        self.query_dense = layers.Dense(embed_dim)\n",
    "        self.key_dense = layers.Dense(embed_dim)\n",
    "        self.value_dense = layers.Dense(embed_dim)\n",
    "        self.combine_heads = layers.Dense(embed_dim)\n",
    "#         super(MultiHeadSelfAttention, self).__init__(**kwargs)\n",
    "\n",
    "    def get_config(self):\n",
    "        config = super(MultiHeadSelfAttention, self).get_config()\n",
    "        config.update({\n",
    "            'embed_dim': self.embed_dim,\n",
    "            'num_heads': self.num_heads,\n",
    "            'projection_dim': self.embed_dim // self.num_heads,\n",
    "            'query_dense': layers.Dense(self.embed_dim),\n",
    "            'key_dense': layers.Dense(self.embed_dim),\n",
    "            'value_dense': layers.Dense(self.embed_dim),\n",
    "            'combine_heads': layers.Dense(self.embed_dim)\n",
    "        })\n",
    "        return config\n",
    "    \n",
    "    def attention(self, query, key, value):\n",
    "        score = tf.matmul(query, key, transpose_b=True)\n",
    "        dim_key = tf.cast(tf.shape(key)[-1], tf.float32)\n",
    "        scaled_score = score / tf.math.sqrt(dim_key)\n",
    "        weights = tf.nn.softmax(scaled_score, axis=-1)\n",
    "        output = tf.matmul(weights, value)\n",
    "        return output, weights\n",
    "\n",
    "    def separate_heads(self, x, batch_size):\n",
    "        x = tf.reshape(x, (batch_size, -1, self.num_heads, self.projection_dim))\n",
    "        return tf.transpose(x, perm=[0, 2, 1, 3])\n",
    "\n",
    "    def call(self, inputs):\n",
    "        # x.shape = [batch_size, seq_len, embedding_dim]\n",
    "        batch_size = tf.shape(inputs)[0]\n",
    "        query = self.query_dense(inputs)  # (batch_size, seq_len, embed_dim)\n",
    "        key = self.key_dense(inputs)  # (batch_size, seq_len, embed_dim)\n",
    "        value = self.value_dense(inputs)  # (batch_size, seq_len, embed_dim)\n",
    "        query = self.separate_heads(query, batch_size)  # (batch_size, num_heads, seq_len, projection_dim)\n",
    "        key = self.separate_heads(key, batch_size)  # (batch_size, num_heads, seq_len, projection_dim)\n",
    "        value = self.separate_heads(value, batch_size)  # (batch_size, num_heads, seq_len, projection_dim)\n",
    "        attention, weights = self.attention(query, key, value)\n",
    "        attention = tf.transpose(attention, perm=[0, 2, 1, 3])  # (batch_size, seq_len, num_heads, projection_dim)\n",
    "        concat_attention = tf.reshape(attention, (batch_size, -1, self.embed_dim))  # (batch_size, seq_len, embed_dim)\n",
    "        output = self.combine_heads(concat_attention)  # (batch_size, seq_len, embed_dim)\n",
    "        return output, weights"
   ]
  },
  {
   "cell_type": "code",
   "execution_count": 25,
   "metadata": {
    "ExecuteTime": {
     "end_time": "2021-01-07T13:02:49.366891Z",
     "start_time": "2021-01-07T13:02:49.347846Z"
    }
   },
   "outputs": [],
   "source": [
    "# Defining nützlich functions\n",
    "def plot_metrics(history):\n",
    "    METRICS = [s for s in list(history.history.keys()) if not \"val\" in s]\n",
    "    plt.rcParams['figure.figsize'] = (12, 10)\n",
    "    colors = plt.rcParams['axes.prop_cycle'].by_key()['color']    \n",
    "    for n, metric in enumerate(METRICS):\n",
    "        name = metric.replace(\"_\",\" \").capitalize()\n",
    "        plt.subplot(np.ceil(len(METRICS)/2).astype(int),2,n+1)\n",
    "        plt.plot(history.epoch,  history.history[metric], color=colors[0], label='Train')\n",
    "        plt.plot(history.epoch, history.history['val_'+metric],\n",
    "              color=colors[0], linestyle=\"--\", label='Val')\n",
    "        plt.xlabel('Epoch')\n",
    "        plt.ylabel(name)\n",
    "        plt.legend()\n",
    "        \n",
    "def plot_cm(labels, predictions, p=config['attention']['prob_threshold']):\n",
    "    if predictions.shape[1]>1:\n",
    "        predictions=((predictions>p)[:,1]).astype(int)\n",
    "        cm = confusion_matrix(labels, predictions)\n",
    "    else:\n",
    "        cm = confusion_matrix(labels, predictions > p)\n",
    "    plt.figure(figsize=(5,5))\n",
    "    sns.heatmap(cm, annot=True, fmt=\"d\")\n",
    "    plt.title('Confusion matrix @{:.2f}'.format(p))\n",
    "    plt.ylabel('Actual label')\n",
    "    plt.xlabel('Predicted label')\n",
    "\n",
    "    print('No-conversion Detected (True Negatives): ', cm[0][0])\n",
    "    print('No-conversion Incorrectly Detected (False Positives): ', cm[0][1])\n",
    "    print('Convertions Missed (False Negatives): ', cm[1][0])\n",
    "    print('Convertions Detected (True Positives): ', cm[1][1])\n",
    "    print('Total No-conversions: ', np.sum(cm[0]))\n",
    "    print('Total conversions: ', np.sum(cm[1]))\n",
    "    print('Total conversions/No-conversions: ', np.sum(cm[1])/np.sum(cm[0]))\n",
    "    print('Precision:',(cm[1][1])/(cm[1][1]+cm[0][1]))\n",
    "    print('True Negative Rate',np.sum(cm[0][0])/np.sum(cm[0]))\n",
    "    print('True Positive Rate',np.sum(cm[1][1])/np.sum(cm[1]))\n",
    "    "
   ]
  },
  {
   "cell_type": "markdown",
   "metadata": {},
   "source": [
    "## Make and train model"
   ]
  },
  {
   "cell_type": "code",
   "execution_count": 20,
   "metadata": {
    "ExecuteTime": {
     "end_time": "2021-01-07T14:27:42.563415Z",
     "start_time": "2021-01-07T14:27:42.557440Z"
    }
   },
   "outputs": [],
   "source": [
    "def f1_metric(y_true, y_pred):\n",
    "    K=tf.keras.backend\n",
    "    true_positives = K.sum(K.round(K.clip(y_true * y_pred, 0, 1)))\n",
    "    possible_positives = K.sum(K.round(K.clip(y_true, 0, 1)))\n",
    "    predicted_positives = K.sum(K.round(K.clip(y_pred, 0, 1)))\n",
    "    precision = true_positives / (predicted_positives + K.epsilon())\n",
    "    recall = true_positives / (possible_positives + K.epsilon())\n",
    "    f1_val = 2*(precision*recall)/(precision+recall+K.epsilon())\n",
    "    return f1_val"
   ]
  },
  {
   "cell_type": "code",
   "execution_count": 27,
   "metadata": {
    "ExecuteTime": {
     "end_time": "2021-01-07T13:02:49.413205Z",
     "start_time": "2021-01-07T13:02:49.380249Z"
    }
   },
   "outputs": [],
   "source": [
    "def make_model_t(embed_dim=10,num_heads=1,num_words=2000,**kwargs):\n",
    "    METRICS = [\n",
    "      metrics.BinaryAccuracy(name='accuracy'),\n",
    "      metrics.Precision(name='precision'),\n",
    "      metrics.Recall(name='recall'),\n",
    "      metrics.AUC(name='auc'),\n",
    "      f1_metric,\n",
    "    ]\n",
    "    if kwargs.get('cus_dep_shape'):\n",
    "        cus_dep_shape=kwargs.get('cus_dep_shape')\n",
    "    else: cus_dep_shape=np.nan\n",
    "#  UTIL LAYERS\n",
    "    embedding_layer = TokenAndPositionEmbedding(maxlen, num_words, embed_dim)\n",
    "    attention_layer=MultiHeadSelfAttention(embed_dim, num_heads)\n",
    "#     PATH INPUTS\n",
    "    path_layer=layers.Input(shape=(maxlen,), dtype='int32',name='input_path')\n",
    "    x = embedding_layer(path_layer)\n",
    "#     x=layers.LSTM(embed_dim,return_sequences=True,unroll=True,name='LSTM_path')(x)\n",
    "    x,weights = attention_layer(x)\n",
    "    x = layers.GlobalAveragePooling1D()(x)\n",
    "    x = layers.Dropout(0.1)(x)\n",
    "    x = layers.Dense(64, activation=\"relu\",name='Dense_path')(x)\n",
    "#     TIME-DECAY INPUTS\n",
    "    td_layer = layers.Input(shape=(maxlen,), dtype='float32', name='input_timedecay')\n",
    "    td = embedding_layer(td_layer)\n",
    "#     td=layers.LSTM(maxlen,return_sequences=True,unroll=True,name='LSTM_td')(td_layer)\n",
    "    # td=layers.LSTM(embed_dim,return_sequences=True,unroll=True,name='LSTM_td')(td)\n",
    "    td,_ = attention_layer(td)\n",
    "    td = layers.GlobalAveragePooling1D()(td)\n",
    "    td = layers.Dropout(0.1)(td)\n",
    "    td = layers.Dense(64, activation=\"relu\",name='Dense_td')(td)\n",
    "#     Concatenate path and time decay\n",
    "    x_td=layers.Concatenate()([x,td])\n",
    "    x_td = layers.Dropout(0.1)(x_td)\n",
    "#     CUSTOMER-DEPENDENT INPUTS\n",
    "    cd_input=layers.Input(shape=(cus_dep_shape,), dtype='int32',name='input_cd')\n",
    "    cd = layers.Dense(64, activation=\"relu\",name='Dense_customer1')(cd_input)\n",
    "    cd = layers.Dropout(0.1)(cd)\n",
    "    cd = layers.Dense(32, activation=\"relu\",name='Dense_customer2')(cd)\n",
    "    cd = layers.Dropout(0.1)(cd)\n",
    "#     OUPUTS\n",
    "    x_td_cd=layers.Concatenate()([x_td,cd])\n",
    "    outputs = layers.Dense(1, activation=\"sigmoid\")(x_td_cd)\n",
    "    \n",
    "    model = Model(inputs=[path_layer,td_layer,cd_input], outputs=outputs)\n",
    "    opt = tf.keras.optimizers.Nadam()\n",
    "    model.compile(optimizer=opt, loss=\"binary_crossentropy\", metrics=METRICS)\n",
    "    print(model.summary())\n",
    "    return model"
   ]
  },
  {
   "cell_type": "code",
   "execution_count": 28,
   "metadata": {
    "ExecuteTime": {
     "end_time": "2021-01-07T13:02:49.421191Z",
     "start_time": "2021-01-07T13:02:49.416440Z"
    }
   },
   "outputs": [
    {
     "data": {
      "text/plain": [
       "34"
      ]
     },
     "execution_count": 28,
     "metadata": {},
     "output_type": "execute_result"
    }
   ],
   "source": [
    "C.shape[-1]"
   ]
  },
  {
   "cell_type": "code",
   "execution_count": 29,
   "metadata": {
    "ExecuteTime": {
     "end_time": "2021-01-07T13:02:49.430501Z",
     "start_time": "2021-01-07T13:02:49.423642Z"
    }
   },
   "outputs": [
    {
     "data": {
      "text/plain": [
       "5000"
      ]
     },
     "execution_count": 29,
     "metadata": {},
     "output_type": "execute_result"
    }
   ],
   "source": [
    "config['attention']['max_features']"
   ]
  },
  {
   "cell_type": "code",
   "execution_count": 30,
   "metadata": {
    "ExecuteTime": {
     "end_time": "2021-01-07T13:02:52.372463Z",
     "start_time": "2021-01-07T13:02:51.036818Z"
    },
    "scrolled": true,
    "tags": []
   },
   "outputs": [
    {
     "name": "stdout",
     "output_type": "stream",
     "text": [
      "Model: \"model\"\n",
      "__________________________________________________________________________________________________\n",
      "Layer (type)                    Output Shape         Param #     Connected to                     \n",
      "==================================================================================================\n",
      "input_path (InputLayer)         [(None, 8)]          0                                            \n",
      "__________________________________________________________________________________________________\n",
      "input_timedecay (InputLayer)    [(None, 8)]          0                                            \n",
      "__________________________________________________________________________________________________\n",
      "token_and_position_embedding (T (None, 8, 64)        320512      input_path[0][0]                 \n",
      "                                                                 input_timedecay[0][0]            \n",
      "__________________________________________________________________________________________________\n",
      "multi_head_self_attention (Mult ((None, None, 64), ( 16640       token_and_position_embedding[0][0\n",
      "                                                                 token_and_position_embedding[1][0\n",
      "__________________________________________________________________________________________________\n",
      "global_average_pooling1d (Globa (None, 64)           0           multi_head_self_attention[0][0]  \n",
      "__________________________________________________________________________________________________\n",
      "global_average_pooling1d_1 (Glo (None, 64)           0           multi_head_self_attention[1][0]  \n",
      "__________________________________________________________________________________________________\n",
      "input_cd (InputLayer)           [(None, 34)]         0                                            \n",
      "__________________________________________________________________________________________________\n",
      "dropout (Dropout)               (None, 64)           0           global_average_pooling1d[0][0]   \n",
      "__________________________________________________________________________________________________\n",
      "dropout_1 (Dropout)             (None, 64)           0           global_average_pooling1d_1[0][0] \n",
      "__________________________________________________________________________________________________\n",
      "Dense_customer1 (Dense)         (None, 64)           2240        input_cd[0][0]                   \n",
      "__________________________________________________________________________________________________\n",
      "Dense_path (Dense)              (None, 64)           4160        dropout[0][0]                    \n",
      "__________________________________________________________________________________________________\n",
      "Dense_td (Dense)                (None, 64)           4160        dropout_1[0][0]                  \n",
      "__________________________________________________________________________________________________\n",
      "dropout_3 (Dropout)             (None, 64)           0           Dense_customer1[0][0]            \n",
      "__________________________________________________________________________________________________\n",
      "concatenate (Concatenate)       (None, 128)          0           Dense_path[0][0]                 \n",
      "                                                                 Dense_td[0][0]                   \n",
      "__________________________________________________________________________________________________\n",
      "Dense_customer2 (Dense)         (None, 32)           2080        dropout_3[0][0]                  \n",
      "__________________________________________________________________________________________________\n",
      "dropout_2 (Dropout)             (None, 128)          0           concatenate[0][0]                \n",
      "__________________________________________________________________________________________________\n",
      "dropout_4 (Dropout)             (None, 32)           0           Dense_customer2[0][0]            \n",
      "__________________________________________________________________________________________________\n",
      "concatenate_1 (Concatenate)     (None, 160)          0           dropout_2[0][0]                  \n",
      "                                                                 dropout_4[0][0]                  \n",
      "__________________________________________________________________________________________________\n",
      "dense_4 (Dense)                 (None, 1)            161         concatenate_1[0][0]              \n",
      "==================================================================================================\n",
      "Total params: 349,953\n",
      "Trainable params: 349,953\n",
      "Non-trainable params: 0\n",
      "__________________________________________________________________________________________________\n",
      "None\n"
     ]
    }
   ],
   "source": [
    "# print('Embedding dimesions: ', (config['attention']['embed_dim']), '- total vocab size :', vocab_size, '- used vocab size:', config['attention']['max_features'])\n",
    "# print('Number of attention heads: ', config['attention']['num_heads'])\n",
    "model=make_model_t(\n",
    "                embed_dim=config['attention']['embed_dim']\n",
    "                ,num_heads=config['attention']['num_heads']\n",
    "                ,num_words=config['attention']['max_features']\n",
    "                ,cus_dep_shape=C.shape[-1]\n",
    "                )"
   ]
  },
  {
   "cell_type": "code",
   "execution_count": 64,
   "metadata": {
    "ExecuteTime": {
     "end_time": "2020-12-28T19:38:50.756171Z",
     "start_time": "2020-12-28T19:38:50.753471Z"
    }
   },
   "outputs": [],
   "source": [
    "# print('MODEL INPUTS \\n')\n",
    "# [print(i.shape, i.dtype) for i in model.inputs]\n",
    "# print('MODEL OUTPUTS \\n')\n",
    "# [print(o.shape, o.dtype) for o in model.outputs]\n",
    "# print('MODEL LAYERS \\n')\n",
    "# [print(l.name, '*', l.input_shape, '*', l.dtype) for l in model.layers]"
   ]
  },
  {
   "cell_type": "code",
   "execution_count": 31,
   "metadata": {
    "ExecuteTime": {
     "end_time": "2021-01-07T13:11:02.902640Z",
     "start_time": "2021-01-07T13:03:01.916908Z"
    },
    "scrolled": true,
    "tags": []
   },
   "outputs": [
    {
     "name": "stdout",
     "output_type": "stream",
     "text": [
      "Batch size:  2048\n",
      "Epochs:  20\n",
      "WARNING:tensorflow:sample_weight modes were coerced from\n",
      "  ...\n",
      "    to  \n",
      "  ['...']\n",
      "WARNING:tensorflow:sample_weight modes were coerced from\n",
      "  ...\n",
      "    to  \n",
      "  ['...']\n",
      "Train on 1691503 samples, validate on 422876 samples\n",
      "Epoch 1/20\n",
      "1691503/1691503 [==============================] - 120s 71us/sample - loss: 0.8689 - accuracy: 0.8424 - precision: 0.1683 - recall: 0.8245 - auc: 0.8682 - f1_metric: 0.2808 - val_loss: 0.3939 - val_accuracy: 0.8369 - val_precision: 0.1692 - val_recall: 0.8691 - val_auc: 0.8995 - val_f1_metric: 0.2827\n",
      "Epoch 2/20\n",
      "1691503/1691503 [==============================] - 114s 67us/sample - loss: 0.3928 - accuracy: 0.8426 - precision: 0.1733 - recall: 0.8600 - auc: 0.8983 - f1_metric: 0.2880 - val_loss: 0.3906 - val_accuracy: 0.8377 - val_precision: 0.1701 - val_recall: 0.8702 - val_auc: 0.9013 - val_f1_metric: 0.2840\n",
      "Epoch 3/20\n",
      "1691503/1691503 [==============================] - 121s 71us/sample - loss: 0.3860 - accuracy: 0.8445 - precision: 0.1754 - recall: 0.8626 - auc: 0.9015 - f1_metric: 0.2911 - val_loss: 0.3904 - val_accuracy: 0.8481 - val_precision: 0.1772 - val_recall: 0.8495 - val_auc: 0.9011 - val_f1_metric: 0.2926\n",
      "Epoch 4/20\n",
      "1691503/1691503 [==============================] - 124s 73us/sample - loss: 0.3826 - accuracy: 0.8471 - precision: 0.1782 - recall: 0.8645 - auc: 0.9029 - f1_metric: 0.2951 - val_loss: 0.3901 - val_accuracy: 0.8464 - val_precision: 0.1758 - val_recall: 0.8516 - val_auc: 0.9009 - val_f1_metric: 0.2908\n",
      "Epoch 00004: early stopping\n"
     ]
    }
   ],
   "source": [
    "print('Batch size: ', config['attention']['BATCH_SIZE'])\n",
    "print('Epochs: ', config['attention']['EPOCHS'])\n",
    "logdir = os.path.join(\"logs\", datetime.now().strftime(\"%Y%m%d-%H%M%S\"))\n",
    "tensorboard_callback = tf.keras.callbacks.TensorBoard(logdir, histogram_freq=1)\n",
    "early_stopping = tf.keras.callbacks.EarlyStopping(monitor='val_recall',min_delta=0.02,patience=3,\n",
    "                                                mode='max',restore_best_weights=False,verbose=1)\n",
    "historymh= model.fit([X_train,TD_train,C_train],y_train.astype(int),\n",
    "                    batch_size=config['attention']['BATCH_SIZE'], \n",
    "                    epochs=config['attention']['EPOCHS'],\n",
    "                    validation_data=([X_val,TD_val,C_val], y_val.astype(int)),\n",
    "                    class_weight=class_weight,\n",
    "                    callbacks=[tensorboard_callback,early_stopping],\n",
    "                    verbose=1)"
   ]
  },
  {
   "cell_type": "code",
   "execution_count": 32,
   "metadata": {
    "ExecuteTime": {
     "end_time": "2021-01-07T13:12:34.781360Z",
     "start_time": "2021-01-07T13:12:24.438914Z"
    },
    "tags": []
   },
   "outputs": [
    {
     "name": "stdout",
     "output_type": "stream",
     "text": [
      "Validation results\n",
      "loss :  0.41411063392768366\n",
      "accuracy :  0.8464207\n",
      "precision :  0.17579699\n",
      "recall :  0.85162276\n",
      "auc :  0.9009106\n",
      "f1_metric :  0.29082173\n",
      "\n"
     ]
    }
   ],
   "source": [
    "val_results = model.evaluate(\n",
    "    [X_val,TD_val,C_val], y_val,\n",
    "    batch_size=config['attention']['BATCH_SIZE'], verbose=0\n",
    ")\n",
    "print('Validation results')\n",
    "for name, value in zip(model.metrics_names, val_results):\n",
    "    print(name, ': ', value)\n",
    "print()"
   ]
  },
  {
   "cell_type": "code",
   "execution_count": 33,
   "metadata": {
    "ExecuteTime": {
     "end_time": "2021-01-07T13:12:36.081349Z",
     "start_time": "2021-01-07T13:12:34.783444Z"
    }
   },
   "outputs": [
    {
     "data": {
      "image/png": "[encoded data removed]",
      "text/plain": [
       "<Figure size 864x720 with 6 Axes>"
      ]
     },
     "metadata": {},
     "output_type": "display_data"
    }
   ],
   "source": [
    "plot_metrics(historymh)"
   ]
  },
  {
   "cell_type": "code",
   "execution_count": 34,
   "metadata": {
    "ExecuteTime": {
     "end_time": "2021-01-07T13:12:53.638196Z",
     "start_time": "2021-01-07T13:12:53.568533Z"
    }
   },
   "outputs": [],
   "source": [
    "model.save('../../ml/model/attention_model/model.h5')"
   ]
  },
  {
   "cell_type": "markdown",
   "metadata": {},
   "source": [
    "# Test set loading"
   ]
  },
  {
   "cell_type": "code",
   "execution_count": 1,
   "metadata": {
    "ExecuteTime": {
     "end_time": "2021-01-07T14:27:00.387365Z",
     "start_time": "2021-01-07T14:27:00.377425Z"
    }
   },
   "outputs": [
    {
     "data": {
      "application/javascript": [
       "Jupyter.notebook.execute_cells([0])"
      ],
      "text/plain": [
       "<IPython.core.display.Javascript object>"
      ]
     },
     "execution_count": 1,
     "metadata": {},
     "output_type": "execute_result"
    }
   ],
   "source": [
    "#cells to execute\n",
    "from IPython.display import Javascript\n",
    "Javascript(\"Jupyter.notebook.execute_cells([0])\")"
   ]
  },
  {
   "cell_type": "code",
   "execution_count": 3,
   "metadata": {
    "ExecuteTime": {
     "end_time": "2021-01-07T14:27:04.131992Z",
     "start_time": "2021-01-07T14:27:04.125048Z"
    }
   },
   "outputs": [
    {
     "data": {
      "application/javascript": [
       "Jupyter.notebook.execute_cells([2])"
      ],
      "text/plain": [
       "<IPython.core.display.Javascript object>"
      ]
     },
     "execution_count": 3,
     "metadata": {},
     "output_type": "execute_result"
    }
   ],
   "source": [
    "Javascript(\"Jupyter.notebook.execute_cells([2])\")"
   ]
  },
  {
   "cell_type": "code",
   "execution_count": 5,
   "metadata": {
    "ExecuteTime": {
     "end_time": "2021-01-07T14:27:05.696753Z",
     "start_time": "2021-01-07T14:27:05.690888Z"
    }
   },
   "outputs": [
    {
     "data": {
      "application/javascript": [
       "Jupyter.notebook.execute_cells([4])"
      ],
      "text/plain": [
       "<IPython.core.display.Javascript object>"
      ]
     },
     "execution_count": 5,
     "metadata": {},
     "output_type": "execute_result"
    }
   ],
   "source": [
    "Javascript(\"Jupyter.notebook.execute_cells([4])\")"
   ]
  },
  {
   "cell_type": "code",
   "execution_count": 7,
   "metadata": {
    "ExecuteTime": {
     "end_time": "2021-01-07T14:27:07.436284Z",
     "start_time": "2021-01-07T14:27:07.431862Z"
    }
   },
   "outputs": [
    {
     "data": {
      "application/javascript": [
       "Jupyter.notebook.execute_cells([28])"
      ],
      "text/plain": [
       "<IPython.core.display.Javascript object>"
      ]
     },
     "execution_count": 7,
     "metadata": {},
     "output_type": "execute_result"
    }
   ],
   "source": [
    "Javascript(\"Jupyter.notebook.execute_cells([28])\")"
   ]
  },
  {
   "cell_type": "code",
   "execution_count": 8,
   "metadata": {
    "ExecuteTime": {
     "end_time": "2021-01-07T14:27:09.142320Z",
     "start_time": "2021-01-07T14:27:09.135557Z"
    }
   },
   "outputs": [
    {
     "data": {
      "application/javascript": [
       "Jupyter.notebook.execute_cells([29])"
      ],
      "text/plain": [
       "<IPython.core.display.Javascript object>"
      ]
     },
     "execution_count": 8,
     "metadata": {},
     "output_type": "execute_result"
    }
   ],
   "source": [
    "Javascript(\"Jupyter.notebook.execute_cells([29])\")"
   ]
  },
  {
   "cell_type": "code",
   "execution_count": 10,
   "metadata": {
    "ExecuteTime": {
     "end_time": "2021-01-07T14:27:10.773802Z",
     "start_time": "2021-01-07T14:27:10.769061Z"
    }
   },
   "outputs": [
    {
     "data": {
      "application/javascript": [
       "Jupyter.notebook.execute_cells([30])"
      ],
      "text/plain": [
       "<IPython.core.display.Javascript object>"
      ]
     },
     "execution_count": 10,
     "metadata": {},
     "output_type": "execute_result"
    }
   ],
   "source": [
    "Javascript(\"Jupyter.notebook.execute_cells([30])\")"
   ]
  },
  {
   "cell_type": "code",
   "execution_count": 19,
   "metadata": {
    "ExecuteTime": {
     "end_time": "2021-01-07T14:27:42.410995Z",
     "start_time": "2021-01-07T14:27:42.405443Z"
    }
   },
   "outputs": [
    {
     "data": {
      "application/javascript": [
       "Jupyter.notebook.execute_cells([33])"
      ],
      "text/plain": [
       "<IPython.core.display.Javascript object>"
      ]
     },
     "execution_count": 19,
     "metadata": {},
     "output_type": "execute_result"
    }
   ],
   "source": [
    "Javascript(\"Jupyter.notebook.execute_cells([33])\")"
   ]
  },
  {
   "cell_type": "code",
   "execution_count": 15,
   "metadata": {
    "ExecuteTime": {
     "end_time": "2021-01-07T14:27:19.404281Z",
     "start_time": "2021-01-07T14:27:19.399798Z"
    }
   },
   "outputs": [
    {
     "data": {
      "text/plain": [
       "'../../ml/input/data/raw/crm_tests_user_tracking.csv'"
      ]
     },
     "execution_count": 15,
     "metadata": {},
     "output_type": "execute_result"
    }
   ],
   "source": [
    "config['data']['dataset_filename']"
   ]
  },
  {
   "cell_type": "code",
   "execution_count": 14,
   "metadata": {
    "ExecuteTime": {
     "end_time": "2021-01-07T14:27:16.768752Z",
     "start_time": "2021-01-07T14:27:16.762234Z"
    }
   },
   "outputs": [],
   "source": [
    "# config['data']['dataset_filename'] = '../../ml/input/data/raw/M_A_dataset_twoweek_crm.csv'\n",
    "# config['data']['dataset_filename'] = '../../ml/input/data/raw/M_A_dataset_twoweek_fb.csv'\n",
    "config['data']['dataset_filename'] = '../../ml/input/data/raw/crm_tests_user_tracking.csv'"
   ]
  },
  {
   "cell_type": "code",
   "execution_count": 16,
   "metadata": {
    "ExecuteTime": {
     "end_time": "2021-01-07T14:27:21.508219Z",
     "start_time": "2021-01-07T14:27:21.501718Z"
    }
   },
   "outputs": [],
   "source": [
    "#previous parameters - from training\n",
    "#load funcions and load tensorflow custom layers\n",
    "\n",
    "# maxlen= 8\n",
    "Ccols=['birthday',\n",
    " 'cust_created_year',\n",
    " 'country_region_(not set)',\n",
    " 'country_region_federal district',\n",
    " 'country_region_foreign_country',\n",
    " 'country_region_state of acre',\n",
    " 'country_region_state of alagoas',\n",
    " 'country_region_state of amapa',\n",
    " 'country_region_state of amazonas',\n",
    " 'country_region_state of bahia',\n",
    " 'country_region_state of ceara',\n",
    " 'country_region_state of espirito santo',\n",
    " 'country_region_state of goias',\n",
    " 'country_region_state of maranhao',\n",
    " 'country_region_state of mato grosso',\n",
    " 'country_region_state of mato grosso do sul',\n",
    " 'country_region_state of minas gerais',\n",
    " 'country_region_state of para',\n",
    " 'country_region_state of paraiba',\n",
    " 'country_region_state of parana',\n",
    " 'country_region_state of pernambuco',\n",
    " 'country_region_state of piaui',\n",
    " 'country_region_state of rio de janeiro',\n",
    " 'country_region_state of rio grande do norte',\n",
    " 'country_region_state of rio grande do sul',\n",
    " 'country_region_state of rondonia',\n",
    " 'country_region_state of roraima',\n",
    " 'country_region_state of santa catarina',\n",
    " 'country_region_state of sao paulo',\n",
    " 'country_region_state of sergipe',\n",
    " 'country_region_state of tocantins',\n",
    " 'gender_female',\n",
    " 'gender_male',\n",
    "'gender_not_set']"
   ]
  },
  {
   "cell_type": "markdown",
   "metadata": {},
   "source": [
    "## Predict in chunks"
   ]
  },
  {
   "cell_type": "code",
   "execution_count": 21,
   "metadata": {
    "ExecuteTime": {
     "end_time": "2021-01-07T14:27:52.433085Z",
     "start_time": "2021-01-07T14:27:48.194481Z"
    },
    "tags": []
   },
   "outputs": [
    {
     "name": "stdout",
     "output_type": "stream",
     "text": [
      "Initial memory footprint: 465.19140625 in MB\n",
      "MAXLEN: 8\n",
      "Model: \"model\"\n",
      "__________________________________________________________________________________________________\n",
      "Layer (type)                    Output Shape         Param #     Connected to                     \n",
      "==================================================================================================\n",
      "input_path (InputLayer)         [(None, 8)]          0                                            \n",
      "__________________________________________________________________________________________________\n",
      "input_timedecay (InputLayer)    [(None, 8)]          0                                            \n",
      "__________________________________________________________________________________________________\n",
      "token_and_position_embedding (T (None, 8, 64)        320512      input_path[0][0]                 \n",
      "                                                                 input_timedecay[0][0]            \n",
      "__________________________________________________________________________________________________\n",
      "multi_head_self_attention (Mult ((None, None, 64), ( 16640       token_and_position_embedding[0][0\n",
      "                                                                 token_and_position_embedding[1][0\n",
      "__________________________________________________________________________________________________\n",
      "global_average_pooling1d (Globa (None, 64)           0           multi_head_self_attention[0][0]  \n",
      "__________________________________________________________________________________________________\n",
      "global_average_pooling1d_1 (Glo (None, 64)           0           multi_head_self_attention[1][0]  \n",
      "__________________________________________________________________________________________________\n",
      "input_cd (InputLayer)           [(None, 34)]         0                                            \n",
      "__________________________________________________________________________________________________\n",
      "dropout (Dropout)               (None, 64)           0           global_average_pooling1d[0][0]   \n",
      "__________________________________________________________________________________________________\n",
      "dropout_1 (Dropout)             (None, 64)           0           global_average_pooling1d_1[0][0] \n",
      "__________________________________________________________________________________________________\n",
      "Dense_customer1 (Dense)         (None, 64)           2240        input_cd[0][0]                   \n",
      "__________________________________________________________________________________________________\n",
      "Dense_path (Dense)              (None, 64)           4160        dropout[0][0]                    \n",
      "__________________________________________________________________________________________________\n",
      "Dense_td (Dense)                (None, 64)           4160        dropout_1[0][0]                  \n",
      "__________________________________________________________________________________________________\n",
      "dropout_3 (Dropout)             (None, 64)           0           Dense_customer1[0][0]            \n",
      "__________________________________________________________________________________________________\n",
      "concatenate (Concatenate)       (None, 128)          0           Dense_path[0][0]                 \n",
      "                                                                 Dense_td[0][0]                   \n",
      "__________________________________________________________________________________________________\n",
      "Dense_customer2 (Dense)         (None, 32)           2080        dropout_3[0][0]                  \n",
      "__________________________________________________________________________________________________\n",
      "dropout_2 (Dropout)             (None, 128)          0           concatenate[0][0]                \n",
      "__________________________________________________________________________________________________\n",
      "dropout_4 (Dropout)             (None, 32)           0           Dense_customer2[0][0]            \n",
      "__________________________________________________________________________________________________\n",
      "concatenate_1 (Concatenate)     (None, 160)          0           dropout_2[0][0]                  \n",
      "                                                                 dropout_4[0][0]                  \n",
      "__________________________________________________________________________________________________\n",
      "dense_4 (Dense)                 (None, 1)            161         concatenate_1[0][0]              \n",
      "==================================================================================================\n",
      "Total params: 349,953\n",
      "Trainable params: 349,953\n",
      "Non-trainable params: 0\n",
      "__________________________________________________________________________________________________\n",
      "After model memory footprint: 529.5078125 in MB\n"
     ]
    }
   ],
   "source": [
    "#loading test dataset\n",
    "print(f'Initial memory footprint: {memory_footprint()} in MB')\n",
    "# config['data']['dataset_filename']='../../ml/input/data/raw/M_A_dataset_twoweek_fb.csv'\n",
    "#tokenizer loading\n",
    "with open('../../ml/model/attention_model/tokenizer.pickle', 'rb') as handle:\n",
    "    tk = pickle.load(handle)\n",
    "#model loading\n",
    "model=tf.keras.models.load_model(\n",
    "    '../../ml/model/attention_model/model.h5',\n",
    "    custom_objects={\n",
    "        'TokenAndPositionEmbedding': TokenAndPositionEmbedding,\n",
    "        'MultiHeadSelfAttention': MultiHeadSelfAttention,\n",
    "        'f1_metric':f1_metric\n",
    "    }\n",
    ")\n",
    "inlist=[(l.name, '*', l.input_shape, '*', l.dtype) for l in model.layers]\n",
    "maxlen = inlist[0][2][0][1]\n",
    "print(f'MAXLEN: {maxlen}')\n",
    "model.summary()\n",
    "print(f'After model memory footprint: {memory_footprint()} in MB')"
   ]
  },
  {
   "cell_type": "code",
   "execution_count": 22,
   "metadata": {
    "ExecuteTime": {
     "end_time": "2021-01-07T14:27:52.443980Z",
     "start_time": "2021-01-07T14:27:52.435099Z"
    }
   },
   "outputs": [
    {
     "data": {
      "text/plain": [
       "529.63671875"
      ]
     },
     "execution_count": 22,
     "metadata": {},
     "output_type": "execute_result"
    }
   ],
   "source": [
    "memory_footprint()"
   ]
  },
  {
   "cell_type": "code",
   "execution_count": 23,
   "metadata": {
    "ExecuteTime": {
     "end_time": "2021-01-07T14:27:53.784243Z",
     "start_time": "2021-01-07T14:27:53.781170Z"
    }
   },
   "outputs": [],
   "source": [
    "config['data']['maximum_memory_usage']=3000"
   ]
  },
  {
   "cell_type": "code",
   "execution_count": 25,
   "metadata": {
    "ExecuteTime": {
     "end_time": "2021-01-07T14:27:55.371508Z",
     "start_time": "2021-01-07T14:27:55.340705Z"
    }
   },
   "outputs": [],
   "source": [
    "def load_and_predict_test_dataframe(config=config,maxlen=maxlen,Ccols=Ccols,tk=tk,model=model):\n",
    "    t0=time()\n",
    "    flatten = lambda l: [item for sublist in l for item in sublist]\n",
    "    filename = config['data']['dataset_filename']\n",
    "    chunksize = config['data']['csv_parsing_chunksize']\n",
    "    drop_aggsessions = config['data']['drop_aggsessions_from_dataframe']\n",
    "    test_one_chunk=config['data']['test_one_chunk']\n",
    "    maximum_memory_usage=config['data']['maximum_memory_usage']\n",
    "    #set attention model\n",
    "    attention_layer = model.layers[3] # or model.get_layer(\"attention”)\n",
    "    attention_model = Model(inputs=model.inputs, outputs=model.outputs + [attention_layer.output])\n",
    "    print('Calculating chunks...')\n",
    "# '''Returns memory (in MB) being used by Python process'''\n",
    "    with open(filename, 'r') as f:\n",
    "        total_lines = sum(1 for line in f) - 1\n",
    "    num_chunks = int(np.ceil(total_lines/chunksize))\n",
    "    print(f'Dataset name: {filename}')\n",
    "    print(f'Chunck size: {chunksize}.\\nTotal number of chunks: {num_chunks}')\n",
    "    print('\\nImporting dataset...')\n",
    "    df_iterator = pd.read_csv(filename, chunksize=chunksize)\n",
    "    corpus = []\n",
    "    y_true = []\n",
    "    y_pred = []\n",
    "    W = []\n",
    "    df_s = pd.DataFrame()\n",
    "    df_tri= pd.DataFrame()\n",
    "    df_tripos= pd.DataFrame()\n",
    "    df_utm= pd.DataFrame()\n",
    "    df_utmpos= pd.DataFrame()\n",
    "    df_con = pd.DataFrame()\n",
    "    df_gid = pd.DataFrame()\n",
    "    for df_c in tqdm(df_iterator, total=num_chunks):\n",
    "#CONTROL VARIABLES BY CLIENT\n",
    "#creating conversion groups based on num_orders\n",
    "        df_c['agg_sessions']=df_c['agg_sessions'].str.split(';')\n",
    "        df_c=df_c.explode('agg_sessions')\n",
    "        df_c['agg_sessions']=df_c['agg_sessions'].str.split(':')\n",
    "        # get parameters from agg_sessions\n",
    "# creating columns spliting session informations\n",
    "#         CROP ONLY FULLVISITOR ID IDENTIFICATOR\n",
    "        df_c=df_c[df_c['gid'].apply(str).str.contains(':')==False]\n",
    "        df_c['utm_hash']=df_c['agg_sessions'].apply(lambda x: x[0]).str.split(',')\n",
    "        df_c['sess']=df_c['agg_sessions'].apply(lambda x: np.fromstring(x[1],dtype=int,sep=(','))).apply(lambda x: time_decay(x))\n",
    "        df_c['trinomials']=df_c['agg_sessions'].apply(lambda x: x[2]).str.replace(' ','').str.replace('1','kwDft').str.replace('0','nokwDft').str.split(',')\n",
    "        df_c['value']=df_c['agg_sessions'].apply(lambda x: np.fromstring(x[3],dtype=float,sep=(',')))\n",
    "        df_c=df_c[df_c['utm_hash'].apply(len)<=maxlen]\n",
    "\n",
    "        df_c_con=(df_c[['gid','country_region','gender','birthday','cust_created_year']])\n",
    "        df_c_gid=df_c[['gid','os','is_control','fk_customer','country']]\n",
    "        df_c=df_c.drop(['agg_cvg'\n",
    "#                         ,'agg_sessions'\n",
    "                       ],axis=1)\n",
    "        df_c=df_c.drop(['gid','os','is_control','fk_customer','country','country_region','gender','birthday','cust_created_year'],axis=1)\n",
    "        df_s=df_s.append(df_c)\n",
    "        df_con=df_con.append(df_c_con)\n",
    "        df_gid=df_gid.append(df_c_gid)\n",
    "\n",
    "        y_test=(df_c['value']>0).values.astype(int)\n",
    "        y_true.append(list(y_test))\n",
    "#NLP processing         \n",
    "        corpus_test=df_c['utm_hash'].to_list()\n",
    "        X_test=tk.texts_to_sequences(corpus_test)\n",
    "        X_test = pad_sequences(X_test, maxlen=maxlen,padding='post') # customer path\n",
    "        TD_test=pad_sequences(df_c['sess'].values,maxlen=maxlen,dtype='float32',padding='post') # time decay from sessions\n",
    "        C_test=pd.DataFrame(columns=Ccols) #to C_test to have same dimensions of C_train\n",
    "        C=pd.get_dummies(df_c_con.drop('gid',axis=1), columns=['country_region', 'gender'])# customer dependet \n",
    "        C_test=C_test.append(C)\n",
    "        C_test=C_test.fillna(0)\n",
    "# attention_model\n",
    "        y_pred0, _,W0 = attention_model.predict([X_test,TD_test,C_test], batch_size=config['attention']['BATCH_SIZE']) #out,att,W=...\n",
    "        W.append(W0)\n",
    "        y_pred.append(list(y_pred0))\n",
    "        if test_one_chunk:\n",
    "            print('One Chunk ok!')\n",
    "            break\n",
    "        if memory_footprint()>maximum_memory_usage:\n",
    "            print('memory footprint')\n",
    "            print('Process broken by memory..')\n",
    "            print(f'Memory used by python process is  {np.round(memory_footprint(),2)} MB')\n",
    "            print(f'Is greater than the maximum memory usage parameter: {maximum_memory_usage} MB')\n",
    "            print(f'Final Dataframe shape {df_s.shape}')\n",
    "            print(f'Done! {np.round((time()-t0)/60,2)} min spent')\n",
    "            break\n",
    "            \n",
    "    y_pred=np.array(flatten(y_pred))\n",
    "    y_true=np.array(flatten(y_true))\n",
    "    W=np.array(flatten(W))\n",
    "    W=(W.sum(axis=1))/2 #sum over heads [dim_corpus, dim_heads, dim_maxlen, dim_maxlen] \n",
    "\n",
    "    return y_true, y_pred, df_con,df_s,W,df_gid#, df_tri,df_tripos,df_utm,df_utmpos"
   ]
  },
  {
   "cell_type": "code",
   "execution_count": 26,
   "metadata": {
    "ExecuteTime": {
     "end_time": "2021-01-07T14:28:16.042024Z",
     "start_time": "2021-01-07T14:27:56.525354Z"
    },
    "tags": []
   },
   "outputs": [
    {
     "name": "stderr",
     "output_type": "stream",
     "text": [
      "\r",
      "  0%|          | 0/2 [00:00<?, ?it/s]"
     ]
    },
    {
     "name": "stdout",
     "output_type": "stream",
     "text": [
      "Calculating chunks...\n",
      "Dataset name: ../../ml/input/data/raw/crm_tests_user_tracking.csv\n",
      "Chunck size: 100000.\n",
      "Total number of chunks: 2\n",
      "\n",
      "Importing dataset...\n"
     ]
    },
    {
     "name": "stderr",
     "output_type": "stream",
     "text": [
      "100%|██████████| 2/2 [00:19<00:00,  9.53s/it]\n"
     ]
    }
   ],
   "source": [
    "y_true, y_pred, df_con, df_s, W, df_gid = load_and_predict_test_dataframe(config=config,maxlen=maxlen,Ccols=Ccols,tk=tk,model=model)"
   ]
  },
  {
   "cell_type": "code",
   "execution_count": 34,
   "metadata": {
    "ExecuteTime": {
     "end_time": "2021-01-07T14:28:28.308393Z",
     "start_time": "2021-01-07T14:28:27.510320Z"
    }
   },
   "outputs": [
    {
     "data": {
      "text/html": [
       "<div>\n",
       "<style scoped>\n",
       "    .dataframe tbody tr th:only-of-type {\n",
       "        vertical-align: middle;\n",
       "    }\n",
       "\n",
       "    .dataframe tbody tr th {\n",
       "        vertical-align: top;\n",
       "    }\n",
       "\n",
       "    .dataframe thead th {\n",
       "        text-align: right;\n",
       "    }\n",
       "</style>\n",
       "<table border=\"1\" class=\"dataframe\">\n",
       "  <thead>\n",
       "    <tr style=\"text-align: right;\">\n",
       "      <th>y_true</th>\n",
       "      <th>0</th>\n",
       "      <th>1</th>\n",
       "    </tr>\n",
       "    <tr>\n",
       "      <th>trinomials</th>\n",
       "      <th></th>\n",
       "      <th></th>\n",
       "    </tr>\n",
       "  </thead>\n",
       "  <tbody>\n",
       "    <tr>\n",
       "      <th>prospecting_dp_nokwDft</th>\n",
       "      <td>0.249852</td>\n",
       "      <td>0.231240</td>\n",
       "    </tr>\n",
       "    <tr>\n",
       "      <th>pushnotification_crm_nokwDft</th>\n",
       "      <td>0.176841</td>\n",
       "      <td>0.137248</td>\n",
       "    </tr>\n",
       "    <tr>\n",
       "      <th>(direct)_(none)_nokwDft</th>\n",
       "      <td>0.135448</td>\n",
       "      <td>0.126124</td>\n",
       "    </tr>\n",
       "    <tr>\n",
       "      <th>google_cpc_nokwDft</th>\n",
       "      <td>0.104789</td>\n",
       "      <td>0.118165</td>\n",
       "    </tr>\n",
       "    <tr>\n",
       "      <th>emailtrans_dafiti_em_nokwDft</th>\n",
       "      <td>0.080899</td>\n",
       "      <td>0.035358</td>\n",
       "    </tr>\n",
       "    <tr>\n",
       "      <th>...</th>\n",
       "      <td>...</td>\n",
       "      <td>...</td>\n",
       "    </tr>\n",
       "    <tr>\n",
       "      <th>qo-br.com_referral_nokwDft</th>\n",
       "      <td>0.000000</td>\n",
       "      <td>0.000034</td>\n",
       "    </tr>\n",
       "    <tr>\n",
       "      <th>ciadosdescontos_(notset)_nokwDft</th>\n",
       "      <td>0.000000</td>\n",
       "      <td>0.000007</td>\n",
       "    </tr>\n",
       "    <tr>\n",
       "      <th>t-qpfgzkwDftep_xxtrtlij8kbawuunys_nokwDft_(notset)_nokwDft</th>\n",
       "      <td>0.000000</td>\n",
       "      <td>0.000007</td>\n",
       "    </tr>\n",
       "    <tr>\n",
       "      <th>(notset)_(notset)_nokwDft</th>\n",
       "      <td>0.000000</td>\n",
       "      <td>0.000007</td>\n",
       "    </tr>\n",
       "    <tr>\n",
       "      <th>q4fkwDftb8unbznoeikwkra9utm-kulmemk_(notset)_nokwDft</th>\n",
       "      <td>0.000000</td>\n",
       "      <td>0.000007</td>\n",
       "    </tr>\n",
       "  </tbody>\n",
       "</table>\n",
       "<p>143 rows × 2 columns</p>\n",
       "</div>"
      ],
      "text/plain": [
       "y_true                                                     0         1\n",
       "trinomials                                                            \n",
       "prospecting_dp_nokwDft                              0.249852  0.231240\n",
       "pushnotification_crm_nokwDft                        0.176841  0.137248\n",
       "(direct)_(none)_nokwDft                             0.135448  0.126124\n",
       "google_cpc_nokwDft                                  0.104789  0.118165\n",
       "emailtrans_dafiti_em_nokwDft                        0.080899  0.035358\n",
       "...                                                      ...       ...\n",
       "qo-br.com_referral_nokwDft                          0.000000  0.000034\n",
       "ciadosdescontos_(notset)_nokwDft                    0.000000  0.000007\n",
       "t-qpfgzkwDftep_xxtrtlij8kbawuunys_nokwDft_(nots...  0.000000  0.000007\n",
       "(notset)_(notset)_nokwDft                           0.000000  0.000007\n",
       "q4fkwDftb8unbznoeikwkra9utm-kulmemk_(notset)_no...  0.000000  0.000007\n",
       "\n",
       "[143 rows x 2 columns]"
      ]
     },
     "execution_count": 34,
     "metadata": {},
     "output_type": "execute_result"
    }
   ],
   "source": [
    "df_s['y_true']=y_true\n",
    "df_aux=(df_s.explode('trinomials').groupby('y_true')['trinomials'].value_counts()).unstack().T.fillna(0)#to_frame().sum(axis=1)\n",
    "df_aux.div(df_aux.sum()).sort_values(by=0,ascending=False)"
   ]
  },
  {
   "cell_type": "code",
   "execution_count": 35,
   "metadata": {
    "ExecuteTime": {
     "end_time": "2021-01-07T14:28:28.426708Z",
     "start_time": "2021-01-07T14:28:28.384938Z"
    }
   },
   "outputs": [],
   "source": [
    "df_gid = df_gid.reset_index(drop=True)\n",
    "df_s = df_s.reset_index(drop=True)\n",
    "df_con = df_con.reset_index(drop=True)"
   ]
  },
  {
   "cell_type": "code",
   "execution_count": 108,
   "metadata": {
    "ExecuteTime": {
     "end_time": "2021-01-08T12:39:18.687005Z",
     "start_time": "2021-01-08T12:39:18.683491Z"
    }
   },
   "outputs": [],
   "source": [
    "# df_gid"
   ]
  },
  {
   "cell_type": "code",
   "execution_count": 39,
   "metadata": {
    "ExecuteTime": {
     "end_time": "2021-01-07T14:28:30.926329Z",
     "start_time": "2021-01-07T14:28:30.335264Z"
    }
   },
   "outputs": [
    {
     "name": "stdout",
     "output_type": "stream",
     "text": [
      "['2ee90d1c15514cc3888ba0a2a56cc3f6', '2ee90d1c15514cc3888ba0a2a56cc3f6', '2ee90d1c15514cc3888ba0a2a56cc3f6']\n",
      "*\n",
      "['2ee90d1c15514cc3888ba0a2a56cc3f6', '2ee90d1c15514cc3888ba0a2a56cc3f6', '2ee90d1c15514cc3888ba0a2a56cc3f6']\n"
     ]
    }
   ],
   "source": [
    "print(df_s['utm_hash'].iloc[34])\n",
    "print('*')\n",
    "print(df_s['agg_sessions'].apply(lambda x: x[0]).str.split(',').iloc[34])"
   ]
  },
  {
   "cell_type": "code",
   "execution_count": 40,
   "metadata": {
    "ExecuteTime": {
     "end_time": "2021-01-07T14:28:32.304078Z",
     "start_time": "2021-01-07T14:28:30.931141Z"
    }
   },
   "outputs": [],
   "source": [
    "df_exp=df_s[['utm_hash', 'trinomials']]\n",
    "exp_trinomials=df_exp['trinomials'].explode()\n",
    "df_exp=df_exp.explode('utm_hash')\n",
    "df_exp['exp_trinomials']=exp_trinomials\n",
    "del exp_trinomials\n",
    "tri2hash=df_exp.groupby(['exp_trinomials'])['utm_hash'].apply(list).apply(set).apply(list)#.to_dict()\n",
    "hash2tri = tri2hash.to_frame().reset_index().explode('utm_hash').set_index('utm_hash')\n",
    "hash2tri=hash2tri.reset_index().drop_duplicates(subset='utm_hash').set_index('utm_hash')"
   ]
  },
  {
   "cell_type": "code",
   "execution_count": 42,
   "metadata": {
    "ExecuteTime": {
     "end_time": "2021-01-07T14:28:32.782350Z",
     "start_time": "2021-01-07T14:28:32.703148Z"
    }
   },
   "outputs": [],
   "source": [
    "all_medium=list(set(flatten(df_s['utm_hash'].tolist())))\n",
    "attention_layer = model.layers[3] # or model.get_layer(\"attention”)\n",
    "attention_model = Model(inputs=model.inputs, outputs=model.outputs + [attention_layer.output])"
   ]
  },
  {
   "cell_type": "code",
   "execution_count": 45,
   "metadata": {
    "ExecuteTime": {
     "end_time": "2021-01-07T14:28:35.377055Z",
     "start_time": "2021-01-07T14:28:35.339090Z"
    }
   },
   "outputs": [],
   "source": [
    "tk_medium = list(tk.word_index.items())[:tk.num_words]\n",
    "important_medium = list(dict(tk_medium).keys())"
   ]
  },
  {
   "cell_type": "code",
   "execution_count": 46,
   "metadata": {
    "ExecuteTime": {
     "end_time": "2021-01-07T14:28:39.956880Z",
     "start_time": "2021-01-07T14:28:38.252118Z"
    }
   },
   "outputs": [
    {
     "data": {
      "text/plain": [
       "3718"
      ]
     },
     "execution_count": 46,
     "metadata": {},
     "output_type": "execute_result"
    }
   ],
   "source": [
    "all_important_medium = [elt for elt in all_medium if elt in important_medium]\n",
    "len(all_important_medium)"
   ]
  },
  {
   "cell_type": "code",
   "execution_count": 49,
   "metadata": {
    "ExecuteTime": {
     "end_time": "2021-01-07T14:28:50.288850Z",
     "start_time": "2021-01-07T14:28:49.549524Z"
    }
   },
   "outputs": [
    {
     "data": {
      "text/plain": [
       "1514"
      ]
     },
     "execution_count": 49,
     "metadata": {},
     "output_type": "execute_result"
    }
   ],
   "source": [
    "minimum_occurrences = 15\n",
    "important_df_utm = df_s['utm_hash'].explode().value_counts()[df_s['utm_hash'].explode().value_counts()>minimum_occurrences].index.tolist()\n",
    "len(important_df_utm)"
   ]
  },
  {
   "cell_type": "code",
   "execution_count": 50,
   "metadata": {
    "ExecuteTime": {
     "end_time": "2021-01-07T14:28:51.610403Z",
     "start_time": "2021-01-07T14:28:51.498978Z"
    }
   },
   "outputs": [
    {
     "name": "stdout",
     "output_type": "stream",
     "text": [
      "1162\n"
     ]
    }
   ],
   "source": [
    "all_df_important_medium = [elt for elt in all_important_medium if elt in important_df_utm]\n",
    "print(len(all_df_important_medium))"
   ]
  },
  {
   "cell_type": "markdown",
   "metadata": {},
   "source": [
    "## Removal Effect"
   ]
  },
  {
   "cell_type": "markdown",
   "metadata": {},
   "source": [
    "### split by os and is_control"
   ]
  },
  {
   "cell_type": "code",
   "execution_count": 52,
   "metadata": {
    "ExecuteTime": {
     "end_time": "2021-01-07T14:29:03.043886Z",
     "start_time": "2021-01-07T14:29:03.040975Z"
    }
   },
   "outputs": [],
   "source": [
    "is_true_remove=False"
   ]
  },
  {
   "cell_type": "code",
   "execution_count": 53,
   "metadata": {
    "ExecuteTime": {
     "end_time": "2021-01-07T14:59:24.203224Z",
     "start_time": "2021-01-07T14:29:05.437179Z"
    }
   },
   "outputs": [
    {
     "name": "stderr",
     "output_type": "stream",
     "text": [
      "\r",
      "  0%|          | 0/1162 [00:00<?, ?it/s]"
     ]
    },
    {
     "name": "stdout",
     "output_type": "stream",
     "text": [
      "Is control group?:  1\n",
      "OS:  AND\n"
     ]
    },
    {
     "name": "stderr",
     "output_type": "stream",
     "text": [
      "100%|██████████| 1162/1162 [07:21<00:00,  2.63it/s]\n",
      "  0%|          | 0/1162 [00:00<?, ?it/s]"
     ]
    },
    {
     "name": "stdout",
     "output_type": "stream",
     "text": [
      "OS:  IOS\n"
     ]
    },
    {
     "name": "stderr",
     "output_type": "stream",
     "text": [
      "100%|██████████| 1162/1162 [05:31<00:00,  3.51it/s]\n",
      "  0%|          | 0/1162 [00:00<?, ?it/s]"
     ]
    },
    {
     "name": "stdout",
     "output_type": "stream",
     "text": [
      "Is control group?:  0\n",
      "OS:  AND\n"
     ]
    },
    {
     "name": "stderr",
     "output_type": "stream",
     "text": [
      "100%|██████████| 1162/1162 [08:28<00:00,  2.28it/s]\n",
      "  0%|          | 0/1162 [00:00<?, ?it/s]"
     ]
    },
    {
     "name": "stdout",
     "output_type": "stream",
     "text": [
      "OS:  IOS\n"
     ]
    },
    {
     "name": "stderr",
     "output_type": "stream",
     "text": [
      "100%|██████████| 1162/1162 [08:56<00:00,  2.17it/s]\n"
     ]
    }
   ],
   "source": [
    "ls=[]\n",
    "is_control_list=np.zeros(len(all_medium)).astype(int).tolist() + np.ones(len(all_medium)).astype(int).tolist()\n",
    "utm_hash_duplicated_list=all_medium + all_medium\n",
    "os_list=(\n",
    "    (((df_gid.os.unique()).tolist()*len(all_medium))[0:][::2])\n",
    "    +(((df_gid.os.unique()).tolist()*len(all_medium))[1:][::2])\n",
    ")\n",
    "is_control_list= is_control_list+ is_control_list[::-1]\n",
    "utm_hash_duplicated_list = utm_hash_duplicated_list + utm_hash_duplicated_list\n",
    "os_list = os_list + os_list\n",
    "ls.append(utm_hash_duplicated_list)\n",
    "ls.append(is_control_list)\n",
    "ls.append(os_list)\n",
    "index = pd.MultiIndex.from_tuples(list(zip(*ls)), names=['utm_hash', 'is_control','os'])\n",
    "rm_effect=pd.DataFrame(index=index,columns={'s_i','s_rm','rm_eff','n_occ','trinomials'}).reset_index()\n",
    "test=['734a5301ef3dfdf22cdfe7187aeb9430']\n",
    "for is_control in reversed(range(2)):\n",
    "    print('Is control group?: ', is_control)\n",
    "    is_control_index=df_gid[(df_gid['is_control']==is_control)].index.to_list()\n",
    "    for os in df_gid.os.unique():\n",
    "        print('OS: ', os)\n",
    "        os_index=df_gid[(df_gid['os']==os)].index.to_list()\n",
    "#         for mtest in tqdm(test):\n",
    "        for mtest in tqdm(all_df_important_medium):\n",
    "    #         rm_effect.loc[(mtest,is_control)]['trinomials']=hash2tri.loc[mtest]['exp_trinomials']\n",
    "            idx_m_isc_os=rm_effect[(rm_effect['os']==os) & (rm_effect['is_control']==is_control) & (rm_effect['utm_hash']==mtest)].index\n",
    "            rm_effect.loc[idx_m_isc_os,'trinomials']=hash2tri.loc[mtest]['exp_trinomials']\n",
    "            #######\n",
    "            df_s['rm'] = (\n",
    "                df_s[\n",
    "                    (df_s.index.isin(is_control_index)) & \n",
    "                    (df_s.index.isin(os_index)) &\n",
    "                    (df_s['utm_hash'].apply(lambda x: x.count(mtest))>0)\n",
    "                ]\n",
    "                ['utm_hash']\n",
    "                .apply(lambda x: list(duplicates(x,mtest))[::-1])\n",
    "            )\n",
    "            dft=df_s.query('rm.notnull().values')\n",
    "#             dftc=df_con.loc[is_control_index].loc[df_s.query('rm.notnull().values').index]\n",
    "            dftc=df_con.loc[df_s.query('rm.notnull().values').index]\n",
    "            df_s=df_s.drop(columns='rm',axis=1)\n",
    "            corpus_test=dft['utm_hash'].to_list()\n",
    "            X_test=tk.texts_to_sequences(corpus_test)\n",
    "            X_test = pad_sequences(X_test, maxlen=maxlen,padding='post') # customer path\n",
    "            TD_test=pad_sequences(dft['sess'].values,maxlen=maxlen,dtype='float32',padding='post') # time decay from sessions\n",
    "            C=pd.get_dummies(dftc.drop('gid',axis=1), columns=['country_region', 'gender']).values\n",
    "            C_test=pd.DataFrame(columns=Ccols) #to C_test to have same dimensions of C_train\n",
    "            C_test = C_test.append(pd.get_dummies(dftc.drop('gid',axis=1), columns=['country_region', 'gender']))\n",
    "            C_test = C_test.fillna(0).values\n",
    "            if C_test.shape[0]>0:\n",
    "                y_pred_i, _,_ = attention_model.predict([X_test,TD_test,C_test], batch_size=config['attention']['BATCH_SIZE']) #out,att,W=...\n",
    "                y_true0 = (dft['value']>0).values.astype(int)\n",
    "                to_rm=dft['rm'].values\n",
    "                if is_true_remove:\n",
    "                    for ii in range(X_test.shape[0]):\n",
    "                        X_test[ii][to_rm[ii]]=0\n",
    "                        TD_test[ii][to_rm[ii]]=0\n",
    "                    mask = X_test.sum(axis=1)!=0\n",
    "                    y_pred_i = y_pred_i[mask]\n",
    "                    y_true0 = y_true0[mask]\n",
    "                    X_test = X_test[mask]\n",
    "                    TD_test = TD_test[mask]\n",
    "                    C_test = C_test[mask,:]\n",
    "                else:\n",
    "    #                 token=tk.word_index[mtest]\n",
    "                    try: token=tk.word_index[mtest]\n",
    "                    except: \n",
    "                        utm_hash_without_token.append(mtest)\n",
    "                        token = 0\n",
    "                    if token >tk.num_words: token=0\n",
    "                    token_list = np.arange(0,token).tolist() + np.arange(token+1,tk.num_words).tolist()\n",
    "                    for ii in range(X_test.shape[0]):\n",
    "                        X_test[ii][to_rm[ii]]=np.random.choice(token_list,len(to_rm[ii]))\n",
    "                if C_test.shape[0]>0:\n",
    "                    y_pred_rm, _,W0 = attention_model.predict([X_test,TD_test,C_test], batch_size=config['attention']['BATCH_SIZE']) #out,att,W=...\n",
    "                    rm_effect.loc[idx_m_isc_os,'n_occ']=y_true0.shape[0]\n",
    "                    if any(y_true0==1):\n",
    "                        s_i = np.sum(y_pred_i[y_true0==1])\n",
    "                        s_rm = np.sum(y_pred_rm[y_true0==1])\n",
    "                        rm_val = ((np.median(y_pred_rm[y_true0==1])\n",
    "                                   -np.median(y_pred_i[y_true0==1]))\n",
    "                                  / np.median(y_pred_i[y_true0==1])\n",
    "                                 )\n",
    "                        if np.isnan(rm_val)==False:\n",
    "                            rm_effect.loc[idx_m_isc_os,'s_i']=s_i\n",
    "                            rm_effect.loc[idx_m_isc_os,'s_rm']=s_rm\n",
    "                            rm_effect.loc[idx_m_isc_os,'rm_eff']=rm_val\n",
    "rm_effect['scaled_rm_eff'] = rm_effect['n_occ']*rm_effect['rm_eff']"
   ]
  },
  {
   "cell_type": "code",
   "execution_count": 59,
   "metadata": {
    "ExecuteTime": {
     "end_time": "2021-01-07T15:01:57.362166Z",
     "start_time": "2021-01-07T15:01:57.342333Z"
    }
   },
   "outputs": [
    {
     "data": {
      "text/html": [
       "<div>\n",
       "<style scoped>\n",
       "    .dataframe tbody tr th:only-of-type {\n",
       "        vertical-align: middle;\n",
       "    }\n",
       "\n",
       "    .dataframe tbody tr th {\n",
       "        vertical-align: top;\n",
       "    }\n",
       "\n",
       "    .dataframe thead th {\n",
       "        text-align: right;\n",
       "    }\n",
       "</style>\n",
       "<table border=\"1\" class=\"dataframe\">\n",
       "  <thead>\n",
       "    <tr style=\"text-align: right;\">\n",
       "      <th></th>\n",
       "      <th>utm_hash</th>\n",
       "      <th>is_control</th>\n",
       "      <th>os</th>\n",
       "      <th>s_i</th>\n",
       "      <th>s_rm</th>\n",
       "      <th>trinomials</th>\n",
       "      <th>rm_eff</th>\n",
       "      <th>n_occ</th>\n",
       "      <th>scaled_rm_eff</th>\n",
       "    </tr>\n",
       "  </thead>\n",
       "  <tbody>\n",
       "    <tr>\n",
       "      <th>0</th>\n",
       "      <td>d91a231a6cd5db180172858ae63f456f</td>\n",
       "      <td>0</td>\n",
       "      <td>AND</td>\n",
       "      <td>NaN</td>\n",
       "      <td>NaN</td>\n",
       "      <td>NaN</td>\n",
       "      <td>NaN</td>\n",
       "      <td>NaN</td>\n",
       "      <td>NaN</td>\n",
       "    </tr>\n",
       "    <tr>\n",
       "      <th>1</th>\n",
       "      <td>e56711b4c6f48b63059dda5213465b68</td>\n",
       "      <td>0</td>\n",
       "      <td>AND</td>\n",
       "      <td>NaN</td>\n",
       "      <td>NaN</td>\n",
       "      <td>NaN</td>\n",
       "      <td>NaN</td>\n",
       "      <td>NaN</td>\n",
       "      <td>NaN</td>\n",
       "    </tr>\n",
       "    <tr>\n",
       "      <th>2</th>\n",
       "      <td>551d1d67d9d9764c3662ea47c40ad6ae</td>\n",
       "      <td>0</td>\n",
       "      <td>AND</td>\n",
       "      <td>NaN</td>\n",
       "      <td>NaN</td>\n",
       "      <td>NaN</td>\n",
       "      <td>NaN</td>\n",
       "      <td>NaN</td>\n",
       "      <td>NaN</td>\n",
       "    </tr>\n",
       "    <tr>\n",
       "      <th>3</th>\n",
       "      <td>652768f508f95419342773224944a6b7</td>\n",
       "      <td>0</td>\n",
       "      <td>AND</td>\n",
       "      <td>NaN</td>\n",
       "      <td>NaN</td>\n",
       "      <td>NaN</td>\n",
       "      <td>NaN</td>\n",
       "      <td>NaN</td>\n",
       "      <td>NaN</td>\n",
       "    </tr>\n",
       "    <tr>\n",
       "      <th>4</th>\n",
       "      <td>4c3af6fc0f474034a282c6e353f82c44</td>\n",
       "      <td>0</td>\n",
       "      <td>AND</td>\n",
       "      <td>NaN</td>\n",
       "      <td>NaN</td>\n",
       "      <td>google_cpc_kwDft</td>\n",
       "      <td>NaN</td>\n",
       "      <td>3</td>\n",
       "      <td>NaN</td>\n",
       "    </tr>\n",
       "    <tr>\n",
       "      <th>...</th>\n",
       "      <td>...</td>\n",
       "      <td>...</td>\n",
       "      <td>...</td>\n",
       "      <td>...</td>\n",
       "      <td>...</td>\n",
       "      <td>...</td>\n",
       "      <td>...</td>\n",
       "      <td>...</td>\n",
       "      <td>...</td>\n",
       "    </tr>\n",
       "    <tr>\n",
       "      <th>66131</th>\n",
       "      <td>24ab19699574b6394578464a38eb3143</td>\n",
       "      <td>0</td>\n",
       "      <td>IOS</td>\n",
       "      <td>NaN</td>\n",
       "      <td>NaN</td>\n",
       "      <td>NaN</td>\n",
       "      <td>NaN</td>\n",
       "      <td>NaN</td>\n",
       "      <td>NaN</td>\n",
       "    </tr>\n",
       "    <tr>\n",
       "      <th>66132</th>\n",
       "      <td>f23f7aa3f5b0a968e414500ee73c05f9</td>\n",
       "      <td>0</td>\n",
       "      <td>IOS</td>\n",
       "      <td>NaN</td>\n",
       "      <td>NaN</td>\n",
       "      <td>NaN</td>\n",
       "      <td>NaN</td>\n",
       "      <td>NaN</td>\n",
       "      <td>NaN</td>\n",
       "    </tr>\n",
       "    <tr>\n",
       "      <th>66133</th>\n",
       "      <td>28ce1a74c8ca1dd83f61997789e3820a</td>\n",
       "      <td>0</td>\n",
       "      <td>IOS</td>\n",
       "      <td>0.86277</td>\n",
       "      <td>0.932482</td>\n",
       "      <td>pushnotification_crm_nokwDft</td>\n",
       "      <td>0.0807993</td>\n",
       "      <td>9</td>\n",
       "      <td>0.727193</td>\n",
       "    </tr>\n",
       "    <tr>\n",
       "      <th>66134</th>\n",
       "      <td>449287b830d73708b1b760de8df79adf</td>\n",
       "      <td>0</td>\n",
       "      <td>IOS</td>\n",
       "      <td>NaN</td>\n",
       "      <td>NaN</td>\n",
       "      <td>NaN</td>\n",
       "      <td>NaN</td>\n",
       "      <td>NaN</td>\n",
       "      <td>NaN</td>\n",
       "    </tr>\n",
       "    <tr>\n",
       "      <th>66135</th>\n",
       "      <td>bdfdfe1df0b2b5448b16fbf1a980f609</td>\n",
       "      <td>0</td>\n",
       "      <td>IOS</td>\n",
       "      <td>NaN</td>\n",
       "      <td>NaN</td>\n",
       "      <td>NaN</td>\n",
       "      <td>NaN</td>\n",
       "      <td>NaN</td>\n",
       "      <td>NaN</td>\n",
       "    </tr>\n",
       "  </tbody>\n",
       "</table>\n",
       "<p>66136 rows × 9 columns</p>\n",
       "</div>"
      ],
      "text/plain": [
       "                               utm_hash  is_control   os      s_i      s_rm  \\\n",
       "0      d91a231a6cd5db180172858ae63f456f           0  AND      NaN       NaN   \n",
       "1      e56711b4c6f48b63059dda5213465b68           0  AND      NaN       NaN   \n",
       "2      551d1d67d9d9764c3662ea47c40ad6ae           0  AND      NaN       NaN   \n",
       "3      652768f508f95419342773224944a6b7           0  AND      NaN       NaN   \n",
       "4      4c3af6fc0f474034a282c6e353f82c44           0  AND      NaN       NaN   \n",
       "...                                 ...         ...  ...      ...       ...   \n",
       "66131  24ab19699574b6394578464a38eb3143           0  IOS      NaN       NaN   \n",
       "66132  f23f7aa3f5b0a968e414500ee73c05f9           0  IOS      NaN       NaN   \n",
       "66133  28ce1a74c8ca1dd83f61997789e3820a           0  IOS  0.86277  0.932482   \n",
       "66134  449287b830d73708b1b760de8df79adf           0  IOS      NaN       NaN   \n",
       "66135  bdfdfe1df0b2b5448b16fbf1a980f609           0  IOS      NaN       NaN   \n",
       "\n",
       "                         trinomials     rm_eff n_occ scaled_rm_eff  \n",
       "0                               NaN        NaN   NaN           NaN  \n",
       "1                               NaN        NaN   NaN           NaN  \n",
       "2                               NaN        NaN   NaN           NaN  \n",
       "3                               NaN        NaN   NaN           NaN  \n",
       "4                  google_cpc_kwDft        NaN     3           NaN  \n",
       "...                             ...        ...   ...           ...  \n",
       "66131                           NaN        NaN   NaN           NaN  \n",
       "66132                           NaN        NaN   NaN           NaN  \n",
       "66133  pushnotification_crm_nokwDft  0.0807993     9      0.727193  \n",
       "66134                           NaN        NaN   NaN           NaN  \n",
       "66135                           NaN        NaN   NaN           NaN  \n",
       "\n",
       "[66136 rows x 9 columns]"
      ]
     },
     "execution_count": 59,
     "metadata": {},
     "output_type": "execute_result"
    }
   ],
   "source": [
    "rm_effect#.to_csv('../../ml/model/attention_model/rm_effect_crm_trained_on_twoweekCRM.csv')\n",
    "# config['data']['dataset_filename']\n",
    "# import os\n",
    "# os.listdir('../../ml/model/attention_model/')"
   ]
  },
  {
   "cell_type": "code",
   "execution_count": 57,
   "metadata": {
    "ExecuteTime": {
     "end_time": "2021-01-07T14:01:17.973572Z",
     "start_time": "2021-01-07T14:01:17.936821Z"
    }
   },
   "outputs": [
    {
     "data": {
      "text/html": [
       "<div>\n",
       "<style scoped>\n",
       "    .dataframe tbody tr th:only-of-type {\n",
       "        vertical-align: middle;\n",
       "    }\n",
       "\n",
       "    .dataframe tbody tr th {\n",
       "        vertical-align: top;\n",
       "    }\n",
       "\n",
       "    .dataframe thead th {\n",
       "        text-align: right;\n",
       "    }\n",
       "</style>\n",
       "<table border=\"1\" class=\"dataframe\">\n",
       "  <thead>\n",
       "    <tr style=\"text-align: right;\">\n",
       "      <th></th>\n",
       "      <th>utm_hash</th>\n",
       "      <th>is_control</th>\n",
       "      <th>os</th>\n",
       "      <th>s_rm</th>\n",
       "      <th>trinomials</th>\n",
       "      <th>s_i</th>\n",
       "      <th>rm_eff</th>\n",
       "      <th>n_occ</th>\n",
       "      <th>scaled_rm_eff</th>\n",
       "    </tr>\n",
       "  </thead>\n",
       "  <tbody>\n",
       "    <tr>\n",
       "      <th>15007</th>\n",
       "      <td>a8bdd4126c5fad1c1f457679b260c75d</td>\n",
       "      <td>0</td>\n",
       "      <td>AND</td>\n",
       "      <td>1.76418</td>\n",
       "      <td>google_cpc_kwDft</td>\n",
       "      <td>1.81268</td>\n",
       "      <td>-0.0267579</td>\n",
       "      <td>4</td>\n",
       "      <td>-0.107032</td>\n",
       "    </tr>\n",
       "    <tr>\n",
       "      <th>30030</th>\n",
       "      <td>a8bdd4126c5fad1c1f457679b260c75d</td>\n",
       "      <td>1</td>\n",
       "      <td>IOS</td>\n",
       "      <td>3.91704</td>\n",
       "      <td>google_cpc_kwDft</td>\n",
       "      <td>3.94647</td>\n",
       "      <td>-0.00326243</td>\n",
       "      <td>5</td>\n",
       "      <td>-0.0163122</td>\n",
       "    </tr>\n",
       "    <tr>\n",
       "      <th>45053</th>\n",
       "      <td>a8bdd4126c5fad1c1f457679b260c75d</td>\n",
       "      <td>1</td>\n",
       "      <td>AND</td>\n",
       "      <td>2.6596</td>\n",
       "      <td>google_cpc_kwDft</td>\n",
       "      <td>2.76671</td>\n",
       "      <td>-0.0194484</td>\n",
       "      <td>8</td>\n",
       "      <td>-0.155587</td>\n",
       "    </tr>\n",
       "    <tr>\n",
       "      <th>60076</th>\n",
       "      <td>a8bdd4126c5fad1c1f457679b260c75d</td>\n",
       "      <td>0</td>\n",
       "      <td>IOS</td>\n",
       "      <td>5.87904</td>\n",
       "      <td>google_cpc_kwDft</td>\n",
       "      <td>6.51166</td>\n",
       "      <td>-0.026131</td>\n",
       "      <td>16</td>\n",
       "      <td>-0.418095</td>\n",
       "    </tr>\n",
       "  </tbody>\n",
       "</table>\n",
       "</div>"
      ],
      "text/plain": [
       "                               utm_hash  is_control   os     s_rm  \\\n",
       "15007  a8bdd4126c5fad1c1f457679b260c75d           0  AND  1.76418   \n",
       "30030  a8bdd4126c5fad1c1f457679b260c75d           1  IOS  3.91704   \n",
       "45053  a8bdd4126c5fad1c1f457679b260c75d           1  AND   2.6596   \n",
       "60076  a8bdd4126c5fad1c1f457679b260c75d           0  IOS  5.87904   \n",
       "\n",
       "             trinomials      s_i      rm_eff n_occ scaled_rm_eff  \n",
       "15007  google_cpc_kwDft  1.81268  -0.0267579     4     -0.107032  \n",
       "30030  google_cpc_kwDft  3.94647 -0.00326243     5    -0.0163122  \n",
       "45053  google_cpc_kwDft  2.76671  -0.0194484     8     -0.155587  \n",
       "60076  google_cpc_kwDft  6.51166   -0.026131    16     -0.418095  "
      ]
     },
     "execution_count": 57,
     "metadata": {},
     "output_type": "execute_result"
    }
   ],
   "source": [
    "rm_effect[rm_effect['utm_hash']==mtest]"
   ]
  },
  {
   "cell_type": "code",
   "execution_count": 334,
   "metadata": {
    "ExecuteTime": {
     "end_time": "2020-12-23T18:31:42.609706Z",
     "start_time": "2020-12-23T18:31:42.576800Z"
    }
   },
   "outputs": [
    {
     "data": {
      "text/html": [
       "<div>\n",
       "<style scoped>\n",
       "    .dataframe tbody tr th:only-of-type {\n",
       "        vertical-align: middle;\n",
       "    }\n",
       "\n",
       "    .dataframe tbody tr th {\n",
       "        vertical-align: top;\n",
       "    }\n",
       "\n",
       "    .dataframe thead th {\n",
       "        text-align: right;\n",
       "    }\n",
       "</style>\n",
       "<table border=\"1\" class=\"dataframe\">\n",
       "  <thead>\n",
       "    <tr style=\"text-align: right;\">\n",
       "      <th></th>\n",
       "      <th>utm_hash</th>\n",
       "      <th>trinomials</th>\n",
       "      <th>n_occ</th>\n",
       "      <th>rm_eff</th>\n",
       "    </tr>\n",
       "  </thead>\n",
       "  <tbody>\n",
       "    <tr>\n",
       "      <th>69</th>\n",
       "      <td>c9a5b812f742cbdaab4073f8d1e6594f</td>\n",
       "      <td>google_cpc_nokwDft</td>\n",
       "      <td>25</td>\n",
       "      <td>-0.282574</td>\n",
       "    </tr>\n",
       "    <tr>\n",
       "      <th>72</th>\n",
       "      <td>df4db6022b45bbd44530cc94dc400af8</td>\n",
       "      <td>emailpromo_dafiti_em_nokwDft</td>\n",
       "      <td>7</td>\n",
       "      <td>0.00467088</td>\n",
       "    </tr>\n",
       "    <tr>\n",
       "      <th>73</th>\n",
       "      <td>2f6338be41ac6531865c78b283fee3dc</td>\n",
       "      <td>emailtrans_dafiti_em_nokwDft</td>\n",
       "      <td>4</td>\n",
       "      <td>-0.0399063</td>\n",
       "    </tr>\n",
       "    <tr>\n",
       "      <th>79</th>\n",
       "      <td>56b16f542acec886318ead58099e969a</td>\n",
       "      <td>pushnotification_crm_nokwDft</td>\n",
       "      <td>15</td>\n",
       "      <td>-0.452138</td>\n",
       "    </tr>\n",
       "    <tr>\n",
       "      <th>190</th>\n",
       "      <td>5dbbf7284bc3af2ef447ce74e8abcd9b</td>\n",
       "      <td>pushnotification_crm_nokwDft</td>\n",
       "      <td>32</td>\n",
       "      <td>-0.0189713</td>\n",
       "    </tr>\n",
       "    <tr>\n",
       "      <th>...</th>\n",
       "      <td>...</td>\n",
       "      <td>...</td>\n",
       "      <td>...</td>\n",
       "      <td>...</td>\n",
       "    </tr>\n",
       "    <tr>\n",
       "      <th>65988</th>\n",
       "      <td>c3b7bfd2a00296c50ddb9dd834bf0099</td>\n",
       "      <td>google_cpc_nokwDft</td>\n",
       "      <td>13</td>\n",
       "      <td>-0.11354</td>\n",
       "    </tr>\n",
       "    <tr>\n",
       "      <th>66003</th>\n",
       "      <td>f96a29bf661aadf1509f0dd724c02712</td>\n",
       "      <td>emailtrans_dafiti_em_nokwDft</td>\n",
       "      <td>38</td>\n",
       "      <td>1.41919</td>\n",
       "    </tr>\n",
       "    <tr>\n",
       "      <th>66007</th>\n",
       "      <td>e83dd71813fa3334d6df15d4f85fe4a7</td>\n",
       "      <td>pushnotification_crm_nokwDft</td>\n",
       "      <td>51</td>\n",
       "      <td>-0.0618825</td>\n",
       "    </tr>\n",
       "    <tr>\n",
       "      <th>66048</th>\n",
       "      <td>601a0115668ff811403502f52f58f6b3</td>\n",
       "      <td>prospecting_dp_nokwDft</td>\n",
       "      <td>12</td>\n",
       "      <td>-0.622152</td>\n",
       "    </tr>\n",
       "    <tr>\n",
       "      <th>66053</th>\n",
       "      <td>029634519af89691b241bfdb8e478978</td>\n",
       "      <td>google_cpc_kwDft</td>\n",
       "      <td>400</td>\n",
       "      <td>-0.104321</td>\n",
       "    </tr>\n",
       "  </tbody>\n",
       "</table>\n",
       "<p>2302 rows × 4 columns</p>\n",
       "</div>"
      ],
      "text/plain": [
       "                               utm_hash                    trinomials n_occ  \\\n",
       "69     c9a5b812f742cbdaab4073f8d1e6594f            google_cpc_nokwDft    25   \n",
       "72     df4db6022b45bbd44530cc94dc400af8  emailpromo_dafiti_em_nokwDft     7   \n",
       "73     2f6338be41ac6531865c78b283fee3dc  emailtrans_dafiti_em_nokwDft     4   \n",
       "79     56b16f542acec886318ead58099e969a  pushnotification_crm_nokwDft    15   \n",
       "190    5dbbf7284bc3af2ef447ce74e8abcd9b  pushnotification_crm_nokwDft    32   \n",
       "...                                 ...                           ...   ...   \n",
       "65988  c3b7bfd2a00296c50ddb9dd834bf0099            google_cpc_nokwDft    13   \n",
       "66003  f96a29bf661aadf1509f0dd724c02712  emailtrans_dafiti_em_nokwDft    38   \n",
       "66007  e83dd71813fa3334d6df15d4f85fe4a7  pushnotification_crm_nokwDft    51   \n",
       "66048  601a0115668ff811403502f52f58f6b3        prospecting_dp_nokwDft    12   \n",
       "66053  029634519af89691b241bfdb8e478978              google_cpc_kwDft   400   \n",
       "\n",
       "           rm_eff  \n",
       "69      -0.282574  \n",
       "72     0.00467088  \n",
       "73     -0.0399063  \n",
       "79      -0.452138  \n",
       "190    -0.0189713  \n",
       "...           ...  \n",
       "65988    -0.11354  \n",
       "66003     1.41919  \n",
       "66007  -0.0618825  \n",
       "66048   -0.622152  \n",
       "66053   -0.104321  \n",
       "\n",
       "[2302 rows x 4 columns]"
      ]
     },
     "execution_count": 334,
     "metadata": {},
     "output_type": "execute_result"
    }
   ],
   "source": [
    "rm_effect.query('rm_eff.notna().values')[['utm_hash','trinomials','n_occ','rm_eff']]#.sort_values(by='rm_eff')"
   ]
  },
  {
   "cell_type": "code",
   "execution_count": 66,
   "metadata": {
    "ExecuteTime": {
     "end_time": "2021-01-07T17:51:46.379079Z",
     "start_time": "2021-01-07T17:51:46.292869Z"
    }
   },
   "outputs": [
    {
     "data": {
      "text/html": [
       "<div>\n",
       "<style scoped>\n",
       "    .dataframe tbody tr th:only-of-type {\n",
       "        vertical-align: middle;\n",
       "    }\n",
       "\n",
       "    .dataframe tbody tr th {\n",
       "        vertical-align: top;\n",
       "    }\n",
       "\n",
       "    .dataframe thead tr th {\n",
       "        text-align: left;\n",
       "    }\n",
       "\n",
       "    .dataframe thead tr:last-of-type th {\n",
       "        text-align: right;\n",
       "    }\n",
       "</style>\n",
       "<table border=\"1\" class=\"dataframe\">\n",
       "  <thead>\n",
       "    <tr>\n",
       "      <th></th>\n",
       "      <th></th>\n",
       "      <th></th>\n",
       "      <th colspan=\"2\" halign=\"left\">n_occ</th>\n",
       "      <th>rm_eff</th>\n",
       "      <th>scaled_rm_eff</th>\n",
       "      <th>m_rm_eff</th>\n",
       "    </tr>\n",
       "    <tr>\n",
       "      <th></th>\n",
       "      <th></th>\n",
       "      <th></th>\n",
       "      <th>sum</th>\n",
       "      <th>count</th>\n",
       "      <th>sum</th>\n",
       "      <th>sum</th>\n",
       "      <th></th>\n",
       "    </tr>\n",
       "    <tr>\n",
       "      <th>trinomials</th>\n",
       "      <th>os</th>\n",
       "      <th>is_control</th>\n",
       "      <th></th>\n",
       "      <th></th>\n",
       "      <th></th>\n",
       "      <th></th>\n",
       "      <th></th>\n",
       "    </tr>\n",
       "  </thead>\n",
       "  <tbody>\n",
       "    <tr>\n",
       "      <th rowspan=\"4\" valign=\"top\">(direct)_(none)_kwDft</th>\n",
       "      <th rowspan=\"2\" valign=\"top\">AND</th>\n",
       "      <th>0</th>\n",
       "      <td>18270</td>\n",
       "      <td>1</td>\n",
       "      <td>-0.168032</td>\n",
       "      <td>-3069.953451</td>\n",
       "      <td>-0.168032</td>\n",
       "    </tr>\n",
       "    <tr>\n",
       "      <th>1</th>\n",
       "      <td>6539</td>\n",
       "      <td>1</td>\n",
       "      <td>-0.164710</td>\n",
       "      <td>-1077.038983</td>\n",
       "      <td>-0.164710</td>\n",
       "    </tr>\n",
       "    <tr>\n",
       "      <th rowspan=\"2\" valign=\"top\">IOS</th>\n",
       "      <th>0</th>\n",
       "      <td>12587</td>\n",
       "      <td>1</td>\n",
       "      <td>-0.155141</td>\n",
       "      <td>-1952.765156</td>\n",
       "      <td>-0.155141</td>\n",
       "    </tr>\n",
       "    <tr>\n",
       "      <th>1</th>\n",
       "      <td>1856</td>\n",
       "      <td>1</td>\n",
       "      <td>-0.163382</td>\n",
       "      <td>-303.237672</td>\n",
       "      <td>-0.163382</td>\n",
       "    </tr>\n",
       "    <tr>\n",
       "      <th>bing_cpc_kwDft</th>\n",
       "      <th>AND</th>\n",
       "      <th>0</th>\n",
       "      <td>94</td>\n",
       "      <td>1</td>\n",
       "      <td>-0.091422</td>\n",
       "      <td>-8.593706</td>\n",
       "      <td>-0.091422</td>\n",
       "    </tr>\n",
       "    <tr>\n",
       "      <th>...</th>\n",
       "      <th>...</th>\n",
       "      <th>...</th>\n",
       "      <td>...</td>\n",
       "      <td>...</td>\n",
       "      <td>...</td>\n",
       "      <td>...</td>\n",
       "      <td>...</td>\n",
       "    </tr>\n",
       "    <tr>\n",
       "      <th>pushnotification_em_nokwDft</th>\n",
       "      <th>AND</th>\n",
       "      <th>1</th>\n",
       "      <td>34</td>\n",
       "      <td>1</td>\n",
       "      <td>-0.113788</td>\n",
       "      <td>-3.868785</td>\n",
       "      <td>-0.113788</td>\n",
       "    </tr>\n",
       "    <tr>\n",
       "      <th>radarcupom.com.br_referral_nokwDft</th>\n",
       "      <th>IOS</th>\n",
       "      <th>0</th>\n",
       "      <td>27</td>\n",
       "      <td>1</td>\n",
       "      <td>-0.126576</td>\n",
       "      <td>-3.417556</td>\n",
       "      <td>-0.126576</td>\n",
       "    </tr>\n",
       "    <tr>\n",
       "      <th rowspan=\"2\" valign=\"top\">rakuten_af_nokwDft</th>\n",
       "      <th>AND</th>\n",
       "      <th>0</th>\n",
       "      <td>80</td>\n",
       "      <td>2</td>\n",
       "      <td>0.014420</td>\n",
       "      <td>0.719495</td>\n",
       "      <td>0.007210</td>\n",
       "    </tr>\n",
       "    <tr>\n",
       "      <th>IOS</th>\n",
       "      <th>0</th>\n",
       "      <td>168</td>\n",
       "      <td>2</td>\n",
       "      <td>-0.038376</td>\n",
       "      <td>-2.194683</td>\n",
       "      <td>-0.019188</td>\n",
       "    </tr>\n",
       "    <tr>\n",
       "      <th>tecmundo.com.br_referral_nokwDft</th>\n",
       "      <th>IOS</th>\n",
       "      <th>0</th>\n",
       "      <td>48</td>\n",
       "      <td>1</td>\n",
       "      <td>-0.116725</td>\n",
       "      <td>-5.602823</td>\n",
       "      <td>-0.116725</td>\n",
       "    </tr>\n",
       "  </tbody>\n",
       "</table>\n",
       "<p>77 rows × 5 columns</p>\n",
       "</div>"
      ],
      "text/plain": [
       "                                                   n_occ          rm_eff  \\\n",
       "                                                     sum count       sum   \n",
       "trinomials                         os  is_control                          \n",
       "(direct)_(none)_kwDft              AND 0           18270     1 -0.168032   \n",
       "                                       1            6539     1 -0.164710   \n",
       "                                   IOS 0           12587     1 -0.155141   \n",
       "                                       1            1856     1 -0.163382   \n",
       "bing_cpc_kwDft                     AND 0              94     1 -0.091422   \n",
       "...                                                  ...   ...       ...   \n",
       "pushnotification_em_nokwDft        AND 1              34     1 -0.113788   \n",
       "radarcupom.com.br_referral_nokwDft IOS 0              27     1 -0.126576   \n",
       "rakuten_af_nokwDft                 AND 0              80     2  0.014420   \n",
       "                                   IOS 0             168     2 -0.038376   \n",
       "tecmundo.com.br_referral_nokwDft   IOS 0              48     1 -0.116725   \n",
       "\n",
       "                                                  scaled_rm_eff  m_rm_eff  \n",
       "                                                            sum            \n",
       "trinomials                         os  is_control                          \n",
       "(direct)_(none)_kwDft              AND 0           -3069.953451 -0.168032  \n",
       "                                       1           -1077.038983 -0.164710  \n",
       "                                   IOS 0           -1952.765156 -0.155141  \n",
       "                                       1            -303.237672 -0.163382  \n",
       "bing_cpc_kwDft                     AND 0              -8.593706 -0.091422  \n",
       "...                                                         ...       ...  \n",
       "pushnotification_em_nokwDft        AND 1              -3.868785 -0.113788  \n",
       "radarcupom.com.br_referral_nokwDft IOS 0              -3.417556 -0.126576  \n",
       "rakuten_af_nokwDft                 AND 0               0.719495  0.007210  \n",
       "                                   IOS 0              -2.194683 -0.019188  \n",
       "tecmundo.com.br_referral_nokwDft   IOS 0              -5.602823 -0.116725  \n",
       "\n",
       "[77 rows x 5 columns]"
      ]
     },
     "execution_count": 66,
     "metadata": {},
     "output_type": "execute_result"
    }
   ],
   "source": [
    "df_tri_re = (rm_effect#.loc[tri2hash.to_dict()['google_cpc_nokwDft']]\n",
    "     .query('rm_eff.notna().values')\n",
    "     .query('n_occ>25')\n",
    "     .groupby(['trinomials','os','is_control'])\n",
    "     .agg({'n_occ':{'sum','count'},'rm_eff':'sum','scaled_rm_eff':'sum'})\n",
    ")\n",
    "df_tri_re['m_rm_eff']=df_tri_re['rm_eff']['sum']/df_tri_re['n_occ']['count']\n",
    "df_tri_re#.reset_index().to_csv('teste.csv')#.loc['google_cpc_nokwDft']"
   ]
  },
  {
   "cell_type": "code",
   "execution_count": 68,
   "metadata": {
    "ExecuteTime": {
     "end_time": "2021-01-07T17:51:57.501988Z",
     "start_time": "2021-01-07T17:51:57.481423Z"
    }
   },
   "outputs": [
    {
     "data": {
      "text/html": [
       "<div>\n",
       "<style scoped>\n",
       "    .dataframe tbody tr th:only-of-type {\n",
       "        vertical-align: middle;\n",
       "    }\n",
       "\n",
       "    .dataframe tbody tr th {\n",
       "        vertical-align: top;\n",
       "    }\n",
       "\n",
       "    .dataframe thead th {\n",
       "        text-align: right;\n",
       "    }\n",
       "</style>\n",
       "<table border=\"1\" class=\"dataframe\">\n",
       "  <thead>\n",
       "    <tr style=\"text-align: right;\">\n",
       "      <th></th>\n",
       "      <th>utm_hash</th>\n",
       "      <th>is_control</th>\n",
       "      <th>os</th>\n",
       "      <th>s_i</th>\n",
       "      <th>s_rm</th>\n",
       "      <th>trinomials</th>\n",
       "      <th>rm_eff</th>\n",
       "      <th>n_occ</th>\n",
       "      <th>scaled_rm_eff</th>\n",
       "    </tr>\n",
       "  </thead>\n",
       "  <tbody>\n",
       "    <tr>\n",
       "      <th>0</th>\n",
       "      <td>d91a231a6cd5db180172858ae63f456f</td>\n",
       "      <td>0</td>\n",
       "      <td>AND</td>\n",
       "      <td>NaN</td>\n",
       "      <td>NaN</td>\n",
       "      <td>NaN</td>\n",
       "      <td>NaN</td>\n",
       "      <td>NaN</td>\n",
       "      <td>NaN</td>\n",
       "    </tr>\n",
       "    <tr>\n",
       "      <th>1</th>\n",
       "      <td>e56711b4c6f48b63059dda5213465b68</td>\n",
       "      <td>0</td>\n",
       "      <td>AND</td>\n",
       "      <td>NaN</td>\n",
       "      <td>NaN</td>\n",
       "      <td>NaN</td>\n",
       "      <td>NaN</td>\n",
       "      <td>NaN</td>\n",
       "      <td>NaN</td>\n",
       "    </tr>\n",
       "    <tr>\n",
       "      <th>2</th>\n",
       "      <td>551d1d67d9d9764c3662ea47c40ad6ae</td>\n",
       "      <td>0</td>\n",
       "      <td>AND</td>\n",
       "      <td>NaN</td>\n",
       "      <td>NaN</td>\n",
       "      <td>NaN</td>\n",
       "      <td>NaN</td>\n",
       "      <td>NaN</td>\n",
       "      <td>NaN</td>\n",
       "    </tr>\n",
       "    <tr>\n",
       "      <th>3</th>\n",
       "      <td>652768f508f95419342773224944a6b7</td>\n",
       "      <td>0</td>\n",
       "      <td>AND</td>\n",
       "      <td>NaN</td>\n",
       "      <td>NaN</td>\n",
       "      <td>NaN</td>\n",
       "      <td>NaN</td>\n",
       "      <td>NaN</td>\n",
       "      <td>NaN</td>\n",
       "    </tr>\n",
       "    <tr>\n",
       "      <th>4</th>\n",
       "      <td>4c3af6fc0f474034a282c6e353f82c44</td>\n",
       "      <td>0</td>\n",
       "      <td>AND</td>\n",
       "      <td>NaN</td>\n",
       "      <td>NaN</td>\n",
       "      <td>google_cpc_kwDft</td>\n",
       "      <td>NaN</td>\n",
       "      <td>3</td>\n",
       "      <td>NaN</td>\n",
       "    </tr>\n",
       "    <tr>\n",
       "      <th>...</th>\n",
       "      <td>...</td>\n",
       "      <td>...</td>\n",
       "      <td>...</td>\n",
       "      <td>...</td>\n",
       "      <td>...</td>\n",
       "      <td>...</td>\n",
       "      <td>...</td>\n",
       "      <td>...</td>\n",
       "      <td>...</td>\n",
       "    </tr>\n",
       "    <tr>\n",
       "      <th>66131</th>\n",
       "      <td>24ab19699574b6394578464a38eb3143</td>\n",
       "      <td>0</td>\n",
       "      <td>IOS</td>\n",
       "      <td>NaN</td>\n",
       "      <td>NaN</td>\n",
       "      <td>NaN</td>\n",
       "      <td>NaN</td>\n",
       "      <td>NaN</td>\n",
       "      <td>NaN</td>\n",
       "    </tr>\n",
       "    <tr>\n",
       "      <th>66132</th>\n",
       "      <td>f23f7aa3f5b0a968e414500ee73c05f9</td>\n",
       "      <td>0</td>\n",
       "      <td>IOS</td>\n",
       "      <td>NaN</td>\n",
       "      <td>NaN</td>\n",
       "      <td>NaN</td>\n",
       "      <td>NaN</td>\n",
       "      <td>NaN</td>\n",
       "      <td>NaN</td>\n",
       "    </tr>\n",
       "    <tr>\n",
       "      <th>66133</th>\n",
       "      <td>28ce1a74c8ca1dd83f61997789e3820a</td>\n",
       "      <td>0</td>\n",
       "      <td>IOS</td>\n",
       "      <td>0.86277</td>\n",
       "      <td>0.932482</td>\n",
       "      <td>pushnotification_crm_nokwDft</td>\n",
       "      <td>0.0807993</td>\n",
       "      <td>9</td>\n",
       "      <td>0.727193</td>\n",
       "    </tr>\n",
       "    <tr>\n",
       "      <th>66134</th>\n",
       "      <td>449287b830d73708b1b760de8df79adf</td>\n",
       "      <td>0</td>\n",
       "      <td>IOS</td>\n",
       "      <td>NaN</td>\n",
       "      <td>NaN</td>\n",
       "      <td>NaN</td>\n",
       "      <td>NaN</td>\n",
       "      <td>NaN</td>\n",
       "      <td>NaN</td>\n",
       "    </tr>\n",
       "    <tr>\n",
       "      <th>66135</th>\n",
       "      <td>bdfdfe1df0b2b5448b16fbf1a980f609</td>\n",
       "      <td>0</td>\n",
       "      <td>IOS</td>\n",
       "      <td>NaN</td>\n",
       "      <td>NaN</td>\n",
       "      <td>NaN</td>\n",
       "      <td>NaN</td>\n",
       "      <td>NaN</td>\n",
       "      <td>NaN</td>\n",
       "    </tr>\n",
       "  </tbody>\n",
       "</table>\n",
       "<p>66136 rows × 9 columns</p>\n",
       "</div>"
      ],
      "text/plain": [
       "                               utm_hash  is_control   os      s_i      s_rm  \\\n",
       "0      d91a231a6cd5db180172858ae63f456f           0  AND      NaN       NaN   \n",
       "1      e56711b4c6f48b63059dda5213465b68           0  AND      NaN       NaN   \n",
       "2      551d1d67d9d9764c3662ea47c40ad6ae           0  AND      NaN       NaN   \n",
       "3      652768f508f95419342773224944a6b7           0  AND      NaN       NaN   \n",
       "4      4c3af6fc0f474034a282c6e353f82c44           0  AND      NaN       NaN   \n",
       "...                                 ...         ...  ...      ...       ...   \n",
       "66131  24ab19699574b6394578464a38eb3143           0  IOS      NaN       NaN   \n",
       "66132  f23f7aa3f5b0a968e414500ee73c05f9           0  IOS      NaN       NaN   \n",
       "66133  28ce1a74c8ca1dd83f61997789e3820a           0  IOS  0.86277  0.932482   \n",
       "66134  449287b830d73708b1b760de8df79adf           0  IOS      NaN       NaN   \n",
       "66135  bdfdfe1df0b2b5448b16fbf1a980f609           0  IOS      NaN       NaN   \n",
       "\n",
       "                         trinomials     rm_eff n_occ scaled_rm_eff  \n",
       "0                               NaN        NaN   NaN           NaN  \n",
       "1                               NaN        NaN   NaN           NaN  \n",
       "2                               NaN        NaN   NaN           NaN  \n",
       "3                               NaN        NaN   NaN           NaN  \n",
       "4                  google_cpc_kwDft        NaN     3           NaN  \n",
       "...                             ...        ...   ...           ...  \n",
       "66131                           NaN        NaN   NaN           NaN  \n",
       "66132                           NaN        NaN   NaN           NaN  \n",
       "66133  pushnotification_crm_nokwDft  0.0807993     9      0.727193  \n",
       "66134                           NaN        NaN   NaN           NaN  \n",
       "66135                           NaN        NaN   NaN           NaN  \n",
       "\n",
       "[66136 rows x 9 columns]"
      ]
     },
     "execution_count": 68,
     "metadata": {},
     "output_type": "execute_result"
    }
   ],
   "source": [
    "rm_effect"
   ]
  },
  {
   "cell_type": "code",
   "execution_count": 335,
   "metadata": {
    "ExecuteTime": {
     "end_time": "2020-12-23T18:39:06.453351Z",
     "start_time": "2020-12-23T18:39:06.434096Z"
    }
   },
   "outputs": [
    {
     "data": {
      "text/html": [
       "<div>\n",
       "<style scoped>\n",
       "    .dataframe tbody tr th:only-of-type {\n",
       "        vertical-align: middle;\n",
       "    }\n",
       "\n",
       "    .dataframe tbody tr th {\n",
       "        vertical-align: top;\n",
       "    }\n",
       "\n",
       "    .dataframe thead tr th {\n",
       "        text-align: left;\n",
       "    }\n",
       "\n",
       "    .dataframe thead tr:last-of-type th {\n",
       "        text-align: right;\n",
       "    }\n",
       "</style>\n",
       "<table border=\"1\" class=\"dataframe\">\n",
       "  <thead>\n",
       "    <tr>\n",
       "      <th></th>\n",
       "      <th></th>\n",
       "      <th></th>\n",
       "      <th colspan=\"2\" halign=\"left\">n_occ</th>\n",
       "      <th>rm_eff</th>\n",
       "      <th>m_rm_eff</th>\n",
       "    </tr>\n",
       "    <tr>\n",
       "      <th></th>\n",
       "      <th></th>\n",
       "      <th></th>\n",
       "      <th>count</th>\n",
       "      <th>sum</th>\n",
       "      <th>sum</th>\n",
       "      <th></th>\n",
       "    </tr>\n",
       "    <tr>\n",
       "      <th>trinomials</th>\n",
       "      <th>os</th>\n",
       "      <th>is_control</th>\n",
       "      <th></th>\n",
       "      <th></th>\n",
       "      <th></th>\n",
       "      <th></th>\n",
       "    </tr>\n",
       "  </thead>\n",
       "  <tbody>\n",
       "    <tr>\n",
       "      <th>google_search_nokwDft</th>\n",
       "      <th>IOS</th>\n",
       "      <th>0</th>\n",
       "      <td>1</td>\n",
       "      <td>111</td>\n",
       "      <td>-0.324342</td>\n",
       "      <td>-0.324342</td>\n",
       "    </tr>\n",
       "    <tr>\n",
       "      <th rowspan=\"3\" valign=\"top\">kwDft29424kwDft759_af_nokwDft</th>\n",
       "      <th rowspan=\"2\" valign=\"top\">AND</th>\n",
       "      <th>0</th>\n",
       "      <td>6</td>\n",
       "      <td>315</td>\n",
       "      <td>3.597297</td>\n",
       "      <td>0.599549</td>\n",
       "    </tr>\n",
       "    <tr>\n",
       "      <th>1</th>\n",
       "      <td>3</td>\n",
       "      <td>97</td>\n",
       "      <td>-0.089114</td>\n",
       "      <td>-0.029705</td>\n",
       "    </tr>\n",
       "    <tr>\n",
       "      <th>IOS</th>\n",
       "      <th>0</th>\n",
       "      <td>4</td>\n",
       "      <td>467</td>\n",
       "      <td>-0.917450</td>\n",
       "      <td>-0.229362</td>\n",
       "    </tr>\n",
       "    <tr>\n",
       "      <th rowspan=\"3\" valign=\"top\">kwDft29424kwDft984_fb_nokwDft</th>\n",
       "      <th rowspan=\"2\" valign=\"top\">AND</th>\n",
       "      <th>0</th>\n",
       "      <td>2</td>\n",
       "      <td>172</td>\n",
       "      <td>-0.132253</td>\n",
       "      <td>-0.066126</td>\n",
       "    </tr>\n",
       "    <tr>\n",
       "      <th>1</th>\n",
       "      <td>1</td>\n",
       "      <td>31</td>\n",
       "      <td>0.007563</td>\n",
       "      <td>0.007563</td>\n",
       "    </tr>\n",
       "    <tr>\n",
       "      <th>IOS</th>\n",
       "      <th>0</th>\n",
       "      <td>1</td>\n",
       "      <td>176</td>\n",
       "      <td>-0.147775</td>\n",
       "      <td>-0.147775</td>\n",
       "    </tr>\n",
       "    <tr>\n",
       "      <th>kwDft3nokwDftnokwDft32_pa_nokwDft</th>\n",
       "      <th>IOS</th>\n",
       "      <th>0</th>\n",
       "      <td>1</td>\n",
       "      <td>35</td>\n",
       "      <td>-0.204295</td>\n",
       "      <td>-0.204295</td>\n",
       "    </tr>\n",
       "    <tr>\n",
       "      <th>livelo_af_nokwDft</th>\n",
       "      <th>IOS</th>\n",
       "      <th>1</th>\n",
       "      <td>1</td>\n",
       "      <td>51</td>\n",
       "      <td>0.008052</td>\n",
       "      <td>0.008052</td>\n",
       "    </tr>\n",
       "    <tr>\n",
       "      <th>maodevacadescontos.com.br_referral_nokwDft</th>\n",
       "      <th>IOS</th>\n",
       "      <th>0</th>\n",
       "      <td>1</td>\n",
       "      <td>59</td>\n",
       "      <td>-0.008556</td>\n",
       "      <td>-0.008556</td>\n",
       "    </tr>\n",
       "    <tr>\n",
       "      <th rowspan=\"2\" valign=\"top\">paraisofeminino_fd_nokwDft</th>\n",
       "      <th>AND</th>\n",
       "      <th>0</th>\n",
       "      <td>1</td>\n",
       "      <td>47</td>\n",
       "      <td>-0.186682</td>\n",
       "      <td>-0.186682</td>\n",
       "    </tr>\n",
       "    <tr>\n",
       "      <th>IOS</th>\n",
       "      <th>0</th>\n",
       "      <td>1</td>\n",
       "      <td>49</td>\n",
       "      <td>-0.337080</td>\n",
       "      <td>-0.337080</td>\n",
       "    </tr>\n",
       "    <tr>\n",
       "      <th rowspan=\"4\" valign=\"top\">prospecting_dp_nokwDft</th>\n",
       "      <th rowspan=\"2\" valign=\"top\">AND</th>\n",
       "      <th>0</th>\n",
       "      <td>15</td>\n",
       "      <td>28238</td>\n",
       "      <td>-4.810111</td>\n",
       "      <td>-0.320674</td>\n",
       "    </tr>\n",
       "    <tr>\n",
       "      <th>1</th>\n",
       "      <td>13</td>\n",
       "      <td>10928</td>\n",
       "      <td>-3.937678</td>\n",
       "      <td>-0.302898</td>\n",
       "    </tr>\n",
       "    <tr>\n",
       "      <th rowspan=\"2\" valign=\"top\">IOS</th>\n",
       "      <th>0</th>\n",
       "      <td>10</td>\n",
       "      <td>4240</td>\n",
       "      <td>-2.030427</td>\n",
       "      <td>-0.203043</td>\n",
       "    </tr>\n",
       "    <tr>\n",
       "      <th>1</th>\n",
       "      <td>4</td>\n",
       "      <td>521</td>\n",
       "      <td>-1.089841</td>\n",
       "      <td>-0.272460</td>\n",
       "    </tr>\n",
       "    <tr>\n",
       "      <th>pushcf_crm_nokwDft</th>\n",
       "      <th>AND</th>\n",
       "      <th>0</th>\n",
       "      <td>1</td>\n",
       "      <td>28</td>\n",
       "      <td>-0.385301</td>\n",
       "      <td>-0.385301</td>\n",
       "    </tr>\n",
       "    <tr>\n",
       "      <th rowspan=\"3\" valign=\"top\">pushcf_em_nokwDft</th>\n",
       "      <th rowspan=\"2\" valign=\"top\">AND</th>\n",
       "      <th>0</th>\n",
       "      <td>4</td>\n",
       "      <td>1950</td>\n",
       "      <td>-0.898797</td>\n",
       "      <td>-0.224699</td>\n",
       "    </tr>\n",
       "    <tr>\n",
       "      <th>1</th>\n",
       "      <td>2</td>\n",
       "      <td>210</td>\n",
       "      <td>-0.336557</td>\n",
       "      <td>-0.168279</td>\n",
       "    </tr>\n",
       "    <tr>\n",
       "      <th>IOS</th>\n",
       "      <th>0</th>\n",
       "      <td>2</td>\n",
       "      <td>205</td>\n",
       "      <td>-0.156012</td>\n",
       "      <td>-0.078006</td>\n",
       "    </tr>\n",
       "    <tr>\n",
       "      <th rowspan=\"4\" valign=\"top\">pushnotification_crm_nokwDft</th>\n",
       "      <th rowspan=\"2\" valign=\"top\">AND</th>\n",
       "      <th>0</th>\n",
       "      <td>180</td>\n",
       "      <td>28041</td>\n",
       "      <td>-25.530715</td>\n",
       "      <td>-0.141837</td>\n",
       "    </tr>\n",
       "    <tr>\n",
       "      <th>1</th>\n",
       "      <td>58</td>\n",
       "      <td>4602</td>\n",
       "      <td>-17.791511</td>\n",
       "      <td>-0.306750</td>\n",
       "    </tr>\n",
       "    <tr>\n",
       "      <th rowspan=\"2\" valign=\"top\">IOS</th>\n",
       "      <th>0</th>\n",
       "      <td>29</td>\n",
       "      <td>1378</td>\n",
       "      <td>-4.229322</td>\n",
       "      <td>-0.145839</td>\n",
       "    </tr>\n",
       "    <tr>\n",
       "      <th>1</th>\n",
       "      <td>1</td>\n",
       "      <td>29</td>\n",
       "      <td>-0.184440</td>\n",
       "      <td>-0.184440</td>\n",
       "    </tr>\n",
       "    <tr>\n",
       "      <th rowspan=\"2\" valign=\"top\">pushnotification_em_nokwDft</th>\n",
       "      <th rowspan=\"2\" valign=\"top\">AND</th>\n",
       "      <th>0</th>\n",
       "      <td>2</td>\n",
       "      <td>55</td>\n",
       "      <td>-1.273200</td>\n",
       "      <td>-0.636600</td>\n",
       "    </tr>\n",
       "    <tr>\n",
       "      <th>1</th>\n",
       "      <td>1</td>\n",
       "      <td>34</td>\n",
       "      <td>-0.402357</td>\n",
       "      <td>-0.402357</td>\n",
       "    </tr>\n",
       "    <tr>\n",
       "      <th>radarcupom.com.br_referral_nokwDft</th>\n",
       "      <th>IOS</th>\n",
       "      <th>0</th>\n",
       "      <td>1</td>\n",
       "      <td>27</td>\n",
       "      <td>-0.370069</td>\n",
       "      <td>-0.370069</td>\n",
       "    </tr>\n",
       "    <tr>\n",
       "      <th rowspan=\"2\" valign=\"top\">rakuten_af_nokwDft</th>\n",
       "      <th>AND</th>\n",
       "      <th>0</th>\n",
       "      <td>2</td>\n",
       "      <td>80</td>\n",
       "      <td>-0.026900</td>\n",
       "      <td>-0.013450</td>\n",
       "    </tr>\n",
       "    <tr>\n",
       "      <th>IOS</th>\n",
       "      <th>0</th>\n",
       "      <td>2</td>\n",
       "      <td>168</td>\n",
       "      <td>-0.327868</td>\n",
       "      <td>-0.163934</td>\n",
       "    </tr>\n",
       "    <tr>\n",
       "      <th>tecmundo.com.br_referral_nokwDft</th>\n",
       "      <th>IOS</th>\n",
       "      <th>0</th>\n",
       "      <td>1</td>\n",
       "      <td>48</td>\n",
       "      <td>-0.103712</td>\n",
       "      <td>-0.103712</td>\n",
       "    </tr>\n",
       "  </tbody>\n",
       "</table>\n",
       "</div>"
      ],
      "text/plain": [
       "                                                          n_occ         \\\n",
       "                                                          count    sum   \n",
       "trinomials                                 os  is_control                \n",
       "google_search_nokwDft                      IOS 0              1    111   \n",
       "kwDft29424kwDft759_af_nokwDft              AND 0              6    315   \n",
       "                                               1              3     97   \n",
       "                                           IOS 0              4    467   \n",
       "kwDft29424kwDft984_fb_nokwDft              AND 0              2    172   \n",
       "                                               1              1     31   \n",
       "                                           IOS 0              1    176   \n",
       "kwDft3nokwDftnokwDft32_pa_nokwDft          IOS 0              1     35   \n",
       "livelo_af_nokwDft                          IOS 1              1     51   \n",
       "maodevacadescontos.com.br_referral_nokwDft IOS 0              1     59   \n",
       "paraisofeminino_fd_nokwDft                 AND 0              1     47   \n",
       "                                           IOS 0              1     49   \n",
       "prospecting_dp_nokwDft                     AND 0             15  28238   \n",
       "                                               1             13  10928   \n",
       "                                           IOS 0             10   4240   \n",
       "                                               1              4    521   \n",
       "pushcf_crm_nokwDft                         AND 0              1     28   \n",
       "pushcf_em_nokwDft                          AND 0              4   1950   \n",
       "                                               1              2    210   \n",
       "                                           IOS 0              2    205   \n",
       "pushnotification_crm_nokwDft               AND 0            180  28041   \n",
       "                                               1             58   4602   \n",
       "                                           IOS 0             29   1378   \n",
       "                                               1              1     29   \n",
       "pushnotification_em_nokwDft                AND 0              2     55   \n",
       "                                               1              1     34   \n",
       "radarcupom.com.br_referral_nokwDft         IOS 0              1     27   \n",
       "rakuten_af_nokwDft                         AND 0              2     80   \n",
       "                                           IOS 0              2    168   \n",
       "tecmundo.com.br_referral_nokwDft           IOS 0              1     48   \n",
       "\n",
       "                                                              rm_eff  m_rm_eff  \n",
       "                                                                 sum            \n",
       "trinomials                                 os  is_control                       \n",
       "google_search_nokwDft                      IOS 0           -0.324342 -0.324342  \n",
       "kwDft29424kwDft759_af_nokwDft              AND 0            3.597297  0.599549  \n",
       "                                               1           -0.089114 -0.029705  \n",
       "                                           IOS 0           -0.917450 -0.229362  \n",
       "kwDft29424kwDft984_fb_nokwDft              AND 0           -0.132253 -0.066126  \n",
       "                                               1            0.007563  0.007563  \n",
       "                                           IOS 0           -0.147775 -0.147775  \n",
       "kwDft3nokwDftnokwDft32_pa_nokwDft          IOS 0           -0.204295 -0.204295  \n",
       "livelo_af_nokwDft                          IOS 1            0.008052  0.008052  \n",
       "maodevacadescontos.com.br_referral_nokwDft IOS 0           -0.008556 -0.008556  \n",
       "paraisofeminino_fd_nokwDft                 AND 0           -0.186682 -0.186682  \n",
       "                                           IOS 0           -0.337080 -0.337080  \n",
       "prospecting_dp_nokwDft                     AND 0           -4.810111 -0.320674  \n",
       "                                               1           -3.937678 -0.302898  \n",
       "                                           IOS 0           -2.030427 -0.203043  \n",
       "                                               1           -1.089841 -0.272460  \n",
       "pushcf_crm_nokwDft                         AND 0           -0.385301 -0.385301  \n",
       "pushcf_em_nokwDft                          AND 0           -0.898797 -0.224699  \n",
       "                                               1           -0.336557 -0.168279  \n",
       "                                           IOS 0           -0.156012 -0.078006  \n",
       "pushnotification_crm_nokwDft               AND 0          -25.530715 -0.141837  \n",
       "                                               1          -17.791511 -0.306750  \n",
       "                                           IOS 0           -4.229322 -0.145839  \n",
       "                                               1           -0.184440 -0.184440  \n",
       "pushnotification_em_nokwDft                AND 0           -1.273200 -0.636600  \n",
       "                                               1           -0.402357 -0.402357  \n",
       "radarcupom.com.br_referral_nokwDft         IOS 0           -0.370069 -0.370069  \n",
       "rakuten_af_nokwDft                         AND 0           -0.026900 -0.013450  \n",
       "                                           IOS 0           -0.327868 -0.163934  \n",
       "tecmundo.com.br_referral_nokwDft           IOS 0           -0.103712 -0.103712  "
      ]
     },
     "execution_count": 335,
     "metadata": {},
     "output_type": "execute_result"
    }
   ],
   "source": [
    "df_tri_re.tail(30)#['m_rm_eff'].plot(kind='barh',figsize=(15,9))#.sort_values(by='mean_rm_eff')"
   ]
  },
  {
   "cell_type": "code",
   "execution_count": 341,
   "metadata": {
    "ExecuteTime": {
     "end_time": "2020-12-23T18:41:08.637670Z",
     "start_time": "2020-12-23T18:41:08.606062Z"
    }
   },
   "outputs": [
    {
     "data": {
      "text/html": [
       "<div>\n",
       "<style scoped>\n",
       "    .dataframe tbody tr th:only-of-type {\n",
       "        vertical-align: middle;\n",
       "    }\n",
       "\n",
       "    .dataframe tbody tr th {\n",
       "        vertical-align: top;\n",
       "    }\n",
       "\n",
       "    .dataframe thead tr th {\n",
       "        text-align: left;\n",
       "    }\n",
       "\n",
       "    .dataframe thead tr:last-of-type th {\n",
       "        text-align: right;\n",
       "    }\n",
       "</style>\n",
       "<table border=\"1\" class=\"dataframe\">\n",
       "  <thead>\n",
       "    <tr>\n",
       "      <th></th>\n",
       "      <th></th>\n",
       "      <th></th>\n",
       "      <th colspan=\"2\" halign=\"left\">n_occ</th>\n",
       "      <th>rm_eff</th>\n",
       "      <th>m_rm_eff</th>\n",
       "    </tr>\n",
       "    <tr>\n",
       "      <th></th>\n",
       "      <th></th>\n",
       "      <th></th>\n",
       "      <th>count</th>\n",
       "      <th>sum</th>\n",
       "      <th>sum</th>\n",
       "      <th></th>\n",
       "    </tr>\n",
       "    <tr>\n",
       "      <th>trinomials</th>\n",
       "      <th>os</th>\n",
       "      <th>is_control</th>\n",
       "      <th></th>\n",
       "      <th></th>\n",
       "      <th></th>\n",
       "      <th></th>\n",
       "    </tr>\n",
       "  </thead>\n",
       "  <tbody>\n",
       "    <tr>\n",
       "      <th rowspan=\"4\" valign=\"top\">(direct)_(none)_kwDft</th>\n",
       "      <th rowspan=\"2\" valign=\"top\">AND</th>\n",
       "      <th>0</th>\n",
       "      <td>1</td>\n",
       "      <td>18270</td>\n",
       "      <td>-0.319689</td>\n",
       "      <td>-0.319689</td>\n",
       "    </tr>\n",
       "    <tr>\n",
       "      <th>1</th>\n",
       "      <td>1</td>\n",
       "      <td>6539</td>\n",
       "      <td>-0.322894</td>\n",
       "      <td>-0.322894</td>\n",
       "    </tr>\n",
       "    <tr>\n",
       "      <th rowspan=\"2\" valign=\"top\">IOS</th>\n",
       "      <th>0</th>\n",
       "      <td>1</td>\n",
       "      <td>12587</td>\n",
       "      <td>-0.290839</td>\n",
       "      <td>-0.290839</td>\n",
       "    </tr>\n",
       "    <tr>\n",
       "      <th>1</th>\n",
       "      <td>1</td>\n",
       "      <td>1856</td>\n",
       "      <td>-0.231180</td>\n",
       "      <td>-0.231180</td>\n",
       "    </tr>\n",
       "    <tr>\n",
       "      <th rowspan=\"2\" valign=\"top\">bing_cpc_kwDft</th>\n",
       "      <th>AND</th>\n",
       "      <th>0</th>\n",
       "      <td>1</td>\n",
       "      <td>94</td>\n",
       "      <td>-0.074646</td>\n",
       "      <td>-0.074646</td>\n",
       "    </tr>\n",
       "    <tr>\n",
       "      <th>IOS</th>\n",
       "      <th>0</th>\n",
       "      <td>1</td>\n",
       "      <td>240</td>\n",
       "      <td>-0.345759</td>\n",
       "      <td>-0.345759</td>\n",
       "    </tr>\n",
       "    <tr>\n",
       "      <th>cupomvalido_af_nokwDft</th>\n",
       "      <th>IOS</th>\n",
       "      <th>0</th>\n",
       "      <td>1</td>\n",
       "      <td>68</td>\n",
       "      <td>-0.378057</td>\n",
       "      <td>-0.378057</td>\n",
       "    </tr>\n",
       "    <tr>\n",
       "      <th rowspan=\"3\" valign=\"top\">cuponation_(notset)_nokwDft</th>\n",
       "      <th>AND</th>\n",
       "      <th>0</th>\n",
       "      <td>1</td>\n",
       "      <td>122</td>\n",
       "      <td>-0.160066</td>\n",
       "      <td>-0.160066</td>\n",
       "    </tr>\n",
       "    <tr>\n",
       "      <th rowspan=\"2\" valign=\"top\">IOS</th>\n",
       "      <th>0</th>\n",
       "      <td>1</td>\n",
       "      <td>606</td>\n",
       "      <td>-0.209324</td>\n",
       "      <td>-0.209324</td>\n",
       "    </tr>\n",
       "    <tr>\n",
       "      <th>1</th>\n",
       "      <td>1</td>\n",
       "      <td>72</td>\n",
       "      <td>-0.212053</td>\n",
       "      <td>-0.212053</td>\n",
       "    </tr>\n",
       "    <tr>\n",
       "      <th rowspan=\"2\" valign=\"top\">emailcf_em_nokwDft</th>\n",
       "      <th>AND</th>\n",
       "      <th>0</th>\n",
       "      <td>1</td>\n",
       "      <td>55</td>\n",
       "      <td>0.032548</td>\n",
       "      <td>0.032548</td>\n",
       "    </tr>\n",
       "    <tr>\n",
       "      <th>IOS</th>\n",
       "      <th>0</th>\n",
       "      <td>1</td>\n",
       "      <td>125</td>\n",
       "      <td>-0.144702</td>\n",
       "      <td>-0.144702</td>\n",
       "    </tr>\n",
       "    <tr>\n",
       "      <th rowspan=\"2\" valign=\"top\">emailpromo_dafiti_em_nokwDft</th>\n",
       "      <th>AND</th>\n",
       "      <th>0</th>\n",
       "      <td>2</td>\n",
       "      <td>87</td>\n",
       "      <td>-0.308652</td>\n",
       "      <td>-0.154326</td>\n",
       "    </tr>\n",
       "    <tr>\n",
       "      <th>IOS</th>\n",
       "      <th>0</th>\n",
       "      <td>12</td>\n",
       "      <td>554</td>\n",
       "      <td>-0.240205</td>\n",
       "      <td>-0.020017</td>\n",
       "    </tr>\n",
       "    <tr>\n",
       "      <th rowspan=\"4\" valign=\"top\">emailtrans_dafiti_em_nokwDft</th>\n",
       "      <th rowspan=\"2\" valign=\"top\">AND</th>\n",
       "      <th>0</th>\n",
       "      <td>52</td>\n",
       "      <td>3619</td>\n",
       "      <td>4.369344</td>\n",
       "      <td>0.084026</td>\n",
       "    </tr>\n",
       "    <tr>\n",
       "      <th>1</th>\n",
       "      <td>19</td>\n",
       "      <td>725</td>\n",
       "      <td>10.208612</td>\n",
       "      <td>0.537295</td>\n",
       "    </tr>\n",
       "    <tr>\n",
       "      <th rowspan=\"2\" valign=\"top\">IOS</th>\n",
       "      <th>0</th>\n",
       "      <td>71</td>\n",
       "      <td>9183</td>\n",
       "      <td>1.686258</td>\n",
       "      <td>0.023750</td>\n",
       "    </tr>\n",
       "    <tr>\n",
       "      <th>1</th>\n",
       "      <td>12</td>\n",
       "      <td>423</td>\n",
       "      <td>-1.931547</td>\n",
       "      <td>-0.160962</td>\n",
       "    </tr>\n",
       "    <tr>\n",
       "      <th rowspan=\"3\" valign=\"top\">facebook_app_nokwDft</th>\n",
       "      <th rowspan=\"2\" valign=\"top\">AND</th>\n",
       "      <th>0</th>\n",
       "      <td>1</td>\n",
       "      <td>2386</td>\n",
       "      <td>-0.229747</td>\n",
       "      <td>-0.229747</td>\n",
       "    </tr>\n",
       "    <tr>\n",
       "      <th>1</th>\n",
       "      <td>1</td>\n",
       "      <td>793</td>\n",
       "      <td>-0.211037</td>\n",
       "      <td>-0.211037</td>\n",
       "    </tr>\n",
       "    <tr>\n",
       "      <th>IOS</th>\n",
       "      <th>0</th>\n",
       "      <td>1</td>\n",
       "      <td>57</td>\n",
       "      <td>-0.074125</td>\n",
       "      <td>-0.074125</td>\n",
       "    </tr>\n",
       "    <tr>\n",
       "      <th rowspan=\"3\" valign=\"top\">facebook_dp_nokwDft</th>\n",
       "      <th rowspan=\"2\" valign=\"top\">AND</th>\n",
       "      <th>0</th>\n",
       "      <td>11</td>\n",
       "      <td>637</td>\n",
       "      <td>-0.973761</td>\n",
       "      <td>-0.088524</td>\n",
       "    </tr>\n",
       "    <tr>\n",
       "      <th>1</th>\n",
       "      <td>3</td>\n",
       "      <td>221</td>\n",
       "      <td>0.667860</td>\n",
       "      <td>0.222620</td>\n",
       "    </tr>\n",
       "    <tr>\n",
       "      <th>IOS</th>\n",
       "      <th>0</th>\n",
       "      <td>16</td>\n",
       "      <td>983</td>\n",
       "      <td>-0.989787</td>\n",
       "      <td>-0.061862</td>\n",
       "    </tr>\n",
       "    <tr>\n",
       "      <th rowspan=\"4\" valign=\"top\">google_cpc_kwDft</th>\n",
       "      <th rowspan=\"2\" valign=\"top\">AND</th>\n",
       "      <th>0</th>\n",
       "      <td>14</td>\n",
       "      <td>5524</td>\n",
       "      <td>-2.356925</td>\n",
       "      <td>-0.168352</td>\n",
       "    </tr>\n",
       "    <tr>\n",
       "      <th>1</th>\n",
       "      <td>13</td>\n",
       "      <td>2007</td>\n",
       "      <td>-2.492355</td>\n",
       "      <td>-0.191720</td>\n",
       "    </tr>\n",
       "    <tr>\n",
       "      <th rowspan=\"2\" valign=\"top\">IOS</th>\n",
       "      <th>0</th>\n",
       "      <td>19</td>\n",
       "      <td>7575</td>\n",
       "      <td>-2.933290</td>\n",
       "      <td>-0.154384</td>\n",
       "    </tr>\n",
       "    <tr>\n",
       "      <th>1</th>\n",
       "      <td>10</td>\n",
       "      <td>995</td>\n",
       "      <td>-1.581859</td>\n",
       "      <td>-0.158186</td>\n",
       "    </tr>\n",
       "    <tr>\n",
       "      <th rowspan=\"4\" valign=\"top\">google_cpc_nokwDft</th>\n",
       "      <th rowspan=\"2\" valign=\"top\">AND</th>\n",
       "      <th>0</th>\n",
       "      <td>79</td>\n",
       "      <td>7938</td>\n",
       "      <td>-7.875101</td>\n",
       "      <td>-0.099685</td>\n",
       "    </tr>\n",
       "    <tr>\n",
       "      <th>1</th>\n",
       "      <td>33</td>\n",
       "      <td>1996</td>\n",
       "      <td>0.647214</td>\n",
       "      <td>0.019613</td>\n",
       "    </tr>\n",
       "    <tr>\n",
       "      <th rowspan=\"2\" valign=\"top\">IOS</th>\n",
       "      <th>0</th>\n",
       "      <td>58</td>\n",
       "      <td>3931</td>\n",
       "      <td>-3.695599</td>\n",
       "      <td>-0.063717</td>\n",
       "    </tr>\n",
       "    <tr>\n",
       "      <th>1</th>\n",
       "      <td>4</td>\n",
       "      <td>147</td>\n",
       "      <td>-0.526019</td>\n",
       "      <td>-0.131505</td>\n",
       "    </tr>\n",
       "    <tr>\n",
       "      <th rowspan=\"4\" valign=\"top\">google_organic_nokwDft</th>\n",
       "      <th rowspan=\"2\" valign=\"top\">AND</th>\n",
       "      <th>0</th>\n",
       "      <td>2</td>\n",
       "      <td>2154</td>\n",
       "      <td>-0.407760</td>\n",
       "      <td>-0.203880</td>\n",
       "    </tr>\n",
       "    <tr>\n",
       "      <th>1</th>\n",
       "      <td>2</td>\n",
       "      <td>646</td>\n",
       "      <td>-0.366014</td>\n",
       "      <td>-0.183007</td>\n",
       "    </tr>\n",
       "    <tr>\n",
       "      <th rowspan=\"2\" valign=\"top\">IOS</th>\n",
       "      <th>0</th>\n",
       "      <td>1</td>\n",
       "      <td>4621</td>\n",
       "      <td>-0.080335</td>\n",
       "      <td>-0.080335</td>\n",
       "    </tr>\n",
       "    <tr>\n",
       "      <th>1</th>\n",
       "      <td>1</td>\n",
       "      <td>612</td>\n",
       "      <td>-0.124309</td>\n",
       "      <td>-0.124309</td>\n",
       "    </tr>\n",
       "    <tr>\n",
       "      <th rowspan=\"3\" valign=\"top\">google_search_nokwDft</th>\n",
       "      <th rowspan=\"2\" valign=\"top\">AND</th>\n",
       "      <th>0</th>\n",
       "      <td>1</td>\n",
       "      <td>726</td>\n",
       "      <td>-0.116705</td>\n",
       "      <td>-0.116705</td>\n",
       "    </tr>\n",
       "    <tr>\n",
       "      <th>1</th>\n",
       "      <td>1</td>\n",
       "      <td>260</td>\n",
       "      <td>-0.215973</td>\n",
       "      <td>-0.215973</td>\n",
       "    </tr>\n",
       "    <tr>\n",
       "      <th>IOS</th>\n",
       "      <th>0</th>\n",
       "      <td>1</td>\n",
       "      <td>111</td>\n",
       "      <td>-0.324342</td>\n",
       "      <td>-0.324342</td>\n",
       "    </tr>\n",
       "    <tr>\n",
       "      <th rowspan=\"3\" valign=\"top\">kwDft29424kwDft759_af_nokwDft</th>\n",
       "      <th rowspan=\"2\" valign=\"top\">AND</th>\n",
       "      <th>0</th>\n",
       "      <td>6</td>\n",
       "      <td>315</td>\n",
       "      <td>3.597297</td>\n",
       "      <td>0.599549</td>\n",
       "    </tr>\n",
       "    <tr>\n",
       "      <th>1</th>\n",
       "      <td>3</td>\n",
       "      <td>97</td>\n",
       "      <td>-0.089114</td>\n",
       "      <td>-0.029705</td>\n",
       "    </tr>\n",
       "    <tr>\n",
       "      <th>IOS</th>\n",
       "      <th>0</th>\n",
       "      <td>4</td>\n",
       "      <td>467</td>\n",
       "      <td>-0.917450</td>\n",
       "      <td>-0.229362</td>\n",
       "    </tr>\n",
       "    <tr>\n",
       "      <th rowspan=\"2\" valign=\"top\">kwDft29424kwDft984_fb_nokwDft</th>\n",
       "      <th>AND</th>\n",
       "      <th>0</th>\n",
       "      <td>2</td>\n",
       "      <td>172</td>\n",
       "      <td>-0.132253</td>\n",
       "      <td>-0.066126</td>\n",
       "    </tr>\n",
       "    <tr>\n",
       "      <th>IOS</th>\n",
       "      <th>0</th>\n",
       "      <td>1</td>\n",
       "      <td>176</td>\n",
       "      <td>-0.147775</td>\n",
       "      <td>-0.147775</td>\n",
       "    </tr>\n",
       "    <tr>\n",
       "      <th>livelo_af_nokwDft</th>\n",
       "      <th>IOS</th>\n",
       "      <th>1</th>\n",
       "      <td>1</td>\n",
       "      <td>51</td>\n",
       "      <td>0.008052</td>\n",
       "      <td>0.008052</td>\n",
       "    </tr>\n",
       "    <tr>\n",
       "      <th>maodevacadescontos.com.br_referral_nokwDft</th>\n",
       "      <th>IOS</th>\n",
       "      <th>0</th>\n",
       "      <td>1</td>\n",
       "      <td>59</td>\n",
       "      <td>-0.008556</td>\n",
       "      <td>-0.008556</td>\n",
       "    </tr>\n",
       "    <tr>\n",
       "      <th rowspan=\"4\" valign=\"top\">prospecting_dp_nokwDft</th>\n",
       "      <th rowspan=\"2\" valign=\"top\">AND</th>\n",
       "      <th>0</th>\n",
       "      <td>15</td>\n",
       "      <td>28238</td>\n",
       "      <td>-4.810111</td>\n",
       "      <td>-0.320674</td>\n",
       "    </tr>\n",
       "    <tr>\n",
       "      <th>1</th>\n",
       "      <td>13</td>\n",
       "      <td>10928</td>\n",
       "      <td>-3.937678</td>\n",
       "      <td>-0.302898</td>\n",
       "    </tr>\n",
       "    <tr>\n",
       "      <th rowspan=\"2\" valign=\"top\">IOS</th>\n",
       "      <th>0</th>\n",
       "      <td>10</td>\n",
       "      <td>4240</td>\n",
       "      <td>-2.030427</td>\n",
       "      <td>-0.203043</td>\n",
       "    </tr>\n",
       "    <tr>\n",
       "      <th>1</th>\n",
       "      <td>4</td>\n",
       "      <td>521</td>\n",
       "      <td>-1.089841</td>\n",
       "      <td>-0.272460</td>\n",
       "    </tr>\n",
       "    <tr>\n",
       "      <th rowspan=\"3\" valign=\"top\">pushcf_em_nokwDft</th>\n",
       "      <th rowspan=\"2\" valign=\"top\">AND</th>\n",
       "      <th>0</th>\n",
       "      <td>4</td>\n",
       "      <td>1950</td>\n",
       "      <td>-0.898797</td>\n",
       "      <td>-0.224699</td>\n",
       "    </tr>\n",
       "    <tr>\n",
       "      <th>1</th>\n",
       "      <td>2</td>\n",
       "      <td>210</td>\n",
       "      <td>-0.336557</td>\n",
       "      <td>-0.168279</td>\n",
       "    </tr>\n",
       "    <tr>\n",
       "      <th>IOS</th>\n",
       "      <th>0</th>\n",
       "      <td>2</td>\n",
       "      <td>205</td>\n",
       "      <td>-0.156012</td>\n",
       "      <td>-0.078006</td>\n",
       "    </tr>\n",
       "    <tr>\n",
       "      <th rowspan=\"3\" valign=\"top\">pushnotification_crm_nokwDft</th>\n",
       "      <th rowspan=\"2\" valign=\"top\">AND</th>\n",
       "      <th>0</th>\n",
       "      <td>180</td>\n",
       "      <td>28041</td>\n",
       "      <td>-25.530715</td>\n",
       "      <td>-0.141837</td>\n",
       "    </tr>\n",
       "    <tr>\n",
       "      <th>1</th>\n",
       "      <td>58</td>\n",
       "      <td>4602</td>\n",
       "      <td>-17.791511</td>\n",
       "      <td>-0.306750</td>\n",
       "    </tr>\n",
       "    <tr>\n",
       "      <th>IOS</th>\n",
       "      <th>0</th>\n",
       "      <td>29</td>\n",
       "      <td>1378</td>\n",
       "      <td>-4.229322</td>\n",
       "      <td>-0.145839</td>\n",
       "    </tr>\n",
       "    <tr>\n",
       "      <th>pushnotification_em_nokwDft</th>\n",
       "      <th>AND</th>\n",
       "      <th>0</th>\n",
       "      <td>2</td>\n",
       "      <td>55</td>\n",
       "      <td>-1.273200</td>\n",
       "      <td>-0.636600</td>\n",
       "    </tr>\n",
       "    <tr>\n",
       "      <th rowspan=\"2\" valign=\"top\">rakuten_af_nokwDft</th>\n",
       "      <th>AND</th>\n",
       "      <th>0</th>\n",
       "      <td>2</td>\n",
       "      <td>80</td>\n",
       "      <td>-0.026900</td>\n",
       "      <td>-0.013450</td>\n",
       "    </tr>\n",
       "    <tr>\n",
       "      <th>IOS</th>\n",
       "      <th>0</th>\n",
       "      <td>2</td>\n",
       "      <td>168</td>\n",
       "      <td>-0.327868</td>\n",
       "      <td>-0.163934</td>\n",
       "    </tr>\n",
       "  </tbody>\n",
       "</table>\n",
       "</div>"
      ],
      "text/plain": [
       "                                                          n_occ         \\\n",
       "                                                          count    sum   \n",
       "trinomials                                 os  is_control                \n",
       "(direct)_(none)_kwDft                      AND 0              1  18270   \n",
       "                                               1              1   6539   \n",
       "                                           IOS 0              1  12587   \n",
       "                                               1              1   1856   \n",
       "bing_cpc_kwDft                             AND 0              1     94   \n",
       "                                           IOS 0              1    240   \n",
       "cupomvalido_af_nokwDft                     IOS 0              1     68   \n",
       "cuponation_(notset)_nokwDft                AND 0              1    122   \n",
       "                                           IOS 0              1    606   \n",
       "                                               1              1     72   \n",
       "emailcf_em_nokwDft                         AND 0              1     55   \n",
       "                                           IOS 0              1    125   \n",
       "emailpromo_dafiti_em_nokwDft               AND 0              2     87   \n",
       "                                           IOS 0             12    554   \n",
       "emailtrans_dafiti_em_nokwDft               AND 0             52   3619   \n",
       "                                               1             19    725   \n",
       "                                           IOS 0             71   9183   \n",
       "                                               1             12    423   \n",
       "facebook_app_nokwDft                       AND 0              1   2386   \n",
       "                                               1              1    793   \n",
       "                                           IOS 0              1     57   \n",
       "facebook_dp_nokwDft                        AND 0             11    637   \n",
       "                                               1              3    221   \n",
       "                                           IOS 0             16    983   \n",
       "google_cpc_kwDft                           AND 0             14   5524   \n",
       "                                               1             13   2007   \n",
       "                                           IOS 0             19   7575   \n",
       "                                               1             10    995   \n",
       "google_cpc_nokwDft                         AND 0             79   7938   \n",
       "                                               1             33   1996   \n",
       "                                           IOS 0             58   3931   \n",
       "                                               1              4    147   \n",
       "google_organic_nokwDft                     AND 0              2   2154   \n",
       "                                               1              2    646   \n",
       "                                           IOS 0              1   4621   \n",
       "                                               1              1    612   \n",
       "google_search_nokwDft                      AND 0              1    726   \n",
       "                                               1              1    260   \n",
       "                                           IOS 0              1    111   \n",
       "kwDft29424kwDft759_af_nokwDft              AND 0              6    315   \n",
       "                                               1              3     97   \n",
       "                                           IOS 0              4    467   \n",
       "kwDft29424kwDft984_fb_nokwDft              AND 0              2    172   \n",
       "                                           IOS 0              1    176   \n",
       "livelo_af_nokwDft                          IOS 1              1     51   \n",
       "maodevacadescontos.com.br_referral_nokwDft IOS 0              1     59   \n",
       "prospecting_dp_nokwDft                     AND 0             15  28238   \n",
       "                                               1             13  10928   \n",
       "                                           IOS 0             10   4240   \n",
       "                                               1              4    521   \n",
       "pushcf_em_nokwDft                          AND 0              4   1950   \n",
       "                                               1              2    210   \n",
       "                                           IOS 0              2    205   \n",
       "pushnotification_crm_nokwDft               AND 0            180  28041   \n",
       "                                               1             58   4602   \n",
       "                                           IOS 0             29   1378   \n",
       "pushnotification_em_nokwDft                AND 0              2     55   \n",
       "rakuten_af_nokwDft                         AND 0              2     80   \n",
       "                                           IOS 0              2    168   \n",
       "\n",
       "                                                              rm_eff  m_rm_eff  \n",
       "                                                                 sum            \n",
       "trinomials                                 os  is_control                       \n",
       "(direct)_(none)_kwDft                      AND 0           -0.319689 -0.319689  \n",
       "                                               1           -0.322894 -0.322894  \n",
       "                                           IOS 0           -0.290839 -0.290839  \n",
       "                                               1           -0.231180 -0.231180  \n",
       "bing_cpc_kwDft                             AND 0           -0.074646 -0.074646  \n",
       "                                           IOS 0           -0.345759 -0.345759  \n",
       "cupomvalido_af_nokwDft                     IOS 0           -0.378057 -0.378057  \n",
       "cuponation_(notset)_nokwDft                AND 0           -0.160066 -0.160066  \n",
       "                                           IOS 0           -0.209324 -0.209324  \n",
       "                                               1           -0.212053 -0.212053  \n",
       "emailcf_em_nokwDft                         AND 0            0.032548  0.032548  \n",
       "                                           IOS 0           -0.144702 -0.144702  \n",
       "emailpromo_dafiti_em_nokwDft               AND 0           -0.308652 -0.154326  \n",
       "                                           IOS 0           -0.240205 -0.020017  \n",
       "emailtrans_dafiti_em_nokwDft               AND 0            4.369344  0.084026  \n",
       "                                               1           10.208612  0.537295  \n",
       "                                           IOS 0            1.686258  0.023750  \n",
       "                                               1           -1.931547 -0.160962  \n",
       "facebook_app_nokwDft                       AND 0           -0.229747 -0.229747  \n",
       "                                               1           -0.211037 -0.211037  \n",
       "                                           IOS 0           -0.074125 -0.074125  \n",
       "facebook_dp_nokwDft                        AND 0           -0.973761 -0.088524  \n",
       "                                               1            0.667860  0.222620  \n",
       "                                           IOS 0           -0.989787 -0.061862  \n",
       "google_cpc_kwDft                           AND 0           -2.356925 -0.168352  \n",
       "                                               1           -2.492355 -0.191720  \n",
       "                                           IOS 0           -2.933290 -0.154384  \n",
       "                                               1           -1.581859 -0.158186  \n",
       "google_cpc_nokwDft                         AND 0           -7.875101 -0.099685  \n",
       "                                               1            0.647214  0.019613  \n",
       "                                           IOS 0           -3.695599 -0.063717  \n",
       "                                               1           -0.526019 -0.131505  \n",
       "google_organic_nokwDft                     AND 0           -0.407760 -0.203880  \n",
       "                                               1           -0.366014 -0.183007  \n",
       "                                           IOS 0           -0.080335 -0.080335  \n",
       "                                               1           -0.124309 -0.124309  \n",
       "google_search_nokwDft                      AND 0           -0.116705 -0.116705  \n",
       "                                               1           -0.215973 -0.215973  \n",
       "                                           IOS 0           -0.324342 -0.324342  \n",
       "kwDft29424kwDft759_af_nokwDft              AND 0            3.597297  0.599549  \n",
       "                                               1           -0.089114 -0.029705  \n",
       "                                           IOS 0           -0.917450 -0.229362  \n",
       "kwDft29424kwDft984_fb_nokwDft              AND 0           -0.132253 -0.066126  \n",
       "                                           IOS 0           -0.147775 -0.147775  \n",
       "livelo_af_nokwDft                          IOS 1            0.008052  0.008052  \n",
       "maodevacadescontos.com.br_referral_nokwDft IOS 0           -0.008556 -0.008556  \n",
       "prospecting_dp_nokwDft                     AND 0           -4.810111 -0.320674  \n",
       "                                               1           -3.937678 -0.302898  \n",
       "                                           IOS 0           -2.030427 -0.203043  \n",
       "                                               1           -1.089841 -0.272460  \n",
       "pushcf_em_nokwDft                          AND 0           -0.898797 -0.224699  \n",
       "                                               1           -0.336557 -0.168279  \n",
       "                                           IOS 0           -0.156012 -0.078006  \n",
       "pushnotification_crm_nokwDft               AND 0          -25.530715 -0.141837  \n",
       "                                               1          -17.791511 -0.306750  \n",
       "                                           IOS 0           -4.229322 -0.145839  \n",
       "pushnotification_em_nokwDft                AND 0           -1.273200 -0.636600  \n",
       "rakuten_af_nokwDft                         AND 0           -0.026900 -0.013450  \n",
       "                                           IOS 0           -0.327868 -0.163934  "
      ]
     },
     "execution_count": 341,
     "metadata": {},
     "output_type": "execute_result"
    }
   ],
   "source": [
    "df_tri_re[df_tri_re['n_occ']['sum']>50]"
   ]
  },
  {
   "cell_type": "code",
   "execution_count": 85,
   "metadata": {
    "ExecuteTime": {
     "end_time": "2020-12-23T14:28:43.858277Z",
     "start_time": "2020-12-23T14:28:43.837411Z"
    }
   },
   "outputs": [],
   "source": [
    "trinomials=list(set([elt[0] for elt in df_tri_re.index]))\n",
    "compare_tri = [tri for tri in trinomials if df_tri_re.loc[tri].shape[0]>3]\n",
    "compare_tri\n",
    "cols = [col for col in df_tri_re.columns if col not in ['n_occ']]"
   ]
  },
  {
   "cell_type": "code",
   "execution_count": 87,
   "metadata": {
    "ExecuteTime": {
     "end_time": "2020-12-23T14:28:50.407329Z",
     "start_time": "2020-12-23T14:28:50.376000Z"
    }
   },
   "outputs": [],
   "source": [
    "ls=[]\n",
    "is_control_list=np.zeros(len(compare_tri)).astype(int).tolist() + np.ones(len(compare_tri)).astype(int).tolist()\n",
    "tri_list=compare_tri + compare_tri\n",
    "os_list=(\n",
    "    (((df_gid.os.unique()).tolist()*len(compare_tri))[0:][::2])\n",
    "    +(((df_gid.os.unique()).tolist()*len(compare_tri))[1:][::2])\n",
    ")\n",
    "is_control_list= is_control_list+ is_control_list[::-1]\n",
    "tri_list = tri_list + tri_list\n",
    "os_list = os_list + os_list\n",
    "ls.append(tri_list)\n",
    "ls.append(os_list)\n",
    "# ls.append(is_control_list)\n",
    "index = pd.MultiIndex.from_tuples(list(zip(*ls)), names=['utm_hash','os'])\n",
    "df_compare=pd.DataFrame(index=index,columns=cols)#.reset_index()\n",
    "# df_compare"
   ]
  },
  {
   "cell_type": "code",
   "execution_count": 88,
   "metadata": {
    "ExecuteTime": {
     "end_time": "2020-12-23T14:28:55.130304Z",
     "start_time": "2020-12-23T14:28:54.804558Z"
    }
   },
   "outputs": [
    {
     "name": "stderr",
     "output_type": "stream",
     "text": [
      "/home/renan.romano/miniconda3/envs/teste/lib/python3.7/site-packages/IPython/core/interactiveshell.py:2858: PerformanceWarning: indexing past lexsort depth may impact performance.\n",
      "  raw_cell, store_history, silent, shell_futures)\n"
     ]
    },
    {
     "data": {
      "text/html": [
       "<div>\n",
       "<style scoped>\n",
       "    .dataframe tbody tr th:only-of-type {\n",
       "        vertical-align: middle;\n",
       "    }\n",
       "\n",
       "    .dataframe tbody tr th {\n",
       "        vertical-align: top;\n",
       "    }\n",
       "\n",
       "    .dataframe thead th {\n",
       "        text-align: right;\n",
       "    }\n",
       "</style>\n",
       "<table border=\"1\" class=\"dataframe\">\n",
       "  <thead>\n",
       "    <tr style=\"text-align: right;\">\n",
       "      <th></th>\n",
       "      <th></th>\n",
       "      <th>rm_eff</th>\n",
       "      <th>scaled_rm_eff</th>\n",
       "      <th>mean_rm_eff</th>\n",
       "    </tr>\n",
       "    <tr>\n",
       "      <th>utm_hash</th>\n",
       "      <th>os</th>\n",
       "      <th></th>\n",
       "      <th></th>\n",
       "      <th></th>\n",
       "    </tr>\n",
       "  </thead>\n",
       "  <tbody>\n",
       "    <tr>\n",
       "      <th>facebook_dp_nokwDft</th>\n",
       "      <th>AND</th>\n",
       "      <td>-1.38502</td>\n",
       "      <td>-1.38502</td>\n",
       "      <td>-1.38502</td>\n",
       "    </tr>\n",
       "    <tr>\n",
       "      <th>cuponation_(notset)_nokwDft</th>\n",
       "      <th>AND</th>\n",
       "      <td>-0.924457</td>\n",
       "      <td>-0.924457</td>\n",
       "      <td>-0.924457</td>\n",
       "    </tr>\n",
       "    <tr>\n",
       "      <th>pushnotification_crm_nokwDft</th>\n",
       "      <th>AND</th>\n",
       "      <td>-0.642728</td>\n",
       "      <td>-0.642728</td>\n",
       "      <td>-0.642728</td>\n",
       "    </tr>\n",
       "    <tr>\n",
       "      <th>google_cpc_nokwDft</th>\n",
       "      <th>AND</th>\n",
       "      <td>0.662526</td>\n",
       "      <td>0.662526</td>\n",
       "      <td>0.662526</td>\n",
       "    </tr>\n",
       "    <tr>\n",
       "      <th>google_cpc_kwDft</th>\n",
       "      <th>AND</th>\n",
       "      <td>-0.734688</td>\n",
       "      <td>-0.734688</td>\n",
       "      <td>-0.734688</td>\n",
       "    </tr>\n",
       "    <tr>\n",
       "      <th>google_organic_nokwDft</th>\n",
       "      <th>AND</th>\n",
       "      <td>-0.732998</td>\n",
       "      <td>-0.732998</td>\n",
       "      <td>-0.732998</td>\n",
       "    </tr>\n",
       "    <tr>\n",
       "      <th>prospecting_dp_nokwDft</th>\n",
       "      <th>AND</th>\n",
       "      <td>-0.650875</td>\n",
       "      <td>-0.650875</td>\n",
       "      <td>-0.650875</td>\n",
       "    </tr>\n",
       "    <tr>\n",
       "      <th>emailtrans_dafiti_em_nokwDft</th>\n",
       "      <th>AND</th>\n",
       "      <td>-1.11421</td>\n",
       "      <td>-1.11421</td>\n",
       "      <td>-1.11421</td>\n",
       "    </tr>\n",
       "    <tr>\n",
       "      <th>(direct)_(none)_kwDft</th>\n",
       "      <th>AND</th>\n",
       "      <td>-0.765847</td>\n",
       "      <td>-0.765847</td>\n",
       "      <td>-0.765847</td>\n",
       "    </tr>\n",
       "    <tr>\n",
       "      <th>bing_cpc_kwDft</th>\n",
       "      <th>AND</th>\n",
       "      <td>-0.872345</td>\n",
       "      <td>-0.872345</td>\n",
       "      <td>-0.872345</td>\n",
       "    </tr>\n",
       "    <tr>\n",
       "      <th>facebook_dp_nokwDft</th>\n",
       "      <th>IOS</th>\n",
       "      <td>-0.988051</td>\n",
       "      <td>-0.988051</td>\n",
       "      <td>-0.988051</td>\n",
       "    </tr>\n",
       "    <tr>\n",
       "      <th>cuponation_(notset)_nokwDft</th>\n",
       "      <th>IOS</th>\n",
       "      <td>-0.967301</td>\n",
       "      <td>-0.967301</td>\n",
       "      <td>-0.967301</td>\n",
       "    </tr>\n",
       "    <tr>\n",
       "      <th>pushnotification_crm_nokwDft</th>\n",
       "      <th>IOS</th>\n",
       "      <td>-0.546458</td>\n",
       "      <td>-0.546458</td>\n",
       "      <td>-0.546458</td>\n",
       "    </tr>\n",
       "    <tr>\n",
       "      <th>google_cpc_nokwDft</th>\n",
       "      <th>IOS</th>\n",
       "      <td>-0.630779</td>\n",
       "      <td>-0.630779</td>\n",
       "      <td>-0.630779</td>\n",
       "    </tr>\n",
       "    <tr>\n",
       "      <th>google_cpc_kwDft</th>\n",
       "      <th>IOS</th>\n",
       "      <td>-0.574069</td>\n",
       "      <td>-0.574069</td>\n",
       "      <td>-0.574069</td>\n",
       "    </tr>\n",
       "    <tr>\n",
       "      <th>google_organic_nokwDft</th>\n",
       "      <th>IOS</th>\n",
       "      <td>-0.930877</td>\n",
       "      <td>-0.930877</td>\n",
       "      <td>-0.930877</td>\n",
       "    </tr>\n",
       "    <tr>\n",
       "      <th>prospecting_dp_nokwDft</th>\n",
       "      <th>IOS</th>\n",
       "      <td>-0.376235</td>\n",
       "      <td>-0.376235</td>\n",
       "      <td>-0.376235</td>\n",
       "    </tr>\n",
       "    <tr>\n",
       "      <th>emailtrans_dafiti_em_nokwDft</th>\n",
       "      <th>IOS</th>\n",
       "      <td>-0.967369</td>\n",
       "      <td>-0.967369</td>\n",
       "      <td>-0.967369</td>\n",
       "    </tr>\n",
       "    <tr>\n",
       "      <th>(direct)_(none)_kwDft</th>\n",
       "      <th>IOS</th>\n",
       "      <td>-0.956841</td>\n",
       "      <td>-0.956841</td>\n",
       "      <td>-0.956841</td>\n",
       "    </tr>\n",
       "    <tr>\n",
       "      <th>bing_cpc_kwDft</th>\n",
       "      <th>IOS</th>\n",
       "      <td>-0.975388</td>\n",
       "      <td>-0.975388</td>\n",
       "      <td>-0.975388</td>\n",
       "    </tr>\n",
       "    <tr>\n",
       "      <th>facebook_dp_nokwDft</th>\n",
       "      <th>AND</th>\n",
       "      <td>-1.38502</td>\n",
       "      <td>-1.38502</td>\n",
       "      <td>-1.38502</td>\n",
       "    </tr>\n",
       "    <tr>\n",
       "      <th>cuponation_(notset)_nokwDft</th>\n",
       "      <th>AND</th>\n",
       "      <td>-0.924457</td>\n",
       "      <td>-0.924457</td>\n",
       "      <td>-0.924457</td>\n",
       "    </tr>\n",
       "    <tr>\n",
       "      <th>pushnotification_crm_nokwDft</th>\n",
       "      <th>AND</th>\n",
       "      <td>-0.642728</td>\n",
       "      <td>-0.642728</td>\n",
       "      <td>-0.642728</td>\n",
       "    </tr>\n",
       "    <tr>\n",
       "      <th>google_cpc_nokwDft</th>\n",
       "      <th>AND</th>\n",
       "      <td>0.662526</td>\n",
       "      <td>0.662526</td>\n",
       "      <td>0.662526</td>\n",
       "    </tr>\n",
       "    <tr>\n",
       "      <th>google_cpc_kwDft</th>\n",
       "      <th>AND</th>\n",
       "      <td>-0.734688</td>\n",
       "      <td>-0.734688</td>\n",
       "      <td>-0.734688</td>\n",
       "    </tr>\n",
       "    <tr>\n",
       "      <th>google_organic_nokwDft</th>\n",
       "      <th>AND</th>\n",
       "      <td>-0.732998</td>\n",
       "      <td>-0.732998</td>\n",
       "      <td>-0.732998</td>\n",
       "    </tr>\n",
       "    <tr>\n",
       "      <th>prospecting_dp_nokwDft</th>\n",
       "      <th>AND</th>\n",
       "      <td>-0.650875</td>\n",
       "      <td>-0.650875</td>\n",
       "      <td>-0.650875</td>\n",
       "    </tr>\n",
       "    <tr>\n",
       "      <th>emailtrans_dafiti_em_nokwDft</th>\n",
       "      <th>AND</th>\n",
       "      <td>-1.11421</td>\n",
       "      <td>-1.11421</td>\n",
       "      <td>-1.11421</td>\n",
       "    </tr>\n",
       "    <tr>\n",
       "      <th>(direct)_(none)_kwDft</th>\n",
       "      <th>AND</th>\n",
       "      <td>-0.765847</td>\n",
       "      <td>-0.765847</td>\n",
       "      <td>-0.765847</td>\n",
       "    </tr>\n",
       "    <tr>\n",
       "      <th>bing_cpc_kwDft</th>\n",
       "      <th>AND</th>\n",
       "      <td>-0.872345</td>\n",
       "      <td>-0.872345</td>\n",
       "      <td>-0.872345</td>\n",
       "    </tr>\n",
       "    <tr>\n",
       "      <th>facebook_dp_nokwDft</th>\n",
       "      <th>IOS</th>\n",
       "      <td>-0.988051</td>\n",
       "      <td>-0.988051</td>\n",
       "      <td>-0.988051</td>\n",
       "    </tr>\n",
       "    <tr>\n",
       "      <th>cuponation_(notset)_nokwDft</th>\n",
       "      <th>IOS</th>\n",
       "      <td>-0.967301</td>\n",
       "      <td>-0.967301</td>\n",
       "      <td>-0.967301</td>\n",
       "    </tr>\n",
       "    <tr>\n",
       "      <th>pushnotification_crm_nokwDft</th>\n",
       "      <th>IOS</th>\n",
       "      <td>-0.546458</td>\n",
       "      <td>-0.546458</td>\n",
       "      <td>-0.546458</td>\n",
       "    </tr>\n",
       "    <tr>\n",
       "      <th>google_cpc_nokwDft</th>\n",
       "      <th>IOS</th>\n",
       "      <td>-0.630779</td>\n",
       "      <td>-0.630779</td>\n",
       "      <td>-0.630779</td>\n",
       "    </tr>\n",
       "    <tr>\n",
       "      <th>google_cpc_kwDft</th>\n",
       "      <th>IOS</th>\n",
       "      <td>-0.574069</td>\n",
       "      <td>-0.574069</td>\n",
       "      <td>-0.574069</td>\n",
       "    </tr>\n",
       "    <tr>\n",
       "      <th>google_organic_nokwDft</th>\n",
       "      <th>IOS</th>\n",
       "      <td>-0.930877</td>\n",
       "      <td>-0.930877</td>\n",
       "      <td>-0.930877</td>\n",
       "    </tr>\n",
       "    <tr>\n",
       "      <th>prospecting_dp_nokwDft</th>\n",
       "      <th>IOS</th>\n",
       "      <td>-0.376235</td>\n",
       "      <td>-0.376235</td>\n",
       "      <td>-0.376235</td>\n",
       "    </tr>\n",
       "    <tr>\n",
       "      <th>emailtrans_dafiti_em_nokwDft</th>\n",
       "      <th>IOS</th>\n",
       "      <td>-0.967369</td>\n",
       "      <td>-0.967369</td>\n",
       "      <td>-0.967369</td>\n",
       "    </tr>\n",
       "    <tr>\n",
       "      <th>(direct)_(none)_kwDft</th>\n",
       "      <th>IOS</th>\n",
       "      <td>-0.956841</td>\n",
       "      <td>-0.956841</td>\n",
       "      <td>-0.956841</td>\n",
       "    </tr>\n",
       "    <tr>\n",
       "      <th>bing_cpc_kwDft</th>\n",
       "      <th>IOS</th>\n",
       "      <td>-0.975388</td>\n",
       "      <td>-0.975388</td>\n",
       "      <td>-0.975388</td>\n",
       "    </tr>\n",
       "  </tbody>\n",
       "</table>\n",
       "</div>"
      ],
      "text/plain": [
       "                                    rm_eff scaled_rm_eff mean_rm_eff\n",
       "utm_hash                     os                                     \n",
       "facebook_dp_nokwDft          AND  -1.38502      -1.38502    -1.38502\n",
       "cuponation_(notset)_nokwDft  AND -0.924457     -0.924457   -0.924457\n",
       "pushnotification_crm_nokwDft AND -0.642728     -0.642728   -0.642728\n",
       "google_cpc_nokwDft           AND  0.662526      0.662526    0.662526\n",
       "google_cpc_kwDft             AND -0.734688     -0.734688   -0.734688\n",
       "google_organic_nokwDft       AND -0.732998     -0.732998   -0.732998\n",
       "prospecting_dp_nokwDft       AND -0.650875     -0.650875   -0.650875\n",
       "emailtrans_dafiti_em_nokwDft AND  -1.11421      -1.11421    -1.11421\n",
       "(direct)_(none)_kwDft        AND -0.765847     -0.765847   -0.765847\n",
       "bing_cpc_kwDft               AND -0.872345     -0.872345   -0.872345\n",
       "facebook_dp_nokwDft          IOS -0.988051     -0.988051   -0.988051\n",
       "cuponation_(notset)_nokwDft  IOS -0.967301     -0.967301   -0.967301\n",
       "pushnotification_crm_nokwDft IOS -0.546458     -0.546458   -0.546458\n",
       "google_cpc_nokwDft           IOS -0.630779     -0.630779   -0.630779\n",
       "google_cpc_kwDft             IOS -0.574069     -0.574069   -0.574069\n",
       "google_organic_nokwDft       IOS -0.930877     -0.930877   -0.930877\n",
       "prospecting_dp_nokwDft       IOS -0.376235     -0.376235   -0.376235\n",
       "emailtrans_dafiti_em_nokwDft IOS -0.967369     -0.967369   -0.967369\n",
       "(direct)_(none)_kwDft        IOS -0.956841     -0.956841   -0.956841\n",
       "bing_cpc_kwDft               IOS -0.975388     -0.975388   -0.975388\n",
       "facebook_dp_nokwDft          AND  -1.38502      -1.38502    -1.38502\n",
       "cuponation_(notset)_nokwDft  AND -0.924457     -0.924457   -0.924457\n",
       "pushnotification_crm_nokwDft AND -0.642728     -0.642728   -0.642728\n",
       "google_cpc_nokwDft           AND  0.662526      0.662526    0.662526\n",
       "google_cpc_kwDft             AND -0.734688     -0.734688   -0.734688\n",
       "google_organic_nokwDft       AND -0.732998     -0.732998   -0.732998\n",
       "prospecting_dp_nokwDft       AND -0.650875     -0.650875   -0.650875\n",
       "emailtrans_dafiti_em_nokwDft AND  -1.11421      -1.11421    -1.11421\n",
       "(direct)_(none)_kwDft        AND -0.765847     -0.765847   -0.765847\n",
       "bing_cpc_kwDft               AND -0.872345     -0.872345   -0.872345\n",
       "facebook_dp_nokwDft          IOS -0.988051     -0.988051   -0.988051\n",
       "cuponation_(notset)_nokwDft  IOS -0.967301     -0.967301   -0.967301\n",
       "pushnotification_crm_nokwDft IOS -0.546458     -0.546458   -0.546458\n",
       "google_cpc_nokwDft           IOS -0.630779     -0.630779   -0.630779\n",
       "google_cpc_kwDft             IOS -0.574069     -0.574069   -0.574069\n",
       "google_organic_nokwDft       IOS -0.930877     -0.930877   -0.930877\n",
       "prospecting_dp_nokwDft       IOS -0.376235     -0.376235   -0.376235\n",
       "emailtrans_dafiti_em_nokwDft IOS -0.967369     -0.967369   -0.967369\n",
       "(direct)_(none)_kwDft        IOS -0.956841     -0.956841   -0.956841\n",
       "bing_cpc_kwDft               IOS -0.975388     -0.975388   -0.975388"
      ]
     },
     "execution_count": 88,
     "metadata": {},
     "output_type": "execute_result"
    }
   ],
   "source": [
    "for tri in compare_tri:\n",
    "    for os in (df_gid.os.unique()).tolist():\n",
    "        f_scale = df_tri_re.loc[tri].loc[os]['n_occ'][0]/df_tri_re.loc[tri].loc[os]['n_occ'][1]\n",
    "        for col in cols:\n",
    "            df_compare.loc[(tri,os,)]=((df_tri_re.loc[tri].loc[os][col][0]-(df_tri_re.loc[tri].loc[os][col][1]*f_scale))\n",
    "                                     /(df_tri_re.loc[tri].loc[os][col][0]+(df_tri_re.loc[tri].loc[os][col][1]*f_scale))\n",
    "                                    )\n",
    "df_compare#.loc[(compare_tri[0],'AND',0)]#['n_occ']"
   ]
  },
  {
   "cell_type": "markdown",
   "metadata": {
    "ExecuteTime": {
     "end_time": "2020-12-15T12:45:14.621389Z",
     "start_time": "2020-12-15T12:45:14.572458Z"
    }
   },
   "source": [
    "### Split only in control group"
   ]
  },
  {
   "cell_type": "code",
   "execution_count": 40,
   "metadata": {
    "ExecuteTime": {
     "end_time": "2020-12-15T11:21:05.648024Z",
     "start_time": "2020-12-15T11:21:05.642058Z"
    }
   },
   "outputs": [],
   "source": [
    "is_true_remove=False"
   ]
  },
  {
   "cell_type": "code",
   "execution_count": 40,
   "metadata": {
    "ExecuteTime": {
     "end_time": "2020-12-14T14:40:09.182081Z",
     "start_time": "2020-12-14T13:54:14.751056Z"
    }
   },
   "outputs": [
    {
     "name": "stderr",
     "output_type": "stream",
     "text": [
      "100%|██████████| 3522/3522 [20:07<00:00,  2.92it/s]\n",
      "100%|██████████| 3522/3522 [25:46<00:00,  2.28it/s]  \n"
     ]
    }
   ],
   "source": [
    "ls=[]\n",
    "utm_hash_without_token=[]\n",
    "is_control_list=np.zeros(len(all_medium)).astype(int).tolist() + np.ones(len(all_medium)).astype(int).tolist()\n",
    "utm_hash_duplicated_list=all_medium + all_medium\n",
    "ls.append(utm_hash_duplicated_list)\n",
    "ls.append(is_control_list)\n",
    "index = pd.MultiIndex.from_tuples(list(zip(*ls)), names=['utm_hash', 'is_control'])\n",
    "rm_effect=pd.DataFrame(index=index,columns={'rm_eff','n_occ','trinomials'}).reset_index()\n",
    "test=['734a5301ef3dfdf22cdfe7187aeb9430']\n",
    "for is_control in reversed(range(2)):\n",
    "    is_control_index=df_gid[(df_gid['is_control']==is_control)].index.to_list()\n",
    "#     for mtest in tqdm(test):\n",
    "    for mtest in tqdm(all_important_medium):\n",
    "#         rm_effect.loc[(mtest,is_control)]['trinomials']=hash2tri.loc[mtest]['exp_trinomials']\n",
    "        idx_m_isc=rm_effect[(rm_effect['is_control']==is_control) & (rm_effect['utm_hash']==mtest)].index\n",
    "        rm_effect.loc[idx_m_isc,'trinomials']=hash2tri.loc[mtest]['exp_trinomials']\n",
    "        #######\n",
    "        df_s['rm'] = (\n",
    "            df_s[\n",
    "                (df_s.index.isin(is_control_index)) & \n",
    "                (df_s['utm_hash'].apply(lambda x: x.count(mtest))>0)\n",
    "            ]\n",
    "            ['utm_hash']\n",
    "            .apply(lambda x: list(duplicates(x,mtest))[::-1])\n",
    "        )\n",
    "        dft=df_s.query('rm.notnull().values')\n",
    "        dftc=df_con.loc[is_control_index].loc[df_s.query('rm.notnull().values').index]\n",
    "        df_s=df_s.drop(columns='rm',axis=1)\n",
    "        corpus_test=dft['utm_hash'].to_list()\n",
    "        X_test=tk.texts_to_sequences(corpus_test)\n",
    "        X_test = pad_sequences(X_test, maxlen=maxlen,padding='post') # customer path\n",
    "        TD_test=pad_sequences(dft['sess'].values,maxlen=maxlen,dtype='float32',padding='post') # time decay from sessions\n",
    "        C=pd.get_dummies(dftc.drop('gid',axis=1), columns=['country_region', 'gender']).values\n",
    "        C_test=pd.DataFrame(columns=Ccols) #to C_test to have same dimensions of C_train\n",
    "        C_test = C_test.append(pd.get_dummies(dftc.drop('gid',axis=1), columns=['country_region', 'gender']))\n",
    "        C_test = C_test.fillna(0).values\n",
    "        if C_test.shape[0]>0:\n",
    "            y_pred_i, _,_ = attention_model.predict([X_test,TD_test,C_test], batch_size=config['attention']['BATCH_SIZE']) #out,att,W=...\n",
    "            y_true0 = (dft['value']>0).values.astype(int)\n",
    "            to_rm=dft['rm'].values\n",
    "            if is_true_remove:\n",
    "                for ii in range(X_test.shape[0]):\n",
    "                    X_test[ii][to_rm[ii]]=0\n",
    "                    TD_test[ii][to_rm[ii]]=0\n",
    "                mask = X_test.sum(axis=1)!=0\n",
    "                y_pred_i = y_pred_i[mask]\n",
    "                y_true0 = y_true0[mask]\n",
    "                X_test = X_test[mask]\n",
    "                TD_test = TD_test[mask]\n",
    "                C_test = C_test[mask,:]\n",
    "            else:\n",
    "#                 token=tk.word_index[mtest]\n",
    "                try: token=tk.word_index[mtest]\n",
    "                except: \n",
    "                    utm_hash_without_token.append(mtest)\n",
    "                    token = 0\n",
    "                if token >tk.num_words: token=0\n",
    "                token_list = np.arange(0,token).tolist() + np.arange(token+1,tk.num_words).tolist()\n",
    "                for ii in range(X_test.shape[0]):\n",
    "                    X_test[ii][to_rm[ii]]=np.random.choice(token_list,len(to_rm[ii]))\n",
    "            if C_test.shape[0]>0:\n",
    "                y_pred_rm, _,W0 = attention_model.predict([X_test,TD_test,C_test], batch_size=config['attention']['BATCH_SIZE']) #out,att,W=...\n",
    "                rm_effect.loc[idx_m_isc,'n_occ']=y_true0.shape[0]\n",
    "                if any(y_true0==1):\n",
    "                    rm_val = ((np.median(y_pred_rm[y_true0==1])\n",
    "                               -np.median(y_pred_i[y_true0==1]))\n",
    "                              / np.median(y_pred_i[y_true0==1])\n",
    "                             )\n",
    "                    if np.isnan(rm_val)==False:\n",
    "                        rm_effect.loc[idx_m_isc,'rm_eff']=rm_val\n",
    "rm_effect['scaled_rm_eff'] = rm_effect['n_occ']*rm_effect['rm_eff']"
   ]
  },
  {
   "cell_type": "code",
   "execution_count": 44,
   "metadata": {
    "ExecuteTime": {
     "end_time": "2020-12-14T14:40:09.257929Z",
     "start_time": "2020-12-14T14:40:09.225138Z"
    }
   },
   "outputs": [
    {
     "data": {
      "text/html": [
       "<div>\n",
       "<style scoped>\n",
       "    .dataframe tbody tr th:only-of-type {\n",
       "        vertical-align: middle;\n",
       "    }\n",
       "\n",
       "    .dataframe tbody tr th {\n",
       "        vertical-align: top;\n",
       "    }\n",
       "\n",
       "    .dataframe thead th {\n",
       "        text-align: right;\n",
       "    }\n",
       "</style>\n",
       "<table border=\"1\" class=\"dataframe\">\n",
       "  <thead>\n",
       "    <tr style=\"text-align: right;\">\n",
       "      <th></th>\n",
       "      <th>utm_hash</th>\n",
       "      <th>is_control</th>\n",
       "      <th>n_occ</th>\n",
       "      <th>rm_eff</th>\n",
       "      <th>trinomials</th>\n",
       "      <th>scaled_rm_eff</th>\n",
       "    </tr>\n",
       "  </thead>\n",
       "  <tbody>\n",
       "    <tr>\n",
       "      <th>8849</th>\n",
       "      <td>42b4c899c39ac03cc595b36e8a618951</td>\n",
       "      <td>0</td>\n",
       "      <td>32869</td>\n",
       "      <td>-0.252398</td>\n",
       "      <td>(direct)_(none)_kwDft</td>\n",
       "      <td>-8296.08</td>\n",
       "    </tr>\n",
       "    <tr>\n",
       "      <th>7874</th>\n",
       "      <td>4f5445efbd48f8c8405addb9e3e6818e</td>\n",
       "      <td>0</td>\n",
       "      <td>19363</td>\n",
       "      <td>-0.315076</td>\n",
       "      <td>prospecting_dp_nokwDft</td>\n",
       "      <td>-6100.81</td>\n",
       "    </tr>\n",
       "    <tr>\n",
       "      <th>22495</th>\n",
       "      <td>42b4c899c39ac03cc595b36e8a618951</td>\n",
       "      <td>1</td>\n",
       "      <td>10723</td>\n",
       "      <td>-0.275495</td>\n",
       "      <td>(direct)_(none)_kwDft</td>\n",
       "      <td>-2954.13</td>\n",
       "    </tr>\n",
       "    <tr>\n",
       "      <th>4780</th>\n",
       "      <td>9f3d23b2254910561e1778450e4b3d13</td>\n",
       "      <td>0</td>\n",
       "      <td>8402</td>\n",
       "      <td>-0.0751574</td>\n",
       "      <td>google_organic_nokwDft</td>\n",
       "      <td>-631.472</td>\n",
       "    </tr>\n",
       "    <tr>\n",
       "      <th>21520</th>\n",
       "      <td>4f5445efbd48f8c8405addb9e3e6818e</td>\n",
       "      <td>1</td>\n",
       "      <td>6351</td>\n",
       "      <td>-0.357567</td>\n",
       "      <td>prospecting_dp_nokwDft</td>\n",
       "      <td>-2270.91</td>\n",
       "    </tr>\n",
       "    <tr>\n",
       "      <th>8740</th>\n",
       "      <td>0adaf157fa87c264cd6a5ef5e718e34c</td>\n",
       "      <td>0</td>\n",
       "      <td>4111</td>\n",
       "      <td>-0.112744</td>\n",
       "      <td>google_cpc_kwDft</td>\n",
       "      <td>-463.49</td>\n",
       "    </tr>\n",
       "    <tr>\n",
       "      <th>11416</th>\n",
       "      <td>68284d2fe147e66017e61b51063c9b7f</td>\n",
       "      <td>0</td>\n",
       "      <td>3613</td>\n",
       "      <td>-0.166148</td>\n",
       "      <td>google_cpc_kwDft</td>\n",
       "      <td>-600.293</td>\n",
       "    </tr>\n",
       "    <tr>\n",
       "      <th>2303</th>\n",
       "      <td>846e95b527a2af4dd88af1b714f7d5d8</td>\n",
       "      <td>0</td>\n",
       "      <td>2601</td>\n",
       "      <td>-0.199369</td>\n",
       "      <td>pushcf_em_nokwDft</td>\n",
       "      <td>-518.56</td>\n",
       "    </tr>\n",
       "    <tr>\n",
       "      <th>1773</th>\n",
       "      <td>b88429773d4a0d05c8454d25386b404d</td>\n",
       "      <td>0</td>\n",
       "      <td>2466</td>\n",
       "      <td>-0.26506</td>\n",
       "      <td>facebook_app_nokwDft</td>\n",
       "      <td>-653.639</td>\n",
       "    </tr>\n",
       "    <tr>\n",
       "      <th>6823</th>\n",
       "      <td>dd3df59d484165047fee545be6c90851</td>\n",
       "      <td>0</td>\n",
       "      <td>2399</td>\n",
       "      <td>-0.34708</td>\n",
       "      <td>prospecting_dp_nokwDft</td>\n",
       "      <td>-832.644</td>\n",
       "    </tr>\n",
       "  </tbody>\n",
       "</table>\n",
       "</div>"
      ],
      "text/plain": [
       "                               utm_hash  is_control  n_occ     rm_eff  \\\n",
       "8849   42b4c899c39ac03cc595b36e8a618951           0  32869  -0.252398   \n",
       "7874   4f5445efbd48f8c8405addb9e3e6818e           0  19363  -0.315076   \n",
       "22495  42b4c899c39ac03cc595b36e8a618951           1  10723  -0.275495   \n",
       "4780   9f3d23b2254910561e1778450e4b3d13           0   8402 -0.0751574   \n",
       "21520  4f5445efbd48f8c8405addb9e3e6818e           1   6351  -0.357567   \n",
       "8740   0adaf157fa87c264cd6a5ef5e718e34c           0   4111  -0.112744   \n",
       "11416  68284d2fe147e66017e61b51063c9b7f           0   3613  -0.166148   \n",
       "2303   846e95b527a2af4dd88af1b714f7d5d8           0   2601  -0.199369   \n",
       "1773   b88429773d4a0d05c8454d25386b404d           0   2466   -0.26506   \n",
       "6823   dd3df59d484165047fee545be6c90851           0   2399   -0.34708   \n",
       "\n",
       "                   trinomials scaled_rm_eff  \n",
       "8849    (direct)_(none)_kwDft      -8296.08  \n",
       "7874   prospecting_dp_nokwDft      -6100.81  \n",
       "22495   (direct)_(none)_kwDft      -2954.13  \n",
       "4780   google_organic_nokwDft      -631.472  \n",
       "21520  prospecting_dp_nokwDft      -2270.91  \n",
       "8740         google_cpc_kwDft       -463.49  \n",
       "11416        google_cpc_kwDft      -600.293  \n",
       "2303        pushcf_em_nokwDft       -518.56  \n",
       "1773     facebook_app_nokwDft      -653.639  \n",
       "6823   prospecting_dp_nokwDft      -832.644  "
      ]
     },
     "execution_count": 44,
     "metadata": {},
     "output_type": "execute_result"
    }
   ],
   "source": [
    "rm_effect.query('n_occ.notna().values').sort_values(by='n_occ',ascending=False).head(10)"
   ]
  },
  {
   "cell_type": "code",
   "execution_count": 102,
   "metadata": {
    "ExecuteTime": {
     "end_time": "2020-12-14T19:19:44.674175Z",
     "start_time": "2020-12-14T19:19:44.620925Z"
    }
   },
   "outputs": [
    {
     "data": {
      "text/html": [
       "<div>\n",
       "<style scoped>\n",
       "    .dataframe tbody tr th:only-of-type {\n",
       "        vertical-align: middle;\n",
       "    }\n",
       "\n",
       "    .dataframe tbody tr th {\n",
       "        vertical-align: top;\n",
       "    }\n",
       "\n",
       "    .dataframe thead th {\n",
       "        text-align: right;\n",
       "    }\n",
       "</style>\n",
       "<table border=\"1\" class=\"dataframe\">\n",
       "  <thead>\n",
       "    <tr style=\"text-align: right;\">\n",
       "      <th></th>\n",
       "      <th>n_occ</th>\n",
       "      <th>rm_eff</th>\n",
       "      <th>scaled_rm_eff</th>\n",
       "    </tr>\n",
       "    <tr>\n",
       "      <th>is_control</th>\n",
       "      <th></th>\n",
       "      <th></th>\n",
       "      <th></th>\n",
       "    </tr>\n",
       "  </thead>\n",
       "  <tbody>\n",
       "    <tr>\n",
       "      <th>0</th>\n",
       "      <td>10670</td>\n",
       "      <td>-0.596887</td>\n",
       "      <td>-946.209418</td>\n",
       "    </tr>\n",
       "    <tr>\n",
       "      <th>1</th>\n",
       "      <td>2030</td>\n",
       "      <td>-1.253701</td>\n",
       "      <td>-297.168133</td>\n",
       "    </tr>\n",
       "  </tbody>\n",
       "</table>\n",
       "</div>"
      ],
      "text/plain": [
       "            n_occ    rm_eff  scaled_rm_eff\n",
       "is_control                                \n",
       "0           10670 -0.596887    -946.209418\n",
       "1            2030 -1.253701    -297.168133"
      ]
     },
     "execution_count": 102,
     "metadata": {},
     "output_type": "execute_result"
    }
   ],
   "source": [
    "df_tri_re = (rm_effect#.loc[tri2hash.to_dict()['google_cpc_nokwDft']]\n",
    "     .query('rm_eff.notna().values')\n",
    "     .query('n_occ>100')\n",
    "     .groupby(['trinomials','is_control'])[['n_occ','rm_eff','scaled_rm_eff']]\n",
    "          .sum()\n",
    "#      .agg({'n_occ':['sum'],'rm_eff':['sum'],'scaled_rm_eff':['sum']})\n",
    "#      .sort_values(by='scaled_rm_eff', ascending=False)\n",
    ")\n",
    "df_tri_re['mean_rm_eff']=df_tri_re['rm_eff']/df_tri_re['n_occ']\n",
    "df_tri_re.loc['google_cpc_nokwDft']#.head(20)#.shape"
   ]
  },
  {
   "cell_type": "code",
   "execution_count": 205,
   "metadata": {
    "ExecuteTime": {
     "end_time": "2020-12-14T20:39:43.596293Z",
     "start_time": "2020-12-14T20:39:43.466041Z"
    }
   },
   "outputs": [
    {
     "data": {
      "text/html": [
       "<div>\n",
       "<style scoped>\n",
       "    .dataframe tbody tr th:only-of-type {\n",
       "        vertical-align: middle;\n",
       "    }\n",
       "\n",
       "    .dataframe tbody tr th {\n",
       "        vertical-align: top;\n",
       "    }\n",
       "\n",
       "    .dataframe thead th {\n",
       "        text-align: right;\n",
       "    }\n",
       "</style>\n",
       "<table border=\"1\" class=\"dataframe\">\n",
       "  <thead>\n",
       "    <tr style=\"text-align: right;\">\n",
       "      <th></th>\n",
       "      <th>rm_eff</th>\n",
       "      <th>scaled_rm_eff</th>\n",
       "      <th>mean_rm_eff</th>\n",
       "    </tr>\n",
       "  </thead>\n",
       "  <tbody>\n",
       "    <tr>\n",
       "      <th>pushnotification_crm_nokwDft</th>\n",
       "      <td>-0.911955</td>\n",
       "      <td>-0.770288</td>\n",
       "      <td>-0.999075</td>\n",
       "    </tr>\n",
       "    <tr>\n",
       "      <th>(direct)_(none)_kwDft</th>\n",
       "      <td>-0.539783</td>\n",
       "      <td>-0.0437523</td>\n",
       "      <td>-0.822313</td>\n",
       "    </tr>\n",
       "    <tr>\n",
       "      <th>emailpromo_dafiti_em_nokwDft</th>\n",
       "      <td>4.17163</td>\n",
       "      <td>2.84819</td>\n",
       "      <td>8.22104</td>\n",
       "    </tr>\n",
       "    <tr>\n",
       "      <th>google_cpc_kwDft</th>\n",
       "      <td>-0.544251</td>\n",
       "      <td>-0.0408381</td>\n",
       "      <td>-0.859536</td>\n",
       "    </tr>\n",
       "    <tr>\n",
       "      <th>emailtrans_dafiti_em_nokwDft</th>\n",
       "      <td>-0.93333</td>\n",
       "      <td>-0.852779</td>\n",
       "      <td>-0.998614</td>\n",
       "    </tr>\n",
       "    <tr>\n",
       "      <th>google_cpc_nokwDft</th>\n",
       "      <td>-0.833888</td>\n",
       "      <td>-0.245499</td>\n",
       "      <td>-0.966118</td>\n",
       "    </tr>\n",
       "    <tr>\n",
       "      <th>prospecting_dp_nokwDft</th>\n",
       "      <td>-0.48145</td>\n",
       "      <td>-0.0866981</td>\n",
       "      <td>-0.789424</td>\n",
       "    </tr>\n",
       "    <tr>\n",
       "      <th>facebook_app_nokwDft</th>\n",
       "      <td>-0.41916</td>\n",
       "      <td>0.0177962</td>\n",
       "      <td>-0.721681</td>\n",
       "    </tr>\n",
       "    <tr>\n",
       "      <th>facebook_dp_nokwDft</th>\n",
       "      <td>-6.99718</td>\n",
       "      <td>-7.19235</td>\n",
       "      <td>-1.20476</td>\n",
       "    </tr>\n",
       "    <tr>\n",
       "      <th>emailcf_em_nokwDft</th>\n",
       "      <td>4.29687</td>\n",
       "      <td>1.33493</td>\n",
       "      <td>-2.17595</td>\n",
       "    </tr>\n",
       "    <tr>\n",
       "      <th>google_organic_nokwDft</th>\n",
       "      <td>-0.230054</td>\n",
       "      <td>0.493411</td>\n",
       "      <td>-0.76537</td>\n",
       "    </tr>\n",
       "    <tr>\n",
       "      <th>google_search_nokwDft</th>\n",
       "      <td>-0.748365</td>\n",
       "      <td>-0.393786</td>\n",
       "      <td>-0.909078</td>\n",
       "    </tr>\n",
       "  </tbody>\n",
       "</table>\n",
       "</div>"
      ],
      "text/plain": [
       "                                rm_eff scaled_rm_eff mean_rm_eff\n",
       "pushnotification_crm_nokwDft -0.911955     -0.770288   -0.999075\n",
       "(direct)_(none)_kwDft        -0.539783    -0.0437523   -0.822313\n",
       "emailpromo_dafiti_em_nokwDft   4.17163       2.84819     8.22104\n",
       "google_cpc_kwDft             -0.544251    -0.0408381   -0.859536\n",
       "emailtrans_dafiti_em_nokwDft  -0.93333     -0.852779   -0.998614\n",
       "google_cpc_nokwDft           -0.833888     -0.245499   -0.966118\n",
       "prospecting_dp_nokwDft        -0.48145    -0.0866981   -0.789424\n",
       "facebook_app_nokwDft          -0.41916     0.0177962   -0.721681\n",
       "facebook_dp_nokwDft           -6.99718      -7.19235    -1.20476\n",
       "emailcf_em_nokwDft             4.29687       1.33493    -2.17595\n",
       "google_organic_nokwDft       -0.230054      0.493411    -0.76537\n",
       "google_search_nokwDft        -0.748365     -0.393786   -0.909078"
      ]
     },
     "execution_count": 205,
     "metadata": {},
     "output_type": "execute_result"
    }
   ],
   "source": [
    "trinomials=list(set([elt[0] for elt in df_tri_re.index]))\n",
    "compare_tri = [elt for elt in trinomials if df_tri_re.loc[elt].shape[0]>1]\n",
    "cols = [col for col in df_tri_re.columns if col not in ['n_occ']]\n",
    "\n",
    "df_compare=pd.DataFrame(index=compare_tri,columns=cols)\n",
    "for tri in compare_tri:\n",
    "    f_scale = df_tri_re.loc[tri]['n_occ'][0]/df_tri_re.loc[tri]['n_occ'][1]\n",
    "    for col in cols:\n",
    "        df_compare.loc[tri,col]=((df_tri_re.loc[tri][col][0]-(df_tri_re.loc[tri][col][1]*f_scale))\n",
    "                                 /(df_tri_re.loc[tri][col][0]+(df_tri_re.loc[tri][col][1]*f_scale))\n",
    "                                )\n",
    "df_compare"
   ]
  },
  {
   "cell_type": "markdown",
   "metadata": {},
   "source": [
    "## Average Attribution weight by touchpoints"
   ]
  },
  {
   "cell_type": "code",
   "execution_count": null,
   "metadata": {
    "ExecuteTime": {
     "end_time": "2020-11-12T18:37:26.150860Z",
     "start_time": "2020-11-12T18:37:26.130502Z"
    }
   },
   "outputs": [],
   "source": [
    "fig_name='Average attribution weight by touchpoints'\n",
    "def plot_weight_by_tp(fig_name,path_len=10,df_s=df_s,W=W):\n",
    "    seqleng=df_s['utm_hash'].apply(len).values\n",
    "    font_size={'title':30,'subtitle': 26, 'legend':20,'labels':22, 'ticklabels':18}\n",
    "    df_wsl=pd.DataFrame(index=np.arange(path_len)+1) #weight sequence length\n",
    "    for ii in range(path_len):\n",
    "        a=ii+1\n",
    "        df_wsl[str(a)]=np.nan\n",
    "        arr=(\n",
    "            (W[seqleng==a,:a,:a]).sum(axis=1)/\n",
    "            ((W[seqleng==a,:a,:a]).sum(axis=1)\n",
    "            ).sum()).sum(axis=0)\n",
    "        df_wsl[str(a)]=np.pad(arr,(0,10-a),mode='constant',constant_values=(np.nan,))\n",
    "    figax,ax=plt.subplots(1,2,figsize=(18,8))\n",
    "    figax.suptitle(fig_name, size=font_size['title'])\n",
    "    df_wsl.plot(ax=ax[0],lw=4)\n",
    "    ax[0].set_ylim(0.05,0.6)\n",
    "    ax[0].set_xlim(0.5,10.5)\n",
    "    ax[0].set_xticks(np.arange(path_len)+1)\n",
    "    ax[0].grid()\n",
    "    ax[0].set_title('Weight normalized on pathlen', size=font_size['subtitle'])\n",
    "    ax[0].legend(prop={'size': font_size['legend']})\n",
    "    ax[0].set_xlabel('Touchpoint', size=font_size['labels'])\n",
    "    ax[0].set_ylabel('Weight', size=font_size['labels'])\n",
    "    ax[0].tick_params(axis='y',labelsize=font_size['ticklabels'])\n",
    "    ax[0].tick_params(axis='x',labelsize=font_size['ticklabels'])\n",
    "\n",
    "    df_wsl.div(df_wsl.max(axis=0)).plot(ax=ax[1],lw=4)\n",
    "    ax[1].set_xticks(np.arange(path_len)+1)\n",
    "    ax[1].grid()\n",
    "    ax[1].set_title('Normalized weight by touchpoint', size=font_size['subtitle'])\n",
    "    ax[1].legend(prop={'size': font_size['legend']})\n",
    "    ax[1].set_xlabel('Touchpoint', size=font_size['labels'])\n",
    "    ax[1].set_ylabel('Weight', size=font_size['labels'])\n",
    "    ax[1].tick_params(axis='y',labelsize=font_size['ticklabels'])\n",
    "    ax[1].tick_params(axis='x',labelsize=font_size['ticklabels'])\n",
    "# plt.show()"
   ]
  },
  {
   "cell_type": "code",
   "execution_count": null,
   "metadata": {
    "ExecuteTime": {
     "end_time": "2020-11-12T18:04:14.264439Z",
     "start_time": "2020-11-12T18:04:14.237949Z"
    }
   },
   "outputs": [],
   "source": [
    "df_wsl.div(df_wsl.max(axis=0))"
   ]
  },
  {
   "cell_type": "code",
   "execution_count": null,
   "metadata": {
    "ExecuteTime": {
     "end_time": "2020-11-12T18:06:33.514457Z",
     "start_time": "2020-11-12T18:06:31.463877Z"
    },
    "scrolled": true,
    "tags": []
   },
   "outputs": [],
   "source": [
    "# plot_cm(np.array(y_true),np.array(y_pred))\n",
    "p=0.5\n",
    "cm = confusion_matrix(np.array(y_true),np.array(y_pred) > p)\n",
    "plt.figure(figsize=(5,5))\n",
    "sns.heatmap(cm, annot=True, fmt=\"d\")\n",
    "plt.title('Confusion matrix @{:.2f}'.format(p))\n",
    "plt.ylabel('Actual label')\n",
    "plt.xlabel('Predicted label')\n",
    "\n",
    "print('No-conversion Detected (True Negatives): ', cm[0][0])\n",
    "print('No-conversion Incorrectly Detected (False Positives): ', cm[0][1])\n",
    "print('Convertions Missed (False Negatives): ', cm[1][0])\n",
    "print('Convertions Detected (True Positives): ', cm[1][1])\n",
    "print('Total No-conversions: ', np.sum(cm[0]))\n",
    "print('Total conversions: ', np.sum(cm[1]))\n",
    "print('Total conversions/No-conversions: ', np.sum(cm[1])/np.sum(cm[0]))\n",
    "print('Precision:',(cm[1][1])/(cm[1][1]+cm[0][1]))\n",
    "print('True Negative Rate',np.sum(cm[0][0])/np.sum(cm[0]))\n",
    "print('True Positive Rate',np.sum(cm[1][1])/np.sum(cm[1]))"
   ]
  },
  {
   "cell_type": "markdown",
   "metadata": {},
   "source": [
    "# model MHA - weights"
   ]
  },
  {
   "cell_type": "markdown",
   "metadata": {},
   "source": [
    "## Get Attention Weights"
   ]
  },
  {
   "cell_type": "code",
   "execution_count": null,
   "metadata": {},
   "outputs": [],
   "source": [
    "#UTIL FUNCTIONS\n",
    "def pad_str_corpus(lst,maxlen=maxlen):\n",
    "    return (lst+ (maxlen-len(lst)) * [''])\n",
    "def duplicates(lst, item):\n",
    "    return [i for i, x in enumerate(lst) if x == item]"
   ]
  },
  {
   "cell_type": "code",
   "execution_count": null,
   "metadata": {},
   "outputs": [],
   "source": [
    "# def get_attribution_weights(W, X_test=X_test,y_test=y_test,tk=tk,df_s=df_s_test[['utm_hash','trinomials']]):\n",
    "# def get_attribution_weights(W, X_test,y_test,tk,df_s):\n",
    "#     (X_test=X[te_idx],y_test=y[te_idx],tk=tk,df_s=df_s[['utm_hash','trinomials']].iloc[te_idx])\n",
    "def get_attribution_weights(W, tk, df_s):\n",
    "    logger.info('Calculating sequences')\n",
    "    # TODO - IMPROVE\n",
    "    X_test=tk.texts_to_sequences(df_s['utm_hash'].to_list())\n",
    "    X_test = pad_sequences(X_test, maxlen=maxlen,padding='post') # customer path\n",
    "    y_test=(df_s['value']>0).values.astype(int)\n",
    "    # TODO - IMPROVE\n",
    "    corpus_test=tk.sequences_to_texts(X_test)\n",
    "    all_medium=list(set([pad for lst in corpus_test for pad in pad_str_corpus(lst.split(' '))]))\n",
    "    all_medium.remove(all_medium[0]) #remove '' from medium\n",
    "    ls=[lst for lst in corpus_test]\n",
    "    ls_elt=[elt.split(' ') for elt in ls]\n",
    "    pad_corpus=[pad_str_corpus(sublist) for sublist in ls_elt]\n",
    "    logger.info('Calculating attention model weights')\n",
    "    # processing in chunks\n",
    "    # using sparse matrix from pydata.sparse\n",
    "    t0=time()\n",
    "    chunk_size=10000\n",
    "    smd=[]\n",
    "    for id_chunk in tqdm(range(np.ceil(len(pad_corpus)/chunk_size).astype(int))):\n",
    "        M_idc_chunk=len(pad_corpus[chunk_size*id_chunk:chunk_size*(id_chunk+1)])\n",
    "        M=np.zeros((M_idc_chunk,len(pad_corpus[0]),len(all_medium)), dtype='float16')\n",
    "        for id_m, media in enumerate(all_medium):\n",
    "            id_c_range=range(id_chunk*chunk_size,id_chunk*chunk_size+len(pad_corpus[chunk_size*id_chunk:chunk_size*(id_chunk+1)]))\n",
    "            for id_c, (id_c_fromchunk, subcorpus) in enumerate(zip(id_c_range,pad_corpus[chunk_size*id_chunk:chunk_size*(id_chunk+1)])):\n",
    "                path_len=len((corpus_test[id_c_fromchunk]))\n",
    "                if media in subcorpus:\n",
    "                    att_w=((W[id_c_fromchunk,:path_len,:path_len]).sum(axis=1)/((W[id_c_fromchunk,:path_len,:path_len]).sum(axis=1)).sum())\n",
    "                    for id_p,path_num in enumerate(duplicates(subcorpus,media)):\n",
    "                        M[id_c,id_p,id_m]=att_w[id_p]\n",
    "        smd.append(sparse.COO(M))\n",
    "    sM=smd[0]\n",
    "    for k in range(len(smd[1:])):\n",
    "        sM=sparse.concatenate((sM,smd[k]))\n",
    "    logger.info(f'time spent {time()-t0}')\n",
    "\n",
    "    tot_list=[pad for lst in corpus_test for pad in pad_str_corpus(lst.split(' '))]\n",
    "    dict_mcount={medium : tot_list.count(medium) for medium in all_medium}  # dict_mcount #dict of medium frequency\n",
    "    #dataframe comparing the attribution models over medium\n",
    "    sM_pos=sM.sum(axis=0).T\n",
    "    assert sM_pos.sum() != float('inf'), 'sM_pos is inf'\n",
    "    # dfmt=pd.DataFrame((sM_pos.sum(axis=1)/sM_pos.sum()).todense(),index=all_medium, columns=['norm_att'])\n",
    "    dfmt = pd.DataFrame.sparse.from_spmatrix(\n",
    "            (sM_pos.sum(axis=1)/sM_pos.sum()).reshape((-1,1)),\n",
    "            index=all_medium,\n",
    "            columns=['norm_att']\n",
    "            )\n",
    "    dfmt=dfmt.sparse.to_dense()\n",
    "#     FIRST TOUCH\n",
    "    logger.info('Calculating first touch model weights')\n",
    "    ft_count={medium:np.count_nonzero(X_test[y_test==1][:,0]==idx) for medium,idx in tk.word_index.items()}\n",
    "    dfmt['first_touch']=pd.DataFrame.from_dict(ft_count,orient='index')\n",
    "    dfmt['first_touch']=dfmt['first_touch']/dfmt['first_touch'].sum()\n",
    "#     LAST TOUCH\n",
    "    logger.info('Calculating last touch model weights')\n",
    "    last_medium=[((subcorpus).split(' ')[-1]).lower() for subcorpus in corpus_test]\n",
    "    lm_to_drop=duplicates(last_medium,'')\n",
    "    lyt=list(y_test)\n",
    "    lm_to_drop.reverse()\n",
    "    for null_idx in lm_to_drop:\n",
    "        last_medium.pop(null_idx)\n",
    "        lyt.pop(null_idx)\n",
    "    last_idx=[tk.word_index[lm] for lm in last_medium]\n",
    "\n",
    "    lt_count={medium : np.count_nonzero(np.array(last_idx)[np.array(lyt)==1]==idx) for medium,idx in tk.word_index.items()}\n",
    "    dfmt['last_touch']=pd.DataFrame.from_dict(lt_count,orient='index')\n",
    "    dfmt['last_touch']=dfmt['last_touch']/dfmt['last_touch'].sum()\n",
    "#    LINEAR TOUCH\n",
    "#Linear: 40 - 20 - 40 attribution - 60 - 20 - 20 from order\n",
    "    logger.info('Calculating linear touch model weights')\n",
    "    lin_attribution_fac_first=0.4\n",
    "    lin_attribution_fac_last=0.4\n",
    "    lin_attribution_fac_rest=1-lin_attribution_fac_last-lin_attribution_fac_first\n",
    "    unique_subcorpus=[]\n",
    "    unique_subcorpus_weight=[]\n",
    "    for subcorpus in corpus_test:\n",
    "        subcorpus=subcorpus.split(' ')\n",
    "        unique_subcorpus.append(list(set(subcorpus)))\n",
    "        unique_subsub_corpus=list(set(subcorpus))\n",
    "        slen=len(subcorpus)\n",
    "        if slen>2:\n",
    "            fac=lin_attribution_fac_rest/(slen-2)\n",
    "            subfac=[]\n",
    "            subfac.append(lin_attribution_fac_first)\n",
    "            for sub in subcorpus[1:(slen-1)]:\n",
    "                subfac.append(fac)\n",
    "            subfac.append(lin_attribution_fac_last)\n",
    "            subfaclist=[]\n",
    "            for jj in range(len(unique_subsub_corpus)):\n",
    "                sumsubfac=0\n",
    "                for idx in duplicates(subcorpus,unique_subsub_corpus[jj]):\n",
    "                    sumsubfac+=subfac[idx]\n",
    "                subfaclist.append(sumsubfac)\n",
    "            unique_subcorpus_weight.append(subfaclist)\n",
    "        elif slen==2:\n",
    "            subfac=[]\n",
    "            subfac.append(0.5)\n",
    "            subfac.append(0.5)\n",
    "            subfaclist=[]\n",
    "            for jj in range(len(unique_subsub_corpus)):\n",
    "                sumsubfac=0\n",
    "                for idx in duplicates(subcorpus,unique_subsub_corpus[jj]):\n",
    "                    sumsubfac+=subfac[idx]\n",
    "                subfaclist.append(sumsubfac)\n",
    "            unique_subcorpus_weight.append(subfaclist)\n",
    "        else: \n",
    "            unique_subcorpus_weight.append([1.0])\n",
    "    flat_unique_corpus = [item for sublist in list(np.array(unique_subcorpus)[y_test==1]) for item in sublist]\n",
    "    flat_unique_weights = [item for sublist in list(np.array(unique_subcorpus_weight)[y_test==1]) for item in sublist]\n",
    "    m_count={medium:flat_unique_corpus.count(medium) for medium in all_medium}\n",
    "    lin_t={}\n",
    "    for medium in all_medium:\n",
    "        if medium in flat_unique_corpus:\n",
    "            # find the places in list that medium appears and sum all the weights, then multiply by the number of times each medium appears\n",
    "            lin_t_num=((np.array(flat_unique_weights)[np.array(duplicates(flat_unique_corpus,medium))]).sum())\n",
    "            lin_t[medium]=lin_t_num\n",
    "        else: lin_t[medium]=0.0\n",
    "    dfmt['linear_touch']=pd.DataFrame.from_dict(lin_t,orient='index')\n",
    "    dfmt['linear_touch']=dfmt['linear_touch']/dfmt['linear_touch'].sum()\n",
    "#     return dfmt, all_medium\n",
    "# creating exploded dataframe utm_hash and trinomials \n",
    "# and tri2hash dict\n",
    "    logger.info('Calculating trinomials 2 utm_hash dictionary') \n",
    "    df_exp=df_s[['utm_hash', 'trinomials']]\n",
    "    exp_trinomials=df_exp['trinomials'].explode()\n",
    "    df_exp=df_exp.explode('utm_hash')\n",
    "    df_exp['exp_trinomials']=exp_trinomials\n",
    "    del exp_trinomials\n",
    "    tri2hash=df_exp.groupby(['exp_trinomials'])['utm_hash'].apply(list).apply(set).apply(list).to_dict()\n",
    "# creating datafame by sum of all hashs attacheced to them\n",
    "    logger.info('Calculating dataframe trinomials and weights')\n",
    "    df_tri=pd.DataFrame(index=tri2hash.keys(),columns=['norm_att','first_touch','last_touch','linear_touch'])\n",
    "    for key in tqdm(tri2hash.keys()):\n",
    "        v_att,v_ft,v_lt,v_lint=0.0,0.0,0.0,0.0\n",
    "        for ii in range(len(tri2hash[key])):\n",
    "            try:\n",
    "                st=dfmt[['norm_att','first_touch','last_touch','linear_touch']].loc[tri2hash[key][ii]]\n",
    "                v_att=v_att+st[0]\n",
    "                v_ft=v_ft+st[1]\n",
    "                v_lt=v_lt+st[2]\n",
    "                v_lint=v_lint+st[3]\n",
    "            except: v_att,v_ft,v_lt,v_lint=v_att,v_ft,v_lt,v_lint\n",
    "        df_tri['norm_att'].loc[key]=v_att\n",
    "        df_tri['first_touch'].loc[key]=v_ft\n",
    "        df_tri['last_touch'].loc[key]=v_lt\n",
    "        df_tri['linear_touch'].loc[key]=v_lint\n",
    "    logger.info('Calculating dataframe for weights and positions')\n",
    "    # df_pos=pd.DataFrame(M_pos,index=all_medium)\n",
    "    df_pos=pd.DataFrame.sparse.from_spmatrix(sM_pos,index=all_medium)\n",
    "    pos_sum=df_pos.sum(axis=1)\n",
    "    # df_pos=df_pos.div(pos_sum,axis=0)\n",
    "    df_pos=df_pos.div(pos_sum.astype('float64'),axis=0)\n",
    "    df_pos['sum']=pos_sum\n",
    "    df_tripos=df_pos.join(\n",
    "        df_exp.groupby(['exp_trinomials','utm_hash'])\n",
    "        .size().to_frame().reset_index().set_index('utm_hash').rename(columns={0:'cnt'})\n",
    "        ).reset_index()\n",
    "    df_tripos[df_tripos.columns[1:-3]]=df_tripos[df_tripos.columns[1:-3]].sparse.to_dense()\n",
    "    df_tripos=df_tripos.groupby('exp_trinomials').sum()\n",
    "\n",
    "    # df_tripos=(df_pos.join(df_exp.groupby(['exp_trinomials','utm_hash']).size().to_frame().reset_index().set_index('utm_hash').rename(columns={0:'cnt'})).reset_index().groupby('exp_trinomials').sum())\n",
    "    df_tripos[df_tripos.columns[:-2]]=(df_tripos[df_tripos.columns[:-2]].div(df_tripos[df_tripos.columns[:-2]].sum(axis=1),axis=0))\n",
    "    df_pos['cnt']=pos_sum  # just for the same plotting function works on deving media_attrib\n",
    "    logger.info('Done!')\n",
    "    return df_tri, df_tripos, dfmt, df_pos, tri2hash"
   ]
  },
  {
   "cell_type": "code",
   "execution_count": null,
   "metadata": {},
   "outputs": [],
   "source": [
    "(W[df_con['gender']=='male']).shape"
   ]
  },
  {
   "cell_type": "code",
   "execution_count": null,
   "metadata": {
    "tags": []
   },
   "outputs": [],
   "source": [
    "# df_tri, df_tripos, df_utm, df_utmpos,tri2hash=get_attribution_weights(W,X_test=X_test[:12345],y_test=y_true[:12345],tk=tk,df_s=df_s[['utm_hash','trinomials']][:12345])\n",
    "# df_tri, df_tripos, M_pos=get_attribution_weights(X_test=X[te_idx],y_test=y[te_idx],tk=tk,df_s=df_s[['utm_hash','trinomials']].iloc[te_idx])\n",
    "df_tri, df_tripos, dfmt, df_pos, tri2hash = get_attribution_weights(W[df_con['gender']=='male'], tk, df_s[df_con['gender']=='male'])"
   ]
  },
  {
   "cell_type": "code",
   "execution_count": null,
   "metadata": {},
   "outputs": [],
   "source": [
    "df_tripos"
   ]
  },
  {
   "cell_type": "code",
   "execution_count": null,
   "metadata": {},
   "outputs": [],
   "source": [
    "df_tripos=df_tripos.sort_values(by='cnt',ascending=False)\n",
    "df_utmpos=df_utmpos.sort_values(by='cnt',ascending=False)"
   ]
  },
  {
   "cell_type": "code",
   "execution_count": null,
   "metadata": {},
   "outputs": [],
   "source": [
    "    def plot_comparison_attribution_methods(\n",
    "        df: pd.DataFrame,\n",
    "        df_pos: pd.DataFrame,\n",
    "        fig_name,\n",
    "        fig_name_pos,\n",
    "        max_mediuns: np.int\n",
    "    ):\n",
    "        # fig_name = 'Attribution methods comparison'\n",
    "        _, ax = plt.subplots(1,2,figsize=(25, 12))\n",
    "        df = df.sort_values(\n",
    "            by='norm_att', ascending=False\n",
    "            ).iloc[0:max_mediuns]\n",
    "        df[\n",
    "            ['norm_att', 'first_touch', 'last_touch', 'linear_touch']\n",
    "            ].plot.barh(ax=ax[0])\n",
    "        plt.title(fig_name)\n",
    "        ax[0].set_title(fig_name, size=18)\n",
    "        ax[0].legend(prop={'size': 14})\n",
    "        ax[0].set_xlabel('Attribution score', size=14)\n",
    "        ax[0].set_ylabel('Medium', size=14)\n",
    "#         fig = ax.get_figure()\n",
    "\n",
    "        # fig_name_pos = 'DNAM Attribution score per touch point'\n",
    "#         _, ax = plt.subplots(figsize=(15, 12))\n",
    "        df_pos = df_pos.sort_values(by='cnt', ascending=False)[:max_mediuns]\n",
    "        sns.heatmap(\n",
    "            df_pos[df_pos.columns[:-2]],\n",
    "            linewidths=.5, ax=ax[1],\n",
    "            annot=True, annot_kws={\"size\": 10}\n",
    "        )\n",
    "        ax[1].set_title(fig_name_pos, size=18)\n",
    "        ax[1].set_xlabel('Touch point', size=14)\n",
    "        ax[1].set_ylabel('Medium', size=14)\n",
    "        plt.subplots_adjust(wspace=0.5, left=0.2)\n",
    "        plt.show()\n",
    "#         fig_pos = ax.get_figure()\n",
    "#         return fig_name, fig, fig_name_pos, fig_pos"
   ]
  },
  {
   "cell_type": "code",
   "execution_count": null,
   "metadata": {},
   "outputs": [],
   "source": [
    "plot_comparison_attribution_methods(\n",
    "        df_tri,\n",
    "        df_tripos,\n",
    "        fig_name='TriAttribution',\n",
    "        fig_name_pos='Tri_positions',\n",
    "        max_mediuns=10\n",
    "    )"
   ]
  },
  {
   "cell_type": "code",
   "execution_count": null,
   "metadata": {},
   "outputs": [],
   "source": [
    "plot_comparison_attribution_methods(\n",
    "        df_utm,\n",
    "        df_utmpos,\n",
    "        fig_name='UTMAttribution',\n",
    "        fig_name_pos='UTM_positions',\n",
    "        max_mediuns=10\n",
    "    )"
   ]
  },
  {
   "cell_type": "code",
   "execution_count": null,
   "metadata": {},
   "outputs": [],
   "source": [
    "df_utm.sort_values(by='norm_att',ascending=False).iloc[0:10][['norm_att','first_touch','last_touch','linear_touch']].plot.barh()\n",
    "plt.show()\n",
    "def search_utm(search_utm):\n",
    "    for tri, utm_lst in tri2hash.items():\n",
    "        for utm in utm_lst:\n",
    "            if utm == search_utm:\n",
    "                return tri\n",
    "print(search_utm('fa039360b92148d3ee2b29284fee87ac'))\n",
    "[search_utm(utm) for utm in df_utm.sort_values(by='norm_att',ascending=False).iloc[0:10].index]"
   ]
  },
  {
   "cell_type": "code",
   "execution_count": null,
   "metadata": {},
   "outputs": [],
   "source": [
    "# df_control=df_con.iloc[te_idx]\n",
    "# df_control['M_index']=np.arange(te_idx.shape[0])\n",
    "# # df_control['test_index']=te_idx\n",
    "# cr_idx={cr:(df_control['M_index'][df_control['country_region']==cr]).values for cr in df_control['country_region'].unique()}\n",
    "# M[cr_idx['NORTE'],:,:]"
   ]
  },
  {
   "cell_type": "markdown",
   "metadata": {},
   "source": [
    "# OLD"
   ]
  },
  {
   "cell_type": "code",
   "execution_count": null,
   "metadata": {},
   "outputs": [],
   "source": [
    "import os\n",
    "import pandas as pd\n",
    "import seaborn as sns\n",
    "import matplotlib.pyplot as plt\n",
    "os.listdir('../../ml/model/attention_model/')\n",
    "df=pd.read_csv('../../ml/model/attention_model/df_utm.csv').set_index('utm_hash')\n",
    "df.head()"
   ]
  },
  {
   "cell_type": "code",
   "execution_count": null,
   "metadata": {
    "scrolled": true
   },
   "outputs": [],
   "source": [
    "fig_name='teste'\n",
    "max_mediuns=15\n",
    "_, ax = plt.subplots(figsize=(15, 12))\n",
    "df = df.sort_values(\n",
    "    by='norm_att', ascending=False\n",
    "    ).iloc[0:max_mediuns]\n",
    "df[\n",
    "    ['norm_att', 'first_touch', 'last_touch', 'position_based']\n",
    "    ].plot.barh(ax=ax,width = 0.70)\n",
    "plt.title(fig_name)\n",
    "ax.set_title('Attribution methods comparison', size=26)\n",
    "ax.legend(prop={'size': 22})\n",
    "ax.set_xlabel('Attribution score', size=22)\n",
    "ax.set_ylabel('Medium', size=22)\n",
    "ax.tick_params(axis='y',labelsize=16)\n",
    "ax.tick_params(axis='x',labelsize=16)\n",
    "fig = ax.get_figure()"
   ]
  },
  {
   "cell_type": "code",
   "execution_count": null,
   "metadata": {},
   "outputs": [],
   "source": [
    "fig.savefig('utm_as.png',bbox_inches='tight')"
   ]
  },
  {
   "cell_type": "code",
   "execution_count": null,
   "metadata": {},
   "outputs": [],
   "source": [
    "os.listdir('../../ml/model/attention_model/')\n",
    "df_pos=pd.read_csv('../../ml/model/attention_model/df_utmpos.csv').set_index('utm_hash')\n",
    "df_pos.head()"
   ]
  },
  {
   "cell_type": "code",
   "execution_count": null,
   "metadata": {},
   "outputs": [],
   "source": [
    "_, ax = plt.subplots(figsize=(15, 12))\n",
    "df_pos = df_pos.sort_values(by='dl_weights', ascending=False)[:max_mediuns]\n",
    "sns.heatmap(\n",
    "    df_pos[df_pos.columns[:-4]],\n",
    "    linewidths=.5, ax=ax,\n",
    "    annot=True, annot_kws={\"size\": 14}\n",
    ")\n",
    "fig_name_pos='DNAM Attribution score per touch point'\n",
    "ax.set_title(fig_name_pos, size=26)\n",
    "ax.set_xlabel('Touch point', size=22)\n",
    "ax.set_ylabel('Medium', size=22)\n",
    "ax.tick_params(axis='y',labelsize=16)\n",
    "ax.tick_params(axis='x',labelsize=16)\n",
    "fig_pos = ax.get_figure()"
   ]
  },
  {
   "cell_type": "code",
   "execution_count": null,
   "metadata": {},
   "outputs": [],
   "source": [
    "fig_pos.savefig('utm_tp.png',bbox_inches='tight')"
   ]
  },
  {
   "cell_type": "markdown",
   "metadata": {},
   "source": [
    "# junky"
   ]
  },
  {
   "cell_type": "code",
   "execution_count": null,
   "metadata": {
    "ExecuteTime": {
     "end_time": "2020-12-07T15:30:07.286506Z",
     "start_time": "2020-12-07T15:30:07.271621Z"
    }
   },
   "outputs": [],
   "source": [
    "# x = np.arange(20).reshape(2, 2, 5)\n",
    "x1 = np.random.randint(100,size=(50,10))\n",
    "x2 = np.random.randint(100,size=(50,10))\n",
    "x3 = np.random.randint(100,size=(50,10))\n",
    "x4 = np.random.randint(100,size=(50,10))\n",
    "feature1_input,feature2_input,feature3_input,feature4_input=x1,x2,x3,x4\n",
    "# print(x)\n",
    "y = np.random.randint(2,size=(50,10))\n",
    "# # print(y)\n",
    "# tft=tf.keras.layers.concatenate([x1, x2,x3,x4],axis=2)\n",
    "# # tft\n",
    "# tfs=tf.keras.layers.add([x1,x2,x3,x4])\n",
    "# tfs"
   ]
  },
  {
   "cell_type": "code",
   "execution_count": null,
   "metadata": {
    "ExecuteTime": {
     "end_time": "2020-12-07T20:25:26.207133Z",
     "start_time": "2020-12-07T20:25:26.199612Z"
    }
   },
   "outputs": [],
   "source": [
    "x1.shape"
   ]
  },
  {
   "cell_type": "code",
   "execution_count": null,
   "metadata": {
    "ExecuteTime": {
     "end_time": "2020-12-07T20:25:59.480729Z",
     "start_time": "2020-12-07T20:25:59.139428Z"
    },
    "scrolled": true
   },
   "outputs": [],
   "source": [
    "max_seq_len=10\n",
    "embedding_dim=5\n",
    "num_gru_units=10\n",
    "METRICS = [\n",
    "      metrics.BinaryAccuracy(name='accuracy'),\n",
    "      metrics.Recall(name='recall'),\n",
    "    ]\n",
    "\n",
    "input1=layers.Input(shape=(max_seq_len,), dtype='int32',name='input_1')\n",
    "input2=layers.Input(shape=(max_seq_len,), dtype='int32',name='input_2')\n",
    "input3=layers.Input(shape=(max_seq_len,), dtype='int32',name='input_3')\n",
    "input4=layers.Input(shape=(max_seq_len,), dtype='int32',name='input_4')\n",
    "\n",
    "e1 = layers.Embedding(max_seq_len, embedding_dim)(input1)\n",
    "e2 = layers.Embedding(max_seq_len, embedding_dim)(input2)\n",
    "e3 = layers.Embedding(max_seq_len, embedding_dim)(input3)\n",
    "e4 = layers.Embedding(max_seq_len, embedding_dim)(input4)\n",
    "\n",
    "# Caso para concatenar\n",
    "# final_embedding = tf.keras.layers.concatenate([e1, e2, e3, e4],axis=2)\n",
    "# Caso para somar\n",
    "final_embedding = tf.keras.layers.add([e1, e2, e3, e4])\n",
    "print(final_embedding)\n",
    "gru = layers.GRU(num_gru_units)(final_embedding)\n",
    "output = layers.Dense(10, activation=\"softmax\")(gru)\n",
    "   \n",
    "model = Model(inputs=[input1,input2,input3,input4], outputs=output)\n",
    "\n",
    "model.compile(optimizer=\"adam\", loss=\"binary_crossentropy\", metrics=METRICS)\n",
    "# model.compile(loss='categorical_crossentropy', optimizer='rmsprop')\n",
    "\n",
    "model.summary()"
   ]
  },
  {
   "cell_type": "code",
   "execution_count": null,
   "metadata": {
    "ExecuteTime": {
     "end_time": "2020-12-07T20:23:49.125959Z",
     "start_time": "2020-12-07T20:23:49.116827Z"
    }
   },
   "outputs": [],
   "source": [
    "tf.keras.utils.plot_model(model)"
   ]
  },
  {
   "cell_type": "code",
   "execution_count": null,
   "metadata": {
    "ExecuteTime": {
     "end_time": "2020-12-07T20:26:05.280803Z",
     "start_time": "2020-12-07T20:26:02.905303Z"
    }
   },
   "outputs": [],
   "source": [
    "early_stopping = tf.keras.callbacks.EarlyStopping(monitor='val_recall',min_delta=0.02,patience=3,\n",
    "                                                mode='max',restore_best_weights=False,verbose=1)\n",
    "historymh= model.fit([x1,x2,x3,x4],y,\n",
    "                    batch_size=8,\n",
    "                    epochs=8,\n",
    "#                     callbacks=[early_stopping],\n",
    "                    verbose=1)"
   ]
  },
  {
   "cell_type": "code",
   "execution_count": 107,
   "metadata": {
    "ExecuteTime": {
     "end_time": "2021-01-07T22:07:47.657078Z",
     "start_time": "2021-01-07T22:07:47.620830Z"
    }
   },
   "outputs": [
    {
     "data": {
      "text/html": [
       "<div>\n",
       "<style scoped>\n",
       "    .dataframe tbody tr th:only-of-type {\n",
       "        vertical-align: middle;\n",
       "    }\n",
       "\n",
       "    .dataframe tbody tr th {\n",
       "        vertical-align: top;\n",
       "    }\n",
       "\n",
       "    .dataframe thead th {\n",
       "        text-align: right;\n",
       "    }\n",
       "</style>\n",
       "<table border=\"1\" class=\"dataframe\">\n",
       "  <thead>\n",
       "    <tr style=\"text-align: right;\">\n",
       "      <th></th>\n",
       "      <th>utm_hash</th>\n",
       "      <th>rm_eff</th>\n",
       "      <th>trinomials</th>\n",
       "      <th>n_occ</th>\n",
       "      <th>scaled_rm_eff</th>\n",
       "    </tr>\n",
       "  </thead>\n",
       "  <tbody>\n",
       "    <tr>\n",
       "      <th>0</th>\n",
       "      <td>e7725f0128edc53054c044ff7624c155</td>\n",
       "      <td>10178.962891</td>\n",
       "      <td>pushnotification_em_nokwDft</td>\n",
       "      <td>12</td>\n",
       "      <td>1.221476e+05</td>\n",
       "    </tr>\n",
       "    <tr>\n",
       "      <th>1</th>\n",
       "      <td>601a0115668ff811403502f52f58f6b3</td>\n",
       "      <td>50826.820312</td>\n",
       "      <td>prospecting_dp_nokwDft</td>\n",
       "      <td>160</td>\n",
       "      <td>8.132291e+06</td>\n",
       "    </tr>\n",
       "    <tr>\n",
       "      <th>2</th>\n",
       "      <td>d56de1cb2535b270d8f80a99f80a89c7</td>\n",
       "      <td>12726.466797</td>\n",
       "      <td>pushnotification_crm_nokwDft</td>\n",
       "      <td>655</td>\n",
       "      <td>8.335836e+06</td>\n",
       "    </tr>\n",
       "    <tr>\n",
       "      <th>3</th>\n",
       "      <td>0d1f2f385bebf486305c9ff5dd49f3f4</td>\n",
       "      <td>-0.805222</td>\n",
       "      <td>emailtrans_dafiti_em_nokwDft</td>\n",
       "      <td>11</td>\n",
       "      <td>-8.857442e+00</td>\n",
       "    </tr>\n",
       "    <tr>\n",
       "      <th>4</th>\n",
       "      <td>f3375db79b5c8f7346aa13576fdcaa91</td>\n",
       "      <td>-0.004692</td>\n",
       "      <td>kwDft29424kwDft759_af_nokwDft</td>\n",
       "      <td>19</td>\n",
       "      <td>-8.914078e-02</td>\n",
       "    </tr>\n",
       "    <tr>\n",
       "      <th>...</th>\n",
       "      <td>...</td>\n",
       "      <td>...</td>\n",
       "      <td>...</td>\n",
       "      <td>...</td>\n",
       "      <td>...</td>\n",
       "    </tr>\n",
       "    <tr>\n",
       "      <th>1549</th>\n",
       "      <td>52615b8846bfa637f2ef0a678ffe6d45</td>\n",
       "      <td>52.705585</td>\n",
       "      <td>google_cpc_nokwDft</td>\n",
       "      <td>100</td>\n",
       "      <td>5.270559e+03</td>\n",
       "    </tr>\n",
       "    <tr>\n",
       "      <th>1550</th>\n",
       "      <td>3092bb438a741e3ba75afd52a6f89f79</td>\n",
       "      <td>0.000001</td>\n",
       "      <td>google_cpc_nokwDft</td>\n",
       "      <td>18</td>\n",
       "      <td>2.253091e-05</td>\n",
       "    </tr>\n",
       "    <tr>\n",
       "      <th>1553</th>\n",
       "      <td>cdf69a03f109e8f43b6d28e2ee87f86f</td>\n",
       "      <td>-0.000175</td>\n",
       "      <td>rtbhouse_re_nokwDft</td>\n",
       "      <td>14</td>\n",
       "      <td>-2.450828e-03</td>\n",
       "    </tr>\n",
       "    <tr>\n",
       "      <th>1554</th>\n",
       "      <td>fc28c8a33527633f57e87ba1145d1728</td>\n",
       "      <td>5.466952</td>\n",
       "      <td>google_cpc_nokwDft</td>\n",
       "      <td>105</td>\n",
       "      <td>5.740300e+02</td>\n",
       "    </tr>\n",
       "    <tr>\n",
       "      <th>1555</th>\n",
       "      <td>8065a8dfb8f5790b200655b64756c108</td>\n",
       "      <td>-0.667639</td>\n",
       "      <td>rtbhouse_re_nokwDft</td>\n",
       "      <td>15</td>\n",
       "      <td>-1.001458e+01</td>\n",
       "    </tr>\n",
       "  </tbody>\n",
       "</table>\n",
       "<p>1406 rows × 5 columns</p>\n",
       "</div>"
      ],
      "text/plain": [
       "                              utm_hash        rm_eff  \\\n",
       "0     e7725f0128edc53054c044ff7624c155  10178.962891   \n",
       "1     601a0115668ff811403502f52f58f6b3  50826.820312   \n",
       "2     d56de1cb2535b270d8f80a99f80a89c7  12726.466797   \n",
       "3     0d1f2f385bebf486305c9ff5dd49f3f4     -0.805222   \n",
       "4     f3375db79b5c8f7346aa13576fdcaa91     -0.004692   \n",
       "...                                ...           ...   \n",
       "1549  52615b8846bfa637f2ef0a678ffe6d45     52.705585   \n",
       "1550  3092bb438a741e3ba75afd52a6f89f79      0.000001   \n",
       "1553  cdf69a03f109e8f43b6d28e2ee87f86f     -0.000175   \n",
       "1554  fc28c8a33527633f57e87ba1145d1728      5.466952   \n",
       "1555  8065a8dfb8f5790b200655b64756c108     -0.667639   \n",
       "\n",
       "                         trinomials  n_occ  scaled_rm_eff  \n",
       "0       pushnotification_em_nokwDft     12   1.221476e+05  \n",
       "1            prospecting_dp_nokwDft    160   8.132291e+06  \n",
       "2      pushnotification_crm_nokwDft    655   8.335836e+06  \n",
       "3      emailtrans_dafiti_em_nokwDft     11  -8.857442e+00  \n",
       "4     kwDft29424kwDft759_af_nokwDft     19  -8.914078e-02  \n",
       "...                             ...    ...            ...  \n",
       "1549             google_cpc_nokwDft    100   5.270559e+03  \n",
       "1550             google_cpc_nokwDft     18   2.253091e-05  \n",
       "1553            rtbhouse_re_nokwDft     14  -2.450828e-03  \n",
       "1554             google_cpc_nokwDft    105   5.740300e+02  \n",
       "1555            rtbhouse_re_nokwDft     15  -1.001458e+01  \n",
       "\n",
       "[1406 rows x 5 columns]"
      ]
     },
     "execution_count": 107,
     "metadata": {},
     "output_type": "execute_result"
    }
   ],
   "source": [
    "config['data']['dataset_filename']\n",
    "pd.read_csv('../../ml/model/attention_model/rm_effect.csv').query('rm_eff.notna().values')"
   ]
  }
 ],
 "metadata": {
  "kernelspec": {
   "display_name": "Python 3.7.4 64-bit ('teste': conda)",
   "language": "python",
   "name": "python37464bittestecondaf19c87d1522240729b19d2ddc2a215a4"
  },
  "language_info": {
   "codemirror_mode": {
    "name": "ipython",
    "version": 3
   },
   "file_extension": ".py",
   "mimetype": "text/x-python",
   "name": "python",
   "nbconvert_exporter": "python",
   "pygments_lexer": "ipython3",
   "version": "3.7.4"
  },
  "toc": {
   "base_numbering": 1,
   "nav_menu": {},
   "number_sections": true,
   "sideBar": true,
   "skip_h1_title": false,
   "title_cell": "Table of Contents",
   "title_sidebar": "Contents",
   "toc_cell": false,
   "toc_position": {
    "height": "calc(100% - 180px)",
    "left": "10px",
    "top": "150px",
    "width": "369.594px"
   },
   "toc_section_display": true,
   "toc_window_display": true
  }
 },
 "nbformat": 4,
 "nbformat_minor": 4
}
